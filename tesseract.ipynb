{
  "nbformat": 4,
  "nbformat_minor": 0,
  "metadata": {
    "colab": {
      "name": "tesseract.ipynb",
      "provenance": [],
      "mount_file_id": "https://github.com/alirezaght/tesseract-train-font/blob/main/tesseract.ipynb",
      "authorship_tag": "ABX9TyPiEsCoN3CVuiS4CmABXLUe",
      "include_colab_link": true
    },
    "kernelspec": {
      "name": "python3",
      "display_name": "Python 3"
    },
    "language_info": {
      "name": "python"
    },
    "accelerator": "GPU"
  },
  "cells": [
    {
      "cell_type": "markdown",
      "metadata": {
        "id": "view-in-github",
        "colab_type": "text"
      },
      "source": [
        "<a href=\"https://colab.research.google.com/github/alirezaght/tesseract-train-font/blob/main/tesseract.ipynb\" target=\"_parent\"><img src=\"https://colab.research.google.com/assets/colab-badge.svg\" alt=\"Open In Colab\"/></a>"
      ]
    },
    {
      "cell_type": "markdown",
      "metadata": {
        "id": "ZMR9kf33JXGe"
      },
      "source": [
        "Mounting google drive to have access to data"
      ]
    },
    {
      "cell_type": "code",
      "metadata": {
        "id": "KZxeD2GlJJIL",
        "colab": {
          "base_uri": "https://localhost:8080/"
        },
        "outputId": "4b23d39c-0330-4bdb-97ac-3f0fdf8e172e"
      },
      "source": [
        "from google.colab import drive\n",
        "drive.mount('/content/drive')"
      ],
      "execution_count": 1,
      "outputs": [
        {
          "output_type": "stream",
          "name": "stdout",
          "text": [
            "Drive already mounted at /content/drive; to attempt to forcibly remount, call drive.mount(\"/content/drive\", force_remount=True).\n"
          ]
        }
      ]
    },
    {
      "cell_type": "markdown",
      "metadata": {
        "id": "ydQBW6ybmUn0"
      },
      "source": [
        "# Create dataset"
      ]
    },
    {
      "cell_type": "code",
      "metadata": {
        "id": "loBH3Me9mWuL",
        "colab": {
          "base_uri": "https://localhost:8080/",
          "height": 1000
        },
        "outputId": "5f88d457-6a34-478f-e9ee-2eefb1387fce"
      },
      "source": [
        "%cd /content\n",
        "!rm -rf /content/dataset\n",
        "!mkdir /content/dataset\n",
        "%cd /content/dataset\n",
        "\n",
        "from PIL import Image,ImageDraw,ImageFont,ImageFilter\n",
        "from IPython.display import display\n",
        "import os\n",
        "import random\n",
        "\n",
        "def create_dataset(number_for_each_font):\n",
        "  FONT_DIR = '/content/drive/MyDrive/fonts'\n",
        "  count = 0\n",
        "  for font_file in os.listdir(f'{FONT_DIR}'):\n",
        "    sample = False\n",
        "    if not font_file.lower().endswith('ttf'):\n",
        "      print(f'skipping {font_file}')\n",
        "      continue\n",
        "    for i in range(number_for_each_font):\n",
        "      count += 1\n",
        "      size = random.randint(12, 64)\n",
        "      font = ImageFont.truetype(f\"{FONT_DIR}/{font_file}\", size, encoding='unic')\n",
        "      length = random.randint(12, 20)\n",
        "      numbers = []\n",
        "      for j in range(length):\n",
        "        n = str(random.randint(0, 9)) + ((\" \" * random.randint(0, 4)) if random.random() < 0.3 else \"\")\n",
        "        numbers.append(n)        \n",
        "\n",
        "      unicode_text = \"\".join(numbers)\n",
        "      # get the line size\n",
        "      text_width, text_height = font.getsize(unicode_text)\n",
        "      width = text_width + 10\n",
        "      height = text_height + 10\n",
        "      # create a blank canvas with extra space between lines\n",
        "      canvas = Image.new('RGB', (width, height), \"white\")\n",
        "      \n",
        "      # draw the text onto the text canvas, and use black as the text color\n",
        "      draw = ImageDraw.Draw(canvas)\n",
        "      draw.text((5,5), unicode_text, 'black', font)\n",
        "      if random.random() < 0.3:\n",
        "        canvas = canvas.rotate(random.randint(-5,5), expand = 1)\n",
        "\n",
        "      if random.random() < 0.3 and size > 24:\n",
        "        canvas = canvas.filter(ImageFilter.GaussianBlur(radius=random.randint(0,2)))\n",
        "      # save the blank canvas to a file\n",
        "\n",
        "      for k in range(10):\n",
        "        if random.random() < 0.3:\n",
        "          draw.line((random.randint(0, width),0, random.randint(0, width), height), fill=128, width=random.randint(0, 3))\n",
        "      for k in range(10):\n",
        "        if random.random() < 0.3:\n",
        "          draw.line((0,random.randint(0, height), width, random.randint(0, height)), fill=128, width=random.randint(0, 3))\n",
        "\n",
        "      canvas.save(f\"{count}.tif\", dpi=(300, 300))\n",
        "      with open(f'{count}.gt.txt', 'w') as f:\n",
        "        f.write(unicode_text)\n",
        "      if not sample:\n",
        "        sample = True\n",
        "        print(font_file)\n",
        "        im = Image.open(f'{count}.tif', 'r')\n",
        "        display(im)\n",
        "\n",
        "create_dataset(300)"
      ],
      "execution_count": 1,
      "outputs": [
        {
          "output_type": "stream",
          "name": "stdout",
          "text": [
            "/content\n",
            "/content/dataset\n",
            "Copy of BBADRBD.TTF\n"
          ]
        },
        {
          "output_type": "display_data",
          "data": {
            "image/png": "[encoded data removed]",
            "text/plain": [
              "<PIL.TiffImagePlugin.TiffImageFile image mode=RGB size=662x82 at 0x7F4D344BD090>"
            ]
          },
          "metadata": {}
        },
        {
          "output_type": "stream",
          "name": "stdout",
          "text": [
            "Copy of BHOMA.TTF\n"
          ]
        },
        {
          "output_type": "display_data",
          "data": {
            "image/png": "[encoded data removed]",
            "text/plain": [
              "<PIL.TiffImagePlugin.TiffImageFile image mode=RGB size=648x95 at 0x7F4D3446BDD0>"
            ]
          },
          "metadata": {}
        },
        {
          "output_type": "stream",
          "name": "stdout",
          "text": [
            "Copy of BMITRA.TTF\n"
          ]
        },
        {
          "output_type": "display_data",
          "data": {
            "image/png": "[encoded data removed]",
            "text/plain": [
              "<PIL.TiffImagePlugin.TiffImageFile image mode=RGB size=422x38 at 0x7F4D3446BB50>"
            ]
          },
          "metadata": {}
        },
        {
          "output_type": "stream",
          "name": "stdout",
          "text": [
            "Copy of BMITRABD.TTF\n"
          ]
        },
        {
          "output_type": "display_data",
          "data": {
            "image/png": "[encoded data removed]",
            "text/plain": [
              "<PIL.TiffImagePlugin.TiffImageFile image mode=RGB size=184x30 at 0x7F4D3446F410>"
            ]
          },
          "metadata": {}
        },
        {
          "output_type": "stream",
          "name": "stdout",
          "text": [
            "Copy of BNAZANB.TTF\n"
          ]
        },
        {
          "output_type": "display_data",
          "data": {
            "image/png": "[encoded data removed]",
            "text/plain": [
              "<PIL.TiffImagePlugin.TiffImageFile image mode=RGB size=430x38 at 0x7F4D344E8810>"
            ]
          },
          "metadata": {}
        },
        {
          "output_type": "stream",
          "name": "stdout",
          "text": [
            "Copy of BNAZANIN.TTF\n"
          ]
        },
        {
          "output_type": "display_data",
          "data": {
            "image/png": "[encoded data removed]",
            "text/plain": [
              "<PIL.TiffImagePlugin.TiffImageFile image mode=RGB size=320x30 at 0x7F4D344B3B90>"
            ]
          },
          "metadata": {}
        },
        {
          "output_type": "stream",
          "name": "stdout",
          "text": [
            "Copy of BROYA.TTF\n"
          ]
        },
        {
          "output_type": "display_data",
          "data": {
            "image/png": "[encoded data removed]",
            "text/plain": [
              "<PIL.TiffImagePlugin.TiffImageFile image mode=RGB size=305x31 at 0x7F4D3446F610>"
            ]
          },
          "metadata": {}
        },
        {
          "output_type": "stream",
          "name": "stdout",
          "text": [
            "Copy of BROYABD.TTF\n"
          ]
        },
        {
          "output_type": "display_data",
          "data": {
            "image/png": "[encoded data removed]",
            "text/plain": [
              "<PIL.TiffImagePlugin.TiffImageFile image mode=RGB size=818x50 at 0x7F4D3446BDD0>"
            ]
          },
          "metadata": {}
        },
        {
          "output_type": "stream",
          "name": "stdout",
          "text": [
            "Copy of BZAR.TTF\n"
          ]
        },
        {
          "output_type": "display_data",
          "data": {
            "image/png": "[encoded data removed]",
            "text/plain": [
              "<PIL.TiffImagePlugin.TiffImageFile image mode=RGB size=76x18 at 0x7F4D344BD690>"
            ]
          },
          "metadata": {}
        },
        {
          "output_type": "stream",
          "name": "stdout",
          "text": [
            "Copy of BZARBOLD.TTF\n"
          ]
        },
        {
          "output_type": "display_data",
          "data": {
            "image/png": "[encoded data removed]",
            "text/plain": [
              "<PIL.TiffImagePlugin.TiffImageFile image mode=RGB size=451x50 at 0x7F4D3446FB10>"
            ]
          },
          "metadata": {}
        },
        {
          "output_type": "stream",
          "name": "stdout",
          "text": [
            "Copy of BBADR.TTF\n"
          ]
        },
        {
          "output_type": "display_data",
          "data": {
            "image/png": "[encoded data removed]",
            "text/plain": [
              "<PIL.TiffImagePlugin.TiffImageFile image mode=RGB size=166x22 at 0x7F4D344E8610>"
            ]
          },
          "metadata": {}
        },
        {
          "output_type": "stream",
          "name": "stdout",
          "text": [
            "Copy of BJALAL.TTF\n"
          ]
        },
        {
          "output_type": "display_data",
          "data": {
            "image/png": "[encoded data removed]",
            "text/plain": [
              "<PIL.TiffImagePlugin.TiffImageFile image mode=RGB size=627x47 at 0x7F4D344EAD90>"
            ]
          },
          "metadata": {}
        },
        {
          "output_type": "stream",
          "name": "stdout",
          "text": [
            "Copy of BJALALBD.TTF\n"
          ]
        },
        {
          "output_type": "display_data",
          "data": {
            "image/png": "[encoded data removed]",
            "text/plain": [
              "<PIL.TiffImagePlugin.TiffImageFile image mode=RGB size=566x60 at 0x7F4D344BD650>"
            ]
          },
          "metadata": {}
        },
        {
          "output_type": "stream",
          "name": "stdout",
          "text": [
            "Copy of BARASH.TTF\n"
          ]
        },
        {
          "output_type": "display_data",
          "data": {
            "image/png": "[encoded data removed]",
            "text/plain": [
              "<PIL.TiffImagePlugin.TiffImageFile image mode=RGB size=228x31 at 0x7F4D344BD590>"
            ]
          },
          "metadata": {}
        },
        {
          "output_type": "stream",
          "name": "stdout",
          "text": [
            "futur.ttf\n"
          ]
        },
        {
          "output_type": "display_data",
          "data": {
            "image/png": "[encoded data removed]",
            "text/plain": [
              "<PIL.TiffImagePlugin.TiffImageFile image mode=RGB size=274x26 at 0x7F4D3446B990>"
            ]
          },
          "metadata": {}
        },
        {
          "output_type": "stream",
          "name": "stdout",
          "text": [
            "Helvetica.ttf\n"
          ]
        },
        {
          "output_type": "display_data",
          "data": {
            "image/png": "[encoded data removed]",
            "text/plain": [
              "<PIL.TiffImagePlugin.TiffImageFile image mode=RGB size=211x25 at 0x7F4D3446B450>"
            ]
          },
          "metadata": {}
        },
        {
          "output_type": "stream",
          "name": "stdout",
          "text": [
            "ariblk.ttf\n"
          ]
        },
        {
          "output_type": "display_data",
          "data": {
            "image/png": "[encoded data removed]",
            "text/plain": [
              "<PIL.TiffImagePlugin.TiffImageFile image mode=RGB size=561x55 at 0x7F4D344E8FD0>"
            ]
          },
          "metadata": {}
        },
        {
          "output_type": "stream",
          "name": "stdout",
          "text": [
            "skipping cambria.ttc\n",
            "calibrili.ttf\n"
          ]
        },
        {
          "output_type": "display_data",
          "data": {
            "image/png": "[encoded data removed]",
            "text/plain": [
              "<PIL.TiffImagePlugin.TiffImageFile image mode=RGB size=145x19 at 0x7F4D344E8C90>"
            ]
          },
          "metadata": {}
        },
        {
          "output_type": "stream",
          "name": "stdout",
          "text": [
            "calibriz.ttf\n"
          ]
        },
        {
          "output_type": "display_data",
          "data": {
            "image/png": "[encoded data removed]",
            "text/plain": [
              "<PIL.TiffImagePlugin.TiffImageFile image mode=RGB size=296x28 at 0x7F4D344E6F50>"
            ]
          },
          "metadata": {}
        },
        {
          "output_type": "stream",
          "name": "stdout",
          "text": [
            "calibrib.ttf\n"
          ]
        },
        {
          "output_type": "display_data",
          "data": {
            "image/png": "[encoded data removed]",
            "text/plain": [
              "<PIL.TiffImagePlugin.TiffImageFile image mode=RGB size=94x20 at 0x7F4D344EAAD0>"
            ]
          },
          "metadata": {}
        },
        {
          "output_type": "stream",
          "name": "stdout",
          "text": [
            "calibri.ttf\n"
          ]
        },
        {
          "output_type": "display_data",
          "data": {
            "image/png": "[encoded data removed]",
            "text/plain": [
              "<PIL.TiffImagePlugin.TiffImageFile image mode=RGB size=184x26 at 0x7F4D344B3F50>"
            ]
          },
          "metadata": {}
        },
        {
          "output_type": "stream",
          "name": "stdout",
          "text": [
            "calibril.ttf\n"
          ]
        },
        {
          "output_type": "display_data",
          "data": {
            "image/png": "[encoded data removed]",
            "text/plain": [
              "<PIL.TiffImagePlugin.TiffImageFile image mode=RGB size=365x36 at 0x7F4D344BD950>"
            ]
          },
          "metadata": {}
        },
        {
          "output_type": "stream",
          "name": "stdout",
          "text": [
            "ariali.ttf\n"
          ]
        },
        {
          "output_type": "display_data",
          "data": {
            "image/png": "[encoded data removed]",
            "text/plain": [
              "<PIL.TiffImagePlugin.TiffImageFile image mode=RGB size=389x40 at 0x7F4D3446FCD0>"
            ]
          },
          "metadata": {}
        },
        {
          "output_type": "stream",
          "name": "stdout",
          "text": [
            "arialbd.ttf\n"
          ]
        },
        {
          "output_type": "display_data",
          "data": {
            "image/png": "[encoded data removed]",
            "text/plain": [
              "<PIL.TiffImagePlugin.TiffImageFile image mode=RGB size=227x43 at 0x7F4D3446F350>"
            ]
          },
          "metadata": {}
        },
        {
          "output_type": "stream",
          "name": "stdout",
          "text": [
            "calibrii.ttf\n"
          ]
        },
        {
          "output_type": "display_data",
          "data": {
            "image/png": "[encoded data removed]",
            "text/plain": [
              "<PIL.TiffImagePlugin.TiffImageFile image mode=RGB size=728x56 at 0x7F4D344BD690>"
            ]
          },
          "metadata": {}
        },
        {
          "output_type": "stream",
          "name": "stdout",
          "text": [
            "arialbi.ttf\n"
          ]
        },
        {
          "output_type": "display_data",
          "data": {
            "image/png": "[encoded data removed]",
            "text/plain": [
              "<PIL.TiffImagePlugin.TiffImageFile image mode=RGB size=352x30 at 0x7F4D3446B890>"
            ]
          },
          "metadata": {}
        },
        {
          "output_type": "stream",
          "name": "stdout",
          "text": [
            "arial.ttf\n"
          ]
        },
        {
          "output_type": "display_data",
          "data": {
            "image/png": "[encoded data removed]",
            "text/plain": [
              "<PIL.TiffImagePlugin.TiffImageFile image mode=RGB size=640x59 at 0x7F4D344B3B90>"
            ]
          },
          "metadata": {}
        },
        {
          "output_type": "stream",
          "name": "stdout",
          "text": [
            "verdanaz.ttf\n"
          ]
        },
        {
          "output_type": "display_data",
          "data": {
            "image/png": "[encoded data removed]",
            "text/plain": [
              "<PIL.TiffImagePlugin.TiffImageFile image mode=RGB size=160x24 at 0x7F4D3446FD10>"
            ]
          },
          "metadata": {}
        },
        {
          "output_type": "stream",
          "name": "stdout",
          "text": [
            "verdana.ttf\n"
          ]
        },
        {
          "output_type": "display_data",
          "data": {
            "image/png": "[encoded data removed]",
            "text/plain": [
              "<PIL.TiffImagePlugin.TiffImageFile image mode=RGB size=932x76 at 0x7F4D344BD950>"
            ]
          },
          "metadata": {}
        },
        {
          "output_type": "stream",
          "name": "stdout",
          "text": [
            "verdanab.ttf\n"
          ]
        },
        {
          "output_type": "display_data",
          "data": {
            "image/png": "[encoded data removed]",
            "text/plain": [
              "<PIL.TiffImagePlugin.TiffImageFile image mode=RGB size=242x33 at 0x7F4D3446BDD0>"
            ]
          },
          "metadata": {}
        },
        {
          "output_type": "stream",
          "name": "stdout",
          "text": [
            "timesbi.ttf\n"
          ]
        },
        {
          "output_type": "display_data",
          "data": {
            "image/png": "[encoded data removed]",
            "text/plain": [
              "<PIL.TiffImagePlugin.TiffImageFile image mode=RGB size=730x89 at 0x7F4D344EAAD0>"
            ]
          },
          "metadata": {}
        },
        {
          "output_type": "stream",
          "name": "stdout",
          "text": [
            "verdanai.ttf\n"
          ]
        },
        {
          "output_type": "display_data",
          "data": {
            "image/png": "[encoded data removed]",
            "text/plain": [
              "<PIL.TiffImagePlugin.TiffImageFile image mode=RGB size=688x69 at 0x7F4D3446B890>"
            ]
          },
          "metadata": {}
        },
        {
          "output_type": "stream",
          "name": "stdout",
          "text": [
            "timesi.ttf\n"
          ]
        },
        {
          "output_type": "display_data",
          "data": {
            "image/png": "[encoded data removed]",
            "text/plain": [
              "<PIL.TiffImagePlugin.TiffImageFile image mode=RGB size=325x46 at 0x7F4D344BD590>"
            ]
          },
          "metadata": {}
        },
        {
          "output_type": "stream",
          "name": "stdout",
          "text": [
            "times.ttf\n"
          ]
        },
        {
          "output_type": "display_data",
          "data": {
            "image/png": "[encoded data removed]",
            "text/plain": [
              "<PIL.TiffImagePlugin.TiffImageFile image mode=RGB size=469x51 at 0x7F4D344E5F90>"
            ]
          },
          "metadata": {}
        },
        {
          "output_type": "stream",
          "name": "stdout",
          "text": [
            "timesbd.ttf\n"
          ]
        },
        {
          "output_type": "display_data",
          "data": {
            "image/png": "[encoded data removed]",
            "text/plain": [
              "<PIL.TiffImagePlugin.TiffImageFile image mode=RGB size=450x55 at 0x7F4D344E8F90>"
            ]
          },
          "metadata": {}
        },
        {
          "output_type": "stream",
          "name": "stdout",
          "text": [
            "cambriai.ttf\n"
          ]
        },
        {
          "output_type": "display_data",
          "data": {
            "image/png": "[encoded data removed]",
            "text/plain": [
              "<PIL.TiffImagePlugin.TiffImageFile image mode=RGB size=214x35 at 0x7F4D344E8C50>"
            ]
          },
          "metadata": {}
        },
        {
          "output_type": "stream",
          "name": "stdout",
          "text": [
            "framdit.ttf\n"
          ]
        },
        {
          "output_type": "display_data",
          "data": {
            "image/png": "[encoded data removed]",
            "text/plain": [
              "<PIL.TiffImagePlugin.TiffImageFile image mode=RGB size=362x38 at 0x7F4D3446B990>"
            ]
          },
          "metadata": {}
        },
        {
          "output_type": "stream",
          "name": "stdout",
          "text": [
            "framd.ttf\n"
          ]
        },
        {
          "output_type": "display_data",
          "data": {
            "image/png": "[encoded data removed]",
            "text/plain": [
              "<PIL.TiffImagePlugin.TiffImageFile image mode=RGB size=203x33 at 0x7F4D3446BD90>"
            ]
          },
          "metadata": {}
        },
        {
          "output_type": "stream",
          "name": "stdout",
          "text": [
            "cambriaz.ttf\n"
          ]
        },
        {
          "output_type": "display_data",
          "data": {
            "image/png": "[encoded data removed]",
            "text/plain": [
              "<PIL.TiffImagePlugin.TiffImageFile image mode=RGB size=674x71 at 0x7F4D344E8610>"
            ]
          },
          "metadata": {}
        },
        {
          "output_type": "stream",
          "name": "stdout",
          "text": [
            "micross.ttf\n"
          ]
        },
        {
          "output_type": "display_data",
          "data": {
            "image/png": "[encoded data removed]",
            "text/plain": [
              "<PIL.TiffImagePlugin.TiffImageFile image mode=RGB size=587x68 at 0x7F4D344E8C50>"
            ]
          },
          "metadata": {}
        },
        {
          "output_type": "stream",
          "name": "stdout",
          "text": [
            "cambriab.ttf\n"
          ]
        },
        {
          "output_type": "display_data",
          "data": {
            "image/png": "[encoded data removed]",
            "text/plain": [
              "<PIL.TiffImagePlugin.TiffImageFile image mode=RGB size=434x74 at 0x7F4D344B3B90>"
            ]
          },
          "metadata": {}
        },
        {
          "output_type": "stream",
          "name": "stdout",
          "text": [
            "ROCKB.TTF\n"
          ]
        },
        {
          "output_type": "display_data",
          "data": {
            "image/png": "[encoded data removed]",
            "text/plain": [
              "<PIL.TiffImagePlugin.TiffImageFile image mode=RGB size=200x43 at 0x7F4D3BDF9850>"
            ]
          },
          "metadata": {}
        },
        {
          "output_type": "stream",
          "name": "stdout",
          "text": [
            "ROCCB___.TTF\n"
          ]
        },
        {
          "output_type": "display_data",
          "data": {
            "image/png": "[encoded data removed]",
            "text/plain": [
              "<PIL.TiffImagePlugin.TiffImageFile image mode=RGB size=376x43 at 0x7F4D344BD950>"
            ]
          },
          "metadata": {}
        },
        {
          "output_type": "stream",
          "name": "stdout",
          "text": [
            "ROCK.TTF\n"
          ]
        },
        {
          "output_type": "display_data",
          "data": {
            "image/png": "[encoded data removed]",
            "text/plain": [
              "<PIL.TiffImagePlugin.TiffImageFile image mode=RGB size=124x22 at 0x7F4D3B659AD0>"
            ]
          },
          "metadata": {}
        },
        {
          "output_type": "stream",
          "name": "stdout",
          "text": [
            "OCRAEXT.TTF\n"
          ]
        },
        {
          "output_type": "display_data",
          "data": {
            "image/png": "[encoded data removed]",
            "text/plain": [
              "<PIL.TiffImagePlugin.TiffImageFile image mode=RGB size=372x49 at 0x7F4D3BD80890>"
            ]
          },
          "metadata": {}
        },
        {
          "output_type": "stream",
          "name": "stdout",
          "text": [
            "ROCKBI.TTF\n"
          ]
        },
        {
          "output_type": "display_data",
          "data": {
            "image/png": "[encoded data removed]",
            "text/plain": [
              "<PIL.TiffImagePlugin.TiffImageFile image mode=RGB size=623x112 at 0x7F4D344EAD90>"
            ]
          },
          "metadata": {}
        },
        {
          "output_type": "stream",
          "name": "stdout",
          "text": [
            "ROCKI.TTF\n"
          ]
        },
        {
          "output_type": "display_data",
          "data": {
            "image/png": "[encoded data removed]",
            "text/plain": [
              "<PIL.TiffImagePlugin.TiffImageFile image mode=RGB size=169x24 at 0x7F4D3FBE34D0>"
            ]
          },
          "metadata": {}
        },
        {
          "output_type": "stream",
          "name": "stdout",
          "text": [
            "ROCKEB.TTF\n"
          ]
        },
        {
          "output_type": "display_data",
          "data": {
            "image/png": "[encoded data removed]",
            "text/plain": [
              "<PIL.TiffImagePlugin.TiffImageFile image mode=RGB size=250x38 at 0x7F4D344BD590>"
            ]
          },
          "metadata": {}
        },
        {
          "output_type": "stream",
          "name": "stdout",
          "text": [
            "FRADMIT.TTF\n"
          ]
        },
        {
          "output_type": "display_data",
          "data": {
            "image/png": "[encoded data removed]",
            "text/plain": [
              "<PIL.TiffImagePlugin.TiffImageFile image mode=RGB size=693x56 at 0x7F4D3B659AD0>"
            ]
          },
          "metadata": {}
        },
        {
          "output_type": "stream",
          "name": "stdout",
          "text": [
            "FRADMCN.TTF\n"
          ]
        },
        {
          "output_type": "display_data",
          "data": {
            "image/png": "[encoded data removed]",
            "text/plain": [
              "<PIL.TiffImagePlugin.TiffImageFile image mode=RGB size=536x63 at 0x7F4D3BD801D0>"
            ]
          },
          "metadata": {}
        },
        {
          "output_type": "stream",
          "name": "stdout",
          "text": [
            "FRAHV.TTF\n"
          ]
        },
        {
          "output_type": "display_data",
          "data": {
            "image/png": "[encoded data removed]",
            "text/plain": [
              "<PIL.TiffImagePlugin.TiffImageFile image mode=RGB size=400x33 at 0x7F4D344D7DD0>"
            ]
          },
          "metadata": {}
        },
        {
          "output_type": "stream",
          "name": "stdout",
          "text": [
            "FRAMDCN.TTF\n"
          ]
        },
        {
          "output_type": "display_data",
          "data": {
            "image/png": "[encoded data removed]",
            "text/plain": [
              "<PIL.TiffImagePlugin.TiffImageFile image mode=RGB size=260x43 at 0x7F4D344EAAD0>"
            ]
          },
          "metadata": {}
        },
        {
          "output_type": "stream",
          "name": "stdout",
          "text": [
            "FRAHVIT.TTF\n"
          ]
        },
        {
          "output_type": "display_data",
          "data": {
            "image/png": "[encoded data removed]",
            "text/plain": [
              "<PIL.TiffImagePlugin.TiffImageFile image mode=RGB size=466x43 at 0x7F4D344B3F50>"
            ]
          },
          "metadata": {}
        },
        {
          "output_type": "stream",
          "name": "stdout",
          "text": [
            "FRADM.TTF\n"
          ]
        },
        {
          "output_type": "display_data",
          "data": {
            "image/png": "[encoded data removed]",
            "text/plain": [
              "<PIL.TiffImagePlugin.TiffImageFile image mode=RGB size=308x37 at 0x7F4D3BBE50D0>"
            ]
          },
          "metadata": {}
        },
        {
          "output_type": "stream",
          "name": "stdout",
          "text": [
            "ROCC____.TTF\n"
          ]
        },
        {
          "output_type": "display_data",
          "data": {
            "image/png": "[encoded data removed]",
            "text/plain": [
              "<PIL.TiffImagePlugin.TiffImageFile image mode=RGB size=521x71 at 0x7F4D344BD690>"
            ]
          },
          "metadata": {}
        },
        {
          "output_type": "stream",
          "name": "stdout",
          "text": [
            "ARIALNBI.TTF\n"
          ]
        },
        {
          "output_type": "display_data",
          "data": {
            "image/png": "[encoded data removed]",
            "text/plain": [
              "<PIL.TiffImagePlugin.TiffImageFile image mode=RGB size=376x38 at 0x7F4D3BD801D0>"
            ]
          },
          "metadata": {}
        },
        {
          "output_type": "stream",
          "name": "stdout",
          "text": [
            "ARIALNI.TTF\n"
          ]
        },
        {
          "output_type": "display_data",
          "data": {
            "image/png": "[encoded data removed]",
            "text/plain": [
              "<PIL.TiffImagePlugin.TiffImageFile image mode=RGB size=465x63 at 0x7F4D3F1E43D0>"
            ]
          },
          "metadata": {}
        },
        {
          "output_type": "stream",
          "name": "stdout",
          "text": [
            "ARIALNB.TTF\n"
          ]
        },
        {
          "output_type": "display_data",
          "data": {
            "image/png": "[encoded data removed]",
            "text/plain": [
              "<PIL.TiffImagePlugin.TiffImageFile image mode=RGB size=206x39 at 0x7F4D3BD85390>"
            ]
          },
          "metadata": {}
        },
        {
          "output_type": "stream",
          "name": "stdout",
          "text": [
            "ARIALN.TTF\n"
          ]
        },
        {
          "output_type": "display_data",
          "data": {
            "image/png": "[encoded data removed]",
            "text/plain": [
              "<PIL.TiffImagePlugin.TiffImageFile image mode=RGB size=167x43 at 0x7F4D40288710>"
            ]
          },
          "metadata": {}
        }
      ]
    },
    {
      "cell_type": "markdown",
      "metadata": {
        "id": "fATSPiWfdJxI"
      },
      "source": [
        "# Install tesseract"
      ]
    },
    {
      "cell_type": "markdown",
      "metadata": {
        "id": "SsK02dQAIu67"
      },
      "source": [
        "First let's install tesseract + all the dependency required"
      ]
    },
    {
      "cell_type": "code",
      "metadata": {
        "id": "UIprgEOlYjzy",
        "colab": {
          "base_uri": "https://localhost:8080/"
        },
        "outputId": "60322e97-8a46-47f1-f4ff-cb96f15f4dba"
      },
      "source": [
        "!apt install tesseract-ocr libtesseract-dev bc"
      ],
      "execution_count": 2,
      "outputs": [
        {
          "output_type": "stream",
          "name": "stdout",
          "text": [
            "Reading package lists... Done\n",
            "Building dependency tree       \n",
            "Reading state information... Done\n",
            "The following additional packages will be installed:\n",
            "  libleptonica-dev tesseract-ocr-eng tesseract-ocr-osd\n",
            "The following NEW packages will be installed:\n",
            "  bc libleptonica-dev libtesseract-dev tesseract-ocr tesseract-ocr-eng\n",
            "  tesseract-ocr-osd\n",
            "0 upgraded, 6 newly installed, 0 to remove and 37 not upgraded.\n",
            "Need to get 7,636 kB of archives.\n",
            "After this operation, 29.8 MB of additional disk space will be used.\n",
            "Get:1 http://archive.ubuntu.com/ubuntu bionic/main amd64 bc amd64 1.07.1-2 [86.2 kB]\n",
            "Get:2 http://archive.ubuntu.com/ubuntu bionic/universe amd64 libleptonica-dev amd64 1.75.3-3 [1,308 kB]\n",
            "Get:3 http://archive.ubuntu.com/ubuntu bionic/universe amd64 libtesseract-dev amd64 4.00~git2288-10f4998a-2 [1,447 kB]\n",
            "Get:4 http://archive.ubuntu.com/ubuntu bionic/universe amd64 tesseract-ocr-eng all 4.00~git24-0e00fe6-1.2 [1,588 kB]\n",
            "Get:5 http://archive.ubuntu.com/ubuntu bionic/universe amd64 tesseract-ocr-osd all 4.00~git24-0e00fe6-1.2 [2,989 kB]\n",
            "Get:6 http://archive.ubuntu.com/ubuntu bionic/universe amd64 tesseract-ocr amd64 4.00~git2288-10f4998a-2 [218 kB]\n",
            "Fetched 7,636 kB in 1s (5,143 kB/s)\n",
            "Selecting previously unselected package bc.\n",
            "(Reading database ... 155219 files and directories currently installed.)\n",
            "Preparing to unpack .../0-bc_1.07.1-2_amd64.deb ...\n",
            "Unpacking bc (1.07.1-2) ...\n",
            "Selecting previously unselected package libleptonica-dev.\n",
            "Preparing to unpack .../1-libleptonica-dev_1.75.3-3_amd64.deb ...\n",
            "Unpacking libleptonica-dev (1.75.3-3) ...\n",
            "Selecting previously unselected package libtesseract-dev.\n",
            "Preparing to unpack .../2-libtesseract-dev_4.00~git2288-10f4998a-2_amd64.deb ...\n",
            "Unpacking libtesseract-dev (4.00~git2288-10f4998a-2) ...\n",
            "Selecting previously unselected package tesseract-ocr-eng.\n",
            "Preparing to unpack .../3-tesseract-ocr-eng_4.00~git24-0e00fe6-1.2_all.deb ...\n",
            "Unpacking tesseract-ocr-eng (4.00~git24-0e00fe6-1.2) ...\n",
            "Selecting previously unselected package tesseract-ocr-osd.\n",
            "Preparing to unpack .../4-tesseract-ocr-osd_4.00~git24-0e00fe6-1.2_all.deb ...\n",
            "Unpacking tesseract-ocr-osd (4.00~git24-0e00fe6-1.2) ...\n",
            "Selecting previously unselected package tesseract-ocr.\n",
            "Preparing to unpack .../5-tesseract-ocr_4.00~git2288-10f4998a-2_amd64.deb ...\n",
            "Unpacking tesseract-ocr (4.00~git2288-10f4998a-2) ...\n",
            "Setting up libleptonica-dev (1.75.3-3) ...\n",
            "Setting up tesseract-ocr-osd (4.00~git24-0e00fe6-1.2) ...\n",
            "Setting up tesseract-ocr-eng (4.00~git24-0e00fe6-1.2) ...\n",
            "Setting up libtesseract-dev (4.00~git2288-10f4998a-2) ...\n",
            "Setting up tesseract-ocr (4.00~git2288-10f4998a-2) ...\n",
            "Setting up bc (1.07.1-2) ...\n",
            "Processing triggers for man-db (2.8.3-2ubuntu0.1) ...\n"
          ]
        }
      ]
    },
    {
      "cell_type": "markdown",
      "metadata": {
        "id": "FqO4X1HgdRCe"
      },
      "source": [
        "# Clone tesstrain"
      ]
    },
    {
      "cell_type": "code",
      "metadata": {
        "id": "ltU2wI4PX8xq",
        "colab": {
          "base_uri": "https://localhost:8080/"
        },
        "outputId": "d7b2b44b-1594-49ce-e20a-78229a69236e"
      },
      "source": [
        "%cd /content\n",
        "!git clone https://github.com/tesseract-ocr/tesstrain"
      ],
      "execution_count": 3,
      "outputs": [
        {
          "output_type": "stream",
          "name": "stdout",
          "text": [
            "/content\n",
            "Cloning into 'tesstrain'...\n",
            "remote: Enumerating objects: 819, done.\u001b[K\n",
            "remote: Counting objects: 100% (44/44), done.\u001b[K\n",
            "remote: Compressing objects: 100% (33/33), done.\u001b[K\n",
            "remote: Total 819 (delta 21), reused 18 (delta 9), pack-reused 775\u001b[K\n",
            "Receiving objects: 100% (819/819), 13.37 MiB | 23.37 MiB/s, done.\n",
            "Resolving deltas: 100% (463/463), done.\n"
          ]
        }
      ]
    },
    {
      "cell_type": "markdown",
      "metadata": {
        "id": "DNmSKAyWdWFf"
      },
      "source": [
        "# Prepare data"
      ]
    },
    {
      "cell_type": "markdown",
      "metadata": {
        "id": "JuhzMGQyAL1M"
      },
      "source": [
        "If we want to load from google drive"
      ]
    },
    {
      "cell_type": "code",
      "metadata": {
        "id": "HHGWx1fwYCl4"
      },
      "source": [
        "%cd /content\n",
        "!rm -rf /content/bnk-ground-truth\n",
        "!cp /content/drive/MyDrive/dataset.rar /content/\n",
        "!unrar x /content/dataset.rar\n",
        "!mkdir tesstrain/data\n",
        "!rm -rf tesstrain/data/bnk-ground-truth\n",
        "!mv bnk-ground-truth tesstrain/data/bnk-ground-truth\n",
        "%cd /content/tesstrain"
      ],
      "execution_count": null,
      "outputs": []
    },
    {
      "cell_type": "markdown",
      "metadata": {
        "id": "OFuMgTFtAPUY"
      },
      "source": [
        "If we want to use the datase we just created"
      ]
    },
    {
      "cell_type": "code",
      "metadata": {
        "id": "WySYzGnfASK5",
        "colab": {
          "base_uri": "https://localhost:8080/"
        },
        "outputId": "737e2091-41f5-4a45-f3ec-ac289e7964db"
      },
      "source": [
        "%cd /content\n",
        "!mkdir tesstrain/data\n",
        "!rm -rf tesstrain/data/bnk-ground-truth\n",
        "!mv dataset tesstrain/data/bnk-ground-truth\n",
        "%cd /content/tesstrain"
      ],
      "execution_count": 4,
      "outputs": [
        {
          "output_type": "stream",
          "name": "stdout",
          "text": [
            "/content\n",
            "/content/tesstrain\n"
          ]
        }
      ]
    },
    {
      "cell_type": "markdown",
      "metadata": {
        "id": "EVbBHOXsdmen"
      },
      "source": [
        "# Train"
      ]
    },
    {
      "cell_type": "code",
      "metadata": {
        "id": "SN7PRsXWqS6E",
        "colab": {
          "base_uri": "https://localhost:8080/"
        },
        "outputId": "acd706e5-2131-4d00-edb8-c8ec5c84767e"
      },
      "source": [
        "%cd /content/tesstrain\n",
        "!mkdir tessdata\n",
        "%cd tessdata\n",
        "!wget https://github.com/tesseract-ocr/tessdata_best/raw/main/eng.traineddata\n",
        "%cd /content/tesstrain"
      ],
      "execution_count": 5,
      "outputs": [
        {
          "output_type": "stream",
          "name": "stdout",
          "text": [
            "/content/tesstrain\n",
            "/content/tesstrain/tessdata\n",
            "--2021-11-17 21:30:30--  https://github.com/tesseract-ocr/tessdata_best/raw/main/eng.traineddata\n",
            "Resolving github.com (github.com)... 140.82.114.4\n",
            "Connecting to github.com (github.com)|140.82.114.4|:443... connected.\n",
            "HTTP request sent, awaiting response... 302 Found\n",
            "Location: https://raw.githubusercontent.com/tesseract-ocr/tessdata_best/main/eng.traineddata [following]\n",
            "--2021-11-17 21:30:30--  https://raw.githubusercontent.com/tesseract-ocr/tessdata_best/main/eng.traineddata\n",
            "Resolving raw.githubusercontent.com (raw.githubusercontent.com)... 185.199.108.133, 185.199.109.133, 185.199.110.133, ...\n",
            "Connecting to raw.githubusercontent.com (raw.githubusercontent.com)|185.199.108.133|:443... connected.\n",
            "HTTP request sent, awaiting response... 200 OK\n",
            "Length: 15400601 (15M) [application/octet-stream]\n",
            "Saving to: ‘eng.traineddata’\n",
            "\n",
            "eng.traineddata     100%[===================>]  14.69M  --.-KB/s    in 0.1s    \n",
            "\n",
            "2021-11-17 21:30:31 (118 MB/s) - ‘eng.traineddata’ saved [15400601/15400601]\n",
            "\n",
            "/content/tesstrain\n"
          ]
        }
      ]
    },
    {
      "cell_type": "code",
      "metadata": {
        "id": "_cveJJn7Zc2D",
        "colab": {
          "base_uri": "https://localhost:8080/"
        },
        "outputId": "637e7221-407b-484f-fd33-86ba1ad17c6f"
      },
      "source": [
        "# !make clean MODEL_NAME=bnk\n",
        "!make training MODEL_NAME=bnk START_MODEL=eng TESSDATA=/content/tesstrain/tessdata"
      ],
      "execution_count": null,
      "outputs": [
        {
          "output_type": "stream",
          "name": "stdout",
          "text": [
            "find -L data/bnk-ground-truth -name '*.gt.txt' | xargs paste -s > \"data/bnk/all-gt\"\n",
            "combine_tessdata -u /content/tesstrain/tessdata/eng.traineddata  data/eng/bnk\n",
            "Extracting tessdata components from /content/tesstrain/tessdata/eng.traineddata\n",
            "Wrote data/eng/bnk.lstm\n",
            "Wrote data/eng/bnk.lstm-punc-dawg\n",
            "Wrote data/eng/bnk.lstm-word-dawg\n",
            "Wrote data/eng/bnk.lstm-number-dawg\n",
            "Wrote data/eng/bnk.lstm-unicharset\n",
            "Wrote data/eng/bnk.lstm-recoder\n",
            "Wrote data/eng/bnk.version\n",
            "Version string:4.00.00alpha:eng:synth20170629:[1,36,0,1Ct3,3,16Mp3,3Lfys64Lfx96Lrx96Lfx512O1c1]\n",
            "17:lstm:size=11689099, offset=192\n",
            "18:lstm-punc-dawg:size=4322, offset=11689291\n",
            "19:lstm-word-dawg:size=3694794, offset=11693613\n",
            "20:lstm-number-dawg:size=4738, offset=15388407\n",
            "21:lstm-unicharset:size=6360, offset=15393145\n",
            "22:lstm-recoder:size=1012, offset=15399505\n",
            "23:version:size=80, offset=15400517\n",
            "unicharset_extractor --output_unicharset \"data/bnk/my.unicharset\" --norm_mode 2 \"data/bnk/all-gt\"\n",
            "Bad box coordinates in boxfile string! 22617363040350111\n",
            "Extracting unicharset from plain text file data/bnk/all-gt\n",
            "Wrote unicharset file data/bnk/my.unicharset\n",
            "merge_unicharsets data/eng/bnk.lstm-unicharset data/bnk/my.unicharset  \"data/bnk/unicharset\"\n",
            "Loaded unicharset of size 112 from file data/eng/bnk.lstm-unicharset\n",
            "Loaded unicharset of size 13 from file data/bnk/my.unicharset\n",
            "Wrote unicharset file data/bnk/unicharset.\n",
            "PYTHONIOENCODING=utf-8 python3 generate_line_box.py -i \"data/bnk-ground-truth/1.tif\" -t \"data/bnk-ground-truth/1.gt.txt\" > \"data/bnk-ground-truth/1.box\"\n",
            "+ tesseract data/bnk-ground-truth/1.tif data/bnk-ground-truth/1 --psm 13 lstm.train\n",
            "Tesseract Open Source OCR Engine v4.0.0-beta.1 with Leptonica\n",
            "Page 1\n",
            "PYTHONIOENCODING=utf-8 python3 generate_line_box.py -i \"data/bnk-ground-truth/2.tif\" -t \"data/bnk-ground-truth/2.gt.txt\" > \"data/bnk-ground-truth/2.box\"\n",
            "+ tesseract data/bnk-ground-truth/2.tif data/bnk-ground-truth/2 --psm 13 lstm.train\n",
            "Tesseract Open Source OCR Engine v4.0.0-beta.1 with Leptonica\n",
            "Page 1\n",
            "PYTHONIOENCODING=utf-8 python3 generate_line_box.py -i \"data/bnk-ground-truth/3.tif\" -t \"data/bnk-ground-truth/3.gt.txt\" > \"data/bnk-ground-truth/3.box\"\n",
            "+ tesseract data/bnk-ground-truth/3.tif data/bnk-ground-truth/3 --psm 13 lstm.train\n",
            "Tesseract Open Source OCR Engine v4.0.0-beta.1 with Leptonica\n",
            "Page 1\n",
            "PYTHONIOENCODING=utf-8 python3 generate_line_box.py -i \"data/bnk-ground-truth/4.tif\" -t \"data/bnk-ground-truth/4.gt.txt\" > \"data/bnk-ground-truth/4.box\"\n",
            "+ tesseract data/bnk-ground-truth/4.tif data/bnk-ground-truth/4 --psm 13 lstm.train\n",
            "Tesseract Open Source OCR Engine v4.0.0-beta.1 with Leptonica\n",
            "Page 1\n",
            "PYTHONIOENCODING=utf-8 python3 generate_line_box.py -i \"data/bnk-ground-truth/5.tif\" -t \"data/bnk-ground-truth/5.gt.txt\" > \"data/bnk-ground-truth/5.box\"\n",
            "+ tesseract data/bnk-ground-truth/5.tif data/bnk-ground-truth/5 --psm 13 lstm.train\n",
            "Tesseract Open Source OCR Engine v4.0.0-beta.1 with Leptonica\n",
            "Page 1\n",
            "PYTHONIOENCODING=utf-8 python3 generate_line_box.py -i \"data/bnk-ground-truth/6.tif\" -t \"data/bnk-ground-truth/6.gt.txt\" > \"data/bnk-ground-truth/6.box\"\n",
            "+ tesseract data/bnk-ground-truth/6.tif data/bnk-ground-truth/6 --psm 13 lstm.train\n",
            "Tesseract Open Source OCR Engine v4.0.0-beta.1 with Leptonica\n",
            "Page 1\n",
            "PYTHONIOENCODING=utf-8 python3 generate_line_box.py -i \"data/bnk-ground-truth/7.tif\" -t \"data/bnk-ground-truth/7.gt.txt\" > \"data/bnk-ground-truth/7.box\"\n",
            "+ tesseract data/bnk-ground-truth/7.tif data/bnk-ground-truth/7 --psm 13 lstm.train\n",
            "Tesseract Open Source OCR Engine v4.0.0-beta.1 with Leptonica\n",
            "Page 1\n",
            "PYTHONIOENCODING=utf-8 python3 generate_line_box.py -i \"data/bnk-ground-truth/8.tif\" -t \"data/bnk-ground-truth/8.gt.txt\" > \"data/bnk-ground-truth/8.box\"\n",
            "+ tesseract data/bnk-ground-truth/8.tif data/bnk-ground-truth/8 --psm 13 lstm.train\n",
            "Tesseract Open Source OCR Engine v4.0.0-beta.1 with Leptonica\n",
            "Page 1\n",
            "PYTHONIOENCODING=utf-8 python3 generate_line_box.py -i \"data/bnk-ground-truth/9.tif\" -t \"data/bnk-ground-truth/9.gt.txt\" > \"data/bnk-ground-truth/9.box\"\n",
            "+ tesseract data/bnk-ground-truth/9.tif data/bnk-ground-truth/9 --psm 13 lstm.train\n",
            "Tesseract Open Source OCR Engine v4.0.0-beta.1 with Leptonica\n",
            "Page 1\n",
            "PYTHONIOENCODING=utf-8 python3 generate_line_box.py -i \"data/bnk-ground-truth/10.tif\" -t \"data/bnk-ground-truth/10.gt.txt\" > \"data/bnk-ground-truth/10.box\"\n",
            "+ tesseract data/bnk-ground-truth/10.tif data/bnk-ground-truth/10 --psm 13 lstm.train\n",
            "Tesseract Open Source OCR Engine v4.0.0-beta.1 with Leptonica\n",
            "Page 1\n",
            "PYTHONIOENCODING=utf-8 python3 generate_line_box.py -i \"data/bnk-ground-truth/11.tif\" -t \"data/bnk-ground-truth/11.gt.txt\" > \"data/bnk-ground-truth/11.box\"\n",
            "+ tesseract data/bnk-ground-truth/11.tif data/bnk-ground-truth/11 --psm 13 lstm.train\n",
            "Tesseract Open Source OCR Engine v4.0.0-beta.1 with Leptonica\n",
            "Page 1\n",
            "PYTHONIOENCODING=utf-8 python3 generate_line_box.py -i \"data/bnk-ground-truth/12.tif\" -t \"data/bnk-ground-truth/12.gt.txt\" > \"data/bnk-ground-truth/12.box\"\n",
            "+ tesseract data/bnk-ground-truth/12.tif data/bnk-ground-truth/12 --psm 13 lstm.train\n",
            "Tesseract Open Source OCR Engine v4.0.0-beta.1 with Leptonica\n",
            "Page 1\n",
            "PYTHONIOENCODING=utf-8 python3 generate_line_box.py -i \"data/bnk-ground-truth/13.tif\" -t \"data/bnk-ground-truth/13.gt.txt\" > \"data/bnk-ground-truth/13.box\"\n",
            "+ tesseract data/bnk-ground-truth/13.tif data/bnk-ground-truth/13 --psm 13 lstm.train\n",
            "Tesseract Open Source OCR Engine v4.0.0-beta.1 with Leptonica\n",
            "Page 1\n",
            "PYTHONIOENCODING=utf-8 python3 generate_line_box.py -i \"data/bnk-ground-truth/14.tif\" -t \"data/bnk-ground-truth/14.gt.txt\" > \"data/bnk-ground-truth/14.box\"\n",
            "+ tesseract data/bnk-ground-truth/14.tif data/bnk-ground-truth/14 --psm 13 lstm.train\n",
            "Tesseract Open Source OCR Engine v4.0.0-beta.1 with Leptonica\n",
            "Page 1\n",
            "PYTHONIOENCODING=utf-8 python3 generate_line_box.py -i \"data/bnk-ground-truth/15.tif\" -t \"data/bnk-ground-truth/15.gt.txt\" > \"data/bnk-ground-truth/15.box\"\n",
            "+ tesseract data/bnk-ground-truth/15.tif data/bnk-ground-truth/15 --psm 13 lstm.train\n",
            "Tesseract Open Source OCR Engine v4.0.0-beta.1 with Leptonica\n",
            "Page 1\n",
            "PYTHONIOENCODING=utf-8 python3 generate_line_box.py -i \"data/bnk-ground-truth/16.tif\" -t \"data/bnk-ground-truth/16.gt.txt\" > \"data/bnk-ground-truth/16.box\"\n",
            "+ tesseract data/bnk-ground-truth/16.tif data/bnk-ground-truth/16 --psm 13 lstm.train\n",
            "Tesseract Open Source OCR Engine v4.0.0-beta.1 with Leptonica\n",
            "Page 1\n",
            "PYTHONIOENCODING=utf-8 python3 generate_line_box.py -i \"data/bnk-ground-truth/17.tif\" -t \"data/bnk-ground-truth/17.gt.txt\" > \"data/bnk-ground-truth/17.box\"\n",
            "+ tesseract data/bnk-ground-truth/17.tif data/bnk-ground-truth/17 --psm 13 lstm.train\n",
            "Tesseract Open Source OCR Engine v4.0.0-beta.1 with Leptonica\n",
            "Page 1\n",
            "PYTHONIOENCODING=utf-8 python3 generate_line_box.py -i \"data/bnk-ground-truth/18.tif\" -t \"data/bnk-ground-truth/18.gt.txt\" > \"data/bnk-ground-truth/18.box\"\n",
            "+ tesseract data/bnk-ground-truth/18.tif data/bnk-ground-truth/18 --psm 13 lstm.train\n",
            "Tesseract Open Source OCR Engine v4.0.0-beta.1 with Leptonica\n",
            "Page 1\n",
            "PYTHONIOENCODING=utf-8 python3 generate_line_box.py -i \"data/bnk-ground-truth/19.tif\" -t \"data/bnk-ground-truth/19.gt.txt\" > \"data/bnk-ground-truth/19.box\"\n",
            "+ tesseract data/bnk-ground-truth/19.tif data/bnk-ground-truth/19 --psm 13 lstm.train\n",
            "Tesseract Open Source OCR Engine v4.0.0-beta.1 with Leptonica\n",
            "Page 1\n",
            "PYTHONIOENCODING=utf-8 python3 generate_line_box.py -i \"data/bnk-ground-truth/20.tif\" -t \"data/bnk-ground-truth/20.gt.txt\" > \"data/bnk-ground-truth/20.box\"\n",
            "+ tesseract data/bnk-ground-truth/20.tif data/bnk-ground-truth/20 --psm 13 lstm.train\n",
            "Tesseract Open Source OCR Engine v4.0.0-beta.1 with Leptonica\n",
            "Page 1\n",
            "PYTHONIOENCODING=utf-8 python3 generate_line_box.py -i \"data/bnk-ground-truth/21.tif\" -t \"data/bnk-ground-truth/21.gt.txt\" > \"data/bnk-ground-truth/21.box\"\n",
            "+ tesseract data/bnk-ground-truth/21.tif data/bnk-ground-truth/21 --psm 13 lstm.train\n",
            "Tesseract Open Source OCR Engine v4.0.0-beta.1 with Leptonica\n",
            "Page 1\n",
            "PYTHONIOENCODING=utf-8 python3 generate_line_box.py -i \"data/bnk-ground-truth/22.tif\" -t \"data/bnk-ground-truth/22.gt.txt\" > \"data/bnk-ground-truth/22.box\"\n",
            "+ tesseract data/bnk-ground-truth/22.tif data/bnk-ground-truth/22 --psm 13 lstm.train\n",
            "Tesseract Open Source OCR Engine v4.0.0-beta.1 with Leptonica\n",
            "Page 1\n",
            "PYTHONIOENCODING=utf-8 python3 generate_line_box.py -i \"data/bnk-ground-truth/23.tif\" -t \"data/bnk-ground-truth/23.gt.txt\" > \"data/bnk-ground-truth/23.box\"\n",
            "+ tesseract data/bnk-ground-truth/23.tif data/bnk-ground-truth/23 --psm 13 lstm.train\n",
            "Tesseract Open Source OCR Engine v4.0.0-beta.1 with Leptonica\n",
            "Page 1\n",
            "PYTHONIOENCODING=utf-8 python3 generate_line_box.py -i \"data/bnk-ground-truth/24.tif\" -t \"data/bnk-ground-truth/24.gt.txt\" > \"data/bnk-ground-truth/24.box\"\n",
            "+ tesseract data/bnk-ground-truth/24.tif data/bnk-ground-truth/24 --psm 13 lstm.train\n",
            "Tesseract Open Source OCR Engine v4.0.0-beta.1 with Leptonica\n",
            "Page 1\n",
            "PYTHONIOENCODING=utf-8 python3 generate_line_box.py -i \"data/bnk-ground-truth/25.tif\" -t \"data/bnk-ground-truth/25.gt.txt\" > \"data/bnk-ground-truth/25.box\"\n",
            "+ tesseract data/bnk-ground-truth/25.tif data/bnk-ground-truth/25 --psm 13 lstm.train\n",
            "Tesseract Open Source OCR Engine v4.0.0-beta.1 with Leptonica\n",
            "Page 1\n",
            "PYTHONIOENCODING=utf-8 python3 generate_line_box.py -i \"data/bnk-ground-truth/26.tif\" -t \"data/bnk-ground-truth/26.gt.txt\" > \"data/bnk-ground-truth/26.box\"\n",
            "+ tesseract data/bnk-ground-truth/26.tif data/bnk-ground-truth/26 --psm 13 lstm.train\n",
            "Tesseract Open Source OCR Engine v4.0.0-beta.1 with Leptonica\n",
            "Page 1\n",
            "PYTHONIOENCODING=utf-8 python3 generate_line_box.py -i \"data/bnk-ground-truth/27.tif\" -t \"data/bnk-ground-truth/27.gt.txt\" > \"data/bnk-ground-truth/27.box\"\n",
            "+ tesseract data/bnk-ground-truth/27.tif data/bnk-ground-truth/27 --psm 13 lstm.train\n",
            "Tesseract Open Source OCR Engine v4.0.0-beta.1 with Leptonica\n",
            "Page 1\n",
            "PYTHONIOENCODING=utf-8 python3 generate_line_box.py -i \"data/bnk-ground-truth/28.tif\" -t \"data/bnk-ground-truth/28.gt.txt\" > \"data/bnk-ground-truth/28.box\"\n",
            "+ tesseract data/bnk-ground-truth/28.tif data/bnk-ground-truth/28 --psm 13 lstm.train\n",
            "Tesseract Open Source OCR Engine v4.0.0-beta.1 with Leptonica\n",
            "Page 1\n",
            "PYTHONIOENCODING=utf-8 python3 generate_line_box.py -i \"data/bnk-ground-truth/29.tif\" -t \"data/bnk-ground-truth/29.gt.txt\" > \"data/bnk-ground-truth/29.box\"\n",
            "+ tesseract data/bnk-ground-truth/29.tif data/bnk-ground-truth/29 --psm 13 lstm.train\n",
            "Tesseract Open Source OCR Engine v4.0.0-beta.1 with Leptonica\n",
            "Page 1\n",
            "PYTHONIOENCODING=utf-8 python3 generate_line_box.py -i \"data/bnk-ground-truth/30.tif\" -t \"data/bnk-ground-truth/30.gt.txt\" > \"data/bnk-ground-truth/30.box\"\n",
            "+ tesseract data/bnk-ground-truth/30.tif data/bnk-ground-truth/30 --psm 13 lstm.train\n",
            "Tesseract Open Source OCR Engine v4.0.0-beta.1 with Leptonica\n",
            "Page 1\n",
            "PYTHONIOENCODING=utf-8 python3 generate_line_box.py -i \"data/bnk-ground-truth/31.tif\" -t \"data/bnk-ground-truth/31.gt.txt\" > \"data/bnk-ground-truth/31.box\"\n",
            "+ tesseract data/bnk-ground-truth/31.tif data/bnk-ground-truth/31 --psm 13 lstm.train\n",
            "Tesseract Open Source OCR Engine v4.0.0-beta.1 with Leptonica\n",
            "Page 1\n",
            "PYTHONIOENCODING=utf-8 python3 generate_line_box.py -i \"data/bnk-ground-truth/32.tif\" -t \"data/bnk-ground-truth/32.gt.txt\" > \"data/bnk-ground-truth/32.box\"\n",
            "+ tesseract data/bnk-ground-truth/32.tif data/bnk-ground-truth/32 --psm 13 lstm.train\n",
            "Tesseract Open Source OCR Engine v4.0.0-beta.1 with Leptonica\n",
            "Page 1\n",
            "PYTHONIOENCODING=utf-8 python3 generate_line_box.py -i \"data/bnk-ground-truth/33.tif\" -t \"data/bnk-ground-truth/33.gt.txt\" > \"data/bnk-ground-truth/33.box\"\n",
            "+ tesseract data/bnk-ground-truth/33.tif data/bnk-ground-truth/33 --psm 13 lstm.train\n",
            "Tesseract Open Source OCR Engine v4.0.0-beta.1 with Leptonica\n",
            "Page 1\n",
            "PYTHONIOENCODING=utf-8 python3 generate_line_box.py -i \"data/bnk-ground-truth/34.tif\" -t \"data/bnk-ground-truth/34.gt.txt\" > \"data/bnk-ground-truth/34.box\"\n",
            "+ tesseract data/bnk-ground-truth/34.tif data/bnk-ground-truth/34 --psm 13 lstm.train\n",
            "Tesseract Open Source OCR Engine v4.0.0-beta.1 with Leptonica\n",
            "Page 1\n",
            "PYTHONIOENCODING=utf-8 python3 generate_line_box.py -i \"data/bnk-ground-truth/35.tif\" -t \"data/bnk-ground-truth/35.gt.txt\" > \"data/bnk-ground-truth/35.box\"\n",
            "+ tesseract data/bnk-ground-truth/35.tif data/bnk-ground-truth/35 --psm 13 lstm.train\n",
            "Tesseract Open Source OCR Engine v4.0.0-beta.1 with Leptonica\n",
            "Page 1\n",
            "PYTHONIOENCODING=utf-8 python3 generate_line_box.py -i \"data/bnk-ground-truth/36.tif\" -t \"data/bnk-ground-truth/36.gt.txt\" > \"data/bnk-ground-truth/36.box\"\n",
            "+ tesseract data/bnk-ground-truth/36.tif data/bnk-ground-truth/36 --psm 13 lstm.train\n",
            "Tesseract Open Source OCR Engine v4.0.0-beta.1 with Leptonica\n",
            "Page 1\n",
            "PYTHONIOENCODING=utf-8 python3 generate_line_box.py -i \"data/bnk-ground-truth/37.tif\" -t \"data/bnk-ground-truth/37.gt.txt\" > \"data/bnk-ground-truth/37.box\"\n",
            "+ tesseract data/bnk-ground-truth/37.tif data/bnk-ground-truth/37 --psm 13 lstm.train\n",
            "Tesseract Open Source OCR Engine v4.0.0-beta.1 with Leptonica\n",
            "Page 1\n",
            "PYTHONIOENCODING=utf-8 python3 generate_line_box.py -i \"data/bnk-ground-truth/38.tif\" -t \"data/bnk-ground-truth/38.gt.txt\" > \"data/bnk-ground-truth/38.box\"\n",
            "+ tesseract data/bnk-ground-truth/38.tif data/bnk-ground-truth/38 --psm 13 lstm.train\n",
            "Tesseract Open Source OCR Engine v4.0.0-beta.1 with Leptonica\n",
            "Page 1\n",
            "PYTHONIOENCODING=utf-8 python3 generate_line_box.py -i \"data/bnk-ground-truth/39.tif\" -t \"data/bnk-ground-truth/39.gt.txt\" > \"data/bnk-ground-truth/39.box\"\n",
            "+ tesseract data/bnk-ground-truth/39.tif data/bnk-ground-truth/39 --psm 13 lstm.train\n",
            "Tesseract Open Source OCR Engine v4.0.0-beta.1 with Leptonica\n",
            "Page 1\n",
            "PYTHONIOENCODING=utf-8 python3 generate_line_box.py -i \"data/bnk-ground-truth/40.tif\" -t \"data/bnk-ground-truth/40.gt.txt\" > \"data/bnk-ground-truth/40.box\"\n",
            "+ tesseract data/bnk-ground-truth/40.tif data/bnk-ground-truth/40 --psm 13 lstm.train\n",
            "Tesseract Open Source OCR Engine v4.0.0-beta.1 with Leptonica\n",
            "Page 1\n",
            "PYTHONIOENCODING=utf-8 python3 generate_line_box.py -i \"data/bnk-ground-truth/41.tif\" -t \"data/bnk-ground-truth/41.gt.txt\" > \"data/bnk-ground-truth/41.box\"\n",
            "+ tesseract data/bnk-ground-truth/41.tif data/bnk-ground-truth/41 --psm 13 lstm.train\n",
            "Tesseract Open Source OCR Engine v4.0.0-beta.1 with Leptonica\n",
            "Page 1\n",
            "PYTHONIOENCODING=utf-8 python3 generate_line_box.py -i \"data/bnk-ground-truth/42.tif\" -t \"data/bnk-ground-truth/42.gt.txt\" > \"data/bnk-ground-truth/42.box\"\n",
            "+ tesseract data/bnk-ground-truth/42.tif data/bnk-ground-truth/42 --psm 13 lstm.train\n",
            "Tesseract Open Source OCR Engine v4.0.0-beta.1 with Leptonica\n",
            "Page 1\n",
            "PYTHONIOENCODING=utf-8 python3 generate_line_box.py -i \"data/bnk-ground-truth/43.tif\" -t \"data/bnk-ground-truth/43.gt.txt\" > \"data/bnk-ground-truth/43.box\"\n",
            "+ tesseract data/bnk-ground-truth/43.tif data/bnk-ground-truth/43 --psm 13 lstm.train\n",
            "Tesseract Open Source OCR Engine v4.0.0-beta.1 with Leptonica\n",
            "Page 1\n",
            "PYTHONIOENCODING=utf-8 python3 generate_line_box.py -i \"data/bnk-ground-truth/44.tif\" -t \"data/bnk-ground-truth/44.gt.txt\" > \"data/bnk-ground-truth/44.box\"\n",
            "+ tesseract data/bnk-ground-truth/44.tif data/bnk-ground-truth/44 --psm 13 lstm.train\n",
            "Tesseract Open Source OCR Engine v4.0.0-beta.1 with Leptonica\n",
            "Page 1\n",
            "PYTHONIOENCODING=utf-8 python3 generate_line_box.py -i \"data/bnk-ground-truth/45.tif\" -t \"data/bnk-ground-truth/45.gt.txt\" > \"data/bnk-ground-truth/45.box\"\n",
            "+ tesseract data/bnk-ground-truth/45.tif data/bnk-ground-truth/45 --psm 13 lstm.train\n",
            "Tesseract Open Source OCR Engine v4.0.0-beta.1 with Leptonica\n",
            "Page 1\n",
            "PYTHONIOENCODING=utf-8 python3 generate_line_box.py -i \"data/bnk-ground-truth/46.tif\" -t \"data/bnk-ground-truth/46.gt.txt\" > \"data/bnk-ground-truth/46.box\"\n",
            "+ tesseract data/bnk-ground-truth/46.tif data/bnk-ground-truth/46 --psm 13 lstm.train\n",
            "Tesseract Open Source OCR Engine v4.0.0-beta.1 with Leptonica\n",
            "Page 1\n",
            "PYTHONIOENCODING=utf-8 python3 generate_line_box.py -i \"data/bnk-ground-truth/47.tif\" -t \"data/bnk-ground-truth/47.gt.txt\" > \"data/bnk-ground-truth/47.box\"\n",
            "+ tesseract data/bnk-ground-truth/47.tif data/bnk-ground-truth/47 --psm 13 lstm.train\n",
            "Tesseract Open Source OCR Engine v4.0.0-beta.1 with Leptonica\n",
            "Page 1\n",
            "PYTHONIOENCODING=utf-8 python3 generate_line_box.py -i \"data/bnk-ground-truth/48.tif\" -t \"data/bnk-ground-truth/48.gt.txt\" > \"data/bnk-ground-truth/48.box\"\n",
            "+ tesseract data/bnk-ground-truth/48.tif data/bnk-ground-truth/48 --psm 13 lstm.train\n",
            "Tesseract Open Source OCR Engine v4.0.0-beta.1 with Leptonica\n",
            "Page 1\n",
            "PYTHONIOENCODING=utf-8 python3 generate_line_box.py -i \"data/bnk-ground-truth/49.tif\" -t \"data/bnk-ground-truth/49.gt.txt\" > \"data/bnk-ground-truth/49.box\"\n",
            "+ tesseract data/bnk-ground-truth/49.tif data/bnk-ground-truth/49 --psm 13 lstm.train\n",
            "Tesseract Open Source OCR Engine v4.0.0-beta.1 with Leptonica\n",
            "Page 1\n",
            "PYTHONIOENCODING=utf-8 python3 generate_line_box.py -i \"data/bnk-ground-truth/50.tif\" -t \"data/bnk-ground-truth/50.gt.txt\" > \"data/bnk-ground-truth/50.box\"\n",
            "+ tesseract data/bnk-ground-truth/50.tif data/bnk-ground-truth/50 --psm 13 lstm.train\n",
            "Tesseract Open Source OCR Engine v4.0.0-beta.1 with Leptonica\n",
            "Page 1\n",
            "PYTHONIOENCODING=utf-8 python3 generate_line_box.py -i \"data/bnk-ground-truth/51.tif\" -t \"data/bnk-ground-truth/51.gt.txt\" > \"data/bnk-ground-truth/51.box\"\n",
            "+ tesseract data/bnk-ground-truth/51.tif data/bnk-ground-truth/51 --psm 13 lstm.train\n",
            "Tesseract Open Source OCR Engine v4.0.0-beta.1 with Leptonica\n",
            "Page 1\n",
            "PYTHONIOENCODING=utf-8 python3 generate_line_box.py -i \"data/bnk-ground-truth/52.tif\" -t \"data/bnk-ground-truth/52.gt.txt\" > \"data/bnk-ground-truth/52.box\"\n",
            "+ tesseract data/bnk-ground-truth/52.tif data/bnk-ground-truth/52 --psm 13 lstm.train\n",
            "Tesseract Open Source OCR Engine v4.0.0-beta.1 with Leptonica\n",
            "Page 1\n",
            "PYTHONIOENCODING=utf-8 python3 generate_line_box.py -i \"data/bnk-ground-truth/53.tif\" -t \"data/bnk-ground-truth/53.gt.txt\" > \"data/bnk-ground-truth/53.box\"\n",
            "+ tesseract data/bnk-ground-truth/53.tif data/bnk-ground-truth/53 --psm 13 lstm.train\n",
            "Tesseract Open Source OCR Engine v4.0.0-beta.1 with Leptonica\n",
            "Page 1\n",
            "PYTHONIOENCODING=utf-8 python3 generate_line_box.py -i \"data/bnk-ground-truth/54.tif\" -t \"data/bnk-ground-truth/54.gt.txt\" > \"data/bnk-ground-truth/54.box\"\n",
            "+ tesseract data/bnk-ground-truth/54.tif data/bnk-ground-truth/54 --psm 13 lstm.train\n",
            "Tesseract Open Source OCR Engine v4.0.0-beta.1 with Leptonica\n",
            "Page 1\n",
            "PYTHONIOENCODING=utf-8 python3 generate_line_box.py -i \"data/bnk-ground-truth/55.tif\" -t \"data/bnk-ground-truth/55.gt.txt\" > \"data/bnk-ground-truth/55.box\"\n",
            "+ tesseract data/bnk-ground-truth/55.tif data/bnk-ground-truth/55 --psm 13 lstm.train\n",
            "Tesseract Open Source OCR Engine v4.0.0-beta.1 with Leptonica\n",
            "Page 1\n",
            "PYTHONIOENCODING=utf-8 python3 generate_line_box.py -i \"data/bnk-ground-truth/56.tif\" -t \"data/bnk-ground-truth/56.gt.txt\" > \"data/bnk-ground-truth/56.box\"\n",
            "+ tesseract data/bnk-ground-truth/56.tif data/bnk-ground-truth/56 --psm 13 lstm.train\n",
            "Tesseract Open Source OCR Engine v4.0.0-beta.1 with Leptonica\n",
            "Page 1\n",
            "PYTHONIOENCODING=utf-8 python3 generate_line_box.py -i \"data/bnk-ground-truth/57.tif\" -t \"data/bnk-ground-truth/57.gt.txt\" > \"data/bnk-ground-truth/57.box\"\n",
            "+ tesseract data/bnk-ground-truth/57.tif data/bnk-ground-truth/57 --psm 13 lstm.train\n",
            "Tesseract Open Source OCR Engine v4.0.0-beta.1 with Leptonica\n",
            "Page 1\n",
            "PYTHONIOENCODING=utf-8 python3 generate_line_box.py -i \"data/bnk-ground-truth/58.tif\" -t \"data/bnk-ground-truth/58.gt.txt\" > \"data/bnk-ground-truth/58.box\"\n",
            "+ tesseract data/bnk-ground-truth/58.tif data/bnk-ground-truth/58 --psm 13 lstm.train\n",
            "Tesseract Open Source OCR Engine v4.0.0-beta.1 with Leptonica\n",
            "Page 1\n",
            "PYTHONIOENCODING=utf-8 python3 generate_line_box.py -i \"data/bnk-ground-truth/59.tif\" -t \"data/bnk-ground-truth/59.gt.txt\" > \"data/bnk-ground-truth/59.box\"\n",
            "+ tesseract data/bnk-ground-truth/59.tif data/bnk-ground-truth/59 --psm 13 lstm.train\n",
            "Tesseract Open Source OCR Engine v4.0.0-beta.1 with Leptonica\n",
            "Page 1\n",
            "PYTHONIOENCODING=utf-8 python3 generate_line_box.py -i \"data/bnk-ground-truth/60.tif\" -t \"data/bnk-ground-truth/60.gt.txt\" > \"data/bnk-ground-truth/60.box\"\n",
            "+ tesseract data/bnk-ground-truth/60.tif data/bnk-ground-truth/60 --psm 13 lstm.train\n",
            "Tesseract Open Source OCR Engine v4.0.0-beta.1 with Leptonica\n",
            "Page 1\n",
            "PYTHONIOENCODING=utf-8 python3 generate_line_box.py -i \"data/bnk-ground-truth/61.tif\" -t \"data/bnk-ground-truth/61.gt.txt\" > \"data/bnk-ground-truth/61.box\"\n",
            "+ tesseract data/bnk-ground-truth/61.tif data/bnk-ground-truth/61 --psm 13 lstm.train\n",
            "Tesseract Open Source OCR Engine v4.0.0-beta.1 with Leptonica\n",
            "Page 1\n",
            "PYTHONIOENCODING=utf-8 python3 generate_line_box.py -i \"data/bnk-ground-truth/62.tif\" -t \"data/bnk-ground-truth/62.gt.txt\" > \"data/bnk-ground-truth/62.box\"\n",
            "+ tesseract data/bnk-ground-truth/62.tif data/bnk-ground-truth/62 --psm 13 lstm.train\n",
            "Tesseract Open Source OCR Engine v4.0.0-beta.1 with Leptonica\n",
            "Page 1\n",
            "PYTHONIOENCODING=utf-8 python3 generate_line_box.py -i \"data/bnk-ground-truth/63.tif\" -t \"data/bnk-ground-truth/63.gt.txt\" > \"data/bnk-ground-truth/63.box\"\n",
            "+ tesseract data/bnk-ground-truth/63.tif data/bnk-ground-truth/63 --psm 13 lstm.train\n",
            "Tesseract Open Source OCR Engine v4.0.0-beta.1 with Leptonica\n",
            "Page 1\n",
            "PYTHONIOENCODING=utf-8 python3 generate_line_box.py -i \"data/bnk-ground-truth/64.tif\" -t \"data/bnk-ground-truth/64.gt.txt\" > \"data/bnk-ground-truth/64.box\"\n",
            "+ tesseract data/bnk-ground-truth/64.tif data/bnk-ground-truth/64 --psm 13 lstm.train\n",
            "Tesseract Open Source OCR Engine v4.0.0-beta.1 with Leptonica\n",
            "Page 1\n",
            "PYTHONIOENCODING=utf-8 python3 generate_line_box.py -i \"data/bnk-ground-truth/65.tif\" -t \"data/bnk-ground-truth/65.gt.txt\" > \"data/bnk-ground-truth/65.box\"\n",
            "+ tesseract data/bnk-ground-truth/65.tif data/bnk-ground-truth/65 --psm 13 lstm.train\n",
            "Tesseract Open Source OCR Engine v4.0.0-beta.1 with Leptonica\n",
            "Page 1\n",
            "PYTHONIOENCODING=utf-8 python3 generate_line_box.py -i \"data/bnk-ground-truth/66.tif\" -t \"data/bnk-ground-truth/66.gt.txt\" > \"data/bnk-ground-truth/66.box\"\n",
            "+ tesseract data/bnk-ground-truth/66.tif data/bnk-ground-truth/66 --psm 13 lstm.train\n",
            "Tesseract Open Source OCR Engine v4.0.0-beta.1 with Leptonica\n",
            "Page 1\n",
            "PYTHONIOENCODING=utf-8 python3 generate_line_box.py -i \"data/bnk-ground-truth/67.tif\" -t \"data/bnk-ground-truth/67.gt.txt\" > \"data/bnk-ground-truth/67.box\"\n",
            "+ tesseract data/bnk-ground-truth/67.tif data/bnk-ground-truth/67 --psm 13 lstm.train\n",
            "Tesseract Open Source OCR Engine v4.0.0-beta.1 with Leptonica\n",
            "Page 1\n",
            "PYTHONIOENCODING=utf-8 python3 generate_line_box.py -i \"data/bnk-ground-truth/68.tif\" -t \"data/bnk-ground-truth/68.gt.txt\" > \"data/bnk-ground-truth/68.box\"\n",
            "+ tesseract data/bnk-ground-truth/68.tif data/bnk-ground-truth/68 --psm 13 lstm.train\n",
            "Tesseract Open Source OCR Engine v4.0.0-beta.1 with Leptonica\n",
            "Page 1\n",
            "PYTHONIOENCODING=utf-8 python3 generate_line_box.py -i \"data/bnk-ground-truth/69.tif\" -t \"data/bnk-ground-truth/69.gt.txt\" > \"data/bnk-ground-truth/69.box\"\n",
            "+ tesseract data/bnk-ground-truth/69.tif data/bnk-ground-truth/69 --psm 13 lstm.train\n",
            "Tesseract Open Source OCR Engine v4.0.0-beta.1 with Leptonica\n",
            "Page 1\n",
            "PYTHONIOENCODING=utf-8 python3 generate_line_box.py -i \"data/bnk-ground-truth/70.tif\" -t \"data/bnk-ground-truth/70.gt.txt\" > \"data/bnk-ground-truth/70.box\"\n",
            "+ tesseract data/bnk-ground-truth/70.tif data/bnk-ground-truth/70 --psm 13 lstm.train\n",
            "Tesseract Open Source OCR Engine v4.0.0-beta.1 with Leptonica\n",
            "Page 1\n",
            "PYTHONIOENCODING=utf-8 python3 generate_line_box.py -i \"data/bnk-ground-truth/71.tif\" -t \"data/bnk-ground-truth/71.gt.txt\" > \"data/bnk-ground-truth/71.box\"\n",
            "+ tesseract data/bnk-ground-truth/71.tif data/bnk-ground-truth/71 --psm 13 lstm.train\n",
            "Tesseract Open Source OCR Engine v4.0.0-beta.1 with Leptonica\n",
            "Page 1\n",
            "PYTHONIOENCODING=utf-8 python3 generate_line_box.py -i \"data/bnk-ground-truth/72.tif\" -t \"data/bnk-ground-truth/72.gt.txt\" > \"data/bnk-ground-truth/72.box\"\n",
            "+ tesseract data/bnk-ground-truth/72.tif data/bnk-ground-truth/72 --psm 13 lstm.train\n",
            "Tesseract Open Source OCR Engine v4.0.0-beta.1 with Leptonica\n",
            "Page 1\n",
            "PYTHONIOENCODING=utf-8 python3 generate_line_box.py -i \"data/bnk-ground-truth/73.tif\" -t \"data/bnk-ground-truth/73.gt.txt\" > \"data/bnk-ground-truth/73.box\"\n",
            "+ tesseract data/bnk-ground-truth/73.tif data/bnk-ground-truth/73 --psm 13 lstm.train\n",
            "Tesseract Open Source OCR Engine v4.0.0-beta.1 with Leptonica\n",
            "Page 1\n",
            "PYTHONIOENCODING=utf-8 python3 generate_line_box.py -i \"data/bnk-ground-truth/74.tif\" -t \"data/bnk-ground-truth/74.gt.txt\" > \"data/bnk-ground-truth/74.box\"\n",
            "+ tesseract data/bnk-ground-truth/74.tif data/bnk-ground-truth/74 --psm 13 lstm.train\n",
            "Tesseract Open Source OCR Engine v4.0.0-beta.1 with Leptonica\n",
            "Page 1\n",
            "PYTHONIOENCODING=utf-8 python3 generate_line_box.py -i \"data/bnk-ground-truth/75.tif\" -t \"data/bnk-ground-truth/75.gt.txt\" > \"data/bnk-ground-truth/75.box\"\n",
            "+ tesseract data/bnk-ground-truth/75.tif data/bnk-ground-truth/75 --psm 13 lstm.train\n",
            "Tesseract Open Source OCR Engine v4.0.0-beta.1 with Leptonica\n",
            "Page 1\n",
            "PYTHONIOENCODING=utf-8 python3 generate_line_box.py -i \"data/bnk-ground-truth/76.tif\" -t \"data/bnk-ground-truth/76.gt.txt\" > \"data/bnk-ground-truth/76.box\"\n",
            "+ tesseract data/bnk-ground-truth/76.tif data/bnk-ground-truth/76 --psm 13 lstm.train\n",
            "Tesseract Open Source OCR Engine v4.0.0-beta.1 with Leptonica\n",
            "Page 1\n",
            "PYTHONIOENCODING=utf-8 python3 generate_line_box.py -i \"data/bnk-ground-truth/77.tif\" -t \"data/bnk-ground-truth/77.gt.txt\" > \"data/bnk-ground-truth/77.box\"\n",
            "+ tesseract data/bnk-ground-truth/77.tif data/bnk-ground-truth/77 --psm 13 lstm.train\n",
            "Tesseract Open Source OCR Engine v4.0.0-beta.1 with Leptonica\n",
            "Page 1\n",
            "PYTHONIOENCODING=utf-8 python3 generate_line_box.py -i \"data/bnk-ground-truth/78.tif\" -t \"data/bnk-ground-truth/78.gt.txt\" > \"data/bnk-ground-truth/78.box\"\n",
            "+ tesseract data/bnk-ground-truth/78.tif data/bnk-ground-truth/78 --psm 13 lstm.train\n",
            "Tesseract Open Source OCR Engine v4.0.0-beta.1 with Leptonica\n",
            "Page 1\n",
            "PYTHONIOENCODING=utf-8 python3 generate_line_box.py -i \"data/bnk-ground-truth/79.tif\" -t \"data/bnk-ground-truth/79.gt.txt\" > \"data/bnk-ground-truth/79.box\"\n",
            "+ tesseract data/bnk-ground-truth/79.tif data/bnk-ground-truth/79 --psm 13 lstm.train\n",
            "Tesseract Open Source OCR Engine v4.0.0-beta.1 with Leptonica\n",
            "Page 1\n",
            "PYTHONIOENCODING=utf-8 python3 generate_line_box.py -i \"data/bnk-ground-truth/80.tif\" -t \"data/bnk-ground-truth/80.gt.txt\" > \"data/bnk-ground-truth/80.box\"\n",
            "+ tesseract data/bnk-ground-truth/80.tif data/bnk-ground-truth/80 --psm 13 lstm.train\n",
            "Tesseract Open Source OCR Engine v4.0.0-beta.1 with Leptonica\n",
            "Page 1\n",
            "PYTHONIOENCODING=utf-8 python3 generate_line_box.py -i \"data/bnk-ground-truth/81.tif\" -t \"data/bnk-ground-truth/81.gt.txt\" > \"data/bnk-ground-truth/81.box\"\n",
            "+ tesseract data/bnk-ground-truth/81.tif data/bnk-ground-truth/81 --psm 13 lstm.train\n",
            "Tesseract Open Source OCR Engine v4.0.0-beta.1 with Leptonica\n",
            "Page 1\n",
            "PYTHONIOENCODING=utf-8 python3 generate_line_box.py -i \"data/bnk-ground-truth/82.tif\" -t \"data/bnk-ground-truth/82.gt.txt\" > \"data/bnk-ground-truth/82.box\"\n",
            "+ tesseract data/bnk-ground-truth/82.tif data/bnk-ground-truth/82 --psm 13 lstm.train\n",
            "Tesseract Open Source OCR Engine v4.0.0-beta.1 with Leptonica\n",
            "Page 1\n",
            "PYTHONIOENCODING=utf-8 python3 generate_line_box.py -i \"data/bnk-ground-truth/83.tif\" -t \"data/bnk-ground-truth/83.gt.txt\" > \"data/bnk-ground-truth/83.box\"\n",
            "+ tesseract data/bnk-ground-truth/83.tif data/bnk-ground-truth/83 --psm 13 lstm.train\n",
            "Tesseract Open Source OCR Engine v4.0.0-beta.1 with Leptonica\n",
            "Page 1\n",
            "PYTHONIOENCODING=utf-8 python3 generate_line_box.py -i \"data/bnk-ground-truth/84.tif\" -t \"data/bnk-ground-truth/84.gt.txt\" > \"data/bnk-ground-truth/84.box\"\n",
            "+ tesseract data/bnk-ground-truth/84.tif data/bnk-ground-truth/84 --psm 13 lstm.train\n",
            "Tesseract Open Source OCR Engine v4.0.0-beta.1 with Leptonica\n",
            "Page 1\n",
            "PYTHONIOENCODING=utf-8 python3 generate_line_box.py -i \"data/bnk-ground-truth/85.tif\" -t \"data/bnk-ground-truth/85.gt.txt\" > \"data/bnk-ground-truth/85.box\"\n",
            "+ tesseract data/bnk-ground-truth/85.tif data/bnk-ground-truth/85 --psm 13 lstm.train\n",
            "Tesseract Open Source OCR Engine v4.0.0-beta.1 with Leptonica\n",
            "Page 1\n",
            "PYTHONIOENCODING=utf-8 python3 generate_line_box.py -i \"data/bnk-ground-truth/86.tif\" -t \"data/bnk-ground-truth/86.gt.txt\" > \"data/bnk-ground-truth/86.box\"\n",
            "+ tesseract data/bnk-ground-truth/86.tif data/bnk-ground-truth/86 --psm 13 lstm.train\n",
            "Tesseract Open Source OCR Engine v4.0.0-beta.1 with Leptonica\n",
            "Page 1\n",
            "PYTHONIOENCODING=utf-8 python3 generate_line_box.py -i \"data/bnk-ground-truth/87.tif\" -t \"data/bnk-ground-truth/87.gt.txt\" > \"data/bnk-ground-truth/87.box\"\n",
            "+ tesseract data/bnk-ground-truth/87.tif data/bnk-ground-truth/87 --psm 13 lstm.train\n",
            "Tesseract Open Source OCR Engine v4.0.0-beta.1 with Leptonica\n",
            "Page 1\n",
            "PYTHONIOENCODING=utf-8 python3 generate_line_box.py -i \"data/bnk-ground-truth/88.tif\" -t \"data/bnk-ground-truth/88.gt.txt\" > \"data/bnk-ground-truth/88.box\"\n",
            "+ tesseract data/bnk-ground-truth/88.tif data/bnk-ground-truth/88 --psm 13 lstm.train\n",
            "Tesseract Open Source OCR Engine v4.0.0-beta.1 with Leptonica\n",
            "Page 1\n",
            "PYTHONIOENCODING=utf-8 python3 generate_line_box.py -i \"data/bnk-ground-truth/89.tif\" -t \"data/bnk-ground-truth/89.gt.txt\" > \"data/bnk-ground-truth/89.box\"\n",
            "+ tesseract data/bnk-ground-truth/89.tif data/bnk-ground-truth/89 --psm 13 lstm.train\n",
            "Tesseract Open Source OCR Engine v4.0.0-beta.1 with Leptonica\n",
            "Page 1\n",
            "PYTHONIOENCODING=utf-8 python3 generate_line_box.py -i \"data/bnk-ground-truth/90.tif\" -t \"data/bnk-ground-truth/90.gt.txt\" > \"data/bnk-ground-truth/90.box\"\n",
            "+ tesseract data/bnk-ground-truth/90.tif data/bnk-ground-truth/90 --psm 13 lstm.train\n",
            "Tesseract Open Source OCR Engine v4.0.0-beta.1 with Leptonica\n",
            "Page 1\n",
            "PYTHONIOENCODING=utf-8 python3 generate_line_box.py -i \"data/bnk-ground-truth/91.tif\" -t \"data/bnk-ground-truth/91.gt.txt\" > \"data/bnk-ground-truth/91.box\"\n",
            "+ tesseract data/bnk-ground-truth/91.tif data/bnk-ground-truth/91 --psm 13 lstm.train\n",
            "Tesseract Open Source OCR Engine v4.0.0-beta.1 with Leptonica\n",
            "Page 1\n",
            "PYTHONIOENCODING=utf-8 python3 generate_line_box.py -i \"data/bnk-ground-truth/92.tif\" -t \"data/bnk-ground-truth/92.gt.txt\" > \"data/bnk-ground-truth/92.box\"\n",
            "+ tesseract data/bnk-ground-truth/92.tif data/bnk-ground-truth/92 --psm 13 lstm.train\n",
            "Tesseract Open Source OCR Engine v4.0.0-beta.1 with Leptonica\n",
            "Page 1\n",
            "PYTHONIOENCODING=utf-8 python3 generate_line_box.py -i \"data/bnk-ground-truth/93.tif\" -t \"data/bnk-ground-truth/93.gt.txt\" > \"data/bnk-ground-truth/93.box\"\n",
            "+ tesseract data/bnk-ground-truth/93.tif data/bnk-ground-truth/93 --psm 13 lstm.train\n",
            "Tesseract Open Source OCR Engine v4.0.0-beta.1 with Leptonica\n",
            "Page 1\n",
            "PYTHONIOENCODING=utf-8 python3 generate_line_box.py -i \"data/bnk-ground-truth/94.tif\" -t \"data/bnk-ground-truth/94.gt.txt\" > \"data/bnk-ground-truth/94.box\"\n",
            "+ tesseract data/bnk-ground-truth/94.tif data/bnk-ground-truth/94 --psm 13 lstm.train\n",
            "Tesseract Open Source OCR Engine v4.0.0-beta.1 with Leptonica\n",
            "Page 1\n",
            "PYTHONIOENCODING=utf-8 python3 generate_line_box.py -i \"data/bnk-ground-truth/95.tif\" -t \"data/bnk-ground-truth/95.gt.txt\" > \"data/bnk-ground-truth/95.box\"\n",
            "+ tesseract data/bnk-ground-truth/95.tif data/bnk-ground-truth/95 --psm 13 lstm.train\n",
            "Tesseract Open Source OCR Engine v4.0.0-beta.1 with Leptonica\n",
            "Page 1\n",
            "PYTHONIOENCODING=utf-8 python3 generate_line_box.py -i \"data/bnk-ground-truth/96.tif\" -t \"data/bnk-ground-truth/96.gt.txt\" > \"data/bnk-ground-truth/96.box\"\n",
            "+ tesseract data/bnk-ground-truth/96.tif data/bnk-ground-truth/96 --psm 13 lstm.train\n",
            "Tesseract Open Source OCR Engine v4.0.0-beta.1 with Leptonica\n",
            "Page 1\n",
            "PYTHONIOENCODING=utf-8 python3 generate_line_box.py -i \"data/bnk-ground-truth/97.tif\" -t \"data/bnk-ground-truth/97.gt.txt\" > \"data/bnk-ground-truth/97.box\"\n",
            "+ tesseract data/bnk-ground-truth/97.tif data/bnk-ground-truth/97 --psm 13 lstm.train\n",
            "Tesseract Open Source OCR Engine v4.0.0-beta.1 with Leptonica\n",
            "Page 1\n",
            "PYTHONIOENCODING=utf-8 python3 generate_line_box.py -i \"data/bnk-ground-truth/98.tif\" -t \"data/bnk-ground-truth/98.gt.txt\" > \"data/bnk-ground-truth/98.box\"\n",
            "+ tesseract data/bnk-ground-truth/98.tif data/bnk-ground-truth/98 --psm 13 lstm.train\n",
            "Tesseract Open Source OCR Engine v4.0.0-beta.1 with Leptonica\n",
            "Page 1\n",
            "PYTHONIOENCODING=utf-8 python3 generate_line_box.py -i \"data/bnk-ground-truth/99.tif\" -t \"data/bnk-ground-truth/99.gt.txt\" > \"data/bnk-ground-truth/99.box\"\n",
            "+ tesseract data/bnk-ground-truth/99.tif data/bnk-ground-truth/99 --psm 13 lstm.train\n",
            "Tesseract Open Source OCR Engine v4.0.0-beta.1 with Leptonica\n",
            "Page 1\n",
            "PYTHONIOENCODING=utf-8 python3 generate_line_box.py -i \"data/bnk-ground-truth/100.tif\" -t \"data/bnk-ground-truth/100.gt.txt\" > \"data/bnk-ground-truth/100.box\"\n",
            "+ tesseract data/bnk-ground-truth/100.tif data/bnk-ground-truth/100 --psm 13 lstm.train\n",
            "Tesseract Open Source OCR Engine v4.0.0-beta.1 with Leptonica\n",
            "Page 1\n",
            "PYTHONIOENCODING=utf-8 python3 generate_line_box.py -i \"data/bnk-ground-truth/101.tif\" -t \"data/bnk-ground-truth/101.gt.txt\" > \"data/bnk-ground-truth/101.box\"\n",
            "+ tesseract data/bnk-ground-truth/101.tif data/bnk-ground-truth/101 --psm 13 lstm.train\n",
            "Tesseract Open Source OCR Engine v4.0.0-beta.1 with Leptonica\n",
            "Page 1\n",
            "PYTHONIOENCODING=utf-8 python3 generate_line_box.py -i \"data/bnk-ground-truth/102.tif\" -t \"data/bnk-ground-truth/102.gt.txt\" > \"data/bnk-ground-truth/102.box\"\n",
            "+ tesseract data/bnk-ground-truth/102.tif data/bnk-ground-truth/102 --psm 13 lstm.train\n",
            "Tesseract Open Source OCR Engine v4.0.0-beta.1 with Leptonica\n",
            "Page 1\n",
            "PYTHONIOENCODING=utf-8 python3 generate_line_box.py -i \"data/bnk-ground-truth/103.tif\" -t \"data/bnk-ground-truth/103.gt.txt\" > \"data/bnk-ground-truth/103.box\"\n",
            "+ tesseract data/bnk-ground-truth/103.tif data/bnk-ground-truth/103 --psm 13 lstm.train\n",
            "Tesseract Open Source OCR Engine v4.0.0-beta.1 with Leptonica\n",
            "Page 1\n",
            "PYTHONIOENCODING=utf-8 python3 generate_line_box.py -i \"data/bnk-ground-truth/104.tif\" -t \"data/bnk-ground-truth/104.gt.txt\" > \"data/bnk-ground-truth/104.box\"\n",
            "+ tesseract data/bnk-ground-truth/104.tif data/bnk-ground-truth/104 --psm 13 lstm.train\n",
            "Tesseract Open Source OCR Engine v4.0.0-beta.1 with Leptonica\n",
            "Page 1\n",
            "PYTHONIOENCODING=utf-8 python3 generate_line_box.py -i \"data/bnk-ground-truth/105.tif\" -t \"data/bnk-ground-truth/105.gt.txt\" > \"data/bnk-ground-truth/105.box\"\n",
            "+ tesseract data/bnk-ground-truth/105.tif data/bnk-ground-truth/105 --psm 13 lstm.train\n",
            "Tesseract Open Source OCR Engine v4.0.0-beta.1 with Leptonica\n",
            "Page 1\n",
            "PYTHONIOENCODING=utf-8 python3 generate_line_box.py -i \"data/bnk-ground-truth/106.tif\" -t \"data/bnk-ground-truth/106.gt.txt\" > \"data/bnk-ground-truth/106.box\"\n",
            "+ tesseract data/bnk-ground-truth/106.tif data/bnk-ground-truth/106 --psm 13 lstm.train\n",
            "Tesseract Open Source OCR Engine v4.0.0-beta.1 with Leptonica\n",
            "Page 1\n",
            "PYTHONIOENCODING=utf-8 python3 generate_line_box.py -i \"data/bnk-ground-truth/107.tif\" -t \"data/bnk-ground-truth/107.gt.txt\" > \"data/bnk-ground-truth/107.box\"\n",
            "+ tesseract data/bnk-ground-truth/107.tif data/bnk-ground-truth/107 --psm 13 lstm.train\n",
            "Tesseract Open Source OCR Engine v4.0.0-beta.1 with Leptonica\n",
            "Page 1\n",
            "PYTHONIOENCODING=utf-8 python3 generate_line_box.py -i \"data/bnk-ground-truth/108.tif\" -t \"data/bnk-ground-truth/108.gt.txt\" > \"data/bnk-ground-truth/108.box\"\n",
            "+ tesseract data/bnk-ground-truth/108.tif data/bnk-ground-truth/108 --psm 13 lstm.train\n",
            "Tesseract Open Source OCR Engine v4.0.0-beta.1 with Leptonica\n",
            "Page 1\n",
            "PYTHONIOENCODING=utf-8 python3 generate_line_box.py -i \"data/bnk-ground-truth/109.tif\" -t \"data/bnk-ground-truth/109.gt.txt\" > \"data/bnk-ground-truth/109.box\"\n",
            "+ tesseract data/bnk-ground-truth/109.tif data/bnk-ground-truth/109 --psm 13 lstm.train\n",
            "Tesseract Open Source OCR Engine v4.0.0-beta.1 with Leptonica\n",
            "Page 1\n",
            "PYTHONIOENCODING=utf-8 python3 generate_line_box.py -i \"data/bnk-ground-truth/110.tif\" -t \"data/bnk-ground-truth/110.gt.txt\" > \"data/bnk-ground-truth/110.box\"\n",
            "+ tesseract data/bnk-ground-truth/110.tif data/bnk-ground-truth/110 --psm 13 lstm.train\n",
            "Tesseract Open Source OCR Engine v4.0.0-beta.1 with Leptonica\n",
            "Page 1\n",
            "PYTHONIOENCODING=utf-8 python3 generate_line_box.py -i \"data/bnk-ground-truth/111.tif\" -t \"data/bnk-ground-truth/111.gt.txt\" > \"data/bnk-ground-truth/111.box\"\n",
            "+ tesseract data/bnk-ground-truth/111.tif data/bnk-ground-truth/111 --psm 13 lstm.train\n",
            "Tesseract Open Source OCR Engine v4.0.0-beta.1 with Leptonica\n",
            "Page 1\n",
            "PYTHONIOENCODING=utf-8 python3 generate_line_box.py -i \"data/bnk-ground-truth/112.tif\" -t \"data/bnk-ground-truth/112.gt.txt\" > \"data/bnk-ground-truth/112.box\"\n",
            "+ tesseract data/bnk-ground-truth/112.tif data/bnk-ground-truth/112 --psm 13 lstm.train\n",
            "Tesseract Open Source OCR Engine v4.0.0-beta.1 with Leptonica\n",
            "Page 1\n",
            "PYTHONIOENCODING=utf-8 python3 generate_line_box.py -i \"data/bnk-ground-truth/113.tif\" -t \"data/bnk-ground-truth/113.gt.txt\" > \"data/bnk-ground-truth/113.box\"\n",
            "+ tesseract data/bnk-ground-truth/113.tif data/bnk-ground-truth/113 --psm 13 lstm.train\n",
            "Tesseract Open Source OCR Engine v4.0.0-beta.1 with Leptonica\n",
            "Page 1\n",
            "PYTHONIOENCODING=utf-8 python3 generate_line_box.py -i \"data/bnk-ground-truth/114.tif\" -t \"data/bnk-ground-truth/114.gt.txt\" > \"data/bnk-ground-truth/114.box\"\n",
            "+ tesseract data/bnk-ground-truth/114.tif data/bnk-ground-truth/114 --psm 13 lstm.train\n",
            "Tesseract Open Source OCR Engine v4.0.0-beta.1 with Leptonica\n",
            "Page 1\n",
            "PYTHONIOENCODING=utf-8 python3 generate_line_box.py -i \"data/bnk-ground-truth/115.tif\" -t \"data/bnk-ground-truth/115.gt.txt\" > \"data/bnk-ground-truth/115.box\"\n",
            "+ tesseract data/bnk-ground-truth/115.tif data/bnk-ground-truth/115 --psm 13 lstm.train\n",
            "Tesseract Open Source OCR Engine v4.0.0-beta.1 with Leptonica\n",
            "Page 1\n",
            "PYTHONIOENCODING=utf-8 python3 generate_line_box.py -i \"data/bnk-ground-truth/116.tif\" -t \"data/bnk-ground-truth/116.gt.txt\" > \"data/bnk-ground-truth/116.box\"\n",
            "+ tesseract data/bnk-ground-truth/116.tif data/bnk-ground-truth/116 --psm 13 lstm.train\n",
            "Tesseract Open Source OCR Engine v4.0.0-beta.1 with Leptonica\n",
            "Page 1\n",
            "PYTHONIOENCODING=utf-8 python3 generate_line_box.py -i \"data/bnk-ground-truth/117.tif\" -t \"data/bnk-ground-truth/117.gt.txt\" > \"data/bnk-ground-truth/117.box\"\n",
            "+ tesseract data/bnk-ground-truth/117.tif data/bnk-ground-truth/117 --psm 13 lstm.train\n",
            "Tesseract Open Source OCR Engine v4.0.0-beta.1 with Leptonica\n",
            "Page 1\n",
            "PYTHONIOENCODING=utf-8 python3 generate_line_box.py -i \"data/bnk-ground-truth/118.tif\" -t \"data/bnk-ground-truth/118.gt.txt\" > \"data/bnk-ground-truth/118.box\"\n",
            "+ tesseract data/bnk-ground-truth/118.tif data/bnk-ground-truth/118 --psm 13 lstm.train\n",
            "Tesseract Open Source OCR Engine v4.0.0-beta.1 with Leptonica\n",
            "Page 1\n",
            "PYTHONIOENCODING=utf-8 python3 generate_line_box.py -i \"data/bnk-ground-truth/119.tif\" -t \"data/bnk-ground-truth/119.gt.txt\" > \"data/bnk-ground-truth/119.box\"\n",
            "+ tesseract data/bnk-ground-truth/119.tif data/bnk-ground-truth/119 --psm 13 lstm.train\n",
            "Tesseract Open Source OCR Engine v4.0.0-beta.1 with Leptonica\n",
            "Page 1\n",
            "PYTHONIOENCODING=utf-8 python3 generate_line_box.py -i \"data/bnk-ground-truth/120.tif\" -t \"data/bnk-ground-truth/120.gt.txt\" > \"data/bnk-ground-truth/120.box\"\n",
            "+ tesseract data/bnk-ground-truth/120.tif data/bnk-ground-truth/120 --psm 13 lstm.train\n",
            "Tesseract Open Source OCR Engine v4.0.0-beta.1 with Leptonica\n",
            "Page 1\n",
            "PYTHONIOENCODING=utf-8 python3 generate_line_box.py -i \"data/bnk-ground-truth/121.tif\" -t \"data/bnk-ground-truth/121.gt.txt\" > \"data/bnk-ground-truth/121.box\"\n",
            "+ tesseract data/bnk-ground-truth/121.tif data/bnk-ground-truth/121 --psm 13 lstm.train\n",
            "Tesseract Open Source OCR Engine v4.0.0-beta.1 with Leptonica\n",
            "Page 1\n",
            "PYTHONIOENCODING=utf-8 python3 generate_line_box.py -i \"data/bnk-ground-truth/122.tif\" -t \"data/bnk-ground-truth/122.gt.txt\" > \"data/bnk-ground-truth/122.box\"\n",
            "+ tesseract data/bnk-ground-truth/122.tif data/bnk-ground-truth/122 --psm 13 lstm.train\n",
            "Tesseract Open Source OCR Engine v4.0.0-beta.1 with Leptonica\n",
            "Page 1\n",
            "PYTHONIOENCODING=utf-8 python3 generate_line_box.py -i \"data/bnk-ground-truth/123.tif\" -t \"data/bnk-ground-truth/123.gt.txt\" > \"data/bnk-ground-truth/123.box\"\n",
            "+ tesseract data/bnk-ground-truth/123.tif data/bnk-ground-truth/123 --psm 13 lstm.train\n",
            "Tesseract Open Source OCR Engine v4.0.0-beta.1 with Leptonica\n",
            "Page 1\n",
            "PYTHONIOENCODING=utf-8 python3 generate_line_box.py -i \"data/bnk-ground-truth/124.tif\" -t \"data/bnk-ground-truth/124.gt.txt\" > \"data/bnk-ground-truth/124.box\"\n",
            "+ tesseract data/bnk-ground-truth/124.tif data/bnk-ground-truth/124 --psm 13 lstm.train\n",
            "Tesseract Open Source OCR Engine v4.0.0-beta.1 with Leptonica\n",
            "Page 1\n",
            "PYTHONIOENCODING=utf-8 python3 generate_line_box.py -i \"data/bnk-ground-truth/125.tif\" -t \"data/bnk-ground-truth/125.gt.txt\" > \"data/bnk-ground-truth/125.box\"\n",
            "+ tesseract data/bnk-ground-truth/125.tif data/bnk-ground-truth/125 --psm 13 lstm.train\n",
            "Tesseract Open Source OCR Engine v4.0.0-beta.1 with Leptonica\n",
            "Page 1\n",
            "PYTHONIOENCODING=utf-8 python3 generate_line_box.py -i \"data/bnk-ground-truth/126.tif\" -t \"data/bnk-ground-truth/126.gt.txt\" > \"data/bnk-ground-truth/126.box\"\n",
            "+ tesseract data/bnk-ground-truth/126.tif data/bnk-ground-truth/126 --psm 13 lstm.train\n",
            "Tesseract Open Source OCR Engine v4.0.0-beta.1 with Leptonica\n",
            "Page 1\n",
            "PYTHONIOENCODING=utf-8 python3 generate_line_box.py -i \"data/bnk-ground-truth/127.tif\" -t \"data/bnk-ground-truth/127.gt.txt\" > \"data/bnk-ground-truth/127.box\"\n",
            "+ tesseract data/bnk-ground-truth/127.tif data/bnk-ground-truth/127 --psm 13 lstm.train\n",
            "Tesseract Open Source OCR Engine v4.0.0-beta.1 with Leptonica\n",
            "Page 1\n",
            "PYTHONIOENCODING=utf-8 python3 generate_line_box.py -i \"data/bnk-ground-truth/128.tif\" -t \"data/bnk-ground-truth/128.gt.txt\" > \"data/bnk-ground-truth/128.box\"\n",
            "+ tesseract data/bnk-ground-truth/128.tif data/bnk-ground-truth/128 --psm 13 lstm.train\n",
            "Tesseract Open Source OCR Engine v4.0.0-beta.1 with Leptonica\n",
            "Page 1\n",
            "PYTHONIOENCODING=utf-8 python3 generate_line_box.py -i \"data/bnk-ground-truth/129.tif\" -t \"data/bnk-ground-truth/129.gt.txt\" > \"data/bnk-ground-truth/129.box\"\n",
            "+ tesseract data/bnk-ground-truth/129.tif data/bnk-ground-truth/129 --psm 13 lstm.train\n",
            "Tesseract Open Source OCR Engine v4.0.0-beta.1 with Leptonica\n",
            "Page 1\n",
            "PYTHONIOENCODING=utf-8 python3 generate_line_box.py -i \"data/bnk-ground-truth/130.tif\" -t \"data/bnk-ground-truth/130.gt.txt\" > \"data/bnk-ground-truth/130.box\"\n",
            "+ tesseract data/bnk-ground-truth/130.tif data/bnk-ground-truth/130 --psm 13 lstm.train\n",
            "Tesseract Open Source OCR Engine v4.0.0-beta.1 with Leptonica\n",
            "Page 1\n",
            "PYTHONIOENCODING=utf-8 python3 generate_line_box.py -i \"data/bnk-ground-truth/131.tif\" -t \"data/bnk-ground-truth/131.gt.txt\" > \"data/bnk-ground-truth/131.box\"\n",
            "+ tesseract data/bnk-ground-truth/131.tif data/bnk-ground-truth/131 --psm 13 lstm.train\n",
            "Tesseract Open Source OCR Engine v4.0.0-beta.1 with Leptonica\n",
            "Page 1\n",
            "PYTHONIOENCODING=utf-8 python3 generate_line_box.py -i \"data/bnk-ground-truth/132.tif\" -t \"data/bnk-ground-truth/132.gt.txt\" > \"data/bnk-ground-truth/132.box\"\n",
            "+ tesseract data/bnk-ground-truth/132.tif data/bnk-ground-truth/132 --psm 13 lstm.train\n",
            "Tesseract Open Source OCR Engine v4.0.0-beta.1 with Leptonica\n",
            "Page 1\n",
            "PYTHONIOENCODING=utf-8 python3 generate_line_box.py -i \"data/bnk-ground-truth/133.tif\" -t \"data/bnk-ground-truth/133.gt.txt\" > \"data/bnk-ground-truth/133.box\"\n",
            "+ tesseract data/bnk-ground-truth/133.tif data/bnk-ground-truth/133 --psm 13 lstm.train\n",
            "Tesseract Open Source OCR Engine v4.0.0-beta.1 with Leptonica\n",
            "Page 1\n",
            "PYTHONIOENCODING=utf-8 python3 generate_line_box.py -i \"data/bnk-ground-truth/134.tif\" -t \"data/bnk-ground-truth/134.gt.txt\" > \"data/bnk-ground-truth/134.box\"\n",
            "+ tesseract data/bnk-ground-truth/134.tif data/bnk-ground-truth/134 --psm 13 lstm.train\n",
            "Tesseract Open Source OCR Engine v4.0.0-beta.1 with Leptonica\n",
            "Page 1\n",
            "PYTHONIOENCODING=utf-8 python3 generate_line_box.py -i \"data/bnk-ground-truth/135.tif\" -t \"data/bnk-ground-truth/135.gt.txt\" > \"data/bnk-ground-truth/135.box\"\n",
            "+ tesseract data/bnk-ground-truth/135.tif data/bnk-ground-truth/135 --psm 13 lstm.train\n",
            "Tesseract Open Source OCR Engine v4.0.0-beta.1 with Leptonica\n",
            "Page 1\n",
            "PYTHONIOENCODING=utf-8 python3 generate_line_box.py -i \"data/bnk-ground-truth/136.tif\" -t \"data/bnk-ground-truth/136.gt.txt\" > \"data/bnk-ground-truth/136.box\"\n",
            "+ tesseract data/bnk-ground-truth/136.tif data/bnk-ground-truth/136 --psm 13 lstm.train\n",
            "Tesseract Open Source OCR Engine v4.0.0-beta.1 with Leptonica\n",
            "Page 1\n",
            "PYTHONIOENCODING=utf-8 python3 generate_line_box.py -i \"data/bnk-ground-truth/137.tif\" -t \"data/bnk-ground-truth/137.gt.txt\" > \"data/bnk-ground-truth/137.box\"\n",
            "+ tesseract data/bnk-ground-truth/137.tif data/bnk-ground-truth/137 --psm 13 lstm.train\n",
            "Tesseract Open Source OCR Engine v4.0.0-beta.1 with Leptonica\n",
            "Page 1\n",
            "PYTHONIOENCODING=utf-8 python3 generate_line_box.py -i \"data/bnk-ground-truth/138.tif\" -t \"data/bnk-ground-truth/138.gt.txt\" > \"data/bnk-ground-truth/138.box\"\n",
            "+ tesseract data/bnk-ground-truth/138.tif data/bnk-ground-truth/138 --psm 13 lstm.train\n",
            "Tesseract Open Source OCR Engine v4.0.0-beta.1 with Leptonica\n",
            "Page 1\n",
            "PYTHONIOENCODING=utf-8 python3 generate_line_box.py -i \"data/bnk-ground-truth/139.tif\" -t \"data/bnk-ground-truth/139.gt.txt\" > \"data/bnk-ground-truth/139.box\"\n",
            "+ tesseract data/bnk-ground-truth/139.tif data/bnk-ground-truth/139 --psm 13 lstm.train\n",
            "Tesseract Open Source OCR Engine v4.0.0-beta.1 with Leptonica\n",
            "Page 1\n",
            "PYTHONIOENCODING=utf-8 python3 generate_line_box.py -i \"data/bnk-ground-truth/140.tif\" -t \"data/bnk-ground-truth/140.gt.txt\" > \"data/bnk-ground-truth/140.box\"\n",
            "+ tesseract data/bnk-ground-truth/140.tif data/bnk-ground-truth/140 --psm 13 lstm.train\n",
            "Tesseract Open Source OCR Engine v4.0.0-beta.1 with Leptonica\n",
            "Page 1\n",
            "PYTHONIOENCODING=utf-8 python3 generate_line_box.py -i \"data/bnk-ground-truth/141.tif\" -t \"data/bnk-ground-truth/141.gt.txt\" > \"data/bnk-ground-truth/141.box\"\n",
            "+ tesseract data/bnk-ground-truth/141.tif data/bnk-ground-truth/141 --psm 13 lstm.train\n",
            "Tesseract Open Source OCR Engine v4.0.0-beta.1 with Leptonica\n",
            "Page 1\n",
            "PYTHONIOENCODING=utf-8 python3 generate_line_box.py -i \"data/bnk-ground-truth/142.tif\" -t \"data/bnk-ground-truth/142.gt.txt\" > \"data/bnk-ground-truth/142.box\"\n",
            "+ tesseract data/bnk-ground-truth/142.tif data/bnk-ground-truth/142 --psm 13 lstm.train\n",
            "Tesseract Open Source OCR Engine v4.0.0-beta.1 with Leptonica\n",
            "Page 1\n",
            "PYTHONIOENCODING=utf-8 python3 generate_line_box.py -i \"data/bnk-ground-truth/143.tif\" -t \"data/bnk-ground-truth/143.gt.txt\" > \"data/bnk-ground-truth/143.box\"\n",
            "+ tesseract data/bnk-ground-truth/143.tif data/bnk-ground-truth/143 --psm 13 lstm.train\n",
            "Tesseract Open Source OCR Engine v4.0.0-beta.1 with Leptonica\n",
            "Page 1\n",
            "PYTHONIOENCODING=utf-8 python3 generate_line_box.py -i \"data/bnk-ground-truth/144.tif\" -t \"data/bnk-ground-truth/144.gt.txt\" > \"data/bnk-ground-truth/144.box\"\n",
            "+ tesseract data/bnk-ground-truth/144.tif data/bnk-ground-truth/144 --psm 13 lstm.train\n",
            "Tesseract Open Source OCR Engine v4.0.0-beta.1 with Leptonica\n",
            "Page 1\n",
            "PYTHONIOENCODING=utf-8 python3 generate_line_box.py -i \"data/bnk-ground-truth/145.tif\" -t \"data/bnk-ground-truth/145.gt.txt\" > \"data/bnk-ground-truth/145.box\"\n",
            "+ tesseract data/bnk-ground-truth/145.tif data/bnk-ground-truth/145 --psm 13 lstm.train\n",
            "Tesseract Open Source OCR Engine v4.0.0-beta.1 with Leptonica\n",
            "Page 1\n",
            "PYTHONIOENCODING=utf-8 python3 generate_line_box.py -i \"data/bnk-ground-truth/146.tif\" -t \"data/bnk-ground-truth/146.gt.txt\" > \"data/bnk-ground-truth/146.box\"\n",
            "+ tesseract data/bnk-ground-truth/146.tif data/bnk-ground-truth/146 --psm 13 lstm.train\n",
            "Tesseract Open Source OCR Engine v4.0.0-beta.1 with Leptonica\n",
            "Page 1\n",
            "PYTHONIOENCODING=utf-8 python3 generate_line_box.py -i \"data/bnk-ground-truth/147.tif\" -t \"data/bnk-ground-truth/147.gt.txt\" > \"data/bnk-ground-truth/147.box\"\n",
            "+ tesseract data/bnk-ground-truth/147.tif data/bnk-ground-truth/147 --psm 13 lstm.train\n",
            "Tesseract Open Source OCR Engine v4.0.0-beta.1 with Leptonica\n",
            "Page 1\n",
            "PYTHONIOENCODING=utf-8 python3 generate_line_box.py -i \"data/bnk-ground-truth/148.tif\" -t \"data/bnk-ground-truth/148.gt.txt\" > \"data/bnk-ground-truth/148.box\"\n",
            "+ tesseract data/bnk-ground-truth/148.tif data/bnk-ground-truth/148 --psm 13 lstm.train\n",
            "Tesseract Open Source OCR Engine v4.0.0-beta.1 with Leptonica\n",
            "Page 1\n",
            "PYTHONIOENCODING=utf-8 python3 generate_line_box.py -i \"data/bnk-ground-truth/149.tif\" -t \"data/bnk-ground-truth/149.gt.txt\" > \"data/bnk-ground-truth/149.box\"\n",
            "+ tesseract data/bnk-ground-truth/149.tif data/bnk-ground-truth/149 --psm 13 lstm.train\n",
            "Tesseract Open Source OCR Engine v4.0.0-beta.1 with Leptonica\n",
            "Page 1\n",
            "PYTHONIOENCODING=utf-8 python3 generate_line_box.py -i \"data/bnk-ground-truth/150.tif\" -t \"data/bnk-ground-truth/150.gt.txt\" > \"data/bnk-ground-truth/150.box\"\n",
            "+ tesseract data/bnk-ground-truth/150.tif data/bnk-ground-truth/150 --psm 13 lstm.train\n",
            "Tesseract Open Source OCR Engine v4.0.0-beta.1 with Leptonica\n",
            "Page 1\n",
            "PYTHONIOENCODING=utf-8 python3 generate_line_box.py -i \"data/bnk-ground-truth/151.tif\" -t \"data/bnk-ground-truth/151.gt.txt\" > \"data/bnk-ground-truth/151.box\"\n",
            "+ tesseract data/bnk-ground-truth/151.tif data/bnk-ground-truth/151 --psm 13 lstm.train\n",
            "Tesseract Open Source OCR Engine v4.0.0-beta.1 with Leptonica\n",
            "Page 1\n",
            "PYTHONIOENCODING=utf-8 python3 generate_line_box.py -i \"data/bnk-ground-truth/152.tif\" -t \"data/bnk-ground-truth/152.gt.txt\" > \"data/bnk-ground-truth/152.box\"\n",
            "+ tesseract data/bnk-ground-truth/152.tif data/bnk-ground-truth/152 --psm 13 lstm.train\n",
            "Tesseract Open Source OCR Engine v4.0.0-beta.1 with Leptonica\n",
            "Page 1\n",
            "PYTHONIOENCODING=utf-8 python3 generate_line_box.py -i \"data/bnk-ground-truth/153.tif\" -t \"data/bnk-ground-truth/153.gt.txt\" > \"data/bnk-ground-truth/153.box\"\n",
            "+ tesseract data/bnk-ground-truth/153.tif data/bnk-ground-truth/153 --psm 13 lstm.train\n",
            "Tesseract Open Source OCR Engine v4.0.0-beta.1 with Leptonica\n",
            "Page 1\n",
            "PYTHONIOENCODING=utf-8 python3 generate_line_box.py -i \"data/bnk-ground-truth/154.tif\" -t \"data/bnk-ground-truth/154.gt.txt\" > \"data/bnk-ground-truth/154.box\"\n",
            "+ tesseract data/bnk-ground-truth/154.tif data/bnk-ground-truth/154 --psm 13 lstm.train\n",
            "Tesseract Open Source OCR Engine v4.0.0-beta.1 with Leptonica\n",
            "Page 1\n",
            "PYTHONIOENCODING=utf-8 python3 generate_line_box.py -i \"data/bnk-ground-truth/155.tif\" -t \"data/bnk-ground-truth/155.gt.txt\" > \"data/bnk-ground-truth/155.box\"\n",
            "+ tesseract data/bnk-ground-truth/155.tif data/bnk-ground-truth/155 --psm 13 lstm.train\n",
            "Tesseract Open Source OCR Engine v4.0.0-beta.1 with Leptonica\n",
            "Page 1\n",
            "PYTHONIOENCODING=utf-8 python3 generate_line_box.py -i \"data/bnk-ground-truth/156.tif\" -t \"data/bnk-ground-truth/156.gt.txt\" > \"data/bnk-ground-truth/156.box\"\n",
            "+ tesseract data/bnk-ground-truth/156.tif data/bnk-ground-truth/156 --psm 13 lstm.train\n",
            "Tesseract Open Source OCR Engine v4.0.0-beta.1 with Leptonica\n",
            "Page 1\n",
            "PYTHONIOENCODING=utf-8 python3 generate_line_box.py -i \"data/bnk-ground-truth/157.tif\" -t \"data/bnk-ground-truth/157.gt.txt\" > \"data/bnk-ground-truth/157.box\"\n",
            "+ tesseract data/bnk-ground-truth/157.tif data/bnk-ground-truth/157 --psm 13 lstm.train\n",
            "Tesseract Open Source OCR Engine v4.0.0-beta.1 with Leptonica\n",
            "Page 1\n",
            "PYTHONIOENCODING=utf-8 python3 generate_line_box.py -i \"data/bnk-ground-truth/158.tif\" -t \"data/bnk-ground-truth/158.gt.txt\" > \"data/bnk-ground-truth/158.box\"\n",
            "+ tesseract data/bnk-ground-truth/158.tif data/bnk-ground-truth/158 --psm 13 lstm.train\n",
            "Tesseract Open Source OCR Engine v4.0.0-beta.1 with Leptonica\n",
            "Page 1\n",
            "PYTHONIOENCODING=utf-8 python3 generate_line_box.py -i \"data/bnk-ground-truth/159.tif\" -t \"data/bnk-ground-truth/159.gt.txt\" > \"data/bnk-ground-truth/159.box\"\n",
            "+ tesseract data/bnk-ground-truth/159.tif data/bnk-ground-truth/159 --psm 13 lstm.train\n",
            "Tesseract Open Source OCR Engine v4.0.0-beta.1 with Leptonica\n",
            "Page 1\n",
            "PYTHONIOENCODING=utf-8 python3 generate_line_box.py -i \"data/bnk-ground-truth/160.tif\" -t \"data/bnk-ground-truth/160.gt.txt\" > \"data/bnk-ground-truth/160.box\"\n",
            "+ tesseract data/bnk-ground-truth/160.tif data/bnk-ground-truth/160 --psm 13 lstm.train\n",
            "Tesseract Open Source OCR Engine v4.0.0-beta.1 with Leptonica\n",
            "Page 1\n",
            "PYTHONIOENCODING=utf-8 python3 generate_line_box.py -i \"data/bnk-ground-truth/161.tif\" -t \"data/bnk-ground-truth/161.gt.txt\" > \"data/bnk-ground-truth/161.box\"\n",
            "+ tesseract data/bnk-ground-truth/161.tif data/bnk-ground-truth/161 --psm 13 lstm.train\n",
            "Tesseract Open Source OCR Engine v4.0.0-beta.1 with Leptonica\n",
            "Page 1\n",
            "PYTHONIOENCODING=utf-8 python3 generate_line_box.py -i \"data/bnk-ground-truth/162.tif\" -t \"data/bnk-ground-truth/162.gt.txt\" > \"data/bnk-ground-truth/162.box\"\n",
            "+ tesseract data/bnk-ground-truth/162.tif data/bnk-ground-truth/162 --psm 13 lstm.train\n",
            "Tesseract Open Source OCR Engine v4.0.0-beta.1 with Leptonica\n",
            "Page 1\n",
            "PYTHONIOENCODING=utf-8 python3 generate_line_box.py -i \"data/bnk-ground-truth/163.tif\" -t \"data/bnk-ground-truth/163.gt.txt\" > \"data/bnk-ground-truth/163.box\"\n",
            "+ tesseract data/bnk-ground-truth/163.tif data/bnk-ground-truth/163 --psm 13 lstm.train\n",
            "Tesseract Open Source OCR Engine v4.0.0-beta.1 with Leptonica\n",
            "Page 1\n",
            "PYTHONIOENCODING=utf-8 python3 generate_line_box.py -i \"data/bnk-ground-truth/164.tif\" -t \"data/bnk-ground-truth/164.gt.txt\" > \"data/bnk-ground-truth/164.box\"\n",
            "+ tesseract data/bnk-ground-truth/164.tif data/bnk-ground-truth/164 --psm 13 lstm.train\n",
            "Tesseract Open Source OCR Engine v4.0.0-beta.1 with Leptonica\n",
            "Page 1\n",
            "PYTHONIOENCODING=utf-8 python3 generate_line_box.py -i \"data/bnk-ground-truth/165.tif\" -t \"data/bnk-ground-truth/165.gt.txt\" > \"data/bnk-ground-truth/165.box\"\n",
            "+ tesseract data/bnk-ground-truth/165.tif data/bnk-ground-truth/165 --psm 13 lstm.train\n",
            "Tesseract Open Source OCR Engine v4.0.0-beta.1 with Leptonica\n",
            "Page 1\n",
            "PYTHONIOENCODING=utf-8 python3 generate_line_box.py -i \"data/bnk-ground-truth/166.tif\" -t \"data/bnk-ground-truth/166.gt.txt\" > \"data/bnk-ground-truth/166.box\"\n",
            "+ tesseract data/bnk-ground-truth/166.tif data/bnk-ground-truth/166 --psm 13 lstm.train\n",
            "Tesseract Open Source OCR Engine v4.0.0-beta.1 with Leptonica\n",
            "Page 1\n",
            "PYTHONIOENCODING=utf-8 python3 generate_line_box.py -i \"data/bnk-ground-truth/167.tif\" -t \"data/bnk-ground-truth/167.gt.txt\" > \"data/bnk-ground-truth/167.box\"\n",
            "+ tesseract data/bnk-ground-truth/167.tif data/bnk-ground-truth/167 --psm 13 lstm.train\n",
            "Tesseract Open Source OCR Engine v4.0.0-beta.1 with Leptonica\n",
            "Page 1\n",
            "PYTHONIOENCODING=utf-8 python3 generate_line_box.py -i \"data/bnk-ground-truth/168.tif\" -t \"data/bnk-ground-truth/168.gt.txt\" > \"data/bnk-ground-truth/168.box\"\n",
            "+ tesseract data/bnk-ground-truth/168.tif data/bnk-ground-truth/168 --psm 13 lstm.train\n",
            "Tesseract Open Source OCR Engine v4.0.0-beta.1 with Leptonica\n",
            "Page 1\n",
            "PYTHONIOENCODING=utf-8 python3 generate_line_box.py -i \"data/bnk-ground-truth/169.tif\" -t \"data/bnk-ground-truth/169.gt.txt\" > \"data/bnk-ground-truth/169.box\"\n",
            "+ tesseract data/bnk-ground-truth/169.tif data/bnk-ground-truth/169 --psm 13 lstm.train\n",
            "Tesseract Open Source OCR Engine v4.0.0-beta.1 with Leptonica\n",
            "Page 1\n",
            "PYTHONIOENCODING=utf-8 python3 generate_line_box.py -i \"data/bnk-ground-truth/170.tif\" -t \"data/bnk-ground-truth/170.gt.txt\" > \"data/bnk-ground-truth/170.box\"\n",
            "+ tesseract data/bnk-ground-truth/170.tif data/bnk-ground-truth/170 --psm 13 lstm.train\n",
            "Tesseract Open Source OCR Engine v4.0.0-beta.1 with Leptonica\n",
            "Page 1\n",
            "PYTHONIOENCODING=utf-8 python3 generate_line_box.py -i \"data/bnk-ground-truth/171.tif\" -t \"data/bnk-ground-truth/171.gt.txt\" > \"data/bnk-ground-truth/171.box\"\n",
            "+ tesseract data/bnk-ground-truth/171.tif data/bnk-ground-truth/171 --psm 13 lstm.train\n",
            "Tesseract Open Source OCR Engine v4.0.0-beta.1 with Leptonica\n",
            "Page 1\n",
            "PYTHONIOENCODING=utf-8 python3 generate_line_box.py -i \"data/bnk-ground-truth/172.tif\" -t \"data/bnk-ground-truth/172.gt.txt\" > \"data/bnk-ground-truth/172.box\"\n",
            "+ tesseract data/bnk-ground-truth/172.tif data/bnk-ground-truth/172 --psm 13 lstm.train\n",
            "Tesseract Open Source OCR Engine v4.0.0-beta.1 with Leptonica\n",
            "Page 1\n",
            "PYTHONIOENCODING=utf-8 python3 generate_line_box.py -i \"data/bnk-ground-truth/173.tif\" -t \"data/bnk-ground-truth/173.gt.txt\" > \"data/bnk-ground-truth/173.box\"\n",
            "+ tesseract data/bnk-ground-truth/173.tif data/bnk-ground-truth/173 --psm 13 lstm.train\n",
            "Tesseract Open Source OCR Engine v4.0.0-beta.1 with Leptonica\n",
            "Page 1\n",
            "PYTHONIOENCODING=utf-8 python3 generate_line_box.py -i \"data/bnk-ground-truth/174.tif\" -t \"data/bnk-ground-truth/174.gt.txt\" > \"data/bnk-ground-truth/174.box\"\n",
            "+ tesseract data/bnk-ground-truth/174.tif data/bnk-ground-truth/174 --psm 13 lstm.train\n",
            "Tesseract Open Source OCR Engine v4.0.0-beta.1 with Leptonica\n",
            "Page 1\n",
            "PYTHONIOENCODING=utf-8 python3 generate_line_box.py -i \"data/bnk-ground-truth/175.tif\" -t \"data/bnk-ground-truth/175.gt.txt\" > \"data/bnk-ground-truth/175.box\"\n",
            "+ tesseract data/bnk-ground-truth/175.tif data/bnk-ground-truth/175 --psm 13 lstm.train\n",
            "Tesseract Open Source OCR Engine v4.0.0-beta.1 with Leptonica\n",
            "Page 1\n",
            "PYTHONIOENCODING=utf-8 python3 generate_line_box.py -i \"data/bnk-ground-truth/176.tif\" -t \"data/bnk-ground-truth/176.gt.txt\" > \"data/bnk-ground-truth/176.box\"\n",
            "+ tesseract data/bnk-ground-truth/176.tif data/bnk-ground-truth/176 --psm 13 lstm.train\n",
            "Tesseract Open Source OCR Engine v4.0.0-beta.1 with Leptonica\n",
            "Page 1\n",
            "PYTHONIOENCODING=utf-8 python3 generate_line_box.py -i \"data/bnk-ground-truth/177.tif\" -t \"data/bnk-ground-truth/177.gt.txt\" > \"data/bnk-ground-truth/177.box\"\n",
            "+ tesseract data/bnk-ground-truth/177.tif data/bnk-ground-truth/177 --psm 13 lstm.train\n",
            "Tesseract Open Source OCR Engine v4.0.0-beta.1 with Leptonica\n",
            "Page 1\n",
            "PYTHONIOENCODING=utf-8 python3 generate_line_box.py -i \"data/bnk-ground-truth/178.tif\" -t \"data/bnk-ground-truth/178.gt.txt\" > \"data/bnk-ground-truth/178.box\"\n",
            "+ tesseract data/bnk-ground-truth/178.tif data/bnk-ground-truth/178 --psm 13 lstm.train\n",
            "Tesseract Open Source OCR Engine v4.0.0-beta.1 with Leptonica\n",
            "Page 1\n",
            "PYTHONIOENCODING=utf-8 python3 generate_line_box.py -i \"data/bnk-ground-truth/179.tif\" -t \"data/bnk-ground-truth/179.gt.txt\" > \"data/bnk-ground-truth/179.box\"\n",
            "+ tesseract data/bnk-ground-truth/179.tif data/bnk-ground-truth/179 --psm 13 lstm.train\n",
            "Tesseract Open Source OCR Engine v4.0.0-beta.1 with Leptonica\n",
            "Page 1\n",
            "PYTHONIOENCODING=utf-8 python3 generate_line_box.py -i \"data/bnk-ground-truth/180.tif\" -t \"data/bnk-ground-truth/180.gt.txt\" > \"data/bnk-ground-truth/180.box\"\n",
            "+ tesseract data/bnk-ground-truth/180.tif data/bnk-ground-truth/180 --psm 13 lstm.train\n",
            "Tesseract Open Source OCR Engine v4.0.0-beta.1 with Leptonica\n",
            "Page 1\n",
            "PYTHONIOENCODING=utf-8 python3 generate_line_box.py -i \"data/bnk-ground-truth/181.tif\" -t \"data/bnk-ground-truth/181.gt.txt\" > \"data/bnk-ground-truth/181.box\"\n",
            "+ tesseract data/bnk-ground-truth/181.tif data/bnk-ground-truth/181 --psm 13 lstm.train\n",
            "Tesseract Open Source OCR Engine v4.0.0-beta.1 with Leptonica\n",
            "Page 1\n",
            "PYTHONIOENCODING=utf-8 python3 generate_line_box.py -i \"data/bnk-ground-truth/182.tif\" -t \"data/bnk-ground-truth/182.gt.txt\" > \"data/bnk-ground-truth/182.box\"\n",
            "+ tesseract data/bnk-ground-truth/182.tif data/bnk-ground-truth/182 --psm 13 lstm.train\n",
            "Tesseract Open Source OCR Engine v4.0.0-beta.1 with Leptonica\n",
            "Page 1\n",
            "PYTHONIOENCODING=utf-8 python3 generate_line_box.py -i \"data/bnk-ground-truth/183.tif\" -t \"data/bnk-ground-truth/183.gt.txt\" > \"data/bnk-ground-truth/183.box\"\n",
            "+ tesseract data/bnk-ground-truth/183.tif data/bnk-ground-truth/183 --psm 13 lstm.train\n",
            "Tesseract Open Source OCR Engine v4.0.0-beta.1 with Leptonica\n",
            "Page 1\n",
            "PYTHONIOENCODING=utf-8 python3 generate_line_box.py -i \"data/bnk-ground-truth/184.tif\" -t \"data/bnk-ground-truth/184.gt.txt\" > \"data/bnk-ground-truth/184.box\"\n",
            "+ tesseract data/bnk-ground-truth/184.tif data/bnk-ground-truth/184 --psm 13 lstm.train\n",
            "Tesseract Open Source OCR Engine v4.0.0-beta.1 with Leptonica\n",
            "Page 1\n",
            "PYTHONIOENCODING=utf-8 python3 generate_line_box.py -i \"data/bnk-ground-truth/185.tif\" -t \"data/bnk-ground-truth/185.gt.txt\" > \"data/bnk-ground-truth/185.box\"\n",
            "+ tesseract data/bnk-ground-truth/185.tif data/bnk-ground-truth/185 --psm 13 lstm.train\n",
            "Tesseract Open Source OCR Engine v4.0.0-beta.1 with Leptonica\n",
            "Page 1\n",
            "PYTHONIOENCODING=utf-8 python3 generate_line_box.py -i \"data/bnk-ground-truth/186.tif\" -t \"data/bnk-ground-truth/186.gt.txt\" > \"data/bnk-ground-truth/186.box\"\n",
            "+ tesseract data/bnk-ground-truth/186.tif data/bnk-ground-truth/186 --psm 13 lstm.train\n",
            "Tesseract Open Source OCR Engine v4.0.0-beta.1 with Leptonica\n",
            "Page 1\n",
            "PYTHONIOENCODING=utf-8 python3 generate_line_box.py -i \"data/bnk-ground-truth/187.tif\" -t \"data/bnk-ground-truth/187.gt.txt\" > \"data/bnk-ground-truth/187.box\"\n",
            "+ tesseract data/bnk-ground-truth/187.tif data/bnk-ground-truth/187 --psm 13 lstm.train\n",
            "Tesseract Open Source OCR Engine v4.0.0-beta.1 with Leptonica\n",
            "Page 1\n",
            "PYTHONIOENCODING=utf-8 python3 generate_line_box.py -i \"data/bnk-ground-truth/188.tif\" -t \"data/bnk-ground-truth/188.gt.txt\" > \"data/bnk-ground-truth/188.box\"\n",
            "+ tesseract data/bnk-ground-truth/188.tif data/bnk-ground-truth/188 --psm 13 lstm.train\n",
            "Tesseract Open Source OCR Engine v4.0.0-beta.1 with Leptonica\n",
            "Page 1\n",
            "PYTHONIOENCODING=utf-8 python3 generate_line_box.py -i \"data/bnk-ground-truth/189.tif\" -t \"data/bnk-ground-truth/189.gt.txt\" > \"data/bnk-ground-truth/189.box\"\n",
            "+ tesseract data/bnk-ground-truth/189.tif data/bnk-ground-truth/189 --psm 13 lstm.train\n",
            "Tesseract Open Source OCR Engine v4.0.0-beta.1 with Leptonica\n",
            "Page 1\n",
            "PYTHONIOENCODING=utf-8 python3 generate_line_box.py -i \"data/bnk-ground-truth/190.tif\" -t \"data/bnk-ground-truth/190.gt.txt\" > \"data/bnk-ground-truth/190.box\"\n",
            "+ tesseract data/bnk-ground-truth/190.tif data/bnk-ground-truth/190 --psm 13 lstm.train\n",
            "Tesseract Open Source OCR Engine v4.0.0-beta.1 with Leptonica\n",
            "Page 1\n",
            "PYTHONIOENCODING=utf-8 python3 generate_line_box.py -i \"data/bnk-ground-truth/191.tif\" -t \"data/bnk-ground-truth/191.gt.txt\" > \"data/bnk-ground-truth/191.box\"\n",
            "+ tesseract data/bnk-ground-truth/191.tif data/bnk-ground-truth/191 --psm 13 lstm.train\n",
            "Tesseract Open Source OCR Engine v4.0.0-beta.1 with Leptonica\n",
            "Page 1\n",
            "PYTHONIOENCODING=utf-8 python3 generate_line_box.py -i \"data/bnk-ground-truth/192.tif\" -t \"data/bnk-ground-truth/192.gt.txt\" > \"data/bnk-ground-truth/192.box\"\n",
            "+ tesseract data/bnk-ground-truth/192.tif data/bnk-ground-truth/192 --psm 13 lstm.train\n",
            "Tesseract Open Source OCR Engine v4.0.0-beta.1 with Leptonica\n",
            "Page 1\n",
            "PYTHONIOENCODING=utf-8 python3 generate_line_box.py -i \"data/bnk-ground-truth/193.tif\" -t \"data/bnk-ground-truth/193.gt.txt\" > \"data/bnk-ground-truth/193.box\"\n",
            "+ tesseract data/bnk-ground-truth/193.tif data/bnk-ground-truth/193 --psm 13 lstm.train\n",
            "Tesseract Open Source OCR Engine v4.0.0-beta.1 with Leptonica\n",
            "Page 1\n",
            "PYTHONIOENCODING=utf-8 python3 generate_line_box.py -i \"data/bnk-ground-truth/194.tif\" -t \"data/bnk-ground-truth/194.gt.txt\" > \"data/bnk-ground-truth/194.box\"\n",
            "+ tesseract data/bnk-ground-truth/194.tif data/bnk-ground-truth/194 --psm 13 lstm.train\n",
            "Tesseract Open Source OCR Engine v4.0.0-beta.1 with Leptonica\n",
            "Page 1\n",
            "PYTHONIOENCODING=utf-8 python3 generate_line_box.py -i \"data/bnk-ground-truth/195.tif\" -t \"data/bnk-ground-truth/195.gt.txt\" > \"data/bnk-ground-truth/195.box\"\n",
            "+ tesseract data/bnk-ground-truth/195.tif data/bnk-ground-truth/195 --psm 13 lstm.train\n",
            "Tesseract Open Source OCR Engine v4.0.0-beta.1 with Leptonica\n",
            "Page 1\n",
            "PYTHONIOENCODING=utf-8 python3 generate_line_box.py -i \"data/bnk-ground-truth/196.tif\" -t \"data/bnk-ground-truth/196.gt.txt\" > \"data/bnk-ground-truth/196.box\"\n",
            "+ tesseract data/bnk-ground-truth/196.tif data/bnk-ground-truth/196 --psm 13 lstm.train\n",
            "Tesseract Open Source OCR Engine v4.0.0-beta.1 with Leptonica\n",
            "Page 1\n",
            "PYTHONIOENCODING=utf-8 python3 generate_line_box.py -i \"data/bnk-ground-truth/197.tif\" -t \"data/bnk-ground-truth/197.gt.txt\" > \"data/bnk-ground-truth/197.box\"\n",
            "+ tesseract data/bnk-ground-truth/197.tif data/bnk-ground-truth/197 --psm 13 lstm.train\n",
            "Tesseract Open Source OCR Engine v4.0.0-beta.1 with Leptonica\n",
            "Page 1\n",
            "PYTHONIOENCODING=utf-8 python3 generate_line_box.py -i \"data/bnk-ground-truth/198.tif\" -t \"data/bnk-ground-truth/198.gt.txt\" > \"data/bnk-ground-truth/198.box\"\n",
            "+ tesseract data/bnk-ground-truth/198.tif data/bnk-ground-truth/198 --psm 13 lstm.train\n",
            "Tesseract Open Source OCR Engine v4.0.0-beta.1 with Leptonica\n",
            "Page 1\n",
            "PYTHONIOENCODING=utf-8 python3 generate_line_box.py -i \"data/bnk-ground-truth/199.tif\" -t \"data/bnk-ground-truth/199.gt.txt\" > \"data/bnk-ground-truth/199.box\"\n",
            "+ tesseract data/bnk-ground-truth/199.tif data/bnk-ground-truth/199 --psm 13 lstm.train\n",
            "Tesseract Open Source OCR Engine v4.0.0-beta.1 with Leptonica\n",
            "Page 1\n",
            "PYTHONIOENCODING=utf-8 python3 generate_line_box.py -i \"data/bnk-ground-truth/200.tif\" -t \"data/bnk-ground-truth/200.gt.txt\" > \"data/bnk-ground-truth/200.box\"\n",
            "+ tesseract data/bnk-ground-truth/200.tif data/bnk-ground-truth/200 --psm 13 lstm.train\n",
            "Tesseract Open Source OCR Engine v4.0.0-beta.1 with Leptonica\n",
            "Page 1\n",
            "PYTHONIOENCODING=utf-8 python3 generate_line_box.py -i \"data/bnk-ground-truth/201.tif\" -t \"data/bnk-ground-truth/201.gt.txt\" > \"data/bnk-ground-truth/201.box\"\n",
            "+ tesseract data/bnk-ground-truth/201.tif data/bnk-ground-truth/201 --psm 13 lstm.train\n",
            "Tesseract Open Source OCR Engine v4.0.0-beta.1 with Leptonica\n",
            "Page 1\n",
            "PYTHONIOENCODING=utf-8 python3 generate_line_box.py -i \"data/bnk-ground-truth/202.tif\" -t \"data/bnk-ground-truth/202.gt.txt\" > \"data/bnk-ground-truth/202.box\"\n",
            "+ tesseract data/bnk-ground-truth/202.tif data/bnk-ground-truth/202 --psm 13 lstm.train\n",
            "Tesseract Open Source OCR Engine v4.0.0-beta.1 with Leptonica\n",
            "Page 1\n",
            "PYTHONIOENCODING=utf-8 python3 generate_line_box.py -i \"data/bnk-ground-truth/203.tif\" -t \"data/bnk-ground-truth/203.gt.txt\" > \"data/bnk-ground-truth/203.box\"\n",
            "+ tesseract data/bnk-ground-truth/203.tif data/bnk-ground-truth/203 --psm 13 lstm.train\n",
            "Tesseract Open Source OCR Engine v4.0.0-beta.1 with Leptonica\n",
            "Page 1\n",
            "PYTHONIOENCODING=utf-8 python3 generate_line_box.py -i \"data/bnk-ground-truth/204.tif\" -t \"data/bnk-ground-truth/204.gt.txt\" > \"data/bnk-ground-truth/204.box\"\n",
            "+ tesseract data/bnk-ground-truth/204.tif data/bnk-ground-truth/204 --psm 13 lstm.train\n",
            "Tesseract Open Source OCR Engine v4.0.0-beta.1 with Leptonica\n",
            "Page 1\n",
            "PYTHONIOENCODING=utf-8 python3 generate_line_box.py -i \"data/bnk-ground-truth/205.tif\" -t \"data/bnk-ground-truth/205.gt.txt\" > \"data/bnk-ground-truth/205.box\"\n",
            "+ tesseract data/bnk-ground-truth/205.tif data/bnk-ground-truth/205 --psm 13 lstm.train\n",
            "Tesseract Open Source OCR Engine v4.0.0-beta.1 with Leptonica\n",
            "Page 1\n",
            "PYTHONIOENCODING=utf-8 python3 generate_line_box.py -i \"data/bnk-ground-truth/206.tif\" -t \"data/bnk-ground-truth/206.gt.txt\" > \"data/bnk-ground-truth/206.box\"\n",
            "+ tesseract data/bnk-ground-truth/206.tif data/bnk-ground-truth/206 --psm 13 lstm.train\n",
            "Tesseract Open Source OCR Engine v4.0.0-beta.1 with Leptonica\n",
            "Page 1\n",
            "PYTHONIOENCODING=utf-8 python3 generate_line_box.py -i \"data/bnk-ground-truth/207.tif\" -t \"data/bnk-ground-truth/207.gt.txt\" > \"data/bnk-ground-truth/207.box\"\n",
            "+ tesseract data/bnk-ground-truth/207.tif data/bnk-ground-truth/207 --psm 13 lstm.train\n",
            "Tesseract Open Source OCR Engine v4.0.0-beta.1 with Leptonica\n",
            "Page 1\n",
            "PYTHONIOENCODING=utf-8 python3 generate_line_box.py -i \"data/bnk-ground-truth/208.tif\" -t \"data/bnk-ground-truth/208.gt.txt\" > \"data/bnk-ground-truth/208.box\"\n",
            "+ tesseract data/bnk-ground-truth/208.tif data/bnk-ground-truth/208 --psm 13 lstm.train\n",
            "Tesseract Open Source OCR Engine v4.0.0-beta.1 with Leptonica\n",
            "Page 1\n",
            "PYTHONIOENCODING=utf-8 python3 generate_line_box.py -i \"data/bnk-ground-truth/209.tif\" -t \"data/bnk-ground-truth/209.gt.txt\" > \"data/bnk-ground-truth/209.box\"\n",
            "+ tesseract data/bnk-ground-truth/209.tif data/bnk-ground-truth/209 --psm 13 lstm.train\n",
            "Tesseract Open Source OCR Engine v4.0.0-beta.1 with Leptonica\n",
            "Page 1\n",
            "PYTHONIOENCODING=utf-8 python3 generate_line_box.py -i \"data/bnk-ground-truth/210.tif\" -t \"data/bnk-ground-truth/210.gt.txt\" > \"data/bnk-ground-truth/210.box\"\n",
            "+ tesseract data/bnk-ground-truth/210.tif data/bnk-ground-truth/210 --psm 13 lstm.train\n",
            "Tesseract Open Source OCR Engine v4.0.0-beta.1 with Leptonica\n",
            "Page 1\n",
            "PYTHONIOENCODING=utf-8 python3 generate_line_box.py -i \"data/bnk-ground-truth/211.tif\" -t \"data/bnk-ground-truth/211.gt.txt\" > \"data/bnk-ground-truth/211.box\"\n",
            "+ tesseract data/bnk-ground-truth/211.tif data/bnk-ground-truth/211 --psm 13 lstm.train\n",
            "Tesseract Open Source OCR Engine v4.0.0-beta.1 with Leptonica\n",
            "Page 1\n",
            "PYTHONIOENCODING=utf-8 python3 generate_line_box.py -i \"data/bnk-ground-truth/212.tif\" -t \"data/bnk-ground-truth/212.gt.txt\" > \"data/bnk-ground-truth/212.box\"\n",
            "+ tesseract data/bnk-ground-truth/212.tif data/bnk-ground-truth/212 --psm 13 lstm.train\n",
            "Tesseract Open Source OCR Engine v4.0.0-beta.1 with Leptonica\n",
            "Page 1\n",
            "PYTHONIOENCODING=utf-8 python3 generate_line_box.py -i \"data/bnk-ground-truth/213.tif\" -t \"data/bnk-ground-truth/213.gt.txt\" > \"data/bnk-ground-truth/213.box\"\n",
            "+ tesseract data/bnk-ground-truth/213.tif data/bnk-ground-truth/213 --psm 13 lstm.train\n",
            "Tesseract Open Source OCR Engine v4.0.0-beta.1 with Leptonica\n",
            "Page 1\n",
            "PYTHONIOENCODING=utf-8 python3 generate_line_box.py -i \"data/bnk-ground-truth/214.tif\" -t \"data/bnk-ground-truth/214.gt.txt\" > \"data/bnk-ground-truth/214.box\"\n",
            "+ tesseract data/bnk-ground-truth/214.tif data/bnk-ground-truth/214 --psm 13 lstm.train\n",
            "Tesseract Open Source OCR Engine v4.0.0-beta.1 with Leptonica\n",
            "Page 1\n",
            "PYTHONIOENCODING=utf-8 python3 generate_line_box.py -i \"data/bnk-ground-truth/215.tif\" -t \"data/bnk-ground-truth/215.gt.txt\" > \"data/bnk-ground-truth/215.box\"\n",
            "+ tesseract data/bnk-ground-truth/215.tif data/bnk-ground-truth/215 --psm 13 lstm.train\n",
            "Tesseract Open Source OCR Engine v4.0.0-beta.1 with Leptonica\n",
            "Page 1\n",
            "PYTHONIOENCODING=utf-8 python3 generate_line_box.py -i \"data/bnk-ground-truth/216.tif\" -t \"data/bnk-ground-truth/216.gt.txt\" > \"data/bnk-ground-truth/216.box\"\n",
            "+ tesseract data/bnk-ground-truth/216.tif data/bnk-ground-truth/216 --psm 13 lstm.train\n",
            "Tesseract Open Source OCR Engine v4.0.0-beta.1 with Leptonica\n",
            "Page 1\n",
            "PYTHONIOENCODING=utf-8 python3 generate_line_box.py -i \"data/bnk-ground-truth/217.tif\" -t \"data/bnk-ground-truth/217.gt.txt\" > \"data/bnk-ground-truth/217.box\"\n",
            "+ tesseract data/bnk-ground-truth/217.tif data/bnk-ground-truth/217 --psm 13 lstm.train\n",
            "Tesseract Open Source OCR Engine v4.0.0-beta.1 with Leptonica\n",
            "Page 1\n",
            "PYTHONIOENCODING=utf-8 python3 generate_line_box.py -i \"data/bnk-ground-truth/218.tif\" -t \"data/bnk-ground-truth/218.gt.txt\" > \"data/bnk-ground-truth/218.box\"\n",
            "+ tesseract data/bnk-ground-truth/218.tif data/bnk-ground-truth/218 --psm 13 lstm.train\n",
            "Tesseract Open Source OCR Engine v4.0.0-beta.1 with Leptonica\n",
            "Page 1\n",
            "PYTHONIOENCODING=utf-8 python3 generate_line_box.py -i \"data/bnk-ground-truth/219.tif\" -t \"data/bnk-ground-truth/219.gt.txt\" > \"data/bnk-ground-truth/219.box\"\n",
            "+ tesseract data/bnk-ground-truth/219.tif data/bnk-ground-truth/219 --psm 13 lstm.train\n",
            "Tesseract Open Source OCR Engine v4.0.0-beta.1 with Leptonica\n",
            "Page 1\n",
            "PYTHONIOENCODING=utf-8 python3 generate_line_box.py -i \"data/bnk-ground-truth/220.tif\" -t \"data/bnk-ground-truth/220.gt.txt\" > \"data/bnk-ground-truth/220.box\"\n",
            "+ tesseract data/bnk-ground-truth/220.tif data/bnk-ground-truth/220 --psm 13 lstm.train\n",
            "Tesseract Open Source OCR Engine v4.0.0-beta.1 with Leptonica\n",
            "Page 1\n",
            "PYTHONIOENCODING=utf-8 python3 generate_line_box.py -i \"data/bnk-ground-truth/221.tif\" -t \"data/bnk-ground-truth/221.gt.txt\" > \"data/bnk-ground-truth/221.box\"\n",
            "+ tesseract data/bnk-ground-truth/221.tif data/bnk-ground-truth/221 --psm 13 lstm.train\n",
            "Tesseract Open Source OCR Engine v4.0.0-beta.1 with Leptonica\n",
            "Page 1\n",
            "PYTHONIOENCODING=utf-8 python3 generate_line_box.py -i \"data/bnk-ground-truth/222.tif\" -t \"data/bnk-ground-truth/222.gt.txt\" > \"data/bnk-ground-truth/222.box\"\n",
            "+ tesseract data/bnk-ground-truth/222.tif data/bnk-ground-truth/222 --psm 13 lstm.train\n",
            "Tesseract Open Source OCR Engine v4.0.0-beta.1 with Leptonica\n",
            "Page 1\n",
            "PYTHONIOENCODING=utf-8 python3 generate_line_box.py -i \"data/bnk-ground-truth/223.tif\" -t \"data/bnk-ground-truth/223.gt.txt\" > \"data/bnk-ground-truth/223.box\"\n",
            "+ tesseract data/bnk-ground-truth/223.tif data/bnk-ground-truth/223 --psm 13 lstm.train\n",
            "Tesseract Open Source OCR Engine v4.0.0-beta.1 with Leptonica\n",
            "Page 1\n",
            "PYTHONIOENCODING=utf-8 python3 generate_line_box.py -i \"data/bnk-ground-truth/224.tif\" -t \"data/bnk-ground-truth/224.gt.txt\" > \"data/bnk-ground-truth/224.box\"\n",
            "+ tesseract data/bnk-ground-truth/224.tif data/bnk-ground-truth/224 --psm 13 lstm.train\n",
            "Tesseract Open Source OCR Engine v4.0.0-beta.1 with Leptonica\n",
            "Page 1\n",
            "PYTHONIOENCODING=utf-8 python3 generate_line_box.py -i \"data/bnk-ground-truth/225.tif\" -t \"data/bnk-ground-truth/225.gt.txt\" > \"data/bnk-ground-truth/225.box\"\n",
            "+ tesseract data/bnk-ground-truth/225.tif data/bnk-ground-truth/225 --psm 13 lstm.train\n",
            "Tesseract Open Source OCR Engine v4.0.0-beta.1 with Leptonica\n",
            "Page 1\n",
            "PYTHONIOENCODING=utf-8 python3 generate_line_box.py -i \"data/bnk-ground-truth/226.tif\" -t \"data/bnk-ground-truth/226.gt.txt\" > \"data/bnk-ground-truth/226.box\"\n",
            "+ tesseract data/bnk-ground-truth/226.tif data/bnk-ground-truth/226 --psm 13 lstm.train\n",
            "Tesseract Open Source OCR Engine v4.0.0-beta.1 with Leptonica\n",
            "Page 1\n",
            "PYTHONIOENCODING=utf-8 python3 generate_line_box.py -i \"data/bnk-ground-truth/227.tif\" -t \"data/bnk-ground-truth/227.gt.txt\" > \"data/bnk-ground-truth/227.box\"\n",
            "+ tesseract data/bnk-ground-truth/227.tif data/bnk-ground-truth/227 --psm 13 lstm.train\n",
            "Tesseract Open Source OCR Engine v4.0.0-beta.1 with Leptonica\n",
            "Page 1\n",
            "PYTHONIOENCODING=utf-8 python3 generate_line_box.py -i \"data/bnk-ground-truth/228.tif\" -t \"data/bnk-ground-truth/228.gt.txt\" > \"data/bnk-ground-truth/228.box\"\n",
            "+ tesseract data/bnk-ground-truth/228.tif data/bnk-ground-truth/228 --psm 13 lstm.train\n",
            "Tesseract Open Source OCR Engine v4.0.0-beta.1 with Leptonica\n",
            "Page 1\n",
            "PYTHONIOENCODING=utf-8 python3 generate_line_box.py -i \"data/bnk-ground-truth/229.tif\" -t \"data/bnk-ground-truth/229.gt.txt\" > \"data/bnk-ground-truth/229.box\"\n",
            "+ tesseract data/bnk-ground-truth/229.tif data/bnk-ground-truth/229 --psm 13 lstm.train\n",
            "Tesseract Open Source OCR Engine v4.0.0-beta.1 with Leptonica\n",
            "Page 1\n",
            "PYTHONIOENCODING=utf-8 python3 generate_line_box.py -i \"data/bnk-ground-truth/230.tif\" -t \"data/bnk-ground-truth/230.gt.txt\" > \"data/bnk-ground-truth/230.box\"\n",
            "+ tesseract data/bnk-ground-truth/230.tif data/bnk-ground-truth/230 --psm 13 lstm.train\n",
            "Tesseract Open Source OCR Engine v4.0.0-beta.1 with Leptonica\n",
            "Page 1\n",
            "PYTHONIOENCODING=utf-8 python3 generate_line_box.py -i \"data/bnk-ground-truth/231.tif\" -t \"data/bnk-ground-truth/231.gt.txt\" > \"data/bnk-ground-truth/231.box\"\n",
            "+ tesseract data/bnk-ground-truth/231.tif data/bnk-ground-truth/231 --psm 13 lstm.train\n",
            "Tesseract Open Source OCR Engine v4.0.0-beta.1 with Leptonica\n",
            "Page 1\n",
            "PYTHONIOENCODING=utf-8 python3 generate_line_box.py -i \"data/bnk-ground-truth/232.tif\" -t \"data/bnk-ground-truth/232.gt.txt\" > \"data/bnk-ground-truth/232.box\"\n",
            "+ tesseract data/bnk-ground-truth/232.tif data/bnk-ground-truth/232 --psm 13 lstm.train\n",
            "Tesseract Open Source OCR Engine v4.0.0-beta.1 with Leptonica\n",
            "Page 1\n",
            "PYTHONIOENCODING=utf-8 python3 generate_line_box.py -i \"data/bnk-ground-truth/233.tif\" -t \"data/bnk-ground-truth/233.gt.txt\" > \"data/bnk-ground-truth/233.box\"\n",
            "+ tesseract data/bnk-ground-truth/233.tif data/bnk-ground-truth/233 --psm 13 lstm.train\n",
            "Tesseract Open Source OCR Engine v4.0.0-beta.1 with Leptonica\n",
            "Page 1\n",
            "PYTHONIOENCODING=utf-8 python3 generate_line_box.py -i \"data/bnk-ground-truth/234.tif\" -t \"data/bnk-ground-truth/234.gt.txt\" > \"data/bnk-ground-truth/234.box\"\n",
            "+ tesseract data/bnk-ground-truth/234.tif data/bnk-ground-truth/234 --psm 13 lstm.train\n",
            "Tesseract Open Source OCR Engine v4.0.0-beta.1 with Leptonica\n",
            "Page 1\n",
            "PYTHONIOENCODING=utf-8 python3 generate_line_box.py -i \"data/bnk-ground-truth/235.tif\" -t \"data/bnk-ground-truth/235.gt.txt\" > \"data/bnk-ground-truth/235.box\"\n",
            "+ tesseract data/bnk-ground-truth/235.tif data/bnk-ground-truth/235 --psm 13 lstm.train\n",
            "Tesseract Open Source OCR Engine v4.0.0-beta.1 with Leptonica\n",
            "Page 1\n",
            "PYTHONIOENCODING=utf-8 python3 generate_line_box.py -i \"data/bnk-ground-truth/236.tif\" -t \"data/bnk-ground-truth/236.gt.txt\" > \"data/bnk-ground-truth/236.box\"\n",
            "+ tesseract data/bnk-ground-truth/236.tif data/bnk-ground-truth/236 --psm 13 lstm.train\n",
            "Tesseract Open Source OCR Engine v4.0.0-beta.1 with Leptonica\n",
            "Page 1\n",
            "PYTHONIOENCODING=utf-8 python3 generate_line_box.py -i \"data/bnk-ground-truth/237.tif\" -t \"data/bnk-ground-truth/237.gt.txt\" > \"data/bnk-ground-truth/237.box\"\n",
            "+ tesseract data/bnk-ground-truth/237.tif data/bnk-ground-truth/237 --psm 13 lstm.train\n",
            "Tesseract Open Source OCR Engine v4.0.0-beta.1 with Leptonica\n",
            "Page 1\n",
            "PYTHONIOENCODING=utf-8 python3 generate_line_box.py -i \"data/bnk-ground-truth/238.tif\" -t \"data/bnk-ground-truth/238.gt.txt\" > \"data/bnk-ground-truth/238.box\"\n",
            "+ tesseract data/bnk-ground-truth/238.tif data/bnk-ground-truth/238 --psm 13 lstm.train\n",
            "Tesseract Open Source OCR Engine v4.0.0-beta.1 with Leptonica\n",
            "Page 1\n",
            "PYTHONIOENCODING=utf-8 python3 generate_line_box.py -i \"data/bnk-ground-truth/239.tif\" -t \"data/bnk-ground-truth/239.gt.txt\" > \"data/bnk-ground-truth/239.box\"\n",
            "+ tesseract data/bnk-ground-truth/239.tif data/bnk-ground-truth/239 --psm 13 lstm.train\n",
            "Tesseract Open Source OCR Engine v4.0.0-beta.1 with Leptonica\n",
            "Page 1\n",
            "PYTHONIOENCODING=utf-8 python3 generate_line_box.py -i \"data/bnk-ground-truth/240.tif\" -t \"data/bnk-ground-truth/240.gt.txt\" > \"data/bnk-ground-truth/240.box\"\n",
            "+ tesseract data/bnk-ground-truth/240.tif data/bnk-ground-truth/240 --psm 13 lstm.train\n",
            "Tesseract Open Source OCR Engine v4.0.0-beta.1 with Leptonica\n",
            "Page 1\n",
            "PYTHONIOENCODING=utf-8 python3 generate_line_box.py -i \"data/bnk-ground-truth/241.tif\" -t \"data/bnk-ground-truth/241.gt.txt\" > \"data/bnk-ground-truth/241.box\"\n",
            "+ tesseract data/bnk-ground-truth/241.tif data/bnk-ground-truth/241 --psm 13 lstm.train\n",
            "Tesseract Open Source OCR Engine v4.0.0-beta.1 with Leptonica\n",
            "Page 1\n",
            "PYTHONIOENCODING=utf-8 python3 generate_line_box.py -i \"data/bnk-ground-truth/242.tif\" -t \"data/bnk-ground-truth/242.gt.txt\" > \"data/bnk-ground-truth/242.box\"\n",
            "+ tesseract data/bnk-ground-truth/242.tif data/bnk-ground-truth/242 --psm 13 lstm.train\n",
            "Tesseract Open Source OCR Engine v4.0.0-beta.1 with Leptonica\n",
            "Page 1\n",
            "PYTHONIOENCODING=utf-8 python3 generate_line_box.py -i \"data/bnk-ground-truth/243.tif\" -t \"data/bnk-ground-truth/243.gt.txt\" > \"data/bnk-ground-truth/243.box\"\n",
            "+ tesseract data/bnk-ground-truth/243.tif data/bnk-ground-truth/243 --psm 13 lstm.train\n",
            "Tesseract Open Source OCR Engine v4.0.0-beta.1 with Leptonica\n",
            "Page 1\n",
            "PYTHONIOENCODING=utf-8 python3 generate_line_box.py -i \"data/bnk-ground-truth/244.tif\" -t \"data/bnk-ground-truth/244.gt.txt\" > \"data/bnk-ground-truth/244.box\"\n",
            "+ tesseract data/bnk-ground-truth/244.tif data/bnk-ground-truth/244 --psm 13 lstm.train\n",
            "Tesseract Open Source OCR Engine v4.0.0-beta.1 with Leptonica\n",
            "Page 1\n",
            "PYTHONIOENCODING=utf-8 python3 generate_line_box.py -i \"data/bnk-ground-truth/245.tif\" -t \"data/bnk-ground-truth/245.gt.txt\" > \"data/bnk-ground-truth/245.box\"\n",
            "+ tesseract data/bnk-ground-truth/245.tif data/bnk-ground-truth/245 --psm 13 lstm.train\n",
            "Tesseract Open Source OCR Engine v4.0.0-beta.1 with Leptonica\n",
            "Page 1\n",
            "PYTHONIOENCODING=utf-8 python3 generate_line_box.py -i \"data/bnk-ground-truth/246.tif\" -t \"data/bnk-ground-truth/246.gt.txt\" > \"data/bnk-ground-truth/246.box\"\n",
            "+ tesseract data/bnk-ground-truth/246.tif data/bnk-ground-truth/246 --psm 13 lstm.train\n",
            "Tesseract Open Source OCR Engine v4.0.0-beta.1 with Leptonica\n",
            "Page 1\n",
            "PYTHONIOENCODING=utf-8 python3 generate_line_box.py -i \"data/bnk-ground-truth/247.tif\" -t \"data/bnk-ground-truth/247.gt.txt\" > \"data/bnk-ground-truth/247.box\"\n",
            "+ tesseract data/bnk-ground-truth/247.tif data/bnk-ground-truth/247 --psm 13 lstm.train\n",
            "Tesseract Open Source OCR Engine v4.0.0-beta.1 with Leptonica\n",
            "Page 1\n",
            "PYTHONIOENCODING=utf-8 python3 generate_line_box.py -i \"data/bnk-ground-truth/248.tif\" -t \"data/bnk-ground-truth/248.gt.txt\" > \"data/bnk-ground-truth/248.box\"\n",
            "+ tesseract data/bnk-ground-truth/248.tif data/bnk-ground-truth/248 --psm 13 lstm.train\n",
            "Tesseract Open Source OCR Engine v4.0.0-beta.1 with Leptonica\n",
            "Page 1\n",
            "PYTHONIOENCODING=utf-8 python3 generate_line_box.py -i \"data/bnk-ground-truth/249.tif\" -t \"data/bnk-ground-truth/249.gt.txt\" > \"data/bnk-ground-truth/249.box\"\n",
            "+ tesseract data/bnk-ground-truth/249.tif data/bnk-ground-truth/249 --psm 13 lstm.train\n",
            "Tesseract Open Source OCR Engine v4.0.0-beta.1 with Leptonica\n",
            "Page 1\n",
            "PYTHONIOENCODING=utf-8 python3 generate_line_box.py -i \"data/bnk-ground-truth/250.tif\" -t \"data/bnk-ground-truth/250.gt.txt\" > \"data/bnk-ground-truth/250.box\"\n",
            "+ tesseract data/bnk-ground-truth/250.tif data/bnk-ground-truth/250 --psm 13 lstm.train\n",
            "Tesseract Open Source OCR Engine v4.0.0-beta.1 with Leptonica\n",
            "Page 1\n",
            "PYTHONIOENCODING=utf-8 python3 generate_line_box.py -i \"data/bnk-ground-truth/251.tif\" -t \"data/bnk-ground-truth/251.gt.txt\" > \"data/bnk-ground-truth/251.box\"\n",
            "+ tesseract data/bnk-ground-truth/251.tif data/bnk-ground-truth/251 --psm 13 lstm.train\n",
            "Tesseract Open Source OCR Engine v4.0.0-beta.1 with Leptonica\n",
            "Page 1\n",
            "PYTHONIOENCODING=utf-8 python3 generate_line_box.py -i \"data/bnk-ground-truth/252.tif\" -t \"data/bnk-ground-truth/252.gt.txt\" > \"data/bnk-ground-truth/252.box\"\n",
            "+ tesseract data/bnk-ground-truth/252.tif data/bnk-ground-truth/252 --psm 13 lstm.train\n",
            "Tesseract Open Source OCR Engine v4.0.0-beta.1 with Leptonica\n",
            "Page 1\n",
            "PYTHONIOENCODING=utf-8 python3 generate_line_box.py -i \"data/bnk-ground-truth/253.tif\" -t \"data/bnk-ground-truth/253.gt.txt\" > \"data/bnk-ground-truth/253.box\"\n",
            "+ tesseract data/bnk-ground-truth/253.tif data/bnk-ground-truth/253 --psm 13 lstm.train\n",
            "Tesseract Open Source OCR Engine v4.0.0-beta.1 with Leptonica\n",
            "Page 1\n",
            "PYTHONIOENCODING=utf-8 python3 generate_line_box.py -i \"data/bnk-ground-truth/254.tif\" -t \"data/bnk-ground-truth/254.gt.txt\" > \"data/bnk-ground-truth/254.box\"\n",
            "+ tesseract data/bnk-ground-truth/254.tif data/bnk-ground-truth/254 --psm 13 lstm.train\n",
            "Tesseract Open Source OCR Engine v4.0.0-beta.1 with Leptonica\n",
            "Page 1\n",
            "PYTHONIOENCODING=utf-8 python3 generate_line_box.py -i \"data/bnk-ground-truth/255.tif\" -t \"data/bnk-ground-truth/255.gt.txt\" > \"data/bnk-ground-truth/255.box\"\n",
            "+ tesseract data/bnk-ground-truth/255.tif data/bnk-ground-truth/255 --psm 13 lstm.train\n",
            "Tesseract Open Source OCR Engine v4.0.0-beta.1 with Leptonica\n",
            "Page 1\n",
            "PYTHONIOENCODING=utf-8 python3 generate_line_box.py -i \"data/bnk-ground-truth/256.tif\" -t \"data/bnk-ground-truth/256.gt.txt\" > \"data/bnk-ground-truth/256.box\"\n",
            "+ tesseract data/bnk-ground-truth/256.tif data/bnk-ground-truth/256 --psm 13 lstm.train\n",
            "Tesseract Open Source OCR Engine v4.0.0-beta.1 with Leptonica\n",
            "Page 1\n",
            "PYTHONIOENCODING=utf-8 python3 generate_line_box.py -i \"data/bnk-ground-truth/257.tif\" -t \"data/bnk-ground-truth/257.gt.txt\" > \"data/bnk-ground-truth/257.box\"\n",
            "+ tesseract data/bnk-ground-truth/257.tif data/bnk-ground-truth/257 --psm 13 lstm.train\n",
            "Tesseract Open Source OCR Engine v4.0.0-beta.1 with Leptonica\n",
            "Page 1\n",
            "PYTHONIOENCODING=utf-8 python3 generate_line_box.py -i \"data/bnk-ground-truth/258.tif\" -t \"data/bnk-ground-truth/258.gt.txt\" > \"data/bnk-ground-truth/258.box\"\n",
            "+ tesseract data/bnk-ground-truth/258.tif data/bnk-ground-truth/258 --psm 13 lstm.train\n",
            "Tesseract Open Source OCR Engine v4.0.0-beta.1 with Leptonica\n",
            "Page 1\n",
            "PYTHONIOENCODING=utf-8 python3 generate_line_box.py -i \"data/bnk-ground-truth/259.tif\" -t \"data/bnk-ground-truth/259.gt.txt\" > \"data/bnk-ground-truth/259.box\"\n",
            "+ tesseract data/bnk-ground-truth/259.tif data/bnk-ground-truth/259 --psm 13 lstm.train\n",
            "Tesseract Open Source OCR Engine v4.0.0-beta.1 with Leptonica\n",
            "Page 1\n",
            "PYTHONIOENCODING=utf-8 python3 generate_line_box.py -i \"data/bnk-ground-truth/260.tif\" -t \"data/bnk-ground-truth/260.gt.txt\" > \"data/bnk-ground-truth/260.box\"\n",
            "+ tesseract data/bnk-ground-truth/260.tif data/bnk-ground-truth/260 --psm 13 lstm.train\n",
            "Tesseract Open Source OCR Engine v4.0.0-beta.1 with Leptonica\n",
            "Page 1\n",
            "PYTHONIOENCODING=utf-8 python3 generate_line_box.py -i \"data/bnk-ground-truth/261.tif\" -t \"data/bnk-ground-truth/261.gt.txt\" > \"data/bnk-ground-truth/261.box\"\n",
            "+ tesseract data/bnk-ground-truth/261.tif data/bnk-ground-truth/261 --psm 13 lstm.train\n",
            "Tesseract Open Source OCR Engine v4.0.0-beta.1 with Leptonica\n",
            "Page 1\n",
            "PYTHONIOENCODING=utf-8 python3 generate_line_box.py -i \"data/bnk-ground-truth/262.tif\" -t \"data/bnk-ground-truth/262.gt.txt\" > \"data/bnk-ground-truth/262.box\"\n",
            "+ tesseract data/bnk-ground-truth/262.tif data/bnk-ground-truth/262 --psm 13 lstm.train\n",
            "Tesseract Open Source OCR Engine v4.0.0-beta.1 with Leptonica\n",
            "Page 1\n",
            "PYTHONIOENCODING=utf-8 python3 generate_line_box.py -i \"data/bnk-ground-truth/263.tif\" -t \"data/bnk-ground-truth/263.gt.txt\" > \"data/bnk-ground-truth/263.box\"\n",
            "+ tesseract data/bnk-ground-truth/263.tif data/bnk-ground-truth/263 --psm 13 lstm.train\n",
            "Tesseract Open Source OCR Engine v4.0.0-beta.1 with Leptonica\n",
            "Page 1\n",
            "PYTHONIOENCODING=utf-8 python3 generate_line_box.py -i \"data/bnk-ground-truth/264.tif\" -t \"data/bnk-ground-truth/264.gt.txt\" > \"data/bnk-ground-truth/264.box\"\n",
            "+ tesseract data/bnk-ground-truth/264.tif data/bnk-ground-truth/264 --psm 13 lstm.train\n",
            "Tesseract Open Source OCR Engine v4.0.0-beta.1 with Leptonica\n",
            "Page 1\n",
            "PYTHONIOENCODING=utf-8 python3 generate_line_box.py -i \"data/bnk-ground-truth/265.tif\" -t \"data/bnk-ground-truth/265.gt.txt\" > \"data/bnk-ground-truth/265.box\"\n",
            "+ tesseract data/bnk-ground-truth/265.tif data/bnk-ground-truth/265 --psm 13 lstm.train\n",
            "Tesseract Open Source OCR Engine v4.0.0-beta.1 with Leptonica\n",
            "Page 1\n",
            "PYTHONIOENCODING=utf-8 python3 generate_line_box.py -i \"data/bnk-ground-truth/266.tif\" -t \"data/bnk-ground-truth/266.gt.txt\" > \"data/bnk-ground-truth/266.box\"\n",
            "+ tesseract data/bnk-ground-truth/266.tif data/bnk-ground-truth/266 --psm 13 lstm.train\n",
            "Tesseract Open Source OCR Engine v4.0.0-beta.1 with Leptonica\n",
            "Page 1\n",
            "PYTHONIOENCODING=utf-8 python3 generate_line_box.py -i \"data/bnk-ground-truth/267.tif\" -t \"data/bnk-ground-truth/267.gt.txt\" > \"data/bnk-ground-truth/267.box\"\n",
            "+ tesseract data/bnk-ground-truth/267.tif data/bnk-ground-truth/267 --psm 13 lstm.train\n",
            "Tesseract Open Source OCR Engine v4.0.0-beta.1 with Leptonica\n",
            "Page 1\n",
            "PYTHONIOENCODING=utf-8 python3 generate_line_box.py -i \"data/bnk-ground-truth/268.tif\" -t \"data/bnk-ground-truth/268.gt.txt\" > \"data/bnk-ground-truth/268.box\"\n",
            "+ tesseract data/bnk-ground-truth/268.tif data/bnk-ground-truth/268 --psm 13 lstm.train\n",
            "Tesseract Open Source OCR Engine v4.0.0-beta.1 with Leptonica\n",
            "Page 1\n",
            "PYTHONIOENCODING=utf-8 python3 generate_line_box.py -i \"data/bnk-ground-truth/269.tif\" -t \"data/bnk-ground-truth/269.gt.txt\" > \"data/bnk-ground-truth/269.box\"\n",
            "+ tesseract data/bnk-ground-truth/269.tif data/bnk-ground-truth/269 --psm 13 lstm.train\n",
            "Tesseract Open Source OCR Engine v4.0.0-beta.1 with Leptonica\n",
            "Page 1\n",
            "PYTHONIOENCODING=utf-8 python3 generate_line_box.py -i \"data/bnk-ground-truth/270.tif\" -t \"data/bnk-ground-truth/270.gt.txt\" > \"data/bnk-ground-truth/270.box\"\n",
            "+ tesseract data/bnk-ground-truth/270.tif data/bnk-ground-truth/270 --psm 13 lstm.train\n",
            "Tesseract Open Source OCR Engine v4.0.0-beta.1 with Leptonica\n",
            "Page 1\n",
            "PYTHONIOENCODING=utf-8 python3 generate_line_box.py -i \"data/bnk-ground-truth/271.tif\" -t \"data/bnk-ground-truth/271.gt.txt\" > \"data/bnk-ground-truth/271.box\"\n",
            "+ tesseract data/bnk-ground-truth/271.tif data/bnk-ground-truth/271 --psm 13 lstm.train\n",
            "Tesseract Open Source OCR Engine v4.0.0-beta.1 with Leptonica\n",
            "Page 1\n",
            "PYTHONIOENCODING=utf-8 python3 generate_line_box.py -i \"data/bnk-ground-truth/272.tif\" -t \"data/bnk-ground-truth/272.gt.txt\" > \"data/bnk-ground-truth/272.box\"\n",
            "+ tesseract data/bnk-ground-truth/272.tif data/bnk-ground-truth/272 --psm 13 lstm.train\n",
            "Tesseract Open Source OCR Engine v4.0.0-beta.1 with Leptonica\n",
            "Page 1\n",
            "PYTHONIOENCODING=utf-8 python3 generate_line_box.py -i \"data/bnk-ground-truth/273.tif\" -t \"data/bnk-ground-truth/273.gt.txt\" > \"data/bnk-ground-truth/273.box\"\n",
            "+ tesseract data/bnk-ground-truth/273.tif data/bnk-ground-truth/273 --psm 13 lstm.train\n",
            "Tesseract Open Source OCR Engine v4.0.0-beta.1 with Leptonica\n",
            "Page 1\n",
            "PYTHONIOENCODING=utf-8 python3 generate_line_box.py -i \"data/bnk-ground-truth/274.tif\" -t \"data/bnk-ground-truth/274.gt.txt\" > \"data/bnk-ground-truth/274.box\"\n",
            "+ tesseract data/bnk-ground-truth/274.tif data/bnk-ground-truth/274 --psm 13 lstm.train\n",
            "Tesseract Open Source OCR Engine v4.0.0-beta.1 with Leptonica\n",
            "Page 1\n",
            "PYTHONIOENCODING=utf-8 python3 generate_line_box.py -i \"data/bnk-ground-truth/275.tif\" -t \"data/bnk-ground-truth/275.gt.txt\" > \"data/bnk-ground-truth/275.box\"\n",
            "+ tesseract data/bnk-ground-truth/275.tif data/bnk-ground-truth/275 --psm 13 lstm.train\n",
            "Tesseract Open Source OCR Engine v4.0.0-beta.1 with Leptonica\n",
            "Page 1\n",
            "PYTHONIOENCODING=utf-8 python3 generate_line_box.py -i \"data/bnk-ground-truth/276.tif\" -t \"data/bnk-ground-truth/276.gt.txt\" > \"data/bnk-ground-truth/276.box\"\n",
            "+ tesseract data/bnk-ground-truth/276.tif data/bnk-ground-truth/276 --psm 13 lstm.train\n",
            "Tesseract Open Source OCR Engine v4.0.0-beta.1 with Leptonica\n",
            "Page 1\n",
            "PYTHONIOENCODING=utf-8 python3 generate_line_box.py -i \"data/bnk-ground-truth/277.tif\" -t \"data/bnk-ground-truth/277.gt.txt\" > \"data/bnk-ground-truth/277.box\"\n",
            "+ tesseract data/bnk-ground-truth/277.tif data/bnk-ground-truth/277 --psm 13 lstm.train\n",
            "Tesseract Open Source OCR Engine v4.0.0-beta.1 with Leptonica\n",
            "Page 1\n",
            "PYTHONIOENCODING=utf-8 python3 generate_line_box.py -i \"data/bnk-ground-truth/278.tif\" -t \"data/bnk-ground-truth/278.gt.txt\" > \"data/bnk-ground-truth/278.box\"\n",
            "+ tesseract data/bnk-ground-truth/278.tif data/bnk-ground-truth/278 --psm 13 lstm.train\n",
            "Tesseract Open Source OCR Engine v4.0.0-beta.1 with Leptonica\n",
            "Page 1\n",
            "PYTHONIOENCODING=utf-8 python3 generate_line_box.py -i \"data/bnk-ground-truth/279.tif\" -t \"data/bnk-ground-truth/279.gt.txt\" > \"data/bnk-ground-truth/279.box\"\n",
            "+ tesseract data/bnk-ground-truth/279.tif data/bnk-ground-truth/279 --psm 13 lstm.train\n",
            "Tesseract Open Source OCR Engine v4.0.0-beta.1 with Leptonica\n",
            "Page 1\n",
            "PYTHONIOENCODING=utf-8 python3 generate_line_box.py -i \"data/bnk-ground-truth/280.tif\" -t \"data/bnk-ground-truth/280.gt.txt\" > \"data/bnk-ground-truth/280.box\"\n",
            "+ tesseract data/bnk-ground-truth/280.tif data/bnk-ground-truth/280 --psm 13 lstm.train\n",
            "Tesseract Open Source OCR Engine v4.0.0-beta.1 with Leptonica\n",
            "Page 1\n",
            "PYTHONIOENCODING=utf-8 python3 generate_line_box.py -i \"data/bnk-ground-truth/281.tif\" -t \"data/bnk-ground-truth/281.gt.txt\" > \"data/bnk-ground-truth/281.box\"\n",
            "+ tesseract data/bnk-ground-truth/281.tif data/bnk-ground-truth/281 --psm 13 lstm.train\n",
            "Tesseract Open Source OCR Engine v4.0.0-beta.1 with Leptonica\n",
            "Page 1\n",
            "PYTHONIOENCODING=utf-8 python3 generate_line_box.py -i \"data/bnk-ground-truth/282.tif\" -t \"data/bnk-ground-truth/282.gt.txt\" > \"data/bnk-ground-truth/282.box\"\n",
            "+ tesseract data/bnk-ground-truth/282.tif data/bnk-ground-truth/282 --psm 13 lstm.train\n",
            "Tesseract Open Source OCR Engine v4.0.0-beta.1 with Leptonica\n",
            "Page 1\n",
            "PYTHONIOENCODING=utf-8 python3 generate_line_box.py -i \"data/bnk-ground-truth/283.tif\" -t \"data/bnk-ground-truth/283.gt.txt\" > \"data/bnk-ground-truth/283.box\"\n",
            "+ tesseract data/bnk-ground-truth/283.tif data/bnk-ground-truth/283 --psm 13 lstm.train\n",
            "Tesseract Open Source OCR Engine v4.0.0-beta.1 with Leptonica\n",
            "Page 1\n",
            "PYTHONIOENCODING=utf-8 python3 generate_line_box.py -i \"data/bnk-ground-truth/284.tif\" -t \"data/bnk-ground-truth/284.gt.txt\" > \"data/bnk-ground-truth/284.box\"\n",
            "+ tesseract data/bnk-ground-truth/284.tif data/bnk-ground-truth/284 --psm 13 lstm.train\n",
            "Tesseract Open Source OCR Engine v4.0.0-beta.1 with Leptonica\n",
            "Page 1\n",
            "PYTHONIOENCODING=utf-8 python3 generate_line_box.py -i \"data/bnk-ground-truth/285.tif\" -t \"data/bnk-ground-truth/285.gt.txt\" > \"data/bnk-ground-truth/285.box\"\n",
            "+ tesseract data/bnk-ground-truth/285.tif data/bnk-ground-truth/285 --psm 13 lstm.train\n",
            "Tesseract Open Source OCR Engine v4.0.0-beta.1 with Leptonica\n",
            "Page 1\n",
            "PYTHONIOENCODING=utf-8 python3 generate_line_box.py -i \"data/bnk-ground-truth/286.tif\" -t \"data/bnk-ground-truth/286.gt.txt\" > \"data/bnk-ground-truth/286.box\"\n",
            "+ tesseract data/bnk-ground-truth/286.tif data/bnk-ground-truth/286 --psm 13 lstm.train\n",
            "Tesseract Open Source OCR Engine v4.0.0-beta.1 with Leptonica\n",
            "Page 1\n",
            "PYTHONIOENCODING=utf-8 python3 generate_line_box.py -i \"data/bnk-ground-truth/287.tif\" -t \"data/bnk-ground-truth/287.gt.txt\" > \"data/bnk-ground-truth/287.box\"\n",
            "+ tesseract data/bnk-ground-truth/287.tif data/bnk-ground-truth/287 --psm 13 lstm.train\n",
            "Tesseract Open Source OCR Engine v4.0.0-beta.1 with Leptonica\n",
            "Page 1\n",
            "PYTHONIOENCODING=utf-8 python3 generate_line_box.py -i \"data/bnk-ground-truth/288.tif\" -t \"data/bnk-ground-truth/288.gt.txt\" > \"data/bnk-ground-truth/288.box\"\n",
            "+ tesseract data/bnk-ground-truth/288.tif data/bnk-ground-truth/288 --psm 13 lstm.train\n",
            "Tesseract Open Source OCR Engine v4.0.0-beta.1 with Leptonica\n",
            "Page 1\n",
            "PYTHONIOENCODING=utf-8 python3 generate_line_box.py -i \"data/bnk-ground-truth/289.tif\" -t \"data/bnk-ground-truth/289.gt.txt\" > \"data/bnk-ground-truth/289.box\"\n",
            "+ tesseract data/bnk-ground-truth/289.tif data/bnk-ground-truth/289 --psm 13 lstm.train\n",
            "Tesseract Open Source OCR Engine v4.0.0-beta.1 with Leptonica\n",
            "Page 1\n",
            "PYTHONIOENCODING=utf-8 python3 generate_line_box.py -i \"data/bnk-ground-truth/290.tif\" -t \"data/bnk-ground-truth/290.gt.txt\" > \"data/bnk-ground-truth/290.box\"\n",
            "+ tesseract data/bnk-ground-truth/290.tif data/bnk-ground-truth/290 --psm 13 lstm.train\n",
            "Tesseract Open Source OCR Engine v4.0.0-beta.1 with Leptonica\n",
            "Page 1\n",
            "PYTHONIOENCODING=utf-8 python3 generate_line_box.py -i \"data/bnk-ground-truth/291.tif\" -t \"data/bnk-ground-truth/291.gt.txt\" > \"data/bnk-ground-truth/291.box\"\n",
            "+ tesseract data/bnk-ground-truth/291.tif data/bnk-ground-truth/291 --psm 13 lstm.train\n",
            "Tesseract Open Source OCR Engine v4.0.0-beta.1 with Leptonica\n",
            "Page 1\n",
            "PYTHONIOENCODING=utf-8 python3 generate_line_box.py -i \"data/bnk-ground-truth/292.tif\" -t \"data/bnk-ground-truth/292.gt.txt\" > \"data/bnk-ground-truth/292.box\"\n",
            "+ tesseract data/bnk-ground-truth/292.tif data/bnk-ground-truth/292 --psm 13 lstm.train\n",
            "Tesseract Open Source OCR Engine v4.0.0-beta.1 with Leptonica\n",
            "Page 1\n",
            "PYTHONIOENCODING=utf-8 python3 generate_line_box.py -i \"data/bnk-ground-truth/293.tif\" -t \"data/bnk-ground-truth/293.gt.txt\" > \"data/bnk-ground-truth/293.box\"\n",
            "+ tesseract data/bnk-ground-truth/293.tif data/bnk-ground-truth/293 --psm 13 lstm.train\n",
            "Tesseract Open Source OCR Engine v4.0.0-beta.1 with Leptonica\n",
            "Page 1\n",
            "PYTHONIOENCODING=utf-8 python3 generate_line_box.py -i \"data/bnk-ground-truth/294.tif\" -t \"data/bnk-ground-truth/294.gt.txt\" > \"data/bnk-ground-truth/294.box\"\n",
            "+ tesseract data/bnk-ground-truth/294.tif data/bnk-ground-truth/294 --psm 13 lstm.train\n",
            "Tesseract Open Source OCR Engine v4.0.0-beta.1 with Leptonica\n",
            "Page 1\n",
            "PYTHONIOENCODING=utf-8 python3 generate_line_box.py -i \"data/bnk-ground-truth/295.tif\" -t \"data/bnk-ground-truth/295.gt.txt\" > \"data/bnk-ground-truth/295.box\"\n",
            "+ tesseract data/bnk-ground-truth/295.tif data/bnk-ground-truth/295 --psm 13 lstm.train\n",
            "Tesseract Open Source OCR Engine v4.0.0-beta.1 with Leptonica\n",
            "Page 1\n",
            "PYTHONIOENCODING=utf-8 python3 generate_line_box.py -i \"data/bnk-ground-truth/296.tif\" -t \"data/bnk-ground-truth/296.gt.txt\" > \"data/bnk-ground-truth/296.box\"\n",
            "+ tesseract data/bnk-ground-truth/296.tif data/bnk-ground-truth/296 --psm 13 lstm.train\n",
            "Tesseract Open Source OCR Engine v4.0.0-beta.1 with Leptonica\n",
            "Page 1\n",
            "PYTHONIOENCODING=utf-8 python3 generate_line_box.py -i \"data/bnk-ground-truth/297.tif\" -t \"data/bnk-ground-truth/297.gt.txt\" > \"data/bnk-ground-truth/297.box\"\n",
            "+ tesseract data/bnk-ground-truth/297.tif data/bnk-ground-truth/297 --psm 13 lstm.train\n",
            "Tesseract Open Source OCR Engine v4.0.0-beta.1 with Leptonica\n",
            "Page 1\n",
            "PYTHONIOENCODING=utf-8 python3 generate_line_box.py -i \"data/bnk-ground-truth/298.tif\" -t \"data/bnk-ground-truth/298.gt.txt\" > \"data/bnk-ground-truth/298.box\"\n",
            "+ tesseract data/bnk-ground-truth/298.tif data/bnk-ground-truth/298 --psm 13 lstm.train\n",
            "Tesseract Open Source OCR Engine v4.0.0-beta.1 with Leptonica\n",
            "Page 1\n",
            "PYTHONIOENCODING=utf-8 python3 generate_line_box.py -i \"data/bnk-ground-truth/299.tif\" -t \"data/bnk-ground-truth/299.gt.txt\" > \"data/bnk-ground-truth/299.box\"\n",
            "+ tesseract data/bnk-ground-truth/299.tif data/bnk-ground-truth/299 --psm 13 lstm.train\n",
            "Tesseract Open Source OCR Engine v4.0.0-beta.1 with Leptonica\n",
            "Page 1\n",
            "PYTHONIOENCODING=utf-8 python3 generate_line_box.py -i \"data/bnk-ground-truth/300.tif\" -t \"data/bnk-ground-truth/300.gt.txt\" > \"data/bnk-ground-truth/300.box\"\n",
            "+ tesseract data/bnk-ground-truth/300.tif data/bnk-ground-truth/300 --psm 13 lstm.train\n",
            "Tesseract Open Source OCR Engine v4.0.0-beta.1 with Leptonica\n",
            "Page 1\n",
            "PYTHONIOENCODING=utf-8 python3 generate_line_box.py -i \"data/bnk-ground-truth/301.tif\" -t \"data/bnk-ground-truth/301.gt.txt\" > \"data/bnk-ground-truth/301.box\"\n",
            "+ tesseract data/bnk-ground-truth/301.tif data/bnk-ground-truth/301 --psm 13 lstm.train\n",
            "Tesseract Open Source OCR Engine v4.0.0-beta.1 with Leptonica\n",
            "Page 1\n",
            "PYTHONIOENCODING=utf-8 python3 generate_line_box.py -i \"data/bnk-ground-truth/302.tif\" -t \"data/bnk-ground-truth/302.gt.txt\" > \"data/bnk-ground-truth/302.box\"\n",
            "+ tesseract data/bnk-ground-truth/302.tif data/bnk-ground-truth/302 --psm 13 lstm.train\n",
            "Tesseract Open Source OCR Engine v4.0.0-beta.1 with Leptonica\n",
            "Page 1\n",
            "PYTHONIOENCODING=utf-8 python3 generate_line_box.py -i \"data/bnk-ground-truth/303.tif\" -t \"data/bnk-ground-truth/303.gt.txt\" > \"data/bnk-ground-truth/303.box\"\n",
            "+ tesseract data/bnk-ground-truth/303.tif data/bnk-ground-truth/303 --psm 13 lstm.train\n",
            "Tesseract Open Source OCR Engine v4.0.0-beta.1 with Leptonica\n",
            "Page 1\n",
            "PYTHONIOENCODING=utf-8 python3 generate_line_box.py -i \"data/bnk-ground-truth/304.tif\" -t \"data/bnk-ground-truth/304.gt.txt\" > \"data/bnk-ground-truth/304.box\"\n",
            "+ tesseract data/bnk-ground-truth/304.tif data/bnk-ground-truth/304 --psm 13 lstm.train\n",
            "Tesseract Open Source OCR Engine v4.0.0-beta.1 with Leptonica\n",
            "Page 1\n",
            "PYTHONIOENCODING=utf-8 python3 generate_line_box.py -i \"data/bnk-ground-truth/305.tif\" -t \"data/bnk-ground-truth/305.gt.txt\" > \"data/bnk-ground-truth/305.box\"\n",
            "+ tesseract data/bnk-ground-truth/305.tif data/bnk-ground-truth/305 --psm 13 lstm.train\n",
            "Tesseract Open Source OCR Engine v4.0.0-beta.1 with Leptonica\n",
            "Page 1\n",
            "PYTHONIOENCODING=utf-8 python3 generate_line_box.py -i \"data/bnk-ground-truth/306.tif\" -t \"data/bnk-ground-truth/306.gt.txt\" > \"data/bnk-ground-truth/306.box\"\n",
            "+ tesseract data/bnk-ground-truth/306.tif data/bnk-ground-truth/306 --psm 13 lstm.train\n",
            "Tesseract Open Source OCR Engine v4.0.0-beta.1 with Leptonica\n",
            "Page 1\n",
            "PYTHONIOENCODING=utf-8 python3 generate_line_box.py -i \"data/bnk-ground-truth/307.tif\" -t \"data/bnk-ground-truth/307.gt.txt\" > \"data/bnk-ground-truth/307.box\"\n",
            "+ tesseract data/bnk-ground-truth/307.tif data/bnk-ground-truth/307 --psm 13 lstm.train\n",
            "Tesseract Open Source OCR Engine v4.0.0-beta.1 with Leptonica\n",
            "Page 1\n",
            "PYTHONIOENCODING=utf-8 python3 generate_line_box.py -i \"data/bnk-ground-truth/308.tif\" -t \"data/bnk-ground-truth/308.gt.txt\" > \"data/bnk-ground-truth/308.box\"\n",
            "+ tesseract data/bnk-ground-truth/308.tif data/bnk-ground-truth/308 --psm 13 lstm.train\n",
            "Tesseract Open Source OCR Engine v4.0.0-beta.1 with Leptonica\n",
            "Page 1\n",
            "PYTHONIOENCODING=utf-8 python3 generate_line_box.py -i \"data/bnk-ground-truth/309.tif\" -t \"data/bnk-ground-truth/309.gt.txt\" > \"data/bnk-ground-truth/309.box\"\n",
            "+ tesseract data/bnk-ground-truth/309.tif data/bnk-ground-truth/309 --psm 13 lstm.train\n",
            "Tesseract Open Source OCR Engine v4.0.0-beta.1 with Leptonica\n",
            "Page 1\n",
            "PYTHONIOENCODING=utf-8 python3 generate_line_box.py -i \"data/bnk-ground-truth/310.tif\" -t \"data/bnk-ground-truth/310.gt.txt\" > \"data/bnk-ground-truth/310.box\"\n",
            "+ tesseract data/bnk-ground-truth/310.tif data/bnk-ground-truth/310 --psm 13 lstm.train\n",
            "Tesseract Open Source OCR Engine v4.0.0-beta.1 with Leptonica\n",
            "Page 1\n",
            "PYTHONIOENCODING=utf-8 python3 generate_line_box.py -i \"data/bnk-ground-truth/311.tif\" -t \"data/bnk-ground-truth/311.gt.txt\" > \"data/bnk-ground-truth/311.box\"\n",
            "+ tesseract data/bnk-ground-truth/311.tif data/bnk-ground-truth/311 --psm 13 lstm.train\n",
            "Tesseract Open Source OCR Engine v4.0.0-beta.1 with Leptonica\n",
            "Page 1\n",
            "PYTHONIOENCODING=utf-8 python3 generate_line_box.py -i \"data/bnk-ground-truth/312.tif\" -t \"data/bnk-ground-truth/312.gt.txt\" > \"data/bnk-ground-truth/312.box\"\n",
            "+ tesseract data/bnk-ground-truth/312.tif data/bnk-ground-truth/312 --psm 13 lstm.train\n",
            "Tesseract Open Source OCR Engine v4.0.0-beta.1 with Leptonica\n",
            "Page 1\n",
            "PYTHONIOENCODING=utf-8 python3 generate_line_box.py -i \"data/bnk-ground-truth/313.tif\" -t \"data/bnk-ground-truth/313.gt.txt\" > \"data/bnk-ground-truth/313.box\"\n",
            "+ tesseract data/bnk-ground-truth/313.tif data/bnk-ground-truth/313 --psm 13 lstm.train\n",
            "Tesseract Open Source OCR Engine v4.0.0-beta.1 with Leptonica\n",
            "Page 1\n",
            "PYTHONIOENCODING=utf-8 python3 generate_line_box.py -i \"data/bnk-ground-truth/314.tif\" -t \"data/bnk-ground-truth/314.gt.txt\" > \"data/bnk-ground-truth/314.box\"\n",
            "+ tesseract data/bnk-ground-truth/314.tif data/bnk-ground-truth/314 --psm 13 lstm.train\n",
            "Tesseract Open Source OCR Engine v4.0.0-beta.1 with Leptonica\n",
            "Page 1\n",
            "PYTHONIOENCODING=utf-8 python3 generate_line_box.py -i \"data/bnk-ground-truth/315.tif\" -t \"data/bnk-ground-truth/315.gt.txt\" > \"data/bnk-ground-truth/315.box\"\n",
            "+ tesseract data/bnk-ground-truth/315.tif data/bnk-ground-truth/315 --psm 13 lstm.train\n",
            "Tesseract Open Source OCR Engine v4.0.0-beta.1 with Leptonica\n",
            "Page 1\n",
            "PYTHONIOENCODING=utf-8 python3 generate_line_box.py -i \"data/bnk-ground-truth/316.tif\" -t \"data/bnk-ground-truth/316.gt.txt\" > \"data/bnk-ground-truth/316.box\"\n",
            "+ tesseract data/bnk-ground-truth/316.tif data/bnk-ground-truth/316 --psm 13 lstm.train\n",
            "Tesseract Open Source OCR Engine v4.0.0-beta.1 with Leptonica\n",
            "Page 1\n",
            "PYTHONIOENCODING=utf-8 python3 generate_line_box.py -i \"data/bnk-ground-truth/317.tif\" -t \"data/bnk-ground-truth/317.gt.txt\" > \"data/bnk-ground-truth/317.box\"\n",
            "+ tesseract data/bnk-ground-truth/317.tif data/bnk-ground-truth/317 --psm 13 lstm.train\n",
            "Tesseract Open Source OCR Engine v4.0.0-beta.1 with Leptonica\n",
            "Page 1\n",
            "PYTHONIOENCODING=utf-8 python3 generate_line_box.py -i \"data/bnk-ground-truth/318.tif\" -t \"data/bnk-ground-truth/318.gt.txt\" > \"data/bnk-ground-truth/318.box\"\n",
            "+ tesseract data/bnk-ground-truth/318.tif data/bnk-ground-truth/318 --psm 13 lstm.train\n",
            "Tesseract Open Source OCR Engine v4.0.0-beta.1 with Leptonica\n",
            "Page 1\n",
            "PYTHONIOENCODING=utf-8 python3 generate_line_box.py -i \"data/bnk-ground-truth/319.tif\" -t \"data/bnk-ground-truth/319.gt.txt\" > \"data/bnk-ground-truth/319.box\"\n",
            "+ tesseract data/bnk-ground-truth/319.tif data/bnk-ground-truth/319 --psm 13 lstm.train\n",
            "Tesseract Open Source OCR Engine v4.0.0-beta.1 with Leptonica\n",
            "Page 1\n",
            "PYTHONIOENCODING=utf-8 python3 generate_line_box.py -i \"data/bnk-ground-truth/320.tif\" -t \"data/bnk-ground-truth/320.gt.txt\" > \"data/bnk-ground-truth/320.box\"\n",
            "+ tesseract data/bnk-ground-truth/320.tif data/bnk-ground-truth/320 --psm 13 lstm.train\n",
            "Tesseract Open Source OCR Engine v4.0.0-beta.1 with Leptonica\n",
            "Page 1\n",
            "PYTHONIOENCODING=utf-8 python3 generate_line_box.py -i \"data/bnk-ground-truth/321.tif\" -t \"data/bnk-ground-truth/321.gt.txt\" > \"data/bnk-ground-truth/321.box\"\n",
            "+ tesseract data/bnk-ground-truth/321.tif data/bnk-ground-truth/321 --psm 13 lstm.train\n",
            "Tesseract Open Source OCR Engine v4.0.0-beta.1 with Leptonica\n",
            "Page 1\n",
            "PYTHONIOENCODING=utf-8 python3 generate_line_box.py -i \"data/bnk-ground-truth/322.tif\" -t \"data/bnk-ground-truth/322.gt.txt\" > \"data/bnk-ground-truth/322.box\"\n",
            "+ tesseract data/bnk-ground-truth/322.tif data/bnk-ground-truth/322 --psm 13 lstm.train\n",
            "Tesseract Open Source OCR Engine v4.0.0-beta.1 with Leptonica\n",
            "Page 1\n",
            "PYTHONIOENCODING=utf-8 python3 generate_line_box.py -i \"data/bnk-ground-truth/323.tif\" -t \"data/bnk-ground-truth/323.gt.txt\" > \"data/bnk-ground-truth/323.box\"\n",
            "+ tesseract data/bnk-ground-truth/323.tif data/bnk-ground-truth/323 --psm 13 lstm.train\n",
            "Tesseract Open Source OCR Engine v4.0.0-beta.1 with Leptonica\n",
            "Page 1\n",
            "PYTHONIOENCODING=utf-8 python3 generate_line_box.py -i \"data/bnk-ground-truth/324.tif\" -t \"data/bnk-ground-truth/324.gt.txt\" > \"data/bnk-ground-truth/324.box\"\n",
            "+ tesseract data/bnk-ground-truth/324.tif data/bnk-ground-truth/324 --psm 13 lstm.train\n",
            "Tesseract Open Source OCR Engine v4.0.0-beta.1 with Leptonica\n",
            "Page 1\n",
            "PYTHONIOENCODING=utf-8 python3 generate_line_box.py -i \"data/bnk-ground-truth/326.tif\" -t \"data/bnk-ground-truth/326.gt.txt\" > \"data/bnk-ground-truth/326.box\"\n",
            "+ tesseract data/bnk-ground-truth/326.tif data/bnk-ground-truth/326 --psm 13 lstm.train\n",
            "Tesseract Open Source OCR Engine v4.0.0-beta.1 with Leptonica\n",
            "Page 1\n",
            "PYTHONIOENCODING=utf-8 python3 generate_line_box.py -i \"data/bnk-ground-truth/327.tif\" -t \"data/bnk-ground-truth/327.gt.txt\" > \"data/bnk-ground-truth/327.box\"\n",
            "+ tesseract data/bnk-ground-truth/327.tif data/bnk-ground-truth/327 --psm 13 lstm.train\n",
            "Tesseract Open Source OCR Engine v4.0.0-beta.1 with Leptonica\n",
            "Page 1\n",
            "PYTHONIOENCODING=utf-8 python3 generate_line_box.py -i \"data/bnk-ground-truth/328.tif\" -t \"data/bnk-ground-truth/328.gt.txt\" > \"data/bnk-ground-truth/328.box\"\n",
            "+ tesseract data/bnk-ground-truth/328.tif data/bnk-ground-truth/328 --psm 13 lstm.train\n",
            "Tesseract Open Source OCR Engine v4.0.0-beta.1 with Leptonica\n",
            "Page 1\n",
            "PYTHONIOENCODING=utf-8 python3 generate_line_box.py -i \"data/bnk-ground-truth/329.tif\" -t \"data/bnk-ground-truth/329.gt.txt\" > \"data/bnk-ground-truth/329.box\"\n",
            "+ tesseract data/bnk-ground-truth/329.tif data/bnk-ground-truth/329 --psm 13 lstm.train\n",
            "Tesseract Open Source OCR Engine v4.0.0-beta.1 with Leptonica\n",
            "Page 1\n",
            "PYTHONIOENCODING=utf-8 python3 generate_line_box.py -i \"data/bnk-ground-truth/330.tif\" -t \"data/bnk-ground-truth/330.gt.txt\" > \"data/bnk-ground-truth/330.box\"\n",
            "+ tesseract data/bnk-ground-truth/330.tif data/bnk-ground-truth/330 --psm 13 lstm.train\n",
            "Tesseract Open Source OCR Engine v4.0.0-beta.1 with Leptonica\n",
            "Page 1\n",
            "PYTHONIOENCODING=utf-8 python3 generate_line_box.py -i \"data/bnk-ground-truth/331.tif\" -t \"data/bnk-ground-truth/331.gt.txt\" > \"data/bnk-ground-truth/331.box\"\n",
            "+ tesseract data/bnk-ground-truth/331.tif data/bnk-ground-truth/331 --psm 13 lstm.train\n",
            "Tesseract Open Source OCR Engine v4.0.0-beta.1 with Leptonica\n",
            "Page 1\n",
            "PYTHONIOENCODING=utf-8 python3 generate_line_box.py -i \"data/bnk-ground-truth/332.tif\" -t \"data/bnk-ground-truth/332.gt.txt\" > \"data/bnk-ground-truth/332.box\"\n",
            "+ tesseract data/bnk-ground-truth/332.tif data/bnk-ground-truth/332 --psm 13 lstm.train\n",
            "Tesseract Open Source OCR Engine v4.0.0-beta.1 with Leptonica\n",
            "Page 1\n",
            "PYTHONIOENCODING=utf-8 python3 generate_line_box.py -i \"data/bnk-ground-truth/333.tif\" -t \"data/bnk-ground-truth/333.gt.txt\" > \"data/bnk-ground-truth/333.box\"\n",
            "+ tesseract data/bnk-ground-truth/333.tif data/bnk-ground-truth/333 --psm 13 lstm.train\n",
            "Tesseract Open Source OCR Engine v4.0.0-beta.1 with Leptonica\n",
            "Page 1\n",
            "PYTHONIOENCODING=utf-8 python3 generate_line_box.py -i \"data/bnk-ground-truth/334.tif\" -t \"data/bnk-ground-truth/334.gt.txt\" > \"data/bnk-ground-truth/334.box\"\n",
            "+ tesseract data/bnk-ground-truth/334.tif data/bnk-ground-truth/334 --psm 13 lstm.train\n",
            "Tesseract Open Source OCR Engine v4.0.0-beta.1 with Leptonica\n",
            "Page 1\n",
            "PYTHONIOENCODING=utf-8 python3 generate_line_box.py -i \"data/bnk-ground-truth/335.tif\" -t \"data/bnk-ground-truth/335.gt.txt\" > \"data/bnk-ground-truth/335.box\"\n",
            "+ tesseract data/bnk-ground-truth/335.tif data/bnk-ground-truth/335 --psm 13 lstm.train\n",
            "Tesseract Open Source OCR Engine v4.0.0-beta.1 with Leptonica\n",
            "Page 1\n",
            "PYTHONIOENCODING=utf-8 python3 generate_line_box.py -i \"data/bnk-ground-truth/336.tif\" -t \"data/bnk-ground-truth/336.gt.txt\" > \"data/bnk-ground-truth/336.box\"\n",
            "+ tesseract data/bnk-ground-truth/336.tif data/bnk-ground-truth/336 --psm 13 lstm.train\n",
            "Tesseract Open Source OCR Engine v4.0.0-beta.1 with Leptonica\n",
            "Page 1\n",
            "PYTHONIOENCODING=utf-8 python3 generate_line_box.py -i \"data/bnk-ground-truth/337.tif\" -t \"data/bnk-ground-truth/337.gt.txt\" > \"data/bnk-ground-truth/337.box\"\n",
            "+ tesseract data/bnk-ground-truth/337.tif data/bnk-ground-truth/337 --psm 13 lstm.train\n",
            "Tesseract Open Source OCR Engine v4.0.0-beta.1 with Leptonica\n",
            "Page 1\n",
            "PYTHONIOENCODING=utf-8 python3 generate_line_box.py -i \"data/bnk-ground-truth/338.tif\" -t \"data/bnk-ground-truth/338.gt.txt\" > \"data/bnk-ground-truth/338.box\"\n",
            "+ tesseract data/bnk-ground-truth/338.tif data/bnk-ground-truth/338 --psm 13 lstm.train\n",
            "Tesseract Open Source OCR Engine v4.0.0-beta.1 with Leptonica\n",
            "Page 1\n",
            "PYTHONIOENCODING=utf-8 python3 generate_line_box.py -i \"data/bnk-ground-truth/339.tif\" -t \"data/bnk-ground-truth/339.gt.txt\" > \"data/bnk-ground-truth/339.box\"\n",
            "+ tesseract data/bnk-ground-truth/339.tif data/bnk-ground-truth/339 --psm 13 lstm.train\n",
            "Tesseract Open Source OCR Engine v4.0.0-beta.1 with Leptonica\n",
            "Page 1\n",
            "PYTHONIOENCODING=utf-8 python3 generate_line_box.py -i \"data/bnk-ground-truth/340.tif\" -t \"data/bnk-ground-truth/340.gt.txt\" > \"data/bnk-ground-truth/340.box\"\n",
            "+ tesseract data/bnk-ground-truth/340.tif data/bnk-ground-truth/340 --psm 13 lstm.train\n",
            "Tesseract Open Source OCR Engine v4.0.0-beta.1 with Leptonica\n",
            "Page 1\n",
            "PYTHONIOENCODING=utf-8 python3 generate_line_box.py -i \"data/bnk-ground-truth/341.tif\" -t \"data/bnk-ground-truth/341.gt.txt\" > \"data/bnk-ground-truth/341.box\"\n",
            "+ tesseract data/bnk-ground-truth/341.tif data/bnk-ground-truth/341 --psm 13 lstm.train\n",
            "Tesseract Open Source OCR Engine v4.0.0-beta.1 with Leptonica\n",
            "Page 1\n",
            "PYTHONIOENCODING=utf-8 python3 generate_line_box.py -i \"data/bnk-ground-truth/342.tif\" -t \"data/bnk-ground-truth/342.gt.txt\" > \"data/bnk-ground-truth/342.box\"\n",
            "+ tesseract data/bnk-ground-truth/342.tif data/bnk-ground-truth/342 --psm 13 lstm.train\n",
            "Tesseract Open Source OCR Engine v4.0.0-beta.1 with Leptonica\n",
            "Page 1\n",
            "PYTHONIOENCODING=utf-8 python3 generate_line_box.py -i \"data/bnk-ground-truth/343.tif\" -t \"data/bnk-ground-truth/343.gt.txt\" > \"data/bnk-ground-truth/343.box\"\n",
            "+ tesseract data/bnk-ground-truth/343.tif data/bnk-ground-truth/343 --psm 13 lstm.train\n",
            "Tesseract Open Source OCR Engine v4.0.0-beta.1 with Leptonica\n",
            "Page 1\n",
            "PYTHONIOENCODING=utf-8 python3 generate_line_box.py -i \"data/bnk-ground-truth/344.tif\" -t \"data/bnk-ground-truth/344.gt.txt\" > \"data/bnk-ground-truth/344.box\"\n",
            "+ tesseract data/bnk-ground-truth/344.tif data/bnk-ground-truth/344 --psm 13 lstm.train\n",
            "Tesseract Open Source OCR Engine v4.0.0-beta.1 with Leptonica\n",
            "Page 1\n",
            "PYTHONIOENCODING=utf-8 python3 generate_line_box.py -i \"data/bnk-ground-truth/345.tif\" -t \"data/bnk-ground-truth/345.gt.txt\" > \"data/bnk-ground-truth/345.box\"\n",
            "+ tesseract data/bnk-ground-truth/345.tif data/bnk-ground-truth/345 --psm 13 lstm.train\n",
            "Tesseract Open Source OCR Engine v4.0.0-beta.1 with Leptonica\n",
            "Page 1\n",
            "PYTHONIOENCODING=utf-8 python3 generate_line_box.py -i \"data/bnk-ground-truth/346.tif\" -t \"data/bnk-ground-truth/346.gt.txt\" > \"data/bnk-ground-truth/346.box\"\n",
            "+ tesseract data/bnk-ground-truth/346.tif data/bnk-ground-truth/346 --psm 13 lstm.train\n",
            "Tesseract Open Source OCR Engine v4.0.0-beta.1 with Leptonica\n",
            "Page 1\n",
            "PYTHONIOENCODING=utf-8 python3 generate_line_box.py -i \"data/bnk-ground-truth/347.tif\" -t \"data/bnk-ground-truth/347.gt.txt\" > \"data/bnk-ground-truth/347.box\"\n",
            "+ tesseract data/bnk-ground-truth/347.tif data/bnk-ground-truth/347 --psm 13 lstm.train\n",
            "Tesseract Open Source OCR Engine v4.0.0-beta.1 with Leptonica\n",
            "Page 1\n",
            "PYTHONIOENCODING=utf-8 python3 generate_line_box.py -i \"data/bnk-ground-truth/348.tif\" -t \"data/bnk-ground-truth/348.gt.txt\" > \"data/bnk-ground-truth/348.box\"\n",
            "+ tesseract data/bnk-ground-truth/348.tif data/bnk-ground-truth/348 --psm 13 lstm.train\n",
            "Tesseract Open Source OCR Engine v4.0.0-beta.1 with Leptonica\n",
            "Page 1\n",
            "PYTHONIOENCODING=utf-8 python3 generate_line_box.py -i \"data/bnk-ground-truth/349.tif\" -t \"data/bnk-ground-truth/349.gt.txt\" > \"data/bnk-ground-truth/349.box\"\n",
            "+ tesseract data/bnk-ground-truth/349.tif data/bnk-ground-truth/349 --psm 13 lstm.train\n",
            "Tesseract Open Source OCR Engine v4.0.0-beta.1 with Leptonica\n",
            "Page 1\n",
            "PYTHONIOENCODING=utf-8 python3 generate_line_box.py -i \"data/bnk-ground-truth/350.tif\" -t \"data/bnk-ground-truth/350.gt.txt\" > \"data/bnk-ground-truth/350.box\"\n",
            "+ tesseract data/bnk-ground-truth/350.tif data/bnk-ground-truth/350 --psm 13 lstm.train\n",
            "Tesseract Open Source OCR Engine v4.0.0-beta.1 with Leptonica\n",
            "Page 1\n",
            "PYTHONIOENCODING=utf-8 python3 generate_line_box.py -i \"data/bnk-ground-truth/351.tif\" -t \"data/bnk-ground-truth/351.gt.txt\" > \"data/bnk-ground-truth/351.box\"\n",
            "+ tesseract data/bnk-ground-truth/351.tif data/bnk-ground-truth/351 --psm 13 lstm.train\n",
            "Tesseract Open Source OCR Engine v4.0.0-beta.1 with Leptonica\n",
            "Page 1\n",
            "PYTHONIOENCODING=utf-8 python3 generate_line_box.py -i \"data/bnk-ground-truth/352.tif\" -t \"data/bnk-ground-truth/352.gt.txt\" > \"data/bnk-ground-truth/352.box\"\n",
            "+ tesseract data/bnk-ground-truth/352.tif data/bnk-ground-truth/352 --psm 13 lstm.train\n",
            "Tesseract Open Source OCR Engine v4.0.0-beta.1 with Leptonica\n",
            "Page 1\n",
            "PYTHONIOENCODING=utf-8 python3 generate_line_box.py -i \"data/bnk-ground-truth/353.tif\" -t \"data/bnk-ground-truth/353.gt.txt\" > \"data/bnk-ground-truth/353.box\"\n",
            "+ tesseract data/bnk-ground-truth/353.tif data/bnk-ground-truth/353 --psm 13 lstm.train\n",
            "Tesseract Open Source OCR Engine v4.0.0-beta.1 with Leptonica\n",
            "Page 1\n",
            "PYTHONIOENCODING=utf-8 python3 generate_line_box.py -i \"data/bnk-ground-truth/354.tif\" -t \"data/bnk-ground-truth/354.gt.txt\" > \"data/bnk-ground-truth/354.box\"\n",
            "+ tesseract data/bnk-ground-truth/354.tif data/bnk-ground-truth/354 --psm 13 lstm.train\n",
            "Tesseract Open Source OCR Engine v4.0.0-beta.1 with Leptonica\n",
            "Page 1\n",
            "PYTHONIOENCODING=utf-8 python3 generate_line_box.py -i \"data/bnk-ground-truth/355.tif\" -t \"data/bnk-ground-truth/355.gt.txt\" > \"data/bnk-ground-truth/355.box\"\n",
            "+ tesseract data/bnk-ground-truth/355.tif data/bnk-ground-truth/355 --psm 13 lstm.train\n",
            "Tesseract Open Source OCR Engine v4.0.0-beta.1 with Leptonica\n",
            "Page 1\n",
            "PYTHONIOENCODING=utf-8 python3 generate_line_box.py -i \"data/bnk-ground-truth/356.tif\" -t \"data/bnk-ground-truth/356.gt.txt\" > \"data/bnk-ground-truth/356.box\"\n",
            "+ tesseract data/bnk-ground-truth/356.tif data/bnk-ground-truth/356 --psm 13 lstm.train\n",
            "Tesseract Open Source OCR Engine v4.0.0-beta.1 with Leptonica\n",
            "Page 1\n",
            "PYTHONIOENCODING=utf-8 python3 generate_line_box.py -i \"data/bnk-ground-truth/357.tif\" -t \"data/bnk-ground-truth/357.gt.txt\" > \"data/bnk-ground-truth/357.box\"\n",
            "+ tesseract data/bnk-ground-truth/357.tif data/bnk-ground-truth/357 --psm 13 lstm.train\n",
            "Tesseract Open Source OCR Engine v4.0.0-beta.1 with Leptonica\n",
            "Page 1\n",
            "PYTHONIOENCODING=utf-8 python3 generate_line_box.py -i \"data/bnk-ground-truth/358.tif\" -t \"data/bnk-ground-truth/358.gt.txt\" > \"data/bnk-ground-truth/358.box\"\n",
            "+ tesseract data/bnk-ground-truth/358.tif data/bnk-ground-truth/358 --psm 13 lstm.train\n",
            "Tesseract Open Source OCR Engine v4.0.0-beta.1 with Leptonica\n",
            "Page 1\n",
            "PYTHONIOENCODING=utf-8 python3 generate_line_box.py -i \"data/bnk-ground-truth/359.tif\" -t \"data/bnk-ground-truth/359.gt.txt\" > \"data/bnk-ground-truth/359.box\"\n",
            "+ tesseract data/bnk-ground-truth/359.tif data/bnk-ground-truth/359 --psm 13 lstm.train\n",
            "Tesseract Open Source OCR Engine v4.0.0-beta.1 with Leptonica\n",
            "Page 1\n",
            "PYTHONIOENCODING=utf-8 python3 generate_line_box.py -i \"data/bnk-ground-truth/360.tif\" -t \"data/bnk-ground-truth/360.gt.txt\" > \"data/bnk-ground-truth/360.box\"\n",
            "+ tesseract data/bnk-ground-truth/360.tif data/bnk-ground-truth/360 --psm 13 lstm.train\n",
            "Tesseract Open Source OCR Engine v4.0.0-beta.1 with Leptonica\n",
            "Page 1\n",
            "PYTHONIOENCODING=utf-8 python3 generate_line_box.py -i \"data/bnk-ground-truth/361.tif\" -t \"data/bnk-ground-truth/361.gt.txt\" > \"data/bnk-ground-truth/361.box\"\n",
            "+ tesseract data/bnk-ground-truth/361.tif data/bnk-ground-truth/361 --psm 13 lstm.train\n",
            "Tesseract Open Source OCR Engine v4.0.0-beta.1 with Leptonica\n",
            "Page 1\n",
            "PYTHONIOENCODING=utf-8 python3 generate_line_box.py -i \"data/bnk-ground-truth/362.tif\" -t \"data/bnk-ground-truth/362.gt.txt\" > \"data/bnk-ground-truth/362.box\"\n",
            "+ tesseract data/bnk-ground-truth/362.tif data/bnk-ground-truth/362 --psm 13 lstm.train\n",
            "Tesseract Open Source OCR Engine v4.0.0-beta.1 with Leptonica\n",
            "Page 1\n",
            "PYTHONIOENCODING=utf-8 python3 generate_line_box.py -i \"data/bnk-ground-truth/363.tif\" -t \"data/bnk-ground-truth/363.gt.txt\" > \"data/bnk-ground-truth/363.box\"\n",
            "+ tesseract data/bnk-ground-truth/363.tif data/bnk-ground-truth/363 --psm 13 lstm.train\n",
            "Tesseract Open Source OCR Engine v4.0.0-beta.1 with Leptonica\n",
            "Page 1\n",
            "PYTHONIOENCODING=utf-8 python3 generate_line_box.py -i \"data/bnk-ground-truth/364.tif\" -t \"data/bnk-ground-truth/364.gt.txt\" > \"data/bnk-ground-truth/364.box\"\n",
            "+ tesseract data/bnk-ground-truth/364.tif data/bnk-ground-truth/364 --psm 13 lstm.train\n",
            "Tesseract Open Source OCR Engine v4.0.0-beta.1 with Leptonica\n",
            "Page 1\n",
            "PYTHONIOENCODING=utf-8 python3 generate_line_box.py -i \"data/bnk-ground-truth/365.tif\" -t \"data/bnk-ground-truth/365.gt.txt\" > \"data/bnk-ground-truth/365.box\"\n",
            "+ tesseract data/bnk-ground-truth/365.tif data/bnk-ground-truth/365 --psm 13 lstm.train\n"
          ]
        }
      ]
    },
    {
      "cell_type": "code",
      "metadata": {
        "id": "l2JqkM-jE-pr",
        "colab": {
          "base_uri": "https://localhost:8080/"
        },
        "outputId": "e957bc01-1fca-4750-8c6f-9f6dd21fb4f8"
      },
      "source": [
        "!make traineddata MODEL_NAME=bnk"
      ],
      "execution_count": 44,
      "outputs": [
        {
          "output_type": "stream",
          "name": "stdout",
          "text": [
            "mkdir data/bnk/tessdata_best\n",
            "mkdir data/bnk/tessdata_fast\n",
            "lstmtraining \\\n",
            "          --stop_training \\\n",
            "          --continue_from data/bnk/checkpoints/bnk2.237_1608.checkpoint \\\n",
            "          --traineddata data/bnk/bnk.traineddata \\\n",
            "          --model_output data/bnk/tessdata_best/bnk2.237_1608.traineddata\n",
            "Loaded file data/bnk/checkpoints/bnk2.237_1608.checkpoint, unpacking...\n",
            "lstmtraining \\\n",
            "          --stop_training \\\n",
            "          --continue_from data/bnk/checkpoints/bnk8.061_527.checkpoint \\\n",
            "          --traineddata data/bnk/bnk.traineddata \\\n",
            "          --model_output data/bnk/tessdata_best/bnk8.061_527.traineddata\n",
            "Loaded file data/bnk/checkpoints/bnk8.061_527.checkpoint, unpacking...\n",
            "lstmtraining \\\n",
            "          --stop_training \\\n",
            "          --continue_from data/bnk/checkpoints/bnk2.675_1411.checkpoint \\\n",
            "          --traineddata data/bnk/bnk.traineddata \\\n",
            "          --model_output data/bnk/tessdata_best/bnk2.675_1411.traineddata\n",
            "Loaded file data/bnk/checkpoints/bnk2.675_1411.checkpoint, unpacking...\n",
            "lstmtraining \\\n",
            "          --stop_training \\\n",
            "          --continue_from data/bnk/checkpoints/bnk1.832_1866.checkpoint \\\n",
            "          --traineddata data/bnk/bnk.traineddata \\\n",
            "          --model_output data/bnk/tessdata_best/bnk1.832_1866.traineddata\n",
            "Loaded file data/bnk/checkpoints/bnk1.832_1866.checkpoint, unpacking...\n",
            "lstmtraining \\\n",
            "          --stop_training \\\n",
            "          --continue_from data/bnk/checkpoints/bnk1.914_1682.checkpoint \\\n",
            "          --traineddata data/bnk/bnk.traineddata \\\n",
            "          --model_output data/bnk/tessdata_best/bnk1.914_1682.traineddata\n",
            "Loaded file data/bnk/checkpoints/bnk1.914_1682.checkpoint, unpacking...\n",
            "lstmtraining \\\n",
            "          --stop_training \\\n",
            "          --continue_from data/bnk/checkpoints/bnk24.216_220.checkpoint \\\n",
            "          --traineddata data/bnk/bnk.traineddata \\\n",
            "          --model_output data/bnk/tessdata_best/bnk24.216_220.traineddata\n",
            "Loaded file data/bnk/checkpoints/bnk24.216_220.checkpoint, unpacking...\n",
            "lstmtraining \\\n",
            "          --stop_training \\\n",
            "          --continue_from data/bnk/checkpoints/bnk8.51_499.checkpoint \\\n",
            "          --traineddata data/bnk/bnk.traineddata \\\n",
            "          --model_output data/bnk/tessdata_best/bnk8.51_499.traineddata\n",
            "Loaded file data/bnk/checkpoints/bnk8.51_499.checkpoint, unpacking...\n",
            "lstmtraining \\\n",
            "          --stop_training \\\n",
            "          --continue_from data/bnk/checkpoints/bnk9.752_474.checkpoint \\\n",
            "          --traineddata data/bnk/bnk.traineddata \\\n",
            "          --model_output data/bnk/tessdata_best/bnk9.752_474.traineddata\n",
            "Loaded file data/bnk/checkpoints/bnk9.752_474.checkpoint, unpacking...\n",
            "lstmtraining \\\n",
            "          --stop_training \\\n",
            "          --continue_from data/bnk/checkpoints/bnk18.613_328.checkpoint \\\n",
            "          --traineddata data/bnk/bnk.traineddata \\\n",
            "          --model_output data/bnk/tessdata_best/bnk18.613_328.traineddata\n",
            "Loaded file data/bnk/checkpoints/bnk18.613_328.checkpoint, unpacking...\n",
            "lstmtraining \\\n",
            "          --stop_training \\\n",
            "          --continue_from data/bnk/checkpoints/bnk4.671_735.checkpoint \\\n",
            "          --traineddata data/bnk/bnk.traineddata \\\n",
            "          --model_output data/bnk/tessdata_best/bnk4.671_735.traineddata\n",
            "Loaded file data/bnk/checkpoints/bnk4.671_735.checkpoint, unpacking...\n",
            "lstmtraining \\\n",
            "          --stop_training \\\n",
            "          --continue_from data/bnk/checkpoints/bnk2.456_1474.checkpoint \\\n",
            "          --traineddata data/bnk/bnk.traineddata \\\n",
            "          --model_output data/bnk/tessdata_best/bnk2.456_1474.traineddata\n",
            "Loaded file data/bnk/checkpoints/bnk2.456_1474.checkpoint, unpacking...\n",
            "lstmtraining \\\n",
            "          --stop_training \\\n",
            "          --continue_from data/bnk/checkpoints/bnk39.521_74.checkpoint \\\n",
            "          --traineddata data/bnk/bnk.traineddata \\\n",
            "          --model_output data/bnk/tessdata_best/bnk39.521_74.traineddata\n",
            "Loaded file data/bnk/checkpoints/bnk39.521_74.checkpoint, unpacking...\n",
            "lstmtraining \\\n",
            "          --stop_training \\\n",
            "          --continue_from data/bnk/checkpoints/bnk7.009_553.checkpoint \\\n",
            "          --traineddata data/bnk/bnk.traineddata \\\n",
            "          --model_output data/bnk/tessdata_best/bnk7.009_553.traineddata\n",
            "Loaded file data/bnk/checkpoints/bnk7.009_553.checkpoint, unpacking...\n",
            "lstmtraining \\\n",
            "          --stop_training \\\n",
            "          --continue_from data/bnk/checkpoints/bnk3.754_913.checkpoint \\\n",
            "          --traineddata data/bnk/bnk.traineddata \\\n",
            "          --model_output data/bnk/tessdata_best/bnk3.754_913.traineddata\n",
            "Loaded file data/bnk/checkpoints/bnk3.754_913.checkpoint, unpacking...\n",
            "lstmtraining \\\n",
            "          --stop_training \\\n",
            "          --continue_from data/bnk/checkpoints/bnk5.76_622.checkpoint \\\n",
            "          --traineddata data/bnk/bnk.traineddata \\\n",
            "          --model_output data/bnk/tessdata_best/bnk5.76_622.traineddata\n",
            "Loaded file data/bnk/checkpoints/bnk5.76_622.checkpoint, unpacking...\n",
            "lstmtraining \\\n",
            "          --stop_training \\\n",
            "          --continue_from data/bnk/checkpoints/bnk5.216_669.checkpoint \\\n",
            "          --traineddata data/bnk/bnk.traineddata \\\n",
            "          --model_output data/bnk/tessdata_best/bnk5.216_669.traineddata\n",
            "Loaded file data/bnk/checkpoints/bnk5.216_669.checkpoint, unpacking...\n",
            "lstmtraining \\\n",
            "          --stop_training \\\n",
            "          --continue_from data/bnk/checkpoints/bnk2.079_1644.checkpoint \\\n",
            "          --traineddata data/bnk/bnk.traineddata \\\n",
            "          --model_output data/bnk/tessdata_best/bnk2.079_1644.traineddata\n",
            "Loaded file data/bnk/checkpoints/bnk2.079_1644.checkpoint, unpacking...\n",
            "lstmtraining \\\n",
            "          --stop_training \\\n",
            "          --continue_from data/bnk/checkpoints/bnk4.285_748.checkpoint \\\n",
            "          --traineddata data/bnk/bnk.traineddata \\\n",
            "          --model_output data/bnk/tessdata_best/bnk4.285_748.traineddata\n",
            "Loaded file data/bnk/checkpoints/bnk4.285_748.checkpoint, unpacking...\n",
            "lstmtraining \\\n",
            "          --stop_training \\\n",
            "          --continue_from data/bnk/checkpoints/bnk17.419_357.checkpoint \\\n",
            "          --traineddata data/bnk/bnk.traineddata \\\n",
            "          --model_output data/bnk/tessdata_best/bnk17.419_357.traineddata\n",
            "Loaded file data/bnk/checkpoints/bnk17.419_357.checkpoint, unpacking...\n",
            "lstmtraining \\\n",
            "          --stop_training \\\n",
            "          --continue_from data/bnk/checkpoints/bnk3.098_1049.checkpoint \\\n",
            "          --traineddata data/bnk/bnk.traineddata \\\n",
            "          --model_output data/bnk/tessdata_best/bnk3.098_1049.traineddata\n",
            "Loaded file data/bnk/checkpoints/bnk3.098_1049.checkpoint, unpacking...\n",
            "lstmtraining \\\n",
            "          --stop_training \\\n",
            "          --continue_from data/bnk/checkpoints/bnk2.803_1154.checkpoint \\\n",
            "          --traineddata data/bnk/bnk.traineddata \\\n",
            "          --model_output data/bnk/tessdata_best/bnk2.803_1154.traineddata\n",
            "Loaded file data/bnk/checkpoints/bnk2.803_1154.checkpoint, unpacking...\n",
            "lstmtraining \\\n",
            "          --stop_training \\\n",
            "          --continue_from data/bnk/checkpoints/bnk15.408_414.checkpoint \\\n",
            "          --traineddata data/bnk/bnk.traineddata \\\n",
            "          --model_output data/bnk/tessdata_best/bnk15.408_414.traineddata\n",
            "Loaded file data/bnk/checkpoints/bnk15.408_414.checkpoint, unpacking...\n",
            "lstmtraining \\\n",
            "          --stop_training \\\n",
            "          --continue_from data/bnk/checkpoints/bnk4.834_711.checkpoint \\\n",
            "          --traineddata data/bnk/bnk.traineddata \\\n",
            "          --model_output data/bnk/tessdata_best/bnk4.834_711.traineddata\n",
            "Loaded file data/bnk/checkpoints/bnk4.834_711.checkpoint, unpacking...\n",
            "lstmtraining \\\n",
            "          --stop_training \\\n",
            "          --continue_from data/bnk/checkpoints/bnk2.342_1488.checkpoint \\\n",
            "          --traineddata data/bnk/bnk.traineddata \\\n",
            "          --model_output data/bnk/tessdata_best/bnk2.342_1488.traineddata\n",
            "Loaded file data/bnk/checkpoints/bnk2.342_1488.checkpoint, unpacking...\n",
            "lstmtraining \\\n",
            "          --stop_training \\\n",
            "          --continue_from data/bnk/checkpoints/bnk11.958_439.checkpoint \\\n",
            "          --traineddata data/bnk/bnk.traineddata \\\n",
            "          --model_output data/bnk/tessdata_best/bnk11.958_439.traineddata\n",
            "Loaded file data/bnk/checkpoints/bnk11.958_439.checkpoint, unpacking...\n",
            "lstmtraining \\\n",
            "          --stop_training \\\n",
            "          --continue_from data/bnk/checkpoints/bnk20.149_295.checkpoint \\\n",
            "          --traineddata data/bnk/bnk.traineddata \\\n",
            "          --model_output data/bnk/tessdata_best/bnk20.149_295.traineddata\n",
            "Loaded file data/bnk/checkpoints/bnk20.149_295.checkpoint, unpacking...\n",
            "lstmtraining \\\n",
            "          --stop_training \\\n",
            "          --continue_from data/bnk/checkpoints/bnk6.581_580.checkpoint \\\n",
            "          --traineddata data/bnk/bnk.traineddata \\\n",
            "          --model_output data/bnk/tessdata_best/bnk6.581_580.traineddata\n",
            "Loaded file data/bnk/checkpoints/bnk6.581_580.checkpoint, unpacking...\n",
            "lstmtraining \\\n",
            "          --stop_training \\\n",
            "          --continue_from data/bnk/checkpoints/bnk16.209_382.checkpoint \\\n",
            "          --traineddata data/bnk/bnk.traineddata \\\n",
            "          --model_output data/bnk/tessdata_best/bnk16.209_382.traineddata\n",
            "Loaded file data/bnk/checkpoints/bnk16.209_382.checkpoint, unpacking...\n",
            "lstmtraining \\\n",
            "          --stop_training \\\n",
            "          --continue_from data/bnk/checkpoints/bnk22.353_261.checkpoint \\\n",
            "          --traineddata data/bnk/bnk.traineddata \\\n",
            "          --model_output data/bnk/tessdata_best/bnk22.353_261.traineddata\n",
            "Loaded file data/bnk/checkpoints/bnk22.353_261.checkpoint, unpacking...\n",
            "lstmtraining \\\n",
            "          --stop_training \\\n",
            "          --continue_from data/bnk/checkpoints/bnk2.99_1070.checkpoint \\\n",
            "          --traineddata data/bnk/bnk.traineddata \\\n",
            "          --model_output data/bnk/tessdata_best/bnk2.99_1070.traineddata\n",
            "Loaded file data/bnk/checkpoints/bnk2.99_1070.checkpoint, unpacking...\n",
            "lstmtraining \\\n",
            "          --stop_training \\\n",
            "          --continue_from data/bnk/checkpoints/bnk3.336_1028.checkpoint \\\n",
            "          --traineddata data/bnk/bnk.traineddata \\\n",
            "          --model_output data/bnk/tessdata_best/bnk3.336_1028.traineddata\n",
            "Loaded file data/bnk/checkpoints/bnk3.336_1028.checkpoint, unpacking...\n",
            "lstmtraining \\\n",
            "          --stop_training \\\n",
            "          --continue_from data/bnk/checkpoints/bnk4.074_788.checkpoint \\\n",
            "          --traineddata data/bnk/bnk.traineddata \\\n",
            "          --model_output data/bnk/tessdata_best/bnk4.074_788.traineddata\n",
            "Loaded file data/bnk/checkpoints/bnk4.074_788.checkpoint, unpacking...\n",
            "lstmtraining \\\n",
            "          --stop_training \\\n",
            "          --continue_from data/bnk/checkpoints/bnk28.668_186.checkpoint \\\n",
            "          --traineddata data/bnk/bnk.traineddata \\\n",
            "          --model_output data/bnk/tessdata_best/bnk28.668_186.traineddata\n",
            "Loaded file data/bnk/checkpoints/bnk28.668_186.checkpoint, unpacking...\n",
            "lstmtraining \\\n",
            "          --stop_training \\\n",
            "          --continue_from data/bnk/checkpoints/bnk6.128_599.checkpoint \\\n",
            "          --traineddata data/bnk/bnk.traineddata \\\n",
            "          --model_output data/bnk/tessdata_best/bnk6.128_599.traineddata\n",
            "Loaded file data/bnk/checkpoints/bnk6.128_599.checkpoint, unpacking...\n",
            "lstmtraining \\\n",
            "          --stop_training \\\n",
            "          --continue_from data/bnk/checkpoints/bnk2.589_1435.checkpoint \\\n",
            "          --traineddata data/bnk/bnk.traineddata \\\n",
            "          --model_output data/bnk/tessdata_best/bnk2.589_1435.traineddata\n",
            "Loaded file data/bnk/checkpoints/bnk2.589_1435.checkpoint, unpacking...\n",
            "lstmtraining \\\n",
            "          --stop_training \\\n",
            "          --continue_from data/bnk/checkpoints/bnk3.876_895.checkpoint \\\n",
            "          --traineddata data/bnk/bnk.traineddata \\\n",
            "          --model_output data/bnk/tessdata_best/bnk3.876_895.traineddata\n",
            "Loaded file data/bnk/checkpoints/bnk3.876_895.checkpoint, unpacking...\n",
            "lstmtraining \\\n",
            "          --stop_training \\\n",
            "          --continue_from data/bnk/checkpoints/bnk34.2_134.checkpoint \\\n",
            "          --traineddata data/bnk/bnk.traineddata \\\n",
            "          --model_output data/bnk/tessdata_best/bnk34.2_134.traineddata\n",
            "Loaded file data/bnk/checkpoints/bnk34.2_134.checkpoint, unpacking...\n",
            "lstmtraining \\\n",
            "          --stop_training \\\n",
            "          --continue_from data/bnk/checkpoints/bnk2.237_1608.checkpoint \\\n",
            "          --traineddata data/bnk/bnk.traineddata \\\n",
            "          --convert_to_int \\\n",
            "          --model_output data/bnk/tessdata_fast/bnk2.237_1608.traineddata\n",
            "Loaded file data/bnk/checkpoints/bnk2.237_1608.checkpoint, unpacking...\n",
            "lstmtraining \\\n",
            "          --stop_training \\\n",
            "          --continue_from data/bnk/checkpoints/bnk8.061_527.checkpoint \\\n",
            "          --traineddata data/bnk/bnk.traineddata \\\n",
            "          --convert_to_int \\\n",
            "          --model_output data/bnk/tessdata_fast/bnk8.061_527.traineddata\n",
            "Loaded file data/bnk/checkpoints/bnk8.061_527.checkpoint, unpacking...\n",
            "lstmtraining \\\n",
            "          --stop_training \\\n",
            "          --continue_from data/bnk/checkpoints/bnk2.675_1411.checkpoint \\\n",
            "          --traineddata data/bnk/bnk.traineddata \\\n",
            "          --convert_to_int \\\n",
            "          --model_output data/bnk/tessdata_fast/bnk2.675_1411.traineddata\n",
            "Loaded file data/bnk/checkpoints/bnk2.675_1411.checkpoint, unpacking...\n",
            "lstmtraining \\\n",
            "          --stop_training \\\n",
            "          --continue_from data/bnk/checkpoints/bnk1.832_1866.checkpoint \\\n",
            "          --traineddata data/bnk/bnk.traineddata \\\n",
            "          --convert_to_int \\\n",
            "          --model_output data/bnk/tessdata_fast/bnk1.832_1866.traineddata\n",
            "Loaded file data/bnk/checkpoints/bnk1.832_1866.checkpoint, unpacking...\n",
            "lstmtraining \\\n",
            "          --stop_training \\\n",
            "          --continue_from data/bnk/checkpoints/bnk1.914_1682.checkpoint \\\n",
            "          --traineddata data/bnk/bnk.traineddata \\\n",
            "          --convert_to_int \\\n",
            "          --model_output data/bnk/tessdata_fast/bnk1.914_1682.traineddata\n",
            "Loaded file data/bnk/checkpoints/bnk1.914_1682.checkpoint, unpacking...\n",
            "lstmtraining \\\n",
            "          --stop_training \\\n",
            "          --continue_from data/bnk/checkpoints/bnk24.216_220.checkpoint \\\n",
            "          --traineddata data/bnk/bnk.traineddata \\\n",
            "          --convert_to_int \\\n",
            "          --model_output data/bnk/tessdata_fast/bnk24.216_220.traineddata\n",
            "Loaded file data/bnk/checkpoints/bnk24.216_220.checkpoint, unpacking...\n",
            "lstmtraining \\\n",
            "          --stop_training \\\n",
            "          --continue_from data/bnk/checkpoints/bnk8.51_499.checkpoint \\\n",
            "          --traineddata data/bnk/bnk.traineddata \\\n",
            "          --convert_to_int \\\n",
            "          --model_output data/bnk/tessdata_fast/bnk8.51_499.traineddata\n",
            "Loaded file data/bnk/checkpoints/bnk8.51_499.checkpoint, unpacking...\n",
            "lstmtraining \\\n",
            "          --stop_training \\\n",
            "          --continue_from data/bnk/checkpoints/bnk9.752_474.checkpoint \\\n",
            "          --traineddata data/bnk/bnk.traineddata \\\n",
            "          --convert_to_int \\\n",
            "          --model_output data/bnk/tessdata_fast/bnk9.752_474.traineddata\n",
            "Loaded file data/bnk/checkpoints/bnk9.752_474.checkpoint, unpacking...\n",
            "lstmtraining \\\n",
            "          --stop_training \\\n",
            "          --continue_from data/bnk/checkpoints/bnk18.613_328.checkpoint \\\n",
            "          --traineddata data/bnk/bnk.traineddata \\\n",
            "          --convert_to_int \\\n",
            "          --model_output data/bnk/tessdata_fast/bnk18.613_328.traineddata\n",
            "Loaded file data/bnk/checkpoints/bnk18.613_328.checkpoint, unpacking...\n",
            "lstmtraining \\\n",
            "          --stop_training \\\n",
            "          --continue_from data/bnk/checkpoints/bnk4.671_735.checkpoint \\\n",
            "          --traineddata data/bnk/bnk.traineddata \\\n",
            "          --convert_to_int \\\n",
            "          --model_output data/bnk/tessdata_fast/bnk4.671_735.traineddata\n",
            "Loaded file data/bnk/checkpoints/bnk4.671_735.checkpoint, unpacking...\n",
            "lstmtraining \\\n",
            "          --stop_training \\\n",
            "          --continue_from data/bnk/checkpoints/bnk2.456_1474.checkpoint \\\n",
            "          --traineddata data/bnk/bnk.traineddata \\\n",
            "          --convert_to_int \\\n",
            "          --model_output data/bnk/tessdata_fast/bnk2.456_1474.traineddata\n",
            "Loaded file data/bnk/checkpoints/bnk2.456_1474.checkpoint, unpacking...\n",
            "lstmtraining \\\n",
            "          --stop_training \\\n",
            "          --continue_from data/bnk/checkpoints/bnk39.521_74.checkpoint \\\n",
            "          --traineddata data/bnk/bnk.traineddata \\\n",
            "          --convert_to_int \\\n",
            "          --model_output data/bnk/tessdata_fast/bnk39.521_74.traineddata\n",
            "Loaded file data/bnk/checkpoints/bnk39.521_74.checkpoint, unpacking...\n",
            "lstmtraining \\\n",
            "          --stop_training \\\n",
            "          --continue_from data/bnk/checkpoints/bnk7.009_553.checkpoint \\\n",
            "          --traineddata data/bnk/bnk.traineddata \\\n",
            "          --convert_to_int \\\n",
            "          --model_output data/bnk/tessdata_fast/bnk7.009_553.traineddata\n",
            "Loaded file data/bnk/checkpoints/bnk7.009_553.checkpoint, unpacking...\n",
            "lstmtraining \\\n",
            "          --stop_training \\\n",
            "          --continue_from data/bnk/checkpoints/bnk3.754_913.checkpoint \\\n",
            "          --traineddata data/bnk/bnk.traineddata \\\n",
            "          --convert_to_int \\\n",
            "          --model_output data/bnk/tessdata_fast/bnk3.754_913.traineddata\n",
            "Loaded file data/bnk/checkpoints/bnk3.754_913.checkpoint, unpacking...\n",
            "lstmtraining \\\n",
            "          --stop_training \\\n",
            "          --continue_from data/bnk/checkpoints/bnk5.76_622.checkpoint \\\n",
            "          --traineddata data/bnk/bnk.traineddata \\\n",
            "          --convert_to_int \\\n",
            "          --model_output data/bnk/tessdata_fast/bnk5.76_622.traineddata\n",
            "Loaded file data/bnk/checkpoints/bnk5.76_622.checkpoint, unpacking...\n",
            "lstmtraining \\\n",
            "          --stop_training \\\n",
            "          --continue_from data/bnk/checkpoints/bnk5.216_669.checkpoint \\\n",
            "          --traineddata data/bnk/bnk.traineddata \\\n",
            "          --convert_to_int \\\n",
            "          --model_output data/bnk/tessdata_fast/bnk5.216_669.traineddata\n",
            "Loaded file data/bnk/checkpoints/bnk5.216_669.checkpoint, unpacking...\n",
            "lstmtraining \\\n",
            "          --stop_training \\\n",
            "          --continue_from data/bnk/checkpoints/bnk2.079_1644.checkpoint \\\n",
            "          --traineddata data/bnk/bnk.traineddata \\\n",
            "          --convert_to_int \\\n",
            "          --model_output data/bnk/tessdata_fast/bnk2.079_1644.traineddata\n",
            "Loaded file data/bnk/checkpoints/bnk2.079_1644.checkpoint, unpacking...\n",
            "lstmtraining \\\n",
            "          --stop_training \\\n",
            "          --continue_from data/bnk/checkpoints/bnk4.285_748.checkpoint \\\n",
            "          --traineddata data/bnk/bnk.traineddata \\\n",
            "          --convert_to_int \\\n",
            "          --model_output data/bnk/tessdata_fast/bnk4.285_748.traineddata\n",
            "Loaded file data/bnk/checkpoints/bnk4.285_748.checkpoint, unpacking...\n",
            "lstmtraining \\\n",
            "          --stop_training \\\n",
            "          --continue_from data/bnk/checkpoints/bnk17.419_357.checkpoint \\\n",
            "          --traineddata data/bnk/bnk.traineddata \\\n",
            "          --convert_to_int \\\n",
            "          --model_output data/bnk/tessdata_fast/bnk17.419_357.traineddata\n",
            "Loaded file data/bnk/checkpoints/bnk17.419_357.checkpoint, unpacking...\n",
            "lstmtraining \\\n",
            "          --stop_training \\\n",
            "          --continue_from data/bnk/checkpoints/bnk3.098_1049.checkpoint \\\n",
            "          --traineddata data/bnk/bnk.traineddata \\\n",
            "          --convert_to_int \\\n",
            "          --model_output data/bnk/tessdata_fast/bnk3.098_1049.traineddata\n",
            "Loaded file data/bnk/checkpoints/bnk3.098_1049.checkpoint, unpacking...\n",
            "lstmtraining \\\n",
            "          --stop_training \\\n",
            "          --continue_from data/bnk/checkpoints/bnk2.803_1154.checkpoint \\\n",
            "          --traineddata data/bnk/bnk.traineddata \\\n",
            "          --convert_to_int \\\n",
            "          --model_output data/bnk/tessdata_fast/bnk2.803_1154.traineddata\n",
            "Loaded file data/bnk/checkpoints/bnk2.803_1154.checkpoint, unpacking...\n",
            "lstmtraining \\\n",
            "          --stop_training \\\n",
            "          --continue_from data/bnk/checkpoints/bnk15.408_414.checkpoint \\\n",
            "          --traineddata data/bnk/bnk.traineddata \\\n",
            "          --convert_to_int \\\n",
            "          --model_output data/bnk/tessdata_fast/bnk15.408_414.traineddata\n",
            "Loaded file data/bnk/checkpoints/bnk15.408_414.checkpoint, unpacking...\n",
            "lstmtraining \\\n",
            "          --stop_training \\\n",
            "          --continue_from data/bnk/checkpoints/bnk4.834_711.checkpoint \\\n",
            "          --traineddata data/bnk/bnk.traineddata \\\n",
            "          --convert_to_int \\\n",
            "          --model_output data/bnk/tessdata_fast/bnk4.834_711.traineddata\n",
            "Loaded file data/bnk/checkpoints/bnk4.834_711.checkpoint, unpacking...\n",
            "lstmtraining \\\n",
            "          --stop_training \\\n",
            "          --continue_from data/bnk/checkpoints/bnk2.342_1488.checkpoint \\\n",
            "          --traineddata data/bnk/bnk.traineddata \\\n",
            "          --convert_to_int \\\n",
            "          --model_output data/bnk/tessdata_fast/bnk2.342_1488.traineddata\n",
            "Loaded file data/bnk/checkpoints/bnk2.342_1488.checkpoint, unpacking...\n",
            "lstmtraining \\\n",
            "          --stop_training \\\n",
            "          --continue_from data/bnk/checkpoints/bnk11.958_439.checkpoint \\\n",
            "          --traineddata data/bnk/bnk.traineddata \\\n",
            "          --convert_to_int \\\n",
            "          --model_output data/bnk/tessdata_fast/bnk11.958_439.traineddata\n",
            "Loaded file data/bnk/checkpoints/bnk11.958_439.checkpoint, unpacking...\n",
            "lstmtraining \\\n",
            "          --stop_training \\\n",
            "          --continue_from data/bnk/checkpoints/bnk20.149_295.checkpoint \\\n",
            "          --traineddata data/bnk/bnk.traineddata \\\n",
            "          --convert_to_int \\\n",
            "          --model_output data/bnk/tessdata_fast/bnk20.149_295.traineddata\n",
            "Loaded file data/bnk/checkpoints/bnk20.149_295.checkpoint, unpacking...\n",
            "lstmtraining \\\n",
            "          --stop_training \\\n",
            "          --continue_from data/bnk/checkpoints/bnk6.581_580.checkpoint \\\n",
            "          --traineddata data/bnk/bnk.traineddata \\\n",
            "          --convert_to_int \\\n",
            "          --model_output data/bnk/tessdata_fast/bnk6.581_580.traineddata\n",
            "Loaded file data/bnk/checkpoints/bnk6.581_580.checkpoint, unpacking...\n",
            "lstmtraining \\\n",
            "          --stop_training \\\n",
            "          --continue_from data/bnk/checkpoints/bnk16.209_382.checkpoint \\\n",
            "          --traineddata data/bnk/bnk.traineddata \\\n",
            "          --convert_to_int \\\n",
            "          --model_output data/bnk/tessdata_fast/bnk16.209_382.traineddata\n",
            "Loaded file data/bnk/checkpoints/bnk16.209_382.checkpoint, unpacking...\n",
            "lstmtraining \\\n",
            "          --stop_training \\\n",
            "          --continue_from data/bnk/checkpoints/bnk22.353_261.checkpoint \\\n",
            "          --traineddata data/bnk/bnk.traineddata \\\n",
            "          --convert_to_int \\\n",
            "          --model_output data/bnk/tessdata_fast/bnk22.353_261.traineddata\n",
            "Loaded file data/bnk/checkpoints/bnk22.353_261.checkpoint, unpacking...\n",
            "lstmtraining \\\n",
            "          --stop_training \\\n",
            "          --continue_from data/bnk/checkpoints/bnk2.99_1070.checkpoint \\\n",
            "          --traineddata data/bnk/bnk.traineddata \\\n",
            "          --convert_to_int \\\n",
            "          --model_output data/bnk/tessdata_fast/bnk2.99_1070.traineddata\n",
            "Loaded file data/bnk/checkpoints/bnk2.99_1070.checkpoint, unpacking...\n",
            "lstmtraining \\\n",
            "          --stop_training \\\n",
            "          --continue_from data/bnk/checkpoints/bnk3.336_1028.checkpoint \\\n",
            "          --traineddata data/bnk/bnk.traineddata \\\n",
            "          --convert_to_int \\\n",
            "          --model_output data/bnk/tessdata_fast/bnk3.336_1028.traineddata\n",
            "Loaded file data/bnk/checkpoints/bnk3.336_1028.checkpoint, unpacking...\n",
            "lstmtraining \\\n",
            "          --stop_training \\\n",
            "          --continue_from data/bnk/checkpoints/bnk4.074_788.checkpoint \\\n",
            "          --traineddata data/bnk/bnk.traineddata \\\n",
            "          --convert_to_int \\\n",
            "          --model_output data/bnk/tessdata_fast/bnk4.074_788.traineddata\n",
            "Loaded file data/bnk/checkpoints/bnk4.074_788.checkpoint, unpacking...\n",
            "lstmtraining \\\n",
            "          --stop_training \\\n",
            "          --continue_from data/bnk/checkpoints/bnk28.668_186.checkpoint \\\n",
            "          --traineddata data/bnk/bnk.traineddata \\\n",
            "          --convert_to_int \\\n",
            "          --model_output data/bnk/tessdata_fast/bnk28.668_186.traineddata\n",
            "Loaded file data/bnk/checkpoints/bnk28.668_186.checkpoint, unpacking...\n",
            "lstmtraining \\\n",
            "          --stop_training \\\n",
            "          --continue_from data/bnk/checkpoints/bnk6.128_599.checkpoint \\\n",
            "          --traineddata data/bnk/bnk.traineddata \\\n",
            "          --convert_to_int \\\n",
            "          --model_output data/bnk/tessdata_fast/bnk6.128_599.traineddata\n",
            "Loaded file data/bnk/checkpoints/bnk6.128_599.checkpoint, unpacking...\n",
            "lstmtraining \\\n",
            "          --stop_training \\\n",
            "          --continue_from data/bnk/checkpoints/bnk2.589_1435.checkpoint \\\n",
            "          --traineddata data/bnk/bnk.traineddata \\\n",
            "          --convert_to_int \\\n",
            "          --model_output data/bnk/tessdata_fast/bnk2.589_1435.traineddata\n",
            "Loaded file data/bnk/checkpoints/bnk2.589_1435.checkpoint, unpacking...\n",
            "lstmtraining \\\n",
            "          --stop_training \\\n",
            "          --continue_from data/bnk/checkpoints/bnk3.876_895.checkpoint \\\n",
            "          --traineddata data/bnk/bnk.traineddata \\\n",
            "          --convert_to_int \\\n",
            "          --model_output data/bnk/tessdata_fast/bnk3.876_895.traineddata\n",
            "Loaded file data/bnk/checkpoints/bnk3.876_895.checkpoint, unpacking...\n",
            "lstmtraining \\\n",
            "          --stop_training \\\n",
            "          --continue_from data/bnk/checkpoints/bnk34.2_134.checkpoint \\\n",
            "          --traineddata data/bnk/bnk.traineddata \\\n",
            "          --convert_to_int \\\n",
            "          --model_output data/bnk/tessdata_fast/bnk34.2_134.traineddata\n",
            "Loaded file data/bnk/checkpoints/bnk34.2_134.checkpoint, unpacking...\n"
          ]
        }
      ]
    }
  ]
}