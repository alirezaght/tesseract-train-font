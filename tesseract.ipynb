{
  "nbformat": 4,
  "nbformat_minor": 0,
  "metadata": {
    "colab": {
      "name": "tesseract.ipynb",
      "provenance": [],
      "mount_file_id": "https://github.com/alirezaght/tesseract-train-font/blob/main/tesseract.ipynb",
      "authorship_tag": "ABX9TyPdUk7LVlelSvdTaDaQfTlA",
      "include_colab_link": true
    },
    "kernelspec": {
      "name": "python3",
      "display_name": "Python 3"
    },
    "language_info": {
      "name": "python"
    }
  },
  "cells": [
    {
      "cell_type": "markdown",
      "metadata": {
        "id": "view-in-github",
        "colab_type": "text"
      },
      "source": [
        "<a href=\"https://colab.research.google.com/github/alirezaght/tesseract-train-font/blob/main/tesseract.ipynb\" target=\"_parent\"><img src=\"https://colab.research.google.com/assets/colab-badge.svg\" alt=\"Open In Colab\"/></a>"
      ]
    },
    {
      "cell_type": "markdown",
      "metadata": {
        "id": "ZMR9kf33JXGe"
      },
      "source": [
        "Mounting google drive to have access to data"
      ]
    },
    {
      "cell_type": "code",
      "metadata": {
        "id": "KZxeD2GlJJIL",
        "outputId": "cc27702d-549f-4bc3-c845-399c8cccbb8c",
        "colab": {
          "base_uri": "https://localhost:8080/"
        }
      },
      "source": [
        "from google.colab import drive\n",
        "drive.mount('/content/drive')"
      ],
      "execution_count": 1,
      "outputs": [
        {
          "output_type": "stream",
          "name": "stdout",
          "text": [
            "Drive already mounted at /content/drive; to attempt to forcibly remount, call drive.mount(\"/content/drive\", force_remount=True).\n"
          ]
        }
      ]
    },
    {
      "cell_type": "markdown",
      "metadata": {
        "id": "ydQBW6ybmUn0"
      },
      "source": [
        "# Create dataset"
      ]
    },
    {
      "cell_type": "code",
      "metadata": {
        "id": "loBH3Me9mWuL",
        "outputId": "dcc9672a-e28f-44e1-b459-582752c877ed",
        "colab": {
          "base_uri": "https://localhost:8080/",
          "height": 1000
        }
      },
      "source": [
        "%cd /content\n",
        "!rm -rf /content/dataset\n",
        "!mkdir /content/dataset\n",
        "%cd /content/dataset\n",
        "\n",
        "from PIL import Image,ImageDraw,ImageFont\n",
        "from IPython.display import display\n",
        "import os\n",
        "import random\n",
        "\n",
        "def create_dataset(number_for_each_font):\n",
        "  FONT_DIR = '/content/drive/MyDrive/fonts'\n",
        "  count = 0\n",
        "  for font_file in os.listdir(f'{FONT_DIR}'):\n",
        "    sample = False\n",
        "    if not font_file.lower().endswith('ttf'):\n",
        "      print(f'skipping {font_file}')\n",
        "      continue\n",
        "    for i in range(number_for_each_font):\n",
        "      count += 1\n",
        "      font = ImageFont.truetype(f\"{FONT_DIR}/{font_file}\", random.randint(12, 64), encoding='unic')\n",
        "      length = random.randint(12, 20)\n",
        "      numbers = []\n",
        "      for j in range(length):\n",
        "        n = str(random.randint(0, 9)) + ((\" \" * random.randint(0, 4)) if random.random() < 0.3 else \"\")\n",
        "        numbers.append(n)        \n",
        "\n",
        "      unicode_text = \"\".join(numbers)\n",
        "      # get the line size\n",
        "      text_width, text_height = font.getsize(unicode_text)\n",
        "\n",
        "      # create a blank canvas with extra space between lines\n",
        "      canvas = Image.new('L', (text_width + 10, text_height + 10), \"white\")\n",
        "\n",
        "      # draw the text onto the text canvas, and use black as the text color\n",
        "      draw = ImageDraw.Draw(canvas)\n",
        "      draw.text((5,5), unicode_text, 'black', font)\n",
        "\n",
        "      # save the blank canvas to a file\n",
        "      canvas.save(f\"{count}.tif\", dpi=(300, 300))\n",
        "      with open(f'{count}.gt.txt', 'w') as f:\n",
        "        f.write(unicode_text)\n",
        "      if not sample:\n",
        "        sample = True\n",
        "        print(font_file)\n",
        "        im = Image.open(f'{count}.tif', 'r')\n",
        "        display(im)\n",
        "\n",
        "create_dataset(300)"
      ],
      "execution_count": 14,
      "outputs": [
        {
          "output_type": "stream",
          "name": "stdout",
          "text": [
            "/content\n",
            "/content/dataset\n",
            "Copy of BBADRBD.TTF\n"
          ]
        },
        {
          "output_type": "display_data",
          "data": {
            "image/png": "[encoded data removed]",
            "text/plain": [
              "<PIL.TiffImagePlugin.TiffImageFile image mode=L size=283x32 at 0x7FB00D4F3D90>"
            ]
          },
          "metadata": {}
        },
        {
          "output_type": "stream",
          "name": "stdout",
          "text": [
            "Copy of BHOMA.TTF\n"
          ]
        },
        {
          "output_type": "display_data",
          "data": {
            "image/png": "[encoded data removed]",
            "text/plain": [
              "<PIL.TiffImagePlugin.TiffImageFile image mode=L size=228x32 at 0x7FB00D4F3910>"
            ]
          },
          "metadata": {}
        },
        {
          "output_type": "stream",
          "name": "stdout",
          "text": [
            "Copy of BMITRA.TTF\n"
          ]
        },
        {
          "output_type": "display_data",
          "data": {
            "image/png": "[encoded data removed]",
            "text/plain": [
              "<PIL.TiffImagePlugin.TiffImageFile image mode=L size=520x52 at 0x7FB00D4F3ED0>"
            ]
          },
          "metadata": {}
        },
        {
          "output_type": "stream",
          "name": "stdout",
          "text": [
            "Copy of BMITRABD.TTF\n"
          ]
        },
        {
          "output_type": "display_data",
          "data": {
            "image/png": "[encoded data removed]",
            "text/plain": [
              "<PIL.TiffImagePlugin.TiffImageFile image mode=L size=468x43 at 0x7FB00D4F3F10>"
            ]
          },
          "metadata": {}
        },
        {
          "output_type": "stream",
          "name": "stdout",
          "text": [
            "Copy of BNAZANB.TTF\n"
          ]
        },
        {
          "output_type": "display_data",
          "data": {
            "image/png": "[encoded data removed]",
            "text/plain": [
              "<PIL.TiffImagePlugin.TiffImageFile image mode=L size=251x25 at 0x7FB00D4F1CD0>"
            ]
          },
          "metadata": {}
        },
        {
          "output_type": "stream",
          "name": "stdout",
          "text": [
            "Copy of BNAZANIN.TTF\n"
          ]
        },
        {
          "output_type": "display_data",
          "data": {
            "image/png": "[encoded data removed]",
            "text/plain": [
              "<PIL.TiffImagePlugin.TiffImageFile image mode=L size=371x42 at 0x7FB00D4F3910>"
            ]
          },
          "metadata": {}
        },
        {
          "output_type": "stream",
          "name": "stdout",
          "text": [
            "Copy of BROYA.TTF\n"
          ]
        },
        {
          "output_type": "display_data",
          "data": {
            "image/png": "[encoded data removed]",
            "text/plain": [
              "<PIL.TiffImagePlugin.TiffImageFile image mode=L size=262x27 at 0x7FB00D4F1210>"
            ]
          },
          "metadata": {}
        },
        {
          "output_type": "stream",
          "name": "stdout",
          "text": [
            "Copy of BROYABD.TTF\n"
          ]
        },
        {
          "output_type": "display_data",
          "data": {
            "image/png": "[encoded data removed]",
            "text/plain": [
              "<PIL.TiffImagePlugin.TiffImageFile image mode=L size=395x49 at 0x7FB00D4F3B10>"
            ]
          },
          "metadata": {}
        },
        {
          "output_type": "stream",
          "name": "stdout",
          "text": [
            "Copy of BZAR.TTF\n"
          ]
        },
        {
          "output_type": "display_data",
          "data": {
            "image/png": "[encoded data removed]",
            "text/plain": [
              "<PIL.TiffImagePlugin.TiffImageFile image mode=L size=248x32 at 0x7FB00D4F1C50>"
            ]
          },
          "metadata": {}
        },
        {
          "output_type": "stream",
          "name": "stdout",
          "text": [
            "Copy of BZARBOLD.TTF\n"
          ]
        },
        {
          "output_type": "display_data",
          "data": {
            "image/png": "[encoded data removed]",
            "text/plain": [
              "<PIL.TiffImagePlugin.TiffImageFile image mode=L size=175x19 at 0x7FB00D4F3990>"
            ]
          },
          "metadata": {}
        },
        {
          "output_type": "stream",
          "name": "stdout",
          "text": [
            "Copy of BBADR.TTF\n"
          ]
        },
        {
          "output_type": "display_data",
          "data": {
            "image/png": "[encoded data removed]",
            "text/plain": [
              "<PIL.TiffImagePlugin.TiffImageFile image mode=L size=497x39 at 0x7FB00D4F1E10>"
            ]
          },
          "metadata": {}
        },
        {
          "output_type": "stream",
          "name": "stdout",
          "text": [
            "Copy of BJALAL.TTF\n"
          ]
        },
        {
          "output_type": "display_data",
          "data": {
            "image/png": "[encoded data removed]",
            "text/plain": [
              "<PIL.TiffImagePlugin.TiffImageFile image mode=L size=331x31 at 0x7FB00D4F3D90>"
            ]
          },
          "metadata": {}
        },
        {
          "output_type": "stream",
          "name": "stdout",
          "text": [
            "Copy of BJALALBD.TTF\n"
          ]
        },
        {
          "output_type": "display_data",
          "data": {
            "image/png": "[encoded data removed]",
            "text/plain": [
              "<PIL.TiffImagePlugin.TiffImageFile image mode=L size=537x38 at 0x7FB00D4F3990>"
            ]
          },
          "metadata": {}
        },
        {
          "output_type": "stream",
          "name": "stdout",
          "text": [
            "Copy of BARASH.TTF\n"
          ]
        },
        {
          "output_type": "display_data",
          "data": {
            "image/png": "[encoded data removed]",
            "text/plain": [
              "<PIL.TiffImagePlugin.TiffImageFile image mode=L size=227x25 at 0x7FB00D4F1810>"
            ]
          },
          "metadata": {}
        },
        {
          "output_type": "stream",
          "name": "stdout",
          "text": [
            "futur.ttf\n"
          ]
        },
        {
          "output_type": "display_data",
          "data": {
            "image/png": "[encoded data removed]",
            "text/plain": [
              "<PIL.TiffImagePlugin.TiffImageFile image mode=L size=290x27 at 0x7FB00D4F12D0>"
            ]
          },
          "metadata": {}
        },
        {
          "output_type": "stream",
          "name": "stdout",
          "text": [
            "Helvetica.ttf\n"
          ]
        },
        {
          "output_type": "display_data",
          "data": {
            "image/png": "[encoded data removed]",
            "text/plain": [
              "<PIL.TiffImagePlugin.TiffImageFile image mode=L size=346x30 at 0x7FB00D4F1750>"
            ]
          },
          "metadata": {}
        },
        {
          "output_type": "stream",
          "name": "stdout",
          "text": [
            "ariblk.ttf\n"
          ]
        },
        {
          "output_type": "display_data",
          "data": {
            "image/png": "[encoded data removed]",
            "text/plain": [
              "<PIL.TiffImagePlugin.TiffImageFile image mode=L size=209x31 at 0x7FB00D54F490>"
            ]
          },
          "metadata": {}
        },
        {
          "output_type": "stream",
          "name": "stdout",
          "text": [
            "skipping cambria.ttc\n",
            "calibrili.ttf\n"
          ]
        },
        {
          "output_type": "display_data",
          "data": {
            "image/png": "[encoded data removed]",
            "text/plain": [
              "<PIL.TiffImagePlugin.TiffImageFile image mode=L size=228x23 at 0x7FB00D54FB10>"
            ]
          },
          "metadata": {}
        },
        {
          "output_type": "stream",
          "name": "stdout",
          "text": [
            "calibriz.ttf\n"
          ]
        },
        {
          "output_type": "display_data",
          "data": {
            "image/png": "[encoded data removed]",
            "text/plain": [
              "<PIL.TiffImagePlugin.TiffImageFile image mode=L size=394x39 at 0x7FB00D4F1550>"
            ]
          },
          "metadata": {}
        },
        {
          "output_type": "stream",
          "name": "stdout",
          "text": [
            "calibrib.ttf\n"
          ]
        },
        {
          "output_type": "display_data",
          "data": {
            "image/png": "[encoded data removed]",
            "text/plain": [
              "<PIL.TiffImagePlugin.TiffImageFile image mode=L size=322x42 at 0x7FB00D4F12D0>"
            ]
          },
          "metadata": {}
        },
        {
          "output_type": "stream",
          "name": "stdout",
          "text": [
            "calibri.ttf\n"
          ]
        },
        {
          "output_type": "display_data",
          "data": {
            "image/png": "[encoded data removed]",
            "text/plain": [
              "<PIL.TiffImagePlugin.TiffImageFile image mode=L size=483x38 at 0x7FB00D4F1B10>"
            ]
          },
          "metadata": {}
        },
        {
          "output_type": "stream",
          "name": "stdout",
          "text": [
            "calibril.ttf\n"
          ]
        },
        {
          "output_type": "display_data",
          "data": {
            "image/png": "[encoded data removed]",
            "text/plain": [
              "<PIL.TiffImagePlugin.TiffImageFile image mode=L size=183x28 at 0x7FB00D54FA50>"
            ]
          },
          "metadata": {}
        },
        {
          "output_type": "stream",
          "name": "stdout",
          "text": [
            "ariali.ttf\n"
          ]
        },
        {
          "output_type": "display_data",
          "data": {
            "image/png": "[encoded data removed]",
            "text/plain": [
              "<PIL.TiffImagePlugin.TiffImageFile image mode=L size=698x63 at 0x7FB00D54F590>"
            ]
          },
          "metadata": {}
        },
        {
          "output_type": "stream",
          "name": "stdout",
          "text": [
            "arialbd.ttf\n"
          ]
        },
        {
          "output_type": "display_data",
          "data": {
            "image/png": "[encoded data removed]",
            "text/plain": [
              "<PIL.TiffImagePlugin.TiffImageFile image mode=L size=577x51 at 0x7FB00D4F3F10>"
            ]
          },
          "metadata": {}
        },
        {
          "output_type": "stream",
          "name": "stdout",
          "text": [
            "calibrii.ttf\n"
          ]
        },
        {
          "output_type": "display_data",
          "data": {
            "image/png": "[encoded data removed]",
            "text/plain": [
              "<PIL.TiffImagePlugin.TiffImageFile image mode=L size=271x30 at 0x7FB00D4F3D10>"
            ]
          },
          "metadata": {}
        },
        {
          "output_type": "stream",
          "name": "stdout",
          "text": [
            "arialbi.ttf\n"
          ]
        },
        {
          "output_type": "display_data",
          "data": {
            "image/png": "[encoded data removed]",
            "text/plain": [
              "<PIL.TiffImagePlugin.TiffImageFile image mode=L size=860x67 at 0x7FB00D4F3FD0>"
            ]
          },
          "metadata": {}
        },
        {
          "output_type": "stream",
          "name": "stdout",
          "text": [
            "arial.ttf\n"
          ]
        },
        {
          "output_type": "display_data",
          "data": {
            "image/png": "[encoded data removed]",
            "text/plain": [
              "<PIL.TiffImagePlugin.TiffImageFile image mode=L size=231x28 at 0x7FB00D54F6D0>"
            ]
          },
          "metadata": {}
        },
        {
          "output_type": "stream",
          "name": "stdout",
          "text": [
            "verdanaz.ttf\n"
          ]
        },
        {
          "output_type": "display_data",
          "data": {
            "image/png": "[encoded data removed]",
            "text/plain": [
              "<PIL.TiffImagePlugin.TiffImageFile image mode=L size=690x65 at 0x7FB00D54FE10>"
            ]
          },
          "metadata": {}
        },
        {
          "output_type": "stream",
          "name": "stdout",
          "text": [
            "verdana.ttf\n"
          ]
        },
        {
          "output_type": "display_data",
          "data": {
            "image/png": "[encoded data removed]",
            "text/plain": [
              "<PIL.TiffImagePlugin.TiffImageFile image mode=L size=493x64 at 0x7FB00D4F1690>"
            ]
          },
          "metadata": {}
        },
        {
          "output_type": "stream",
          "name": "stdout",
          "text": [
            "verdanab.ttf\n"
          ]
        },
        {
          "output_type": "display_data",
          "data": {
            "image/png": "[encoded data removed]",
            "text/plain": [
              "<PIL.TiffImagePlugin.TiffImageFile image mode=L size=378x34 at 0x7FB00D4F1DD0>"
            ]
          },
          "metadata": {}
        },
        {
          "output_type": "stream",
          "name": "stdout",
          "text": [
            "timesbi.ttf\n"
          ]
        },
        {
          "output_type": "display_data",
          "data": {
            "image/png": "[encoded data removed]",
            "text/plain": [
              "<PIL.TiffImagePlugin.TiffImageFile image mode=L size=503x54 at 0x7FB00D4F3BD0>"
            ]
          },
          "metadata": {}
        },
        {
          "output_type": "stream",
          "name": "stdout",
          "text": [
            "verdanai.ttf\n"
          ]
        },
        {
          "output_type": "display_data",
          "data": {
            "image/png": "[encoded data removed]",
            "text/plain": [
              "<PIL.TiffImagePlugin.TiffImageFile image mode=L size=345x36 at 0x7FB00D4F1810>"
            ]
          },
          "metadata": {}
        },
        {
          "output_type": "stream",
          "name": "stdout",
          "text": [
            "timesi.ttf\n"
          ]
        },
        {
          "output_type": "display_data",
          "data": {
            "image/png": "[encoded data removed]",
            "text/plain": [
              "<PIL.TiffImagePlugin.TiffImageFile image mode=L size=331x34 at 0x7FB00D4F3950>"
            ]
          },
          "metadata": {}
        },
        {
          "output_type": "stream",
          "name": "stdout",
          "text": [
            "times.ttf\n"
          ]
        },
        {
          "output_type": "display_data",
          "data": {
            "image/png": "[encoded data removed]",
            "text/plain": [
              "<PIL.TiffImagePlugin.TiffImageFile image mode=L size=400x45 at 0x7FB00D4F1410>"
            ]
          },
          "metadata": {}
        },
        {
          "output_type": "stream",
          "name": "stdout",
          "text": [
            "timesbd.ttf\n"
          ]
        },
        {
          "output_type": "display_data",
          "data": {
            "image/png": "[encoded data removed]",
            "text/plain": [
              "<PIL.TiffImagePlugin.TiffImageFile image mode=L size=215x30 at 0x7FB00D4F3D10>"
            ]
          },
          "metadata": {}
        },
        {
          "output_type": "stream",
          "name": "stdout",
          "text": [
            "cambriai.ttf\n"
          ]
        },
        {
          "output_type": "display_data",
          "data": {
            "image/png": "[encoded data removed]",
            "text/plain": [
              "<PIL.TiffImagePlugin.TiffImageFile image mode=L size=131x23 at 0x7FB00D4F1F50>"
            ]
          },
          "metadata": {}
        },
        {
          "output_type": "stream",
          "name": "stdout",
          "text": [
            "framdit.ttf\n"
          ]
        },
        {
          "output_type": "display_data",
          "data": {
            "image/png": "[encoded data removed]",
            "text/plain": [
              "<PIL.TiffImagePlugin.TiffImageFile image mode=L size=297x40 at 0x7FB00D4F1950>"
            ]
          },
          "metadata": {}
        },
        {
          "output_type": "stream",
          "name": "stdout",
          "text": [
            "framd.ttf\n"
          ]
        },
        {
          "output_type": "display_data",
          "data": {
            "image/png": "[encoded data removed]",
            "text/plain": [
              "<PIL.TiffImagePlugin.TiffImageFile image mode=L size=255x28 at 0x7FB00D4F1990>"
            ]
          },
          "metadata": {}
        },
        {
          "output_type": "stream",
          "name": "stdout",
          "text": [
            "cambriaz.ttf\n"
          ]
        },
        {
          "output_type": "display_data",
          "data": {
            "image/png": "[encoded data removed]",
            "text/plain": [
              "<PIL.TiffImagePlugin.TiffImageFile image mode=L size=427x45 at 0x7FB00D4F3F10>"
            ]
          },
          "metadata": {}
        },
        {
          "output_type": "stream",
          "name": "stdout",
          "text": [
            "micross.ttf\n"
          ]
        },
        {
          "output_type": "display_data",
          "data": {
            "image/png": "[encoded data removed]",
            "text/plain": [
              "<PIL.TiffImagePlugin.TiffImageFile image mode=L size=646x61 at 0x7FB00D54F390>"
            ]
          },
          "metadata": {}
        },
        {
          "output_type": "stream",
          "name": "stdout",
          "text": [
            "cambriab.ttf\n"
          ]
        },
        {
          "output_type": "display_data",
          "data": {
            "image/png": "[encoded data removed]",
            "text/plain": [
              "<PIL.TiffImagePlugin.TiffImageFile image mode=L size=198x23 at 0x7FB00D4F1D10>"
            ]
          },
          "metadata": {}
        },
        {
          "output_type": "stream",
          "name": "stdout",
          "text": [
            "ROCKB.TTF\n"
          ]
        },
        {
          "output_type": "display_data",
          "data": {
            "image/png": "[encoded data removed]",
            "text/plain": [
              "<PIL.TiffImagePlugin.TiffImageFile image mode=L size=137x23 at 0x7FB00D4F1890>"
            ]
          },
          "metadata": {}
        },
        {
          "output_type": "stream",
          "name": "stdout",
          "text": [
            "ROCCB___.TTF\n"
          ]
        },
        {
          "output_type": "display_data",
          "data": {
            "image/png": "[encoded data removed]",
            "text/plain": [
              "<PIL.TiffImagePlugin.TiffImageFile image mode=L size=461x53 at 0x7FB00D54FA50>"
            ]
          },
          "metadata": {}
        },
        {
          "output_type": "stream",
          "name": "stdout",
          "text": [
            "ROCK.TTF\n"
          ]
        },
        {
          "output_type": "display_data",
          "data": {
            "image/png": "[encoded data removed]",
            "text/plain": [
              "<PIL.TiffImagePlugin.TiffImageFile image mode=L size=626x62 at 0x7FB00D4F3BD0>"
            ]
          },
          "metadata": {}
        },
        {
          "output_type": "stream",
          "name": "stdout",
          "text": [
            "OCRAEXT.TTF\n"
          ]
        },
        {
          "output_type": "display_data",
          "data": {
            "image/png": "[encoded data removed]",
            "text/plain": [
              "<PIL.TiffImagePlugin.TiffImageFile image mode=L size=670x41 at 0x7FB00D54FE10>"
            ]
          },
          "metadata": {}
        },
        {
          "output_type": "stream",
          "name": "stdout",
          "text": [
            "ROCKBI.TTF\n"
          ]
        },
        {
          "output_type": "display_data",
          "data": {
            "image/png": "[encoded data removed]",
            "text/plain": [
              "<PIL.TiffImagePlugin.TiffImageFile image mode=L size=453x61 at 0x7FB00D54FC90>"
            ]
          },
          "metadata": {}
        },
        {
          "output_type": "stream",
          "name": "stdout",
          "text": [
            "ROCKI.TTF\n"
          ]
        },
        {
          "output_type": "display_data",
          "data": {
            "image/png": "[encoded data removed]",
            "text/plain": [
              "<PIL.TiffImagePlugin.TiffImageFile image mode=L size=402x44 at 0x7FB00D4F1A10>"
            ]
          },
          "metadata": {}
        },
        {
          "output_type": "stream",
          "name": "stdout",
          "text": [
            "ROCKEB.TTF\n"
          ]
        },
        {
          "output_type": "display_data",
          "data": {
            "image/png": "[encoded data removed]",
            "text/plain": [
              "<PIL.TiffImagePlugin.TiffImageFile image mode=L size=246x25 at 0x7FB00D4F1CD0>"
            ]
          },
          "metadata": {}
        },
        {
          "output_type": "stream",
          "name": "stdout",
          "text": [
            "FRADMIT.TTF\n"
          ]
        },
        {
          "output_type": "display_data",
          "data": {
            "image/png": "[encoded data removed]",
            "text/plain": [
              "<PIL.TiffImagePlugin.TiffImageFile image mode=L size=436x38 at 0x7FB00D4F15D0>"
            ]
          },
          "metadata": {}
        },
        {
          "output_type": "stream",
          "name": "stdout",
          "text": [
            "FRADMCN.TTF\n"
          ]
        },
        {
          "output_type": "display_data",
          "data": {
            "image/png": "[encoded data removed]",
            "text/plain": [
              "<PIL.TiffImagePlugin.TiffImageFile image mode=L size=374x60 at 0x7FB00D54F850>"
            ]
          },
          "metadata": {}
        },
        {
          "output_type": "stream",
          "name": "stdout",
          "text": [
            "FRAHV.TTF\n"
          ]
        },
        {
          "output_type": "display_data",
          "data": {
            "image/png": "[encoded data removed]",
            "text/plain": [
              "<PIL.TiffImagePlugin.TiffImageFile image mode=L size=330x38 at 0x7FB00D4F3C90>"
            ]
          },
          "metadata": {}
        },
        {
          "output_type": "stream",
          "name": "stdout",
          "text": [
            "FRAMDCN.TTF\n"
          ]
        },
        {
          "output_type": "display_data",
          "data": {
            "image/png": "[encoded data removed]",
            "text/plain": [
              "<PIL.TiffImagePlugin.TiffImageFile image mode=L size=228x30 at 0x7FB00D54F510>"
            ]
          },
          "metadata": {}
        },
        {
          "output_type": "stream",
          "name": "stdout",
          "text": [
            "FRAHVIT.TTF\n"
          ]
        },
        {
          "output_type": "display_data",
          "data": {
            "image/png": "[encoded data removed]",
            "text/plain": [
              "<PIL.TiffImagePlugin.TiffImageFile image mode=L size=430x52 at 0x7FB00D54F350>"
            ]
          },
          "metadata": {}
        },
        {
          "output_type": "stream",
          "name": "stdout",
          "text": [
            "FRADM.TTF\n"
          ]
        },
        {
          "output_type": "display_data",
          "data": {
            "image/png": "[encoded data removed]",
            "text/plain": [
              "<PIL.TiffImagePlugin.TiffImageFile image mode=L size=495x58 at 0x7FB00D4F3910>"
            ]
          },
          "metadata": {}
        },
        {
          "output_type": "stream",
          "name": "stdout",
          "text": [
            "ROCC____.TTF\n"
          ]
        },
        {
          "output_type": "display_data",
          "data": {
            "image/png": "[encoded data removed]",
            "text/plain": [
              "<PIL.TiffImagePlugin.TiffImageFile image mode=L size=686x68 at 0x7FB00D4F18D0>"
            ]
          },
          "metadata": {}
        },
        {
          "output_type": "stream",
          "name": "stdout",
          "text": [
            "ARIALNBI.TTF\n"
          ]
        },
        {
          "output_type": "display_data",
          "data": {
            "image/png": "[encoded data removed]",
            "text/plain": [
              "<PIL.TiffImagePlugin.TiffImageFile image mode=L size=347x44 at 0x7FB00D54F350>"
            ]
          },
          "metadata": {}
        },
        {
          "output_type": "stream",
          "name": "stdout",
          "text": [
            "ARIALNI.TTF\n"
          ]
        },
        {
          "output_type": "display_data",
          "data": {
            "image/png": "[encoded data removed]",
            "text/plain": [
              "<PIL.TiffImagePlugin.TiffImageFile image mode=L size=600x50 at 0x7FB00D4F1B90>"
            ]
          },
          "metadata": {}
        },
        {
          "output_type": "stream",
          "name": "stdout",
          "text": [
            "ARIALNB.TTF\n"
          ]
        },
        {
          "output_type": "display_data",
          "data": {
            "image/png": "[encoded data removed]",
            "text/plain": [
              "<PIL.TiffImagePlugin.TiffImageFile image mode=L size=738x62 at 0x7FB00D4F3F10>"
            ]
          },
          "metadata": {}
        },
        {
          "output_type": "stream",
          "name": "stdout",
          "text": [
            "ARIALN.TTF\n"
          ]
        },
        {
          "output_type": "display_data",
          "data": {
            "image/png": "[encoded data removed]",
            "text/plain": [
              "<PIL.TiffImagePlugin.TiffImageFile image mode=L size=346x43 at 0x7FB00D4F3D50>"
            ]
          },
          "metadata": {}
        }
      ]
    },
    {
      "cell_type": "markdown",
      "metadata": {
        "id": "fATSPiWfdJxI"
      },
      "source": [
        "# Install tesseract"
      ]
    },
    {
      "cell_type": "markdown",
      "metadata": {
        "id": "SsK02dQAIu67"
      },
      "source": [
        "First let's install tesseract + all the dependency required"
      ]
    },
    {
      "cell_type": "code",
      "metadata": {
        "id": "UIprgEOlYjzy",
        "outputId": "08bee250-5d87-4467-9075-006916315dbd",
        "colab": {
          "base_uri": "https://localhost:8080/"
        }
      },
      "source": [
        "!apt install tesseract-ocr libtesseract-dev bc"
      ],
      "execution_count": 3,
      "outputs": [
        {
          "output_type": "stream",
          "name": "stdout",
          "text": [
            "Reading package lists... Done\n",
            "Building dependency tree       \n",
            "Reading state information... Done\n",
            "The following additional packages will be installed:\n",
            "  libleptonica-dev tesseract-ocr-eng tesseract-ocr-osd\n",
            "The following NEW packages will be installed:\n",
            "  bc libleptonica-dev libtesseract-dev tesseract-ocr tesseract-ocr-eng\n",
            "  tesseract-ocr-osd\n",
            "0 upgraded, 6 newly installed, 0 to remove and 37 not upgraded.\n",
            "Need to get 7,636 kB of archives.\n",
            "After this operation, 29.8 MB of additional disk space will be used.\n",
            "Get:1 http://archive.ubuntu.com/ubuntu bionic/main amd64 bc amd64 1.07.1-2 [86.2 kB]\n",
            "Get:2 http://archive.ubuntu.com/ubuntu bionic/universe amd64 libleptonica-dev amd64 1.75.3-3 [1,308 kB]\n",
            "Get:3 http://archive.ubuntu.com/ubuntu bionic/universe amd64 libtesseract-dev amd64 4.00~git2288-10f4998a-2 [1,447 kB]\n",
            "Get:4 http://archive.ubuntu.com/ubuntu bionic/universe amd64 tesseract-ocr-eng all 4.00~git24-0e00fe6-1.2 [1,588 kB]\n",
            "Get:5 http://archive.ubuntu.com/ubuntu bionic/universe amd64 tesseract-ocr-osd all 4.00~git24-0e00fe6-1.2 [2,989 kB]\n",
            "Get:6 http://archive.ubuntu.com/ubuntu bionic/universe amd64 tesseract-ocr amd64 4.00~git2288-10f4998a-2 [218 kB]\n",
            "Fetched 7,636 kB in 2s (4,509 kB/s)\n",
            "Selecting previously unselected package bc.\n",
            "(Reading database ... 155219 files and directories currently installed.)\n",
            "Preparing to unpack .../0-bc_1.07.1-2_amd64.deb ...\n",
            "Unpacking bc (1.07.1-2) ...\n",
            "Selecting previously unselected package libleptonica-dev.\n",
            "Preparing to unpack .../1-libleptonica-dev_1.75.3-3_amd64.deb ...\n",
            "Unpacking libleptonica-dev (1.75.3-3) ...\n",
            "Selecting previously unselected package libtesseract-dev.\n",
            "Preparing to unpack .../2-libtesseract-dev_4.00~git2288-10f4998a-2_amd64.deb ...\n",
            "Unpacking libtesseract-dev (4.00~git2288-10f4998a-2) ...\n",
            "Selecting previously unselected package tesseract-ocr-eng.\n",
            "Preparing to unpack .../3-tesseract-ocr-eng_4.00~git24-0e00fe6-1.2_all.deb ...\n",
            "Unpacking tesseract-ocr-eng (4.00~git24-0e00fe6-1.2) ...\n",
            "Selecting previously unselected package tesseract-ocr-osd.\n",
            "Preparing to unpack .../4-tesseract-ocr-osd_4.00~git24-0e00fe6-1.2_all.deb ...\n",
            "Unpacking tesseract-ocr-osd (4.00~git24-0e00fe6-1.2) ...\n",
            "Selecting previously unselected package tesseract-ocr.\n",
            "Preparing to unpack .../5-tesseract-ocr_4.00~git2288-10f4998a-2_amd64.deb ...\n",
            "Unpacking tesseract-ocr (4.00~git2288-10f4998a-2) ...\n",
            "Setting up libleptonica-dev (1.75.3-3) ...\n",
            "Setting up tesseract-ocr-osd (4.00~git24-0e00fe6-1.2) ...\n",
            "Setting up tesseract-ocr-eng (4.00~git24-0e00fe6-1.2) ...\n",
            "Setting up libtesseract-dev (4.00~git2288-10f4998a-2) ...\n",
            "Setting up tesseract-ocr (4.00~git2288-10f4998a-2) ...\n",
            "Setting up bc (1.07.1-2) ...\n",
            "Processing triggers for man-db (2.8.3-2ubuntu0.1) ...\n"
          ]
        }
      ]
    },
    {
      "cell_type": "markdown",
      "metadata": {
        "id": "FqO4X1HgdRCe"
      },
      "source": [
        "# Clone tesstrain"
      ]
    },
    {
      "cell_type": "code",
      "metadata": {
        "id": "ltU2wI4PX8xq",
        "outputId": "16c7c407-8ef9-4111-d810-a083efed07c8",
        "colab": {
          "base_uri": "https://localhost:8080/"
        }
      },
      "source": [
        "%cd /content\n",
        "!git clone https://github.com/tesseract-ocr/tesstrain"
      ],
      "execution_count": 6,
      "outputs": [
        {
          "output_type": "stream",
          "name": "stdout",
          "text": [
            "/content\n",
            "Cloning into 'tesstrain'...\n",
            "remote: Enumerating objects: 819, done.\u001b[K\n",
            "remote: Counting objects: 100% (44/44), done.\u001b[K\n",
            "remote: Compressing objects: 100% (33/33), done.\u001b[K\n",
            "remote: Total 819 (delta 21), reused 18 (delta 9), pack-reused 775\u001b[K\n",
            "Receiving objects: 100% (819/819), 13.37 MiB | 26.38 MiB/s, done.\n",
            "Resolving deltas: 100% (463/463), done.\n"
          ]
        }
      ]
    },
    {
      "cell_type": "markdown",
      "metadata": {
        "id": "DNmSKAyWdWFf"
      },
      "source": [
        "# Prepare data"
      ]
    },
    {
      "cell_type": "markdown",
      "metadata": {
        "id": "JuhzMGQyAL1M"
      },
      "source": [
        "If we want to load from google drive"
      ]
    },
    {
      "cell_type": "code",
      "metadata": {
        "id": "HHGWx1fwYCl4",
        "outputId": "6c92a59e-ee82-43c5-c2d4-94348ff308e5",
        "colab": {
          "base_uri": "https://localhost:8080/"
        }
      },
      "source": [
        "%cd /content\n",
        "!rm -rf /content/bnk-ground-truth\n",
        "!cp /content/drive/MyDrive/dataset.rar /content/\n",
        "!unrar x /content/dataset.rar\n",
        "!mkdir tesstrain/data\n",
        "!rm -rf tesstrain/data/bnk-ground-truth\n",
        "!mv bnk-ground-truth tesstrain/data/bnk-ground-truth\n",
        "%cd /content/tesstrain"
      ],
      "execution_count": 7,
      "outputs": [
        {
          "output_type": "stream",
          "name": "stdout",
          "text": [
            "/content\n",
            "\n",
            "UNRAR 5.50 freeware      Copyright (c) 1993-2017 Alexander Roshal\n",
            "\n",
            "\n",
            "Extracting from /content/dataset.rar\n",
            "\n",
            "Creating    bnk-ground-truth                                          OK\n",
            "Extracting  bnk-ground-truth/000e9444-03bb-4f7f-a07b-a7c623f8bbb6.gt.txt     \b\b\b\b  0%\b\b\b\b\b  OK \n",
            "Extracting  bnk-ground-truth/000e9444-03bb-4f7f-a07b-a7c623f8bbb6.tif     \b\b\b\b  0%\b\b\b\b\b  OK \n",
            "Extracting  bnk-ground-truth/0011fe2e-e8ee-48e8-9699-cc59e1d4876a.gt.txt     \b\b\b\b  0%\b\b\b\b\b  OK \n",
            "Extracting  bnk-ground-truth/0011fe2e-e8ee-48e8-9699-cc59e1d4876a.tif     \b\b\b\b  0%\b\b\b\b\b  OK \n",
            "Extracting  bnk-ground-truth/0033ddc4-7c75-42af-a9e7-74111ea9f938.gt.txt     \b\b\b\b  0%\b\b\b\b\b  OK \n",
            "Extracting  bnk-ground-truth/0033ddc4-7c75-42af-a9e7-74111ea9f938.tif     \b\b\b\b  0%\b\b\b\b\b  OK \n",
            "Extracting  bnk-ground-truth/00383b82-c116-4844-b52c-5a72f9420f7d.gt.txt     \b\b\b\b  0%\b\b\b\b\b  OK \n",
            "Extracting  bnk-ground-truth/00383b82-c116-4844-b52c-5a72f9420f7d.tif     \b\b\b\b  0%\b\b\b\b\b  OK \n",
            "Extracting  bnk-ground-truth/0040885a-61d2-4dc2-8d79-fe6c78f25576.gt.txt     \b\b\b\b  0%\b\b\b\b\b  OK \n",
            "Extracting  bnk-ground-truth/0040885a-61d2-4dc2-8d79-fe6c78f25576.tif     \b\b\b\b  0%\b\b\b\b\b  OK \n",
            "Extracting  bnk-ground-truth/004a9eb6-b6b9-49df-a7be-754452b827af.gt.txt     \b\b\b\b  0%\b\b\b\b\b  OK \n",
            "Extracting  bnk-ground-truth/004a9eb6-b6b9-49df-a7be-754452b827af.tif     \b\b\b\b  0%\b\b\b\b\b  OK \n",
            "Extracting  bnk-ground-truth/005c65a5-6b7c-4b89-9e53-9e9192fedb12.gt.txt     \b\b\b\b  0%\b\b\b\b\b  OK \n",
            "Extracting  bnk-ground-truth/005c65a5-6b7c-4b89-9e53-9e9192fedb12.tif     \b\b\b\b  0%\b\b\b\b\b  OK \n",
            "Extracting  bnk-ground-truth/0064fbae-42a1-4546-b5ed-0513ace1a053.gt.txt     \b\b\b\b  0%\b\b\b\b\b  OK \n",
            "Extracting  bnk-ground-truth/0064fbae-42a1-4546-b5ed-0513ace1a053.tif     \b\b\b\b  0%\b\b\b\b\b  OK \n",
            "Extracting  bnk-ground-truth/00705702-f135-485a-a54b-fa2ea27274c5.gt.txt     \b\b\b\b  0%\b\b\b\b\b  OK \n",
            "Extracting  bnk-ground-truth/00705702-f135-485a-a54b-fa2ea27274c5.tif     \b\b\b\b  0%\b\b\b\b\b  OK \n",
            "Extracting  bnk-ground-truth/00793eec-0f12-4cff-83f1-ef1c8794446d.gt.txt     \b\b\b\b  0%\b\b\b\b\b  OK \n",
            "Extracting  bnk-ground-truth/00793eec-0f12-4cff-83f1-ef1c8794446d.tif     \b\b\b\b  0%\b\b\b\b\b  OK \n",
            "Extracting  bnk-ground-truth/007a1add-c378-4401-baa7-4851467b42f9.gt.txt     \b\b\b\b  0%\b\b\b\b\b  OK \n",
            "Extracting  bnk-ground-truth/007a1add-c378-4401-baa7-4851467b42f9.tif     \b\b\b\b  0%\b\b\b\b\b  OK \n",
            "Extracting  bnk-ground-truth/00a43185-ac7e-4d97-8e8c-30a0f52d1292.gt.txt     \b\b\b\b  0%\b\b\b\b\b  OK \n",
            "Extracting  bnk-ground-truth/00a43185-ac7e-4d97-8e8c-30a0f52d1292.tif     \b\b\b\b  0%\b\b\b\b\b  OK \n",
            "Extracting  bnk-ground-truth/00a79d40-0573-4d96-b723-5fe1144818e0.gt.txt     \b\b\b\b  0%\b\b\b\b\b  OK \n",
            "Extracting  bnk-ground-truth/00a79d40-0573-4d96-b723-5fe1144818e0.tif     \b\b\b\b  0%\b\b\b\b\b  OK \n",
            "Extracting  bnk-ground-truth/00bef990-19a7-49fb-8266-dc1eb8758864.gt.txt     \b\b\b\b  0%\b\b\b\b\b  OK \n",
            "Extracting  bnk-ground-truth/00bef990-19a7-49fb-8266-dc1eb8758864.tif     \b\b\b\b  0%\b\b\b\b\b  OK \n",
            "Extracting  bnk-ground-truth/00bf8994-dcbc-4c8a-b6b4-0614266f9bdd.gt.txt     \b\b\b\b  0%\b\b\b\b\b  OK \n",
            "Extracting  bnk-ground-truth/00bf8994-dcbc-4c8a-b6b4-0614266f9bdd.tif     \b\b\b\b  0%\b\b\b\b\b  OK \n",
            "Extracting  bnk-ground-truth/00bfe17e-df6f-406a-9e4d-824f191167d3.gt.txt     \b\b\b\b  0%\b\b\b\b\b  OK \n",
            "Extracting  bnk-ground-truth/00bfe17e-df6f-406a-9e4d-824f191167d3.tif     \b\b\b\b  0%\b\b\b\b\b  OK \n",
            "Extracting  bnk-ground-truth/00c8c28b-a812-4839-ab9a-9219f250b439.gt.txt     \b\b\b\b  0%\b\b\b\b\b  OK \n",
            "Extracting  bnk-ground-truth/00c8c28b-a812-4839-ab9a-9219f250b439.tif     \b\b\b\b  0%\b\b\b\b\b  OK \n",
            "Extracting  bnk-ground-truth/00ce4104-ad6a-4caa-b02f-3e31f24d4392.gt.txt     \b\b\b\b  0%\b\b\b\b\b  OK \n",
            "Extracting  bnk-ground-truth/00ce4104-ad6a-4caa-b02f-3e31f24d4392.tif     \b\b\b\b  0%\b\b\b\b\b  OK \n",
            "Extracting  bnk-ground-truth/00d06433-83d8-45fb-b44f-abf1575a87ca.gt.txt     \b\b\b\b  0%\b\b\b\b\b  OK \n",
            "Extracting  bnk-ground-truth/00d06433-83d8-45fb-b44f-abf1575a87ca.tif     \b\b\b\b  0%\b\b\b\b\b  OK \n",
            "Extracting  bnk-ground-truth/00f8c2ff-9937-492b-992c-5c28fbe9592e.gt.txt     \b\b\b\b  0%\b\b\b\b\b  OK \n",
            "Extracting  bnk-ground-truth/00f8c2ff-9937-492b-992c-5c28fbe9592e.tif     \b\b\b\b  0%\b\b\b\b\b  OK \n",
            "Extracting  bnk-ground-truth/0121d534-d28a-425b-b2c0-be795f2dc731.gt.txt     \b\b\b\b  0%\b\b\b\b\b  OK \n",
            "Extracting  bnk-ground-truth/0121d534-d28a-425b-b2c0-be795f2dc731.tif     \b\b\b\b  0%\b\b\b\b\b  OK \n",
            "Extracting  bnk-ground-truth/0125b24c-2316-4b4a-800e-f01d084ce132.gt.txt     \b\b\b\b  0%\b\b\b\b\b  OK \n",
            "Extracting  bnk-ground-truth/0125b24c-2316-4b4a-800e-f01d084ce132.tif     \b\b\b\b  0%\b\b\b\b\b  OK \n",
            "Extracting  bnk-ground-truth/01348b81-9df9-4677-9f95-df19f8cfcc68.gt.txt     \b\b\b\b  0%\b\b\b\b\b  OK \n",
            "Extracting  bnk-ground-truth/01348b81-9df9-4677-9f95-df19f8cfcc68.tif     \b\b\b\b  0%\b\b\b\b\b  OK \n",
            "Extracting  bnk-ground-truth/014f5118-5325-48bb-b3ce-b071f7ccb8dd.gt.txt     \b\b\b\b  0%\b\b\b\b\b  OK \n",
            "Extracting  bnk-ground-truth/014f5118-5325-48bb-b3ce-b071f7ccb8dd.tif     \b\b\b\b  0%\b\b\b\b\b  OK \n",
            "Extracting  bnk-ground-truth/017241e3-7123-4a70-9ae2-1e1eb38d3067.gt.txt     \b\b\b\b  0%\b\b\b\b\b  OK \n",
            "Extracting  bnk-ground-truth/017241e3-7123-4a70-9ae2-1e1eb38d3067.tif     \b\b\b\b  0%\b\b\b\b\b  OK \n",
            "Extracting  bnk-ground-truth/01882629-2104-4bb1-aeaf-42e64694ca3b.gt.txt     \b\b\b\b  0%\b\b\b\b\b  OK \n",
            "Extracting  bnk-ground-truth/01882629-2104-4bb1-aeaf-42e64694ca3b.tif     \b\b\b\b  0%\b\b\b\b\b  OK \n",
            "Extracting  bnk-ground-truth/018c1c57-fa1d-472d-b141-93d9b0ffa3da.gt.txt     \b\b\b\b  0%\b\b\b\b\b  OK \n",
            "Extracting  bnk-ground-truth/018c1c57-fa1d-472d-b141-93d9b0ffa3da.tif     \b\b\b\b  0%\b\b\b\b\b  OK \n",
            "Extracting  bnk-ground-truth/0190192b-77a5-4de5-abcc-6c236cb1b4dc.gt.txt     \b\b\b\b  0%\b\b\b\b\b  OK \n",
            "Extracting  bnk-ground-truth/0190192b-77a5-4de5-abcc-6c236cb1b4dc.tif     \b\b\b\b  0%\b\b\b\b\b  OK \n",
            "Extracting  bnk-ground-truth/019b0025-6d72-476c-9d89-ee8fd4de9f3e.gt.txt     \b\b\b\b  0%\b\b\b\b\b  OK \n",
            "Extracting  bnk-ground-truth/019b0025-6d72-476c-9d89-ee8fd4de9f3e.tif     \b\b\b\b  0%\b\b\b\b\b  OK \n",
            "Extracting  bnk-ground-truth/01bf9f55-b7dd-4d8f-936b-20e460f3c586.gt.txt     \b\b\b\b  0%\b\b\b\b\b  OK \n",
            "Extracting  bnk-ground-truth/01bf9f55-b7dd-4d8f-936b-20e460f3c586.tif     \b\b\b\b  0%\b\b\b\b\b  OK \n",
            "Extracting  bnk-ground-truth/01ce2575-06ea-4f5f-aa56-4449277e8b03.gt.txt     \b\b\b\b  0%\b\b\b\b\b  OK \n",
            "Extracting  bnk-ground-truth/01ce2575-06ea-4f5f-aa56-4449277e8b03.tif     \b\b\b\b  0%\b\b\b\b\b  OK \n",
            "Extracting  bnk-ground-truth/01cfbfa7-fa07-4657-b3f7-56f416aaf301.gt.txt     \b\b\b\b  0%\b\b\b\b\b  OK \n",
            "Extracting  bnk-ground-truth/01cfbfa7-fa07-4657-b3f7-56f416aaf301.tif     \b\b\b\b  0%\b\b\b\b\b  OK \n",
            "Extracting  bnk-ground-truth/01cfefae-02e3-4af2-9f8d-51ff51b0380b.gt.txt     \b\b\b\b  0%\b\b\b\b\b  OK \n",
            "Extracting  bnk-ground-truth/01cfefae-02e3-4af2-9f8d-51ff51b0380b.tif     \b\b\b\b  0%\b\b\b\b\b  OK \n",
            "Extracting  bnk-ground-truth/01d4f481-ff33-4910-abe7-4834c1c0953f.gt.txt     \b\b\b\b  0%\b\b\b\b\b  OK \n",
            "Extracting  bnk-ground-truth/01d4f481-ff33-4910-abe7-4834c1c0953f.tif     \b\b\b\b  0%\b\b\b\b\b  OK \n",
            "Extracting  bnk-ground-truth/01e4514b-29fb-4f1d-9638-69fc487c4bb6.gt.txt     \b\b\b\b  0%\b\b\b\b\b  OK \n",
            "Extracting  bnk-ground-truth/01e4514b-29fb-4f1d-9638-69fc487c4bb6.tif     \b\b\b\b  0%\b\b\b\b\b  OK \n",
            "Extracting  bnk-ground-truth/01e50091-a7df-47ac-930a-106dfd92f1b1.gt.txt     \b\b\b\b  0%\b\b\b\b\b  OK \n",
            "Extracting  bnk-ground-truth/01e50091-a7df-47ac-930a-106dfd92f1b1.tif     \b\b\b\b  0%\b\b\b\b\b  OK \n",
            "Extracting  bnk-ground-truth/01ee6f52-027c-4ba2-982b-58c5a5363122.gt.txt     \b\b\b\b  0%\b\b\b\b\b  OK \n",
            "Extracting  bnk-ground-truth/01ee6f52-027c-4ba2-982b-58c5a5363122.tif     \b\b\b\b  0%\b\b\b\b\b  OK \n",
            "Extracting  bnk-ground-truth/01f2033c-b502-4051-907e-308f30368940.gt.txt     \b\b\b\b  0%\b\b\b\b\b  OK \n",
            "Extracting  bnk-ground-truth/01f2033c-b502-4051-907e-308f30368940.tif     \b\b\b\b  0%\b\b\b\b\b  OK \n",
            "Extracting  bnk-ground-truth/01f253ac-b572-4557-a3a5-aed8243e82d3.gt.txt     \b\b\b\b  0%\b\b\b\b\b  OK \n",
            "Extracting  bnk-ground-truth/01f253ac-b572-4557-a3a5-aed8243e82d3.tif     \b\b\b\b  0%\b\b\b\b\b  OK \n",
            "Extracting  bnk-ground-truth/01f30029-68a6-4a32-a053-349f966aa313.gt.txt     \b\b\b\b  0%\b\b\b\b\b  OK \n",
            "Extracting  bnk-ground-truth/01f30029-68a6-4a32-a053-349f966aa313.tif     \b\b\b\b  0%\b\b\b\b\b  OK \n",
            "Extracting  bnk-ground-truth/01f8bca4-8878-4526-8e31-fb93f4849ccd.gt.txt     \b\b\b\b  0%\b\b\b\b\b  OK \n",
            "Extracting  bnk-ground-truth/01f8bca4-8878-4526-8e31-fb93f4849ccd.tif     \b\b\b\b  0%\b\b\b\b\b  OK \n",
            "Extracting  bnk-ground-truth/01fa6f09-c7f5-4c3f-834a-e7e0d9f34dff.gt.txt     \b\b\b\b  0%\b\b\b\b\b  OK \n",
            "Extracting  bnk-ground-truth/01fa6f09-c7f5-4c3f-834a-e7e0d9f34dff.tif     \b\b\b\b  0%\b\b\b\b\b  OK \n",
            "Extracting  bnk-ground-truth/01fdbea5-26bc-4865-8ada-be4ca20ccfe7.gt.txt     \b\b\b\b  0%\b\b\b\b\b  OK \n",
            "Extracting  bnk-ground-truth/01fdbea5-26bc-4865-8ada-be4ca20ccfe7.tif     \b\b\b\b  0%\b\b\b\b\b  OK \n",
            "Extracting  bnk-ground-truth/0211482e-0e96-4478-84ff-6f2c3089a9f0.gt.txt     \b\b\b\b  0%\b\b\b\b\b  OK \n",
            "Extracting  bnk-ground-truth/0211482e-0e96-4478-84ff-6f2c3089a9f0.tif     \b\b\b\b  0%\b\b\b\b\b  OK \n",
            "Extracting  bnk-ground-truth/02123846-4b74-4d74-a322-1e67f2c2a898.gt.txt     \b\b\b\b  0%\b\b\b\b\b  OK \n",
            "Extracting  bnk-ground-truth/02123846-4b74-4d74-a322-1e67f2c2a898.tif     \b\b\b\b  0%\b\b\b\b\b  OK \n",
            "Extracting  bnk-ground-truth/0217bef5-75b2-4089-aa26-f63a3a1dc7db.gt.txt     \b\b\b\b  0%\b\b\b\b\b  OK \n",
            "Extracting  bnk-ground-truth/0217bef5-75b2-4089-aa26-f63a3a1dc7db.tif     \b\b\b\b  0%\b\b\b\b\b  OK \n",
            "Extracting  bnk-ground-truth/021d9972-a117-46b4-9cf7-de67453fc321.gt.txt     \b\b\b\b  0%\b\b\b\b\b  OK \n",
            "Extracting  bnk-ground-truth/021d9972-a117-46b4-9cf7-de67453fc321.tif     \b\b\b\b  0%\b\b\b\b\b  OK \n",
            "Extracting  bnk-ground-truth/02200ead-d366-4ae6-aac3-428f967f7a0c.gt.txt     \b\b\b\b  0%\b\b\b\b\b  OK \n",
            "Extracting  bnk-ground-truth/02200ead-d366-4ae6-aac3-428f967f7a0c.tif     \b\b\b\b  0%\b\b\b\b\b  OK \n",
            "Extracting  bnk-ground-truth/02465fdc-b8a3-4213-b64b-93047078a180.gt.txt     \b\b\b\b  0%\b\b\b\b\b  OK \n",
            "Extracting  bnk-ground-truth/02465fdc-b8a3-4213-b64b-93047078a180.tif     \b\b\b\b  0%\b\b\b\b\b  OK \n",
            "Extracting  bnk-ground-truth/0249ea58-ed59-4d48-9823-316f5a9722f5.gt.txt     \b\b\b\b  0%\b\b\b\b\b  OK \n",
            "Extracting  bnk-ground-truth/0249ea58-ed59-4d48-9823-316f5a9722f5.tif     \b\b\b\b  0%\b\b\b\b\b  OK \n",
            "Extracting  bnk-ground-truth/027afe9d-97e7-44fa-b0a9-fc0feb536af5.gt.txt     \b\b\b\b  0%\b\b\b\b\b  OK \n",
            "Extracting  bnk-ground-truth/027afe9d-97e7-44fa-b0a9-fc0feb536af5.tif     \b\b\b\b  0%\b\b\b\b\b  OK \n",
            "Extracting  bnk-ground-truth/027e94a0-a87f-421a-a7bd-5939a1b23fdf.gt.txt     \b\b\b\b  0%\b\b\b\b\b  OK \n",
            "Extracting  bnk-ground-truth/027e94a0-a87f-421a-a7bd-5939a1b23fdf.tif     \b\b\b\b  0%\b\b\b\b\b  OK \n",
            "Extracting  bnk-ground-truth/0283dbc7-323d-428e-b9c5-b672fb6f1ffb.gt.txt     \b\b\b\b  0%\b\b\b\b\b  OK \n",
            "Extracting  bnk-ground-truth/0283dbc7-323d-428e-b9c5-b672fb6f1ffb.tif     \b\b\b\b  0%\b\b\b\b\b  OK \n",
            "Extracting  bnk-ground-truth/0299702d-073a-40e1-b7aa-1ed1fd646b39.gt.txt     \b\b\b\b  0%\b\b\b\b\b  OK \n",
            "Extracting  bnk-ground-truth/0299702d-073a-40e1-b7aa-1ed1fd646b39.tif     \b\b\b\b  0%\b\b\b\b\b  OK \n",
            "Extracting  bnk-ground-truth/029c0318-4b46-432b-ae6a-721de121adb4.gt.txt     \b\b\b\b  0%\b\b\b\b\b  OK \n",
            "Extracting  bnk-ground-truth/029c0318-4b46-432b-ae6a-721de121adb4.tif     \b\b\b\b  0%\b\b\b\b\b  OK \n",
            "Extracting  bnk-ground-truth/02c64b73-574a-4747-b473-54491ceb5024.gt.txt     \b\b\b\b  0%\b\b\b\b\b  OK \n",
            "Extracting  bnk-ground-truth/02c64b73-574a-4747-b473-54491ceb5024.tif     \b\b\b\b  0%\b\b\b\b\b  OK \n",
            "Extracting  bnk-ground-truth/02cc4b87-4cf3-4652-b725-ffa004ccf562.gt.txt     \b\b\b\b  0%\b\b\b\b\b  OK \n",
            "Extracting  bnk-ground-truth/02cc4b87-4cf3-4652-b725-ffa004ccf562.tif     \b\b\b\b  0%\b\b\b\b\b  OK \n",
            "Extracting  bnk-ground-truth/02eb5518-81bc-4ad7-8b7c-3bbea2803b44.gt.txt     \b\b\b\b  0%\b\b\b\b\b  OK \n",
            "Extracting  bnk-ground-truth/02eb5518-81bc-4ad7-8b7c-3bbea2803b44.tif     \b\b\b\b  0%\b\b\b\b\b  OK \n",
            "Extracting  bnk-ground-truth/02f044fc-5b67-42d7-9daa-6e6561b034e7.gt.txt     \b\b\b\b  0%\b\b\b\b\b  OK \n",
            "Extracting  bnk-ground-truth/02f044fc-5b67-42d7-9daa-6e6561b034e7.tif     \b\b\b\b  0%\b\b\b\b\b  OK \n",
            "Extracting  bnk-ground-truth/03023dde-1c2b-4488-964d-01a76a19d3e2.gt.txt     \b\b\b\b  0%\b\b\b\b\b  OK \n",
            "Extracting  bnk-ground-truth/03023dde-1c2b-4488-964d-01a76a19d3e2.tif     \b\b\b\b  0%\b\b\b\b\b  OK \n",
            "Extracting  bnk-ground-truth/0320a817-0cb9-491f-ab42-44556e0a8dba.gt.txt     \b\b\b\b  1%\b\b\b\b\b  OK \n",
            "Extracting  bnk-ground-truth/0320a817-0cb9-491f-ab42-44556e0a8dba.tif     \b\b\b\b  1%\b\b\b\b\b  OK \n",
            "Extracting  bnk-ground-truth/0321e267-0e16-4db4-98cf-ef57f894e9fe.gt.txt     \b\b\b\b  1%\b\b\b\b\b  OK \n",
            "Extracting  bnk-ground-truth/0321e267-0e16-4db4-98cf-ef57f894e9fe.tif     \b\b\b\b  1%\b\b\b\b\b  OK \n",
            "Extracting  bnk-ground-truth/0329d976-276c-4125-bb7e-15bbc8ccfbce.gt.txt     \b\b\b\b  1%\b\b\b\b\b  OK \n",
            "Extracting  bnk-ground-truth/0329d976-276c-4125-bb7e-15bbc8ccfbce.tif     \b\b\b\b  1%\b\b\b\b\b  OK \n",
            "Extracting  bnk-ground-truth/03324dc1-a5fd-4f94-a65c-3141a3a4f61c.gt.txt     \b\b\b\b  1%\b\b\b\b\b  OK \n",
            "Extracting  bnk-ground-truth/03324dc1-a5fd-4f94-a65c-3141a3a4f61c.tif     \b\b\b\b  1%\b\b\b\b\b  OK \n",
            "Extracting  bnk-ground-truth/033900b0-a802-469d-b8a6-af20df6a152e.gt.txt     \b\b\b\b  1%\b\b\b\b\b  OK \n",
            "Extracting  bnk-ground-truth/033900b0-a802-469d-b8a6-af20df6a152e.tif     \b\b\b\b  1%\b\b\b\b\b  OK \n",
            "Extracting  bnk-ground-truth/0340acae-aa7b-4e08-9f28-8e38e0df49c8.gt.txt     \b\b\b\b  1%\b\b\b\b\b  OK \n",
            "Extracting  bnk-ground-truth/0340acae-aa7b-4e08-9f28-8e38e0df49c8.tif     \b\b\b\b  1%\b\b\b\b\b  OK \n",
            "Extracting  bnk-ground-truth/03428d75-fb28-4e28-a31f-8cf59f01f836.gt.txt     \b\b\b\b  1%\b\b\b\b\b  OK \n",
            "Extracting  bnk-ground-truth/03428d75-fb28-4e28-a31f-8cf59f01f836.tif     \b\b\b\b  1%\b\b\b\b\b  OK \n",
            "Extracting  bnk-ground-truth/034c8ec9-4b6b-466f-8333-5f93847d6186.gt.txt     \b\b\b\b  1%\b\b\b\b\b  OK \n",
            "Extracting  bnk-ground-truth/034c8ec9-4b6b-466f-8333-5f93847d6186.tif     \b\b\b\b  1%\b\b\b\b\b  OK \n",
            "Extracting  bnk-ground-truth/0352d74f-bfdd-4d50-b2f4-1c46163cf09b.gt.txt     \b\b\b\b  1%\b\b\b\b\b  OK \n",
            "Extracting  bnk-ground-truth/0352d74f-bfdd-4d50-b2f4-1c46163cf09b.tif     \b\b\b\b  1%\b\b\b\b\b  OK \n",
            "Extracting  bnk-ground-truth/0359c85a-b5a7-4bfc-b58a-e8cfd1091992.gt.txt     \b\b\b\b  1%\b\b\b\b\b  OK \n",
            "Extracting  bnk-ground-truth/0359c85a-b5a7-4bfc-b58a-e8cfd1091992.tif     \b\b\b\b  1%\b\b\b\b\b  OK \n",
            "Extracting  bnk-ground-truth/035be6c5-60d3-478c-8911-d9949df43538.gt.txt     \b\b\b\b  1%\b\b\b\b\b  OK \n",
            "Extracting  bnk-ground-truth/035be6c5-60d3-478c-8911-d9949df43538.tif     \b\b\b\b  1%\b\b\b\b\b  OK \n",
            "Extracting  bnk-ground-truth/036fbad8-62f7-490e-961c-eb5469a4df1e.gt.txt     \b\b\b\b  1%\b\b\b\b\b  OK \n",
            "Extracting  bnk-ground-truth/036fbad8-62f7-490e-961c-eb5469a4df1e.tif     \b\b\b\b  1%\b\b\b\b\b  OK \n",
            "Extracting  bnk-ground-truth/0384b8bb-ef7a-4792-9459-28cff363df5f.gt.txt     \b\b\b\b  1%\b\b\b\b\b  OK \n",
            "Extracting  bnk-ground-truth/0384b8bb-ef7a-4792-9459-28cff363df5f.tif     \b\b\b\b  1%\b\b\b\b\b  OK \n",
            "Extracting  bnk-ground-truth/0393f394-c537-4356-a5a7-b96b6cea31ae.gt.txt     \b\b\b\b  1%\b\b\b\b\b  OK \n",
            "Extracting  bnk-ground-truth/0393f394-c537-4356-a5a7-b96b6cea31ae.tif     \b\b\b\b  1%\b\b\b\b\b  OK \n",
            "Extracting  bnk-ground-truth/039ba155-5ff3-4f0c-a25d-ea1deaaafabd.gt.txt     \b\b\b\b  1%\b\b\b\b\b  OK \n",
            "Extracting  bnk-ground-truth/039ba155-5ff3-4f0c-a25d-ea1deaaafabd.tif     \b\b\b\b  1%\b\b\b\b\b  OK \n",
            "Extracting  bnk-ground-truth/03bb7399-9c4a-4587-92c4-21e6d21b1209.gt.txt     \b\b\b\b  1%\b\b\b\b\b  OK \n",
            "Extracting  bnk-ground-truth/03bb7399-9c4a-4587-92c4-21e6d21b1209.tif     \b\b\b\b  1%\b\b\b\b\b  OK \n",
            "Extracting  bnk-ground-truth/03c6860f-b3c5-4477-8ef3-0934fefa43f8.gt.txt     \b\b\b\b  1%\b\b\b\b\b  OK \n",
            "Extracting  bnk-ground-truth/03c6860f-b3c5-4477-8ef3-0934fefa43f8.tif     \b\b\b\b  1%\b\b\b\b\b  OK \n",
            "Extracting  bnk-ground-truth/03d523db-ca15-477d-8a04-821f14c4fbab.gt.txt     \b\b\b\b  1%\b\b\b\b\b  OK \n",
            "Extracting  bnk-ground-truth/03d523db-ca15-477d-8a04-821f14c4fbab.tif     \b\b\b\b  1%\b\b\b\b\b  OK \n",
            "Extracting  bnk-ground-truth/03d9d9ca-d3a6-49b1-a501-03be4079d3ba.gt.txt     \b\b\b\b  1%\b\b\b\b\b  OK \n",
            "Extracting  bnk-ground-truth/03d9d9ca-d3a6-49b1-a501-03be4079d3ba.tif     \b\b\b\b  1%\b\b\b\b\b  OK \n",
            "Extracting  bnk-ground-truth/03e029a6-0f01-418a-b154-1568d40e5e37.gt.txt     \b\b\b\b  1%\b\b\b\b\b  OK \n",
            "Extracting  bnk-ground-truth/03e029a6-0f01-418a-b154-1568d40e5e37.tif     \b\b\b\b  1%\b\b\b\b\b  OK \n",
            "Extracting  bnk-ground-truth/03ea687c-02b5-433b-9f7e-7d046e37ecd3.gt.txt     \b\b\b\b  1%\b\b\b\b\b  OK \n",
            "Extracting  bnk-ground-truth/03ea687c-02b5-433b-9f7e-7d046e37ecd3.tif     \b\b\b\b  1%\b\b\b\b\b  OK \n",
            "Extracting  bnk-ground-truth/03eedfdb-15a7-4d70-af58-1c2d50dd001a.gt.txt     \b\b\b\b  1%\b\b\b\b\b  OK \n",
            "Extracting  bnk-ground-truth/03eedfdb-15a7-4d70-af58-1c2d50dd001a.tif     \b\b\b\b  1%\b\b\b\b\b  OK \n",
            "Extracting  bnk-ground-truth/04036027-0a85-4a94-b32c-f3b50d93264f.gt.txt     \b\b\b\b  1%\b\b\b\b\b  OK \n",
            "Extracting  bnk-ground-truth/04036027-0a85-4a94-b32c-f3b50d93264f.tif     \b\b\b\b  1%\b\b\b\b\b  OK \n",
            "Extracting  bnk-ground-truth/040a20e2-432c-4c99-9426-07d3a6a1d268.gt.txt     \b\b\b\b  1%\b\b\b\b\b  OK \n",
            "Extracting  bnk-ground-truth/040a20e2-432c-4c99-9426-07d3a6a1d268.tif     \b\b\b\b  1%\b\b\b\b\b  OK \n",
            "Extracting  bnk-ground-truth/040cf71a-2ce6-473d-8086-26368254850b.gt.txt     \b\b\b\b  1%\b\b\b\b\b  OK \n",
            "Extracting  bnk-ground-truth/040cf71a-2ce6-473d-8086-26368254850b.tif     \b\b\b\b  1%\b\b\b\b\b  OK \n",
            "Extracting  bnk-ground-truth/041024e5-63a4-4269-b6e4-9ee5019c55ab.gt.txt     \b\b\b\b  1%\b\b\b\b\b  OK \n",
            "Extracting  bnk-ground-truth/041024e5-63a4-4269-b6e4-9ee5019c55ab.tif     \b\b\b\b  1%\b\b\b\b\b  OK \n",
            "Extracting  bnk-ground-truth/0411eb88-78b7-432e-8a46-6b201a58c246.gt.txt     \b\b\b\b  1%\b\b\b\b\b  OK \n",
            "Extracting  bnk-ground-truth/0411eb88-78b7-432e-8a46-6b201a58c246.tif     \b\b\b\b  1%\b\b\b\b\b  OK \n",
            "Extracting  bnk-ground-truth/0429c12f-d2a5-4d7d-8eca-b4a57b775f03.gt.txt     \b\b\b\b  1%\b\b\b\b\b  OK \n",
            "Extracting  bnk-ground-truth/0429c12f-d2a5-4d7d-8eca-b4a57b775f03.tif     \b\b\b\b  1%\b\b\b\b\b  OK \n",
            "Extracting  bnk-ground-truth/042d326f-ab31-48c5-8e3b-a1b6d32a1d59.gt.txt     \b\b\b\b  1%\b\b\b\b\b  OK \n",
            "Extracting  bnk-ground-truth/042d326f-ab31-48c5-8e3b-a1b6d32a1d59.tif     \b\b\b\b  1%\b\b\b\b\b  OK \n",
            "Extracting  bnk-ground-truth/043308c0-5357-4bcc-84ee-389d69bb60cd.gt.txt     \b\b\b\b  1%\b\b\b\b\b  OK \n",
            "Extracting  bnk-ground-truth/043308c0-5357-4bcc-84ee-389d69bb60cd.tif     \b\b\b\b  1%\b\b\b\b\b  OK \n",
            "Extracting  bnk-ground-truth/04383177-1997-4642-8002-14d7fe6ca688.gt.txt     \b\b\b\b  1%\b\b\b\b\b  OK \n",
            "Extracting  bnk-ground-truth/04383177-1997-4642-8002-14d7fe6ca688.tif     \b\b\b\b  1%\b\b\b\b\b  OK \n",
            "Extracting  bnk-ground-truth/043d1853-916c-499a-ae8b-57d234e051a0.gt.txt     \b\b\b\b  1%\b\b\b\b\b  OK \n",
            "Extracting  bnk-ground-truth/043d1853-916c-499a-ae8b-57d234e051a0.tif     \b\b\b\b  1%\b\b\b\b\b  OK \n",
            "Extracting  bnk-ground-truth/0441ef60-2888-4bb2-be8a-f003123ae57d.gt.txt     \b\b\b\b  1%\b\b\b\b\b  OK \n",
            "Extracting  bnk-ground-truth/0441ef60-2888-4bb2-be8a-f003123ae57d.tif     \b\b\b\b  1%\b\b\b\b\b  OK \n",
            "Extracting  bnk-ground-truth/0444ef2e-36e0-46b8-add7-c68b2c9ba6ac.gt.txt     \b\b\b\b  1%\b\b\b\b\b  OK \n",
            "Extracting  bnk-ground-truth/0444ef2e-36e0-46b8-add7-c68b2c9ba6ac.tif     \b\b\b\b  1%\b\b\b\b\b  OK \n",
            "Extracting  bnk-ground-truth/04451f52-aaf3-4565-a5e6-9751d93fc4c2.gt.txt     \b\b\b\b  1%\b\b\b\b\b  OK \n",
            "Extracting  bnk-ground-truth/04451f52-aaf3-4565-a5e6-9751d93fc4c2.tif     \b\b\b\b  1%\b\b\b\b\b  OK \n",
            "Extracting  bnk-ground-truth/0446f9d6-3599-4870-ada1-87c42511a1f8.gt.txt     \b\b\b\b  1%\b\b\b\b\b  OK \n",
            "Extracting  bnk-ground-truth/0446f9d6-3599-4870-ada1-87c42511a1f8.tif     \b\b\b\b  1%\b\b\b\b\b  OK \n",
            "Extracting  bnk-ground-truth/044d47e4-26c6-403c-91a1-d6d126ff14fd.gt.txt     \b\b\b\b  1%\b\b\b\b\b  OK \n",
            "Extracting  bnk-ground-truth/044d47e4-26c6-403c-91a1-d6d126ff14fd.tif     \b\b\b\b  1%\b\b\b\b\b  OK \n",
            "Extracting  bnk-ground-truth/04542372-e6fd-41b1-8b10-89de260fedac.gt.txt     \b\b\b\b  1%\b\b\b\b\b  OK \n",
            "Extracting  bnk-ground-truth/04542372-e6fd-41b1-8b10-89de260fedac.tif     \b\b\b\b  1%\b\b\b\b\b  OK \n",
            "Extracting  bnk-ground-truth/045d91cc-7626-49e2-8b2b-9f4f5de9c6fa.gt.txt     \b\b\b\b  1%\b\b\b\b\b  OK \n",
            "Extracting  bnk-ground-truth/045d91cc-7626-49e2-8b2b-9f4f5de9c6fa.tif     \b\b\b\b  1%\b\b\b\b\b  OK \n",
            "Extracting  bnk-ground-truth/0473f387-5da3-47fc-a2ab-24350cf3ec1f.gt.txt     \b\b\b\b  1%\b\b\b\b\b  OK \n",
            "Extracting  bnk-ground-truth/0473f387-5da3-47fc-a2ab-24350cf3ec1f.tif     \b\b\b\b  1%\b\b\b\b\b  OK \n",
            "Extracting  bnk-ground-truth/04881c51-5a2f-4a86-bf4a-53e8d25a9631.gt.txt     \b\b\b\b  1%\b\b\b\b\b  OK \n",
            "Extracting  bnk-ground-truth/04881c51-5a2f-4a86-bf4a-53e8d25a9631.tif     \b\b\b\b  1%\b\b\b\b\b  OK \n",
            "Extracting  bnk-ground-truth/04a1acb0-c104-472c-a871-41f5ec669875.gt.txt     \b\b\b\b  1%\b\b\b\b\b  OK \n",
            "Extracting  bnk-ground-truth/04a1acb0-c104-472c-a871-41f5ec669875.tif     \b\b\b\b  1%\b\b\b\b\b  OK \n",
            "Extracting  bnk-ground-truth/04ab02b2-4510-4fbf-ba3d-2fd983cafea0.gt.txt     \b\b\b\b  1%\b\b\b\b\b  OK \n",
            "Extracting  bnk-ground-truth/04ab02b2-4510-4fbf-ba3d-2fd983cafea0.tif     \b\b\b\b  1%\b\b\b\b\b  OK \n",
            "Extracting  bnk-ground-truth/04b1309d-34d4-4fa1-aece-c249a9ba0008.gt.txt     \b\b\b\b  1%\b\b\b\b\b  OK \n",
            "Extracting  bnk-ground-truth/04b1309d-34d4-4fa1-aece-c249a9ba0008.tif     \b\b\b\b  1%\b\b\b\b\b  OK \n",
            "Extracting  bnk-ground-truth/04bbe5e0-d732-476d-960e-764f23463b44.gt.txt     \b\b\b\b  1%\b\b\b\b\b  OK \n",
            "Extracting  bnk-ground-truth/04bbe5e0-d732-476d-960e-764f23463b44.tif     \b\b\b\b  1%\b\b\b\b\b  OK \n",
            "Extracting  bnk-ground-truth/04c087de-2394-4c60-b5cb-51f0ab5fee7b.gt.txt     \b\b\b\b  1%\b\b\b\b\b  OK \n",
            "Extracting  bnk-ground-truth/04c087de-2394-4c60-b5cb-51f0ab5fee7b.tif     \b\b\b\b  1%\b\b\b\b\b  OK \n",
            "Extracting  bnk-ground-truth/04c80927-c845-4629-9d09-4c1945b40254.gt.txt     \b\b\b\b  1%\b\b\b\b\b  OK \n",
            "Extracting  bnk-ground-truth/04c80927-c845-4629-9d09-4c1945b40254.tif     \b\b\b\b  1%\b\b\b\b\b  OK \n",
            "Extracting  bnk-ground-truth/04e6f587-9922-423a-a94f-36548f898181.gt.txt     \b\b\b\b  1%\b\b\b\b\b  OK \n",
            "Extracting  bnk-ground-truth/04e6f587-9922-423a-a94f-36548f898181.tif     \b\b\b\b  1%\b\b\b\b\b  OK \n",
            "Extracting  bnk-ground-truth/04ee974f-68a1-41df-beb8-595f9653a469.gt.txt     \b\b\b\b  1%\b\b\b\b\b  OK \n",
            "Extracting  bnk-ground-truth/04ee974f-68a1-41df-beb8-595f9653a469.tif     \b\b\b\b  1%\b\b\b\b\b  OK \n",
            "Extracting  bnk-ground-truth/04ef7460-fdd5-4f88-82fa-22ffa6064852.gt.txt     \b\b\b\b  1%\b\b\b\b\b  OK \n",
            "Extracting  bnk-ground-truth/04ef7460-fdd5-4f88-82fa-22ffa6064852.tif     \b\b\b\b  1%\b\b\b\b\b  OK \n",
            "Extracting  bnk-ground-truth/04f71fb1-3499-4fcf-b80e-1e896c321cc6.gt.txt     \b\b\b\b  1%\b\b\b\b\b  OK \n",
            "Extracting  bnk-ground-truth/04f71fb1-3499-4fcf-b80e-1e896c321cc6.tif     \b\b\b\b  1%\b\b\b\b\b  OK \n",
            "Extracting  bnk-ground-truth/04f91019-3758-4a2c-972e-73cd57851f63.gt.txt     \b\b\b\b  1%\b\b\b\b\b  OK \n",
            "Extracting  bnk-ground-truth/04f91019-3758-4a2c-972e-73cd57851f63.tif     \b\b\b\b  1%\b\b\b\b\b  OK \n",
            "Extracting  bnk-ground-truth/05036355-57e8-44f1-b6eb-8394f6fdf96c.gt.txt     \b\b\b\b  1%\b\b\b\b\b  OK \n",
            "Extracting  bnk-ground-truth/05036355-57e8-44f1-b6eb-8394f6fdf96c.tif     \b\b\b\b  1%\b\b\b\b\b  OK \n",
            "Extracting  bnk-ground-truth/05042e8f-028e-4451-a66c-f1de9b4b2d6c.gt.txt     \b\b\b\b  1%\b\b\b\b\b  OK \n",
            "Extracting  bnk-ground-truth/05042e8f-028e-4451-a66c-f1de9b4b2d6c.tif     \b\b\b\b  1%\b\b\b\b\b  OK \n",
            "Extracting  bnk-ground-truth/05188645-1a74-491a-97b8-fa40693f7987.gt.txt     \b\b\b\b  1%\b\b\b\b\b  OK \n",
            "Extracting  bnk-ground-truth/05188645-1a74-491a-97b8-fa40693f7987.tif     \b\b\b\b  1%\b\b\b\b\b  OK \n",
            "Extracting  bnk-ground-truth/051b6765-86f9-4ab3-bdd5-37fffa81e2da.gt.txt     \b\b\b\b  1%\b\b\b\b\b  OK \n",
            "Extracting  bnk-ground-truth/051b6765-86f9-4ab3-bdd5-37fffa81e2da.tif     \b\b\b\b  1%\n",
            "User break\n",
            "\n",
            "Program aborted\n",
            "\n",
            "User break\n",
            "/content/tesstrain\n"
          ]
        }
      ]
    },
    {
      "cell_type": "markdown",
      "metadata": {
        "id": "OFuMgTFtAPUY"
      },
      "source": [
        "If we want to use the datase we just created"
      ]
    },
    {
      "cell_type": "code",
      "metadata": {
        "id": "WySYzGnfASK5",
        "outputId": "5e561208-7002-4ccb-99c1-5ec2f63a6347",
        "colab": {
          "base_uri": "https://localhost:8080/"
        }
      },
      "source": [
        "%cd /content\n",
        "!mkdir tesstrain/data\n",
        "!rm -rf tesstrain/data/bnk-ground-truth\n",
        "!mv dataset tesstrain/data/bnk-ground-truth\n",
        "%cd /content/tesstrain"
      ],
      "execution_count": 15,
      "outputs": [
        {
          "output_type": "stream",
          "name": "stdout",
          "text": [
            "/content\n",
            "mkdir: cannot create directory ‘tesstrain/data’: File exists\n",
            "/content/tesstrain\n"
          ]
        }
      ]
    },
    {
      "cell_type": "markdown",
      "metadata": {
        "id": "EVbBHOXsdmen"
      },
      "source": [
        "# Train"
      ]
    },
    {
      "cell_type": "code",
      "metadata": {
        "id": "_cveJJn7Zc2D",
        "outputId": "7d68310f-4736-494e-cc08-41c29489c613",
        "colab": {
          "base_uri": "https://localhost:8080/"
        }
      },
      "source": [
        "!make clean MODEL_NAME=bnk\n",
        "!make training MODEL_NAME=bnk"
      ],
      "execution_count": null,
      "outputs": [
        {
          "output_type": "stream",
          "name": "stdout",
          "text": [
            "find -L data/bnk-ground-truth -name '*.box' -delete\n",
            "find -L data/bnk-ground-truth -name '*.lstmf' -delete\n",
            "rm -rf data/bnk\n",
            "find -L data/bnk-ground-truth -name '*.gt.txt' | xargs paste -s > \"data/bnk/all-gt\"\n",
            "unicharset_extractor --output_unicharset \"data/bnk/unicharset\" --norm_mode 2 \"data/bnk/all-gt\"\n",
            "Bad box coordinates in boxfile string! 38341    857305443  2\n",
            "Extracting unicharset from plain text file data/bnk/all-gt\n",
            "Wrote unicharset file data/bnk/unicharset\n",
            "PYTHONIOENCODING=utf-8 python3 generate_line_box.py -i \"data/bnk-ground-truth/1.tif\" -t \"data/bnk-ground-truth/1.gt.txt\" > \"data/bnk-ground-truth/1.box\"\n",
            "+ tesseract data/bnk-ground-truth/1.tif data/bnk-ground-truth/1 --psm 13 lstm.train\n",
            "Tesseract Open Source OCR Engine v4.0.0-beta.1 with Leptonica\n",
            "Page 1\n",
            "PYTHONIOENCODING=utf-8 python3 generate_line_box.py -i \"data/bnk-ground-truth/2.tif\" -t \"data/bnk-ground-truth/2.gt.txt\" > \"data/bnk-ground-truth/2.box\"\n",
            "+ tesseract data/bnk-ground-truth/2.tif data/bnk-ground-truth/2 --psm 13 lstm.train\n",
            "Tesseract Open Source OCR Engine v4.0.0-beta.1 with Leptonica\n",
            "Page 1\n",
            "PYTHONIOENCODING=utf-8 python3 generate_line_box.py -i \"data/bnk-ground-truth/3.tif\" -t \"data/bnk-ground-truth/3.gt.txt\" > \"data/bnk-ground-truth/3.box\"\n",
            "+ tesseract data/bnk-ground-truth/3.tif data/bnk-ground-truth/3 --psm 13 lstm.train\n",
            "Tesseract Open Source OCR Engine v4.0.0-beta.1 with Leptonica\n",
            "Page 1\n",
            "PYTHONIOENCODING=utf-8 python3 generate_line_box.py -i \"data/bnk-ground-truth/4.tif\" -t \"data/bnk-ground-truth/4.gt.txt\" > \"data/bnk-ground-truth/4.box\"\n",
            "+ tesseract data/bnk-ground-truth/4.tif data/bnk-ground-truth/4 --psm 13 lstm.train\n",
            "Tesseract Open Source OCR Engine v4.0.0-beta.1 with Leptonica\n",
            "Page 1\n",
            "PYTHONIOENCODING=utf-8 python3 generate_line_box.py -i \"data/bnk-ground-truth/5.tif\" -t \"data/bnk-ground-truth/5.gt.txt\" > \"data/bnk-ground-truth/5.box\"\n",
            "+ tesseract data/bnk-ground-truth/5.tif data/bnk-ground-truth/5 --psm 13 lstm.train\n",
            "Tesseract Open Source OCR Engine v4.0.0-beta.1 with Leptonica\n",
            "Page 1\n",
            "PYTHONIOENCODING=utf-8 python3 generate_line_box.py -i \"data/bnk-ground-truth/6.tif\" -t \"data/bnk-ground-truth/6.gt.txt\" > \"data/bnk-ground-truth/6.box\"\n",
            "+ tesseract data/bnk-ground-truth/6.tif data/bnk-ground-truth/6 --psm 13 lstm.train\n",
            "Tesseract Open Source OCR Engine v4.0.0-beta.1 with Leptonica\n",
            "Page 1\n",
            "PYTHONIOENCODING=utf-8 python3 generate_line_box.py -i \"data/bnk-ground-truth/7.tif\" -t \"data/bnk-ground-truth/7.gt.txt\" > \"data/bnk-ground-truth/7.box\"\n",
            "+ tesseract data/bnk-ground-truth/7.tif data/bnk-ground-truth/7 --psm 13 lstm.train\n",
            "Tesseract Open Source OCR Engine v4.0.0-beta.1 with Leptonica\n",
            "Page 1\n",
            "PYTHONIOENCODING=utf-8 python3 generate_line_box.py -i \"data/bnk-ground-truth/8.tif\" -t \"data/bnk-ground-truth/8.gt.txt\" > \"data/bnk-ground-truth/8.box\"\n",
            "+ tesseract data/bnk-ground-truth/8.tif data/bnk-ground-truth/8 --psm 13 lstm.train\n",
            "Tesseract Open Source OCR Engine v4.0.0-beta.1 with Leptonica\n",
            "Page 1\n",
            "PYTHONIOENCODING=utf-8 python3 generate_line_box.py -i \"data/bnk-ground-truth/9.tif\" -t \"data/bnk-ground-truth/9.gt.txt\" > \"data/bnk-ground-truth/9.box\"\n",
            "+ tesseract data/bnk-ground-truth/9.tif data/bnk-ground-truth/9 --psm 13 lstm.train\n",
            "Tesseract Open Source OCR Engine v4.0.0-beta.1 with Leptonica\n",
            "Page 1\n",
            "PYTHONIOENCODING=utf-8 python3 generate_line_box.py -i \"data/bnk-ground-truth/10.tif\" -t \"data/bnk-ground-truth/10.gt.txt\" > \"data/bnk-ground-truth/10.box\"\n",
            "+ tesseract data/bnk-ground-truth/10.tif data/bnk-ground-truth/10 --psm 13 lstm.train\n",
            "Tesseract Open Source OCR Engine v4.0.0-beta.1 with Leptonica\n",
            "Page 1\n",
            "PYTHONIOENCODING=utf-8 python3 generate_line_box.py -i \"data/bnk-ground-truth/11.tif\" -t \"data/bnk-ground-truth/11.gt.txt\" > \"data/bnk-ground-truth/11.box\"\n",
            "+ tesseract data/bnk-ground-truth/11.tif data/bnk-ground-truth/11 --psm 13 lstm.train\n",
            "Tesseract Open Source OCR Engine v4.0.0-beta.1 with Leptonica\n",
            "Page 1\n",
            "PYTHONIOENCODING=utf-8 python3 generate_line_box.py -i \"data/bnk-ground-truth/12.tif\" -t \"data/bnk-ground-truth/12.gt.txt\" > \"data/bnk-ground-truth/12.box\"\n",
            "+ tesseract data/bnk-ground-truth/12.tif data/bnk-ground-truth/12 --psm 13 lstm.train\n",
            "Tesseract Open Source OCR Engine v4.0.0-beta.1 with Leptonica\n",
            "Page 1\n",
            "PYTHONIOENCODING=utf-8 python3 generate_line_box.py -i \"data/bnk-ground-truth/13.tif\" -t \"data/bnk-ground-truth/13.gt.txt\" > \"data/bnk-ground-truth/13.box\"\n",
            "+ tesseract data/bnk-ground-truth/13.tif data/bnk-ground-truth/13 --psm 13 lstm.train\n",
            "Tesseract Open Source OCR Engine v4.0.0-beta.1 with Leptonica\n",
            "Page 1\n",
            "PYTHONIOENCODING=utf-8 python3 generate_line_box.py -i \"data/bnk-ground-truth/14.tif\" -t \"data/bnk-ground-truth/14.gt.txt\" > \"data/bnk-ground-truth/14.box\"\n",
            "+ tesseract data/bnk-ground-truth/14.tif data/bnk-ground-truth/14 --psm 13 lstm.train\n",
            "Tesseract Open Source OCR Engine v4.0.0-beta.1 with Leptonica\n",
            "Page 1\n",
            "PYTHONIOENCODING=utf-8 python3 generate_line_box.py -i \"data/bnk-ground-truth/15.tif\" -t \"data/bnk-ground-truth/15.gt.txt\" > \"data/bnk-ground-truth/15.box\"\n",
            "+ tesseract data/bnk-ground-truth/15.tif data/bnk-ground-truth/15 --psm 13 lstm.train\n",
            "Tesseract Open Source OCR Engine v4.0.0-beta.1 with Leptonica\n",
            "Page 1\n",
            "PYTHONIOENCODING=utf-8 python3 generate_line_box.py -i \"data/bnk-ground-truth/16.tif\" -t \"data/bnk-ground-truth/16.gt.txt\" > \"data/bnk-ground-truth/16.box\"\n",
            "+ tesseract data/bnk-ground-truth/16.tif data/bnk-ground-truth/16 --psm 13 lstm.train\n",
            "Tesseract Open Source OCR Engine v4.0.0-beta.1 with Leptonica\n",
            "Page 1\n",
            "PYTHONIOENCODING=utf-8 python3 generate_line_box.py -i \"data/bnk-ground-truth/17.tif\" -t \"data/bnk-ground-truth/17.gt.txt\" > \"data/bnk-ground-truth/17.box\"\n",
            "+ tesseract data/bnk-ground-truth/17.tif data/bnk-ground-truth/17 --psm 13 lstm.train\n",
            "Tesseract Open Source OCR Engine v4.0.0-beta.1 with Leptonica\n",
            "Page 1\n",
            "PYTHONIOENCODING=utf-8 python3 generate_line_box.py -i \"data/bnk-ground-truth/18.tif\" -t \"data/bnk-ground-truth/18.gt.txt\" > \"data/bnk-ground-truth/18.box\"\n",
            "+ tesseract data/bnk-ground-truth/18.tif data/bnk-ground-truth/18 --psm 13 lstm.train\n",
            "Tesseract Open Source OCR Engine v4.0.0-beta.1 with Leptonica\n",
            "Page 1\n",
            "PYTHONIOENCODING=utf-8 python3 generate_line_box.py -i \"data/bnk-ground-truth/19.tif\" -t \"data/bnk-ground-truth/19.gt.txt\" > \"data/bnk-ground-truth/19.box\"\n",
            "+ tesseract data/bnk-ground-truth/19.tif data/bnk-ground-truth/19 --psm 13 lstm.train\n",
            "Tesseract Open Source OCR Engine v4.0.0-beta.1 with Leptonica\n",
            "Page 1\n",
            "PYTHONIOENCODING=utf-8 python3 generate_line_box.py -i \"data/bnk-ground-truth/20.tif\" -t \"data/bnk-ground-truth/20.gt.txt\" > \"data/bnk-ground-truth/20.box\"\n",
            "+ tesseract data/bnk-ground-truth/20.tif data/bnk-ground-truth/20 --psm 13 lstm.train\n",
            "Tesseract Open Source OCR Engine v4.0.0-beta.1 with Leptonica\n",
            "Page 1\n",
            "PYTHONIOENCODING=utf-8 python3 generate_line_box.py -i \"data/bnk-ground-truth/21.tif\" -t \"data/bnk-ground-truth/21.gt.txt\" > \"data/bnk-ground-truth/21.box\"\n",
            "+ tesseract data/bnk-ground-truth/21.tif data/bnk-ground-truth/21 --psm 13 lstm.train\n",
            "Tesseract Open Source OCR Engine v4.0.0-beta.1 with Leptonica\n",
            "Page 1\n",
            "PYTHONIOENCODING=utf-8 python3 generate_line_box.py -i \"data/bnk-ground-truth/22.tif\" -t \"data/bnk-ground-truth/22.gt.txt\" > \"data/bnk-ground-truth/22.box\"\n",
            "+ tesseract data/bnk-ground-truth/22.tif data/bnk-ground-truth/22 --psm 13 lstm.train\n",
            "Tesseract Open Source OCR Engine v4.0.0-beta.1 with Leptonica\n",
            "Page 1\n",
            "PYTHONIOENCODING=utf-8 python3 generate_line_box.py -i \"data/bnk-ground-truth/23.tif\" -t \"data/bnk-ground-truth/23.gt.txt\" > \"data/bnk-ground-truth/23.box\"\n",
            "+ tesseract data/bnk-ground-truth/23.tif data/bnk-ground-truth/23 --psm 13 lstm.train\n",
            "Tesseract Open Source OCR Engine v4.0.0-beta.1 with Leptonica\n",
            "Page 1\n",
            "PYTHONIOENCODING=utf-8 python3 generate_line_box.py -i \"data/bnk-ground-truth/24.tif\" -t \"data/bnk-ground-truth/24.gt.txt\" > \"data/bnk-ground-truth/24.box\"\n",
            "+ tesseract data/bnk-ground-truth/24.tif data/bnk-ground-truth/24 --psm 13 lstm.train\n",
            "Tesseract Open Source OCR Engine v4.0.0-beta.1 with Leptonica\n",
            "Page 1\n",
            "PYTHONIOENCODING=utf-8 python3 generate_line_box.py -i \"data/bnk-ground-truth/25.tif\" -t \"data/bnk-ground-truth/25.gt.txt\" > \"data/bnk-ground-truth/25.box\"\n",
            "+ tesseract data/bnk-ground-truth/25.tif data/bnk-ground-truth/25 --psm 13 lstm.train\n",
            "Tesseract Open Source OCR Engine v4.0.0-beta.1 with Leptonica\n",
            "Page 1\n",
            "PYTHONIOENCODING=utf-8 python3 generate_line_box.py -i \"data/bnk-ground-truth/26.tif\" -t \"data/bnk-ground-truth/26.gt.txt\" > \"data/bnk-ground-truth/26.box\"\n",
            "+ tesseract data/bnk-ground-truth/26.tif data/bnk-ground-truth/26 --psm 13 lstm.train\n",
            "Tesseract Open Source OCR Engine v4.0.0-beta.1 with Leptonica\n",
            "Page 1\n",
            "PYTHONIOENCODING=utf-8 python3 generate_line_box.py -i \"data/bnk-ground-truth/27.tif\" -t \"data/bnk-ground-truth/27.gt.txt\" > \"data/bnk-ground-truth/27.box\"\n",
            "+ tesseract data/bnk-ground-truth/27.tif data/bnk-ground-truth/27 --psm 13 lstm.train\n",
            "Tesseract Open Source OCR Engine v4.0.0-beta.1 with Leptonica\n",
            "Page 1\n",
            "PYTHONIOENCODING=utf-8 python3 generate_line_box.py -i \"data/bnk-ground-truth/28.tif\" -t \"data/bnk-ground-truth/28.gt.txt\" > \"data/bnk-ground-truth/28.box\"\n",
            "+ tesseract data/bnk-ground-truth/28.tif data/bnk-ground-truth/28 --psm 13 lstm.train\n",
            "Tesseract Open Source OCR Engine v4.0.0-beta.1 with Leptonica\n",
            "Page 1\n",
            "PYTHONIOENCODING=utf-8 python3 generate_line_box.py -i \"data/bnk-ground-truth/29.tif\" -t \"data/bnk-ground-truth/29.gt.txt\" > \"data/bnk-ground-truth/29.box\"\n",
            "+ tesseract data/bnk-ground-truth/29.tif data/bnk-ground-truth/29 --psm 13 lstm.train\n",
            "Tesseract Open Source OCR Engine v4.0.0-beta.1 with Leptonica\n",
            "Page 1\n",
            "PYTHONIOENCODING=utf-8 python3 generate_line_box.py -i \"data/bnk-ground-truth/30.tif\" -t \"data/bnk-ground-truth/30.gt.txt\" > \"data/bnk-ground-truth/30.box\"\n",
            "+ tesseract data/bnk-ground-truth/30.tif data/bnk-ground-truth/30 --psm 13 lstm.train\n",
            "Tesseract Open Source OCR Engine v4.0.0-beta.1 with Leptonica\n",
            "Page 1\n",
            "PYTHONIOENCODING=utf-8 python3 generate_line_box.py -i \"data/bnk-ground-truth/31.tif\" -t \"data/bnk-ground-truth/31.gt.txt\" > \"data/bnk-ground-truth/31.box\"\n",
            "+ tesseract data/bnk-ground-truth/31.tif data/bnk-ground-truth/31 --psm 13 lstm.train\n",
            "Tesseract Open Source OCR Engine v4.0.0-beta.1 with Leptonica\n",
            "Page 1\n",
            "PYTHONIOENCODING=utf-8 python3 generate_line_box.py -i \"data/bnk-ground-truth/32.tif\" -t \"data/bnk-ground-truth/32.gt.txt\" > \"data/bnk-ground-truth/32.box\"\n",
            "+ tesseract data/bnk-ground-truth/32.tif data/bnk-ground-truth/32 --psm 13 lstm.train\n",
            "Tesseract Open Source OCR Engine v4.0.0-beta.1 with Leptonica\n",
            "Page 1\n",
            "PYTHONIOENCODING=utf-8 python3 generate_line_box.py -i \"data/bnk-ground-truth/33.tif\" -t \"data/bnk-ground-truth/33.gt.txt\" > \"data/bnk-ground-truth/33.box\"\n",
            "+ tesseract data/bnk-ground-truth/33.tif data/bnk-ground-truth/33 --psm 13 lstm.train\n",
            "Tesseract Open Source OCR Engine v4.0.0-beta.1 with Leptonica\n",
            "Page 1\n",
            "PYTHONIOENCODING=utf-8 python3 generate_line_box.py -i \"data/bnk-ground-truth/34.tif\" -t \"data/bnk-ground-truth/34.gt.txt\" > \"data/bnk-ground-truth/34.box\"\n",
            "+ tesseract data/bnk-ground-truth/34.tif data/bnk-ground-truth/34 --psm 13 lstm.train\n",
            "Tesseract Open Source OCR Engine v4.0.0-beta.1 with Leptonica\n",
            "Page 1\n",
            "PYTHONIOENCODING=utf-8 python3 generate_line_box.py -i \"data/bnk-ground-truth/35.tif\" -t \"data/bnk-ground-truth/35.gt.txt\" > \"data/bnk-ground-truth/35.box\"\n",
            "+ tesseract data/bnk-ground-truth/35.tif data/bnk-ground-truth/35 --psm 13 lstm.train\n",
            "Tesseract Open Source OCR Engine v4.0.0-beta.1 with Leptonica\n",
            "Page 1\n",
            "PYTHONIOENCODING=utf-8 python3 generate_line_box.py -i \"data/bnk-ground-truth/36.tif\" -t \"data/bnk-ground-truth/36.gt.txt\" > \"data/bnk-ground-truth/36.box\"\n",
            "+ tesseract data/bnk-ground-truth/36.tif data/bnk-ground-truth/36 --psm 13 lstm.train\n",
            "Tesseract Open Source OCR Engine v4.0.0-beta.1 with Leptonica\n",
            "Page 1\n",
            "PYTHONIOENCODING=utf-8 python3 generate_line_box.py -i \"data/bnk-ground-truth/37.tif\" -t \"data/bnk-ground-truth/37.gt.txt\" > \"data/bnk-ground-truth/37.box\"\n",
            "+ tesseract data/bnk-ground-truth/37.tif data/bnk-ground-truth/37 --psm 13 lstm.train\n",
            "Tesseract Open Source OCR Engine v4.0.0-beta.1 with Leptonica\n",
            "Page 1\n",
            "PYTHONIOENCODING=utf-8 python3 generate_line_box.py -i \"data/bnk-ground-truth/38.tif\" -t \"data/bnk-ground-truth/38.gt.txt\" > \"data/bnk-ground-truth/38.box\"\n",
            "+ tesseract data/bnk-ground-truth/38.tif data/bnk-ground-truth/38 --psm 13 lstm.train\n",
            "Tesseract Open Source OCR Engine v4.0.0-beta.1 with Leptonica\n",
            "Page 1\n",
            "PYTHONIOENCODING=utf-8 python3 generate_line_box.py -i \"data/bnk-ground-truth/39.tif\" -t \"data/bnk-ground-truth/39.gt.txt\" > \"data/bnk-ground-truth/39.box\"\n",
            "+ tesseract data/bnk-ground-truth/39.tif data/bnk-ground-truth/39 --psm 13 lstm.train\n",
            "Tesseract Open Source OCR Engine v4.0.0-beta.1 with Leptonica\n",
            "Page 1\n",
            "PYTHONIOENCODING=utf-8 python3 generate_line_box.py -i \"data/bnk-ground-truth/40.tif\" -t \"data/bnk-ground-truth/40.gt.txt\" > \"data/bnk-ground-truth/40.box\"\n",
            "+ tesseract data/bnk-ground-truth/40.tif data/bnk-ground-truth/40 --psm 13 lstm.train\n",
            "Tesseract Open Source OCR Engine v4.0.0-beta.1 with Leptonica\n",
            "Page 1\n",
            "PYTHONIOENCODING=utf-8 python3 generate_line_box.py -i \"data/bnk-ground-truth/41.tif\" -t \"data/bnk-ground-truth/41.gt.txt\" > \"data/bnk-ground-truth/41.box\"\n",
            "+ tesseract data/bnk-ground-truth/41.tif data/bnk-ground-truth/41 --psm 13 lstm.train\n",
            "Tesseract Open Source OCR Engine v4.0.0-beta.1 with Leptonica\n",
            "Page 1\n",
            "PYTHONIOENCODING=utf-8 python3 generate_line_box.py -i \"data/bnk-ground-truth/42.tif\" -t \"data/bnk-ground-truth/42.gt.txt\" > \"data/bnk-ground-truth/42.box\"\n",
            "+ tesseract data/bnk-ground-truth/42.tif data/bnk-ground-truth/42 --psm 13 lstm.train\n",
            "Tesseract Open Source OCR Engine v4.0.0-beta.1 with Leptonica\n",
            "Page 1\n",
            "PYTHONIOENCODING=utf-8 python3 generate_line_box.py -i \"data/bnk-ground-truth/43.tif\" -t \"data/bnk-ground-truth/43.gt.txt\" > \"data/bnk-ground-truth/43.box\"\n",
            "+ tesseract data/bnk-ground-truth/43.tif data/bnk-ground-truth/43 --psm 13 lstm.train\n",
            "Tesseract Open Source OCR Engine v4.0.0-beta.1 with Leptonica\n",
            "Page 1\n",
            "PYTHONIOENCODING=utf-8 python3 generate_line_box.py -i \"data/bnk-ground-truth/44.tif\" -t \"data/bnk-ground-truth/44.gt.txt\" > \"data/bnk-ground-truth/44.box\"\n",
            "+ tesseract data/bnk-ground-truth/44.tif data/bnk-ground-truth/44 --psm 13 lstm.train\n",
            "Tesseract Open Source OCR Engine v4.0.0-beta.1 with Leptonica\n",
            "Page 1\n",
            "PYTHONIOENCODING=utf-8 python3 generate_line_box.py -i \"data/bnk-ground-truth/45.tif\" -t \"data/bnk-ground-truth/45.gt.txt\" > \"data/bnk-ground-truth/45.box\"\n",
            "+ tesseract data/bnk-ground-truth/45.tif data/bnk-ground-truth/45 --psm 13 lstm.train\n",
            "Tesseract Open Source OCR Engine v4.0.0-beta.1 with Leptonica\n",
            "Page 1\n",
            "PYTHONIOENCODING=utf-8 python3 generate_line_box.py -i \"data/bnk-ground-truth/46.tif\" -t \"data/bnk-ground-truth/46.gt.txt\" > \"data/bnk-ground-truth/46.box\"\n",
            "+ tesseract data/bnk-ground-truth/46.tif data/bnk-ground-truth/46 --psm 13 lstm.train\n",
            "Tesseract Open Source OCR Engine v4.0.0-beta.1 with Leptonica\n",
            "Page 1\n",
            "PYTHONIOENCODING=utf-8 python3 generate_line_box.py -i \"data/bnk-ground-truth/47.tif\" -t \"data/bnk-ground-truth/47.gt.txt\" > \"data/bnk-ground-truth/47.box\"\n",
            "+ tesseract data/bnk-ground-truth/47.tif data/bnk-ground-truth/47 --psm 13 lstm.train\n",
            "Tesseract Open Source OCR Engine v4.0.0-beta.1 with Leptonica\n",
            "Page 1\n",
            "PYTHONIOENCODING=utf-8 python3 generate_line_box.py -i \"data/bnk-ground-truth/48.tif\" -t \"data/bnk-ground-truth/48.gt.txt\" > \"data/bnk-ground-truth/48.box\"\n",
            "+ tesseract data/bnk-ground-truth/48.tif data/bnk-ground-truth/48 --psm 13 lstm.train\n",
            "Tesseract Open Source OCR Engine v4.0.0-beta.1 with Leptonica\n",
            "Page 1\n",
            "PYTHONIOENCODING=utf-8 python3 generate_line_box.py -i \"data/bnk-ground-truth/49.tif\" -t \"data/bnk-ground-truth/49.gt.txt\" > \"data/bnk-ground-truth/49.box\"\n",
            "+ tesseract data/bnk-ground-truth/49.tif data/bnk-ground-truth/49 --psm 13 lstm.train\n",
            "Tesseract Open Source OCR Engine v4.0.0-beta.1 with Leptonica\n",
            "Page 1\n",
            "PYTHONIOENCODING=utf-8 python3 generate_line_box.py -i \"data/bnk-ground-truth/50.tif\" -t \"data/bnk-ground-truth/50.gt.txt\" > \"data/bnk-ground-truth/50.box\"\n",
            "+ tesseract data/bnk-ground-truth/50.tif data/bnk-ground-truth/50 --psm 13 lstm.train\n",
            "Tesseract Open Source OCR Engine v4.0.0-beta.1 with Leptonica\n",
            "Page 1\n",
            "PYTHONIOENCODING=utf-8 python3 generate_line_box.py -i \"data/bnk-ground-truth/51.tif\" -t \"data/bnk-ground-truth/51.gt.txt\" > \"data/bnk-ground-truth/51.box\"\n",
            "+ tesseract data/bnk-ground-truth/51.tif data/bnk-ground-truth/51 --psm 13 lstm.train\n",
            "Tesseract Open Source OCR Engine v4.0.0-beta.1 with Leptonica\n",
            "Page 1\n",
            "PYTHONIOENCODING=utf-8 python3 generate_line_box.py -i \"data/bnk-ground-truth/52.tif\" -t \"data/bnk-ground-truth/52.gt.txt\" > \"data/bnk-ground-truth/52.box\"\n",
            "+ tesseract data/bnk-ground-truth/52.tif data/bnk-ground-truth/52 --psm 13 lstm.train\n",
            "Tesseract Open Source OCR Engine v4.0.0-beta.1 with Leptonica\n",
            "Page 1\n",
            "PYTHONIOENCODING=utf-8 python3 generate_line_box.py -i \"data/bnk-ground-truth/53.tif\" -t \"data/bnk-ground-truth/53.gt.txt\" > \"data/bnk-ground-truth/53.box\"\n",
            "+ tesseract data/bnk-ground-truth/53.tif data/bnk-ground-truth/53 --psm 13 lstm.train\n",
            "Tesseract Open Source OCR Engine v4.0.0-beta.1 with Leptonica\n",
            "Page 1\n",
            "PYTHONIOENCODING=utf-8 python3 generate_line_box.py -i \"data/bnk-ground-truth/54.tif\" -t \"data/bnk-ground-truth/54.gt.txt\" > \"data/bnk-ground-truth/54.box\"\n",
            "+ tesseract data/bnk-ground-truth/54.tif data/bnk-ground-truth/54 --psm 13 lstm.train\n",
            "Tesseract Open Source OCR Engine v4.0.0-beta.1 with Leptonica\n",
            "Page 1\n",
            "PYTHONIOENCODING=utf-8 python3 generate_line_box.py -i \"data/bnk-ground-truth/55.tif\" -t \"data/bnk-ground-truth/55.gt.txt\" > \"data/bnk-ground-truth/55.box\"\n",
            "+ tesseract data/bnk-ground-truth/55.tif data/bnk-ground-truth/55 --psm 13 lstm.train\n",
            "Tesseract Open Source OCR Engine v4.0.0-beta.1 with Leptonica\n",
            "Page 1\n",
            "PYTHONIOENCODING=utf-8 python3 generate_line_box.py -i \"data/bnk-ground-truth/56.tif\" -t \"data/bnk-ground-truth/56.gt.txt\" > \"data/bnk-ground-truth/56.box\"\n",
            "+ tesseract data/bnk-ground-truth/56.tif data/bnk-ground-truth/56 --psm 13 lstm.train\n",
            "Tesseract Open Source OCR Engine v4.0.0-beta.1 with Leptonica\n",
            "Page 1\n",
            "PYTHONIOENCODING=utf-8 python3 generate_line_box.py -i \"data/bnk-ground-truth/57.tif\" -t \"data/bnk-ground-truth/57.gt.txt\" > \"data/bnk-ground-truth/57.box\"\n",
            "+ tesseract data/bnk-ground-truth/57.tif data/bnk-ground-truth/57 --psm 13 lstm.train\n",
            "Tesseract Open Source OCR Engine v4.0.0-beta.1 with Leptonica\n",
            "Page 1\n",
            "PYTHONIOENCODING=utf-8 python3 generate_line_box.py -i \"data/bnk-ground-truth/58.tif\" -t \"data/bnk-ground-truth/58.gt.txt\" > \"data/bnk-ground-truth/58.box\"\n",
            "+ tesseract data/bnk-ground-truth/58.tif data/bnk-ground-truth/58 --psm 13 lstm.train\n",
            "Tesseract Open Source OCR Engine v4.0.0-beta.1 with Leptonica\n",
            "Page 1\n",
            "PYTHONIOENCODING=utf-8 python3 generate_line_box.py -i \"data/bnk-ground-truth/59.tif\" -t \"data/bnk-ground-truth/59.gt.txt\" > \"data/bnk-ground-truth/59.box\"\n",
            "+ tesseract data/bnk-ground-truth/59.tif data/bnk-ground-truth/59 --psm 13 lstm.train\n",
            "Tesseract Open Source OCR Engine v4.0.0-beta.1 with Leptonica\n",
            "Page 1\n",
            "PYTHONIOENCODING=utf-8 python3 generate_line_box.py -i \"data/bnk-ground-truth/60.tif\" -t \"data/bnk-ground-truth/60.gt.txt\" > \"data/bnk-ground-truth/60.box\"\n",
            "+ tesseract data/bnk-ground-truth/60.tif data/bnk-ground-truth/60 --psm 13 lstm.train\n",
            "Tesseract Open Source OCR Engine v4.0.0-beta.1 with Leptonica\n",
            "Page 1\n",
            "PYTHONIOENCODING=utf-8 python3 generate_line_box.py -i \"data/bnk-ground-truth/61.tif\" -t \"data/bnk-ground-truth/61.gt.txt\" > \"data/bnk-ground-truth/61.box\"\n",
            "+ tesseract data/bnk-ground-truth/61.tif data/bnk-ground-truth/61 --psm 13 lstm.train\n",
            "Tesseract Open Source OCR Engine v4.0.0-beta.1 with Leptonica\n",
            "Page 1\n",
            "PYTHONIOENCODING=utf-8 python3 generate_line_box.py -i \"data/bnk-ground-truth/62.tif\" -t \"data/bnk-ground-truth/62.gt.txt\" > \"data/bnk-ground-truth/62.box\"\n",
            "+ tesseract data/bnk-ground-truth/62.tif data/bnk-ground-truth/62 --psm 13 lstm.train\n",
            "Tesseract Open Source OCR Engine v4.0.0-beta.1 with Leptonica\n",
            "Page 1\n",
            "PYTHONIOENCODING=utf-8 python3 generate_line_box.py -i \"data/bnk-ground-truth/63.tif\" -t \"data/bnk-ground-truth/63.gt.txt\" > \"data/bnk-ground-truth/63.box\"\n",
            "+ tesseract data/bnk-ground-truth/63.tif data/bnk-ground-truth/63 --psm 13 lstm.train\n",
            "Tesseract Open Source OCR Engine v4.0.0-beta.1 with Leptonica\n",
            "Page 1\n",
            "PYTHONIOENCODING=utf-8 python3 generate_line_box.py -i \"data/bnk-ground-truth/64.tif\" -t \"data/bnk-ground-truth/64.gt.txt\" > \"data/bnk-ground-truth/64.box\"\n",
            "+ tesseract data/bnk-ground-truth/64.tif data/bnk-ground-truth/64 --psm 13 lstm.train\n",
            "Tesseract Open Source OCR Engine v4.0.0-beta.1 with Leptonica\n",
            "Page 1\n",
            "PYTHONIOENCODING=utf-8 python3 generate_line_box.py -i \"data/bnk-ground-truth/65.tif\" -t \"data/bnk-ground-truth/65.gt.txt\" > \"data/bnk-ground-truth/65.box\"\n",
            "+ tesseract data/bnk-ground-truth/65.tif data/bnk-ground-truth/65 --psm 13 lstm.train\n",
            "Tesseract Open Source OCR Engine v4.0.0-beta.1 with Leptonica\n",
            "Page 1\n",
            "PYTHONIOENCODING=utf-8 python3 generate_line_box.py -i \"data/bnk-ground-truth/66.tif\" -t \"data/bnk-ground-truth/66.gt.txt\" > \"data/bnk-ground-truth/66.box\"\n",
            "+ tesseract data/bnk-ground-truth/66.tif data/bnk-ground-truth/66 --psm 13 lstm.train\n",
            "Tesseract Open Source OCR Engine v4.0.0-beta.1 with Leptonica\n",
            "Page 1\n",
            "PYTHONIOENCODING=utf-8 python3 generate_line_box.py -i \"data/bnk-ground-truth/67.tif\" -t \"data/bnk-ground-truth/67.gt.txt\" > \"data/bnk-ground-truth/67.box\"\n",
            "+ tesseract data/bnk-ground-truth/67.tif data/bnk-ground-truth/67 --psm 13 lstm.train\n",
            "Tesseract Open Source OCR Engine v4.0.0-beta.1 with Leptonica\n",
            "Page 1\n",
            "PYTHONIOENCODING=utf-8 python3 generate_line_box.py -i \"data/bnk-ground-truth/68.tif\" -t \"data/bnk-ground-truth/68.gt.txt\" > \"data/bnk-ground-truth/68.box\"\n",
            "+ tesseract data/bnk-ground-truth/68.tif data/bnk-ground-truth/68 --psm 13 lstm.train\n",
            "Tesseract Open Source OCR Engine v4.0.0-beta.1 with Leptonica\n",
            "Page 1\n",
            "PYTHONIOENCODING=utf-8 python3 generate_line_box.py -i \"data/bnk-ground-truth/69.tif\" -t \"data/bnk-ground-truth/69.gt.txt\" > \"data/bnk-ground-truth/69.box\"\n",
            "+ tesseract data/bnk-ground-truth/69.tif data/bnk-ground-truth/69 --psm 13 lstm.train\n",
            "Tesseract Open Source OCR Engine v4.0.0-beta.1 with Leptonica\n",
            "Page 1\n",
            "PYTHONIOENCODING=utf-8 python3 generate_line_box.py -i \"data/bnk-ground-truth/70.tif\" -t \"data/bnk-ground-truth/70.gt.txt\" > \"data/bnk-ground-truth/70.box\"\n",
            "+ tesseract data/bnk-ground-truth/70.tif data/bnk-ground-truth/70 --psm 13 lstm.train\n",
            "Tesseract Open Source OCR Engine v4.0.0-beta.1 with Leptonica\n",
            "Page 1\n",
            "PYTHONIOENCODING=utf-8 python3 generate_line_box.py -i \"data/bnk-ground-truth/71.tif\" -t \"data/bnk-ground-truth/71.gt.txt\" > \"data/bnk-ground-truth/71.box\"\n",
            "+ tesseract data/bnk-ground-truth/71.tif data/bnk-ground-truth/71 --psm 13 lstm.train\n",
            "Tesseract Open Source OCR Engine v4.0.0-beta.1 with Leptonica\n",
            "Page 1\n",
            "PYTHONIOENCODING=utf-8 python3 generate_line_box.py -i \"data/bnk-ground-truth/72.tif\" -t \"data/bnk-ground-truth/72.gt.txt\" > \"data/bnk-ground-truth/72.box\"\n",
            "+ tesseract data/bnk-ground-truth/72.tif data/bnk-ground-truth/72 --psm 13 lstm.train\n",
            "Tesseract Open Source OCR Engine v4.0.0-beta.1 with Leptonica\n",
            "Page 1\n",
            "PYTHONIOENCODING=utf-8 python3 generate_line_box.py -i \"data/bnk-ground-truth/73.tif\" -t \"data/bnk-ground-truth/73.gt.txt\" > \"data/bnk-ground-truth/73.box\"\n",
            "+ tesseract data/bnk-ground-truth/73.tif data/bnk-ground-truth/73 --psm 13 lstm.train\n",
            "Tesseract Open Source OCR Engine v4.0.0-beta.1 with Leptonica\n",
            "Page 1\n",
            "PYTHONIOENCODING=utf-8 python3 generate_line_box.py -i \"data/bnk-ground-truth/74.tif\" -t \"data/bnk-ground-truth/74.gt.txt\" > \"data/bnk-ground-truth/74.box\"\n",
            "+ tesseract data/bnk-ground-truth/74.tif data/bnk-ground-truth/74 --psm 13 lstm.train\n",
            "Tesseract Open Source OCR Engine v4.0.0-beta.1 with Leptonica\n",
            "Page 1\n",
            "PYTHONIOENCODING=utf-8 python3 generate_line_box.py -i \"data/bnk-ground-truth/75.tif\" -t \"data/bnk-ground-truth/75.gt.txt\" > \"data/bnk-ground-truth/75.box\"\n",
            "+ tesseract data/bnk-ground-truth/75.tif data/bnk-ground-truth/75 --psm 13 lstm.train\n",
            "Tesseract Open Source OCR Engine v4.0.0-beta.1 with Leptonica\n",
            "Page 1\n",
            "PYTHONIOENCODING=utf-8 python3 generate_line_box.py -i \"data/bnk-ground-truth/76.tif\" -t \"data/bnk-ground-truth/76.gt.txt\" > \"data/bnk-ground-truth/76.box\"\n",
            "+ tesseract data/bnk-ground-truth/76.tif data/bnk-ground-truth/76 --psm 13 lstm.train\n",
            "Tesseract Open Source OCR Engine v4.0.0-beta.1 with Leptonica\n",
            "Page 1\n",
            "PYTHONIOENCODING=utf-8 python3 generate_line_box.py -i \"data/bnk-ground-truth/77.tif\" -t \"data/bnk-ground-truth/77.gt.txt\" > \"data/bnk-ground-truth/77.box\"\n",
            "+ tesseract data/bnk-ground-truth/77.tif data/bnk-ground-truth/77 --psm 13 lstm.train\n",
            "Tesseract Open Source OCR Engine v4.0.0-beta.1 with Leptonica\n",
            "Page 1\n",
            "PYTHONIOENCODING=utf-8 python3 generate_line_box.py -i \"data/bnk-ground-truth/78.tif\" -t \"data/bnk-ground-truth/78.gt.txt\" > \"data/bnk-ground-truth/78.box\"\n",
            "+ tesseract data/bnk-ground-truth/78.tif data/bnk-ground-truth/78 --psm 13 lstm.train\n",
            "Tesseract Open Source OCR Engine v4.0.0-beta.1 with Leptonica\n",
            "Page 1\n",
            "PYTHONIOENCODING=utf-8 python3 generate_line_box.py -i \"data/bnk-ground-truth/79.tif\" -t \"data/bnk-ground-truth/79.gt.txt\" > \"data/bnk-ground-truth/79.box\"\n",
            "+ tesseract data/bnk-ground-truth/79.tif data/bnk-ground-truth/79 --psm 13 lstm.train\n",
            "Tesseract Open Source OCR Engine v4.0.0-beta.1 with Leptonica\n",
            "Page 1\n",
            "PYTHONIOENCODING=utf-8 python3 generate_line_box.py -i \"data/bnk-ground-truth/80.tif\" -t \"data/bnk-ground-truth/80.gt.txt\" > \"data/bnk-ground-truth/80.box\"\n",
            "+ tesseract data/bnk-ground-truth/80.tif data/bnk-ground-truth/80 --psm 13 lstm.train\n",
            "Tesseract Open Source OCR Engine v4.0.0-beta.1 with Leptonica\n",
            "Page 1\n",
            "PYTHONIOENCODING=utf-8 python3 generate_line_box.py -i \"data/bnk-ground-truth/81.tif\" -t \"data/bnk-ground-truth/81.gt.txt\" > \"data/bnk-ground-truth/81.box\"\n",
            "+ tesseract data/bnk-ground-truth/81.tif data/bnk-ground-truth/81 --psm 13 lstm.train\n",
            "Tesseract Open Source OCR Engine v4.0.0-beta.1 with Leptonica\n",
            "Page 1\n",
            "PYTHONIOENCODING=utf-8 python3 generate_line_box.py -i \"data/bnk-ground-truth/82.tif\" -t \"data/bnk-ground-truth/82.gt.txt\" > \"data/bnk-ground-truth/82.box\"\n",
            "+ tesseract data/bnk-ground-truth/82.tif data/bnk-ground-truth/82 --psm 13 lstm.train\n",
            "Tesseract Open Source OCR Engine v4.0.0-beta.1 with Leptonica\n",
            "Page 1\n",
            "PYTHONIOENCODING=utf-8 python3 generate_line_box.py -i \"data/bnk-ground-truth/83.tif\" -t \"data/bnk-ground-truth/83.gt.txt\" > \"data/bnk-ground-truth/83.box\"\n",
            "+ tesseract data/bnk-ground-truth/83.tif data/bnk-ground-truth/83 --psm 13 lstm.train\n",
            "Tesseract Open Source OCR Engine v4.0.0-beta.1 with Leptonica\n",
            "Page 1\n",
            "PYTHONIOENCODING=utf-8 python3 generate_line_box.py -i \"data/bnk-ground-truth/84.tif\" -t \"data/bnk-ground-truth/84.gt.txt\" > \"data/bnk-ground-truth/84.box\"\n",
            "+ tesseract data/bnk-ground-truth/84.tif data/bnk-ground-truth/84 --psm 13 lstm.train\n",
            "Tesseract Open Source OCR Engine v4.0.0-beta.1 with Leptonica\n",
            "Page 1\n",
            "PYTHONIOENCODING=utf-8 python3 generate_line_box.py -i \"data/bnk-ground-truth/85.tif\" -t \"data/bnk-ground-truth/85.gt.txt\" > \"data/bnk-ground-truth/85.box\"\n",
            "+ tesseract data/bnk-ground-truth/85.tif data/bnk-ground-truth/85 --psm 13 lstm.train\n",
            "Tesseract Open Source OCR Engine v4.0.0-beta.1 with Leptonica\n",
            "Page 1\n",
            "PYTHONIOENCODING=utf-8 python3 generate_line_box.py -i \"data/bnk-ground-truth/86.tif\" -t \"data/bnk-ground-truth/86.gt.txt\" > \"data/bnk-ground-truth/86.box\"\n",
            "+ tesseract data/bnk-ground-truth/86.tif data/bnk-ground-truth/86 --psm 13 lstm.train\n",
            "Tesseract Open Source OCR Engine v4.0.0-beta.1 with Leptonica\n",
            "Page 1\n",
            "PYTHONIOENCODING=utf-8 python3 generate_line_box.py -i \"data/bnk-ground-truth/87.tif\" -t \"data/bnk-ground-truth/87.gt.txt\" > \"data/bnk-ground-truth/87.box\"\n",
            "+ tesseract data/bnk-ground-truth/87.tif data/bnk-ground-truth/87 --psm 13 lstm.train\n",
            "Tesseract Open Source OCR Engine v4.0.0-beta.1 with Leptonica\n",
            "Page 1\n",
            "PYTHONIOENCODING=utf-8 python3 generate_line_box.py -i \"data/bnk-ground-truth/88.tif\" -t \"data/bnk-ground-truth/88.gt.txt\" > \"data/bnk-ground-truth/88.box\"\n",
            "+ tesseract data/bnk-ground-truth/88.tif data/bnk-ground-truth/88 --psm 13 lstm.train\n",
            "Tesseract Open Source OCR Engine v4.0.0-beta.1 with Leptonica\n",
            "Page 1\n",
            "PYTHONIOENCODING=utf-8 python3 generate_line_box.py -i \"data/bnk-ground-truth/89.tif\" -t \"data/bnk-ground-truth/89.gt.txt\" > \"data/bnk-ground-truth/89.box\"\n",
            "+ tesseract data/bnk-ground-truth/89.tif data/bnk-ground-truth/89 --psm 13 lstm.train\n",
            "Tesseract Open Source OCR Engine v4.0.0-beta.1 with Leptonica\n",
            "Page 1\n",
            "PYTHONIOENCODING=utf-8 python3 generate_line_box.py -i \"data/bnk-ground-truth/90.tif\" -t \"data/bnk-ground-truth/90.gt.txt\" > \"data/bnk-ground-truth/90.box\"\n",
            "+ tesseract data/bnk-ground-truth/90.tif data/bnk-ground-truth/90 --psm 13 lstm.train\n",
            "Tesseract Open Source OCR Engine v4.0.0-beta.1 with Leptonica\n",
            "Page 1\n",
            "PYTHONIOENCODING=utf-8 python3 generate_line_box.py -i \"data/bnk-ground-truth/91.tif\" -t \"data/bnk-ground-truth/91.gt.txt\" > \"data/bnk-ground-truth/91.box\"\n",
            "+ tesseract data/bnk-ground-truth/91.tif data/bnk-ground-truth/91 --psm 13 lstm.train\n",
            "Tesseract Open Source OCR Engine v4.0.0-beta.1 with Leptonica\n",
            "Page 1\n",
            "PYTHONIOENCODING=utf-8 python3 generate_line_box.py -i \"data/bnk-ground-truth/92.tif\" -t \"data/bnk-ground-truth/92.gt.txt\" > \"data/bnk-ground-truth/92.box\"\n",
            "+ tesseract data/bnk-ground-truth/92.tif data/bnk-ground-truth/92 --psm 13 lstm.train\n",
            "Tesseract Open Source OCR Engine v4.0.0-beta.1 with Leptonica\n",
            "Page 1\n",
            "PYTHONIOENCODING=utf-8 python3 generate_line_box.py -i \"data/bnk-ground-truth/93.tif\" -t \"data/bnk-ground-truth/93.gt.txt\" > \"data/bnk-ground-truth/93.box\"\n",
            "+ tesseract data/bnk-ground-truth/93.tif data/bnk-ground-truth/93 --psm 13 lstm.train\n",
            "Tesseract Open Source OCR Engine v4.0.0-beta.1 with Leptonica\n",
            "Page 1\n",
            "PYTHONIOENCODING=utf-8 python3 generate_line_box.py -i \"data/bnk-ground-truth/94.tif\" -t \"data/bnk-ground-truth/94.gt.txt\" > \"data/bnk-ground-truth/94.box\"\n",
            "+ tesseract data/bnk-ground-truth/94.tif data/bnk-ground-truth/94 --psm 13 lstm.train\n",
            "Tesseract Open Source OCR Engine v4.0.0-beta.1 with Leptonica\n",
            "Page 1\n",
            "PYTHONIOENCODING=utf-8 python3 generate_line_box.py -i \"data/bnk-ground-truth/95.tif\" -t \"data/bnk-ground-truth/95.gt.txt\" > \"data/bnk-ground-truth/95.box\"\n",
            "+ tesseract data/bnk-ground-truth/95.tif data/bnk-ground-truth/95 --psm 13 lstm.train\n",
            "Tesseract Open Source OCR Engine v4.0.0-beta.1 with Leptonica\n",
            "Page 1\n",
            "PYTHONIOENCODING=utf-8 python3 generate_line_box.py -i \"data/bnk-ground-truth/96.tif\" -t \"data/bnk-ground-truth/96.gt.txt\" > \"data/bnk-ground-truth/96.box\"\n",
            "+ tesseract data/bnk-ground-truth/96.tif data/bnk-ground-truth/96 --psm 13 lstm.train\n",
            "Tesseract Open Source OCR Engine v4.0.0-beta.1 with Leptonica\n",
            "Page 1\n",
            "PYTHONIOENCODING=utf-8 python3 generate_line_box.py -i \"data/bnk-ground-truth/97.tif\" -t \"data/bnk-ground-truth/97.gt.txt\" > \"data/bnk-ground-truth/97.box\"\n",
            "+ tesseract data/bnk-ground-truth/97.tif data/bnk-ground-truth/97 --psm 13 lstm.train\n",
            "Tesseract Open Source OCR Engine v4.0.0-beta.1 with Leptonica\n",
            "Page 1\n",
            "PYTHONIOENCODING=utf-8 python3 generate_line_box.py -i \"data/bnk-ground-truth/98.tif\" -t \"data/bnk-ground-truth/98.gt.txt\" > \"data/bnk-ground-truth/98.box\"\n",
            "+ tesseract data/bnk-ground-truth/98.tif data/bnk-ground-truth/98 --psm 13 lstm.train\n",
            "Tesseract Open Source OCR Engine v4.0.0-beta.1 with Leptonica\n",
            "Page 1\n",
            "PYTHONIOENCODING=utf-8 python3 generate_line_box.py -i \"data/bnk-ground-truth/99.tif\" -t \"data/bnk-ground-truth/99.gt.txt\" > \"data/bnk-ground-truth/99.box\"\n",
            "+ tesseract data/bnk-ground-truth/99.tif data/bnk-ground-truth/99 --psm 13 lstm.train\n",
            "Tesseract Open Source OCR Engine v4.0.0-beta.1 with Leptonica\n",
            "Page 1\n",
            "PYTHONIOENCODING=utf-8 python3 generate_line_box.py -i \"data/bnk-ground-truth/100.tif\" -t \"data/bnk-ground-truth/100.gt.txt\" > \"data/bnk-ground-truth/100.box\"\n",
            "+ tesseract data/bnk-ground-truth/100.tif data/bnk-ground-truth/100 --psm 13 lstm.train\n",
            "Tesseract Open Source OCR Engine v4.0.0-beta.1 with Leptonica\n",
            "Page 1\n",
            "PYTHONIOENCODING=utf-8 python3 generate_line_box.py -i \"data/bnk-ground-truth/101.tif\" -t \"data/bnk-ground-truth/101.gt.txt\" > \"data/bnk-ground-truth/101.box\"\n",
            "+ tesseract data/bnk-ground-truth/101.tif data/bnk-ground-truth/101 --psm 13 lstm.train\n",
            "Tesseract Open Source OCR Engine v4.0.0-beta.1 with Leptonica\n",
            "Page 1\n",
            "PYTHONIOENCODING=utf-8 python3 generate_line_box.py -i \"data/bnk-ground-truth/102.tif\" -t \"data/bnk-ground-truth/102.gt.txt\" > \"data/bnk-ground-truth/102.box\"\n",
            "+ tesseract data/bnk-ground-truth/102.tif data/bnk-ground-truth/102 --psm 13 lstm.train\n",
            "Tesseract Open Source OCR Engine v4.0.0-beta.1 with Leptonica\n",
            "Page 1\n",
            "PYTHONIOENCODING=utf-8 python3 generate_line_box.py -i \"data/bnk-ground-truth/103.tif\" -t \"data/bnk-ground-truth/103.gt.txt\" > \"data/bnk-ground-truth/103.box\"\n",
            "+ tesseract data/bnk-ground-truth/103.tif data/bnk-ground-truth/103 --psm 13 lstm.train\n",
            "Tesseract Open Source OCR Engine v4.0.0-beta.1 with Leptonica\n",
            "Page 1\n",
            "PYTHONIOENCODING=utf-8 python3 generate_line_box.py -i \"data/bnk-ground-truth/104.tif\" -t \"data/bnk-ground-truth/104.gt.txt\" > \"data/bnk-ground-truth/104.box\"\n",
            "+ tesseract data/bnk-ground-truth/104.tif data/bnk-ground-truth/104 --psm 13 lstm.train\n",
            "Tesseract Open Source OCR Engine v4.0.0-beta.1 with Leptonica\n",
            "Page 1\n",
            "PYTHONIOENCODING=utf-8 python3 generate_line_box.py -i \"data/bnk-ground-truth/105.tif\" -t \"data/bnk-ground-truth/105.gt.txt\" > \"data/bnk-ground-truth/105.box\"\n",
            "+ tesseract data/bnk-ground-truth/105.tif data/bnk-ground-truth/105 --psm 13 lstm.train\n",
            "Tesseract Open Source OCR Engine v4.0.0-beta.1 with Leptonica\n",
            "Page 1\n",
            "PYTHONIOENCODING=utf-8 python3 generate_line_box.py -i \"data/bnk-ground-truth/106.tif\" -t \"data/bnk-ground-truth/106.gt.txt\" > \"data/bnk-ground-truth/106.box\"\n",
            "+ tesseract data/bnk-ground-truth/106.tif data/bnk-ground-truth/106 --psm 13 lstm.train\n",
            "Tesseract Open Source OCR Engine v4.0.0-beta.1 with Leptonica\n",
            "Page 1\n",
            "PYTHONIOENCODING=utf-8 python3 generate_line_box.py -i \"data/bnk-ground-truth/107.tif\" -t \"data/bnk-ground-truth/107.gt.txt\" > \"data/bnk-ground-truth/107.box\"\n",
            "+ tesseract data/bnk-ground-truth/107.tif data/bnk-ground-truth/107 --psm 13 lstm.train\n",
            "Tesseract Open Source OCR Engine v4.0.0-beta.1 with Leptonica\n",
            "Page 1\n",
            "PYTHONIOENCODING=utf-8 python3 generate_line_box.py -i \"data/bnk-ground-truth/108.tif\" -t \"data/bnk-ground-truth/108.gt.txt\" > \"data/bnk-ground-truth/108.box\"\n",
            "+ tesseract data/bnk-ground-truth/108.tif data/bnk-ground-truth/108 --psm 13 lstm.train\n",
            "Tesseract Open Source OCR Engine v4.0.0-beta.1 with Leptonica\n",
            "Page 1\n",
            "PYTHONIOENCODING=utf-8 python3 generate_line_box.py -i \"data/bnk-ground-truth/109.tif\" -t \"data/bnk-ground-truth/109.gt.txt\" > \"data/bnk-ground-truth/109.box\"\n",
            "+ tesseract data/bnk-ground-truth/109.tif data/bnk-ground-truth/109 --psm 13 lstm.train\n",
            "Tesseract Open Source OCR Engine v4.0.0-beta.1 with Leptonica\n",
            "Page 1\n",
            "PYTHONIOENCODING=utf-8 python3 generate_line_box.py -i \"data/bnk-ground-truth/110.tif\" -t \"data/bnk-ground-truth/110.gt.txt\" > \"data/bnk-ground-truth/110.box\"\n",
            "+ tesseract data/bnk-ground-truth/110.tif data/bnk-ground-truth/110 --psm 13 lstm.train\n",
            "Tesseract Open Source OCR Engine v4.0.0-beta.1 with Leptonica\n",
            "Page 1\n",
            "PYTHONIOENCODING=utf-8 python3 generate_line_box.py -i \"data/bnk-ground-truth/111.tif\" -t \"data/bnk-ground-truth/111.gt.txt\" > \"data/bnk-ground-truth/111.box\"\n",
            "+ tesseract data/bnk-ground-truth/111.tif data/bnk-ground-truth/111 --psm 13 lstm.train\n",
            "Tesseract Open Source OCR Engine v4.0.0-beta.1 with Leptonica\n",
            "Page 1\n",
            "PYTHONIOENCODING=utf-8 python3 generate_line_box.py -i \"data/bnk-ground-truth/112.tif\" -t \"data/bnk-ground-truth/112.gt.txt\" > \"data/bnk-ground-truth/112.box\"\n",
            "+ tesseract data/bnk-ground-truth/112.tif data/bnk-ground-truth/112 --psm 13 lstm.train\n",
            "Tesseract Open Source OCR Engine v4.0.0-beta.1 with Leptonica\n",
            "Page 1\n",
            "PYTHONIOENCODING=utf-8 python3 generate_line_box.py -i \"data/bnk-ground-truth/113.tif\" -t \"data/bnk-ground-truth/113.gt.txt\" > \"data/bnk-ground-truth/113.box\"\n",
            "+ tesseract data/bnk-ground-truth/113.tif data/bnk-ground-truth/113 --psm 13 lstm.train\n",
            "Tesseract Open Source OCR Engine v4.0.0-beta.1 with Leptonica\n",
            "Page 1\n",
            "PYTHONIOENCODING=utf-8 python3 generate_line_box.py -i \"data/bnk-ground-truth/114.tif\" -t \"data/bnk-ground-truth/114.gt.txt\" > \"data/bnk-ground-truth/114.box\"\n",
            "+ tesseract data/bnk-ground-truth/114.tif data/bnk-ground-truth/114 --psm 13 lstm.train\n",
            "Tesseract Open Source OCR Engine v4.0.0-beta.1 with Leptonica\n",
            "Page 1\n",
            "PYTHONIOENCODING=utf-8 python3 generate_line_box.py -i \"data/bnk-ground-truth/115.tif\" -t \"data/bnk-ground-truth/115.gt.txt\" > \"data/bnk-ground-truth/115.box\"\n",
            "+ tesseract data/bnk-ground-truth/115.tif data/bnk-ground-truth/115 --psm 13 lstm.train\n",
            "Tesseract Open Source OCR Engine v4.0.0-beta.1 with Leptonica\n",
            "Page 1\n",
            "PYTHONIOENCODING=utf-8 python3 generate_line_box.py -i \"data/bnk-ground-truth/116.tif\" -t \"data/bnk-ground-truth/116.gt.txt\" > \"data/bnk-ground-truth/116.box\"\n",
            "+ tesseract data/bnk-ground-truth/116.tif data/bnk-ground-truth/116 --psm 13 lstm.train\n",
            "Tesseract Open Source OCR Engine v4.0.0-beta.1 with Leptonica\n",
            "Page 1\n",
            "PYTHONIOENCODING=utf-8 python3 generate_line_box.py -i \"data/bnk-ground-truth/117.tif\" -t \"data/bnk-ground-truth/117.gt.txt\" > \"data/bnk-ground-truth/117.box\"\n",
            "+ tesseract data/bnk-ground-truth/117.tif data/bnk-ground-truth/117 --psm 13 lstm.train\n",
            "Tesseract Open Source OCR Engine v4.0.0-beta.1 with Leptonica\n",
            "Page 1\n",
            "PYTHONIOENCODING=utf-8 python3 generate_line_box.py -i \"data/bnk-ground-truth/118.tif\" -t \"data/bnk-ground-truth/118.gt.txt\" > \"data/bnk-ground-truth/118.box\"\n",
            "+ tesseract data/bnk-ground-truth/118.tif data/bnk-ground-truth/118 --psm 13 lstm.train\n",
            "Tesseract Open Source OCR Engine v4.0.0-beta.1 with Leptonica\n",
            "Page 1\n",
            "PYTHONIOENCODING=utf-8 python3 generate_line_box.py -i \"data/bnk-ground-truth/119.tif\" -t \"data/bnk-ground-truth/119.gt.txt\" > \"data/bnk-ground-truth/119.box\"\n",
            "+ tesseract data/bnk-ground-truth/119.tif data/bnk-ground-truth/119 --psm 13 lstm.train\n",
            "Tesseract Open Source OCR Engine v4.0.0-beta.1 with Leptonica\n",
            "Page 1\n",
            "PYTHONIOENCODING=utf-8 python3 generate_line_box.py -i \"data/bnk-ground-truth/120.tif\" -t \"data/bnk-ground-truth/120.gt.txt\" > \"data/bnk-ground-truth/120.box\"\n",
            "+ tesseract data/bnk-ground-truth/120.tif data/bnk-ground-truth/120 --psm 13 lstm.train\n",
            "Tesseract Open Source OCR Engine v4.0.0-beta.1 with Leptonica\n",
            "Page 1\n",
            "PYTHONIOENCODING=utf-8 python3 generate_line_box.py -i \"data/bnk-ground-truth/121.tif\" -t \"data/bnk-ground-truth/121.gt.txt\" > \"data/bnk-ground-truth/121.box\"\n",
            "+ tesseract data/bnk-ground-truth/121.tif data/bnk-ground-truth/121 --psm 13 lstm.train\n",
            "Tesseract Open Source OCR Engine v4.0.0-beta.1 with Leptonica\n",
            "Page 1\n",
            "PYTHONIOENCODING=utf-8 python3 generate_line_box.py -i \"data/bnk-ground-truth/122.tif\" -t \"data/bnk-ground-truth/122.gt.txt\" > \"data/bnk-ground-truth/122.box\"\n",
            "+ tesseract data/bnk-ground-truth/122.tif data/bnk-ground-truth/122 --psm 13 lstm.train\n",
            "Tesseract Open Source OCR Engine v4.0.0-beta.1 with Leptonica\n",
            "Page 1\n",
            "PYTHONIOENCODING=utf-8 python3 generate_line_box.py -i \"data/bnk-ground-truth/123.tif\" -t \"data/bnk-ground-truth/123.gt.txt\" > \"data/bnk-ground-truth/123.box\"\n",
            "+ tesseract data/bnk-ground-truth/123.tif data/bnk-ground-truth/123 --psm 13 lstm.train\n",
            "Tesseract Open Source OCR Engine v4.0.0-beta.1 with Leptonica\n",
            "Page 1\n",
            "PYTHONIOENCODING=utf-8 python3 generate_line_box.py -i \"data/bnk-ground-truth/124.tif\" -t \"data/bnk-ground-truth/124.gt.txt\" > \"data/bnk-ground-truth/124.box\"\n",
            "+ tesseract data/bnk-ground-truth/124.tif data/bnk-ground-truth/124 --psm 13 lstm.train\n",
            "Tesseract Open Source OCR Engine v4.0.0-beta.1 with Leptonica\n",
            "Page 1\n",
            "PYTHONIOENCODING=utf-8 python3 generate_line_box.py -i \"data/bnk-ground-truth/125.tif\" -t \"data/bnk-ground-truth/125.gt.txt\" > \"data/bnk-ground-truth/125.box\"\n",
            "+ tesseract data/bnk-ground-truth/125.tif data/bnk-ground-truth/125 --psm 13 lstm.train\n",
            "Tesseract Open Source OCR Engine v4.0.0-beta.1 with Leptonica\n",
            "Page 1\n",
            "PYTHONIOENCODING=utf-8 python3 generate_line_box.py -i \"data/bnk-ground-truth/126.tif\" -t \"data/bnk-ground-truth/126.gt.txt\" > \"data/bnk-ground-truth/126.box\"\n",
            "+ tesseract data/bnk-ground-truth/126.tif data/bnk-ground-truth/126 --psm 13 lstm.train\n",
            "Tesseract Open Source OCR Engine v4.0.0-beta.1 with Leptonica\n",
            "Page 1\n",
            "PYTHONIOENCODING=utf-8 python3 generate_line_box.py -i \"data/bnk-ground-truth/127.tif\" -t \"data/bnk-ground-truth/127.gt.txt\" > \"data/bnk-ground-truth/127.box\"\n",
            "+ tesseract data/bnk-ground-truth/127.tif data/bnk-ground-truth/127 --psm 13 lstm.train\n",
            "Tesseract Open Source OCR Engine v4.0.0-beta.1 with Leptonica\n",
            "Page 1\n",
            "PYTHONIOENCODING=utf-8 python3 generate_line_box.py -i \"data/bnk-ground-truth/128.tif\" -t \"data/bnk-ground-truth/128.gt.txt\" > \"data/bnk-ground-truth/128.box\"\n",
            "+ tesseract data/bnk-ground-truth/128.tif data/bnk-ground-truth/128 --psm 13 lstm.train\n",
            "Tesseract Open Source OCR Engine v4.0.0-beta.1 with Leptonica\n",
            "Page 1\n",
            "PYTHONIOENCODING=utf-8 python3 generate_line_box.py -i \"data/bnk-ground-truth/129.tif\" -t \"data/bnk-ground-truth/129.gt.txt\" > \"data/bnk-ground-truth/129.box\"\n",
            "+ tesseract data/bnk-ground-truth/129.tif data/bnk-ground-truth/129 --psm 13 lstm.train\n",
            "Tesseract Open Source OCR Engine v4.0.0-beta.1 with Leptonica\n",
            "Page 1\n",
            "PYTHONIOENCODING=utf-8 python3 generate_line_box.py -i \"data/bnk-ground-truth/130.tif\" -t \"data/bnk-ground-truth/130.gt.txt\" > \"data/bnk-ground-truth/130.box\"\n",
            "+ tesseract data/bnk-ground-truth/130.tif data/bnk-ground-truth/130 --psm 13 lstm.train\n",
            "Tesseract Open Source OCR Engine v4.0.0-beta.1 with Leptonica\n",
            "Page 1\n",
            "PYTHONIOENCODING=utf-8 python3 generate_line_box.py -i \"data/bnk-ground-truth/131.tif\" -t \"data/bnk-ground-truth/131.gt.txt\" > \"data/bnk-ground-truth/131.box\"\n",
            "+ tesseract data/bnk-ground-truth/131.tif data/bnk-ground-truth/131 --psm 13 lstm.train\n",
            "Tesseract Open Source OCR Engine v4.0.0-beta.1 with Leptonica\n",
            "Page 1\n",
            "PYTHONIOENCODING=utf-8 python3 generate_line_box.py -i \"data/bnk-ground-truth/132.tif\" -t \"data/bnk-ground-truth/132.gt.txt\" > \"data/bnk-ground-truth/132.box\"\n",
            "+ tesseract data/bnk-ground-truth/132.tif data/bnk-ground-truth/132 --psm 13 lstm.train\n",
            "Tesseract Open Source OCR Engine v4.0.0-beta.1 with Leptonica\n",
            "Page 1\n",
            "PYTHONIOENCODING=utf-8 python3 generate_line_box.py -i \"data/bnk-ground-truth/133.tif\" -t \"data/bnk-ground-truth/133.gt.txt\" > \"data/bnk-ground-truth/133.box\"\n",
            "+ tesseract data/bnk-ground-truth/133.tif data/bnk-ground-truth/133 --psm 13 lstm.train\n",
            "Tesseract Open Source OCR Engine v4.0.0-beta.1 with Leptonica\n",
            "Page 1\n",
            "PYTHONIOENCODING=utf-8 python3 generate_line_box.py -i \"data/bnk-ground-truth/134.tif\" -t \"data/bnk-ground-truth/134.gt.txt\" > \"data/bnk-ground-truth/134.box\"\n",
            "+ tesseract data/bnk-ground-truth/134.tif data/bnk-ground-truth/134 --psm 13 lstm.train\n",
            "Tesseract Open Source OCR Engine v4.0.0-beta.1 with Leptonica\n",
            "Page 1\n",
            "PYTHONIOENCODING=utf-8 python3 generate_line_box.py -i \"data/bnk-ground-truth/135.tif\" -t \"data/bnk-ground-truth/135.gt.txt\" > \"data/bnk-ground-truth/135.box\"\n",
            "+ tesseract data/bnk-ground-truth/135.tif data/bnk-ground-truth/135 --psm 13 lstm.train\n",
            "Tesseract Open Source OCR Engine v4.0.0-beta.1 with Leptonica\n",
            "Page 1\n",
            "PYTHONIOENCODING=utf-8 python3 generate_line_box.py -i \"data/bnk-ground-truth/136.tif\" -t \"data/bnk-ground-truth/136.gt.txt\" > \"data/bnk-ground-truth/136.box\"\n",
            "+ tesseract data/bnk-ground-truth/136.tif data/bnk-ground-truth/136 --psm 13 lstm.train\n",
            "Tesseract Open Source OCR Engine v4.0.0-beta.1 with Leptonica\n",
            "Page 1\n",
            "PYTHONIOENCODING=utf-8 python3 generate_line_box.py -i \"data/bnk-ground-truth/137.tif\" -t \"data/bnk-ground-truth/137.gt.txt\" > \"data/bnk-ground-truth/137.box\"\n",
            "+ tesseract data/bnk-ground-truth/137.tif data/bnk-ground-truth/137 --psm 13 lstm.train\n",
            "Tesseract Open Source OCR Engine v4.0.0-beta.1 with Leptonica\n",
            "Page 1\n",
            "PYTHONIOENCODING=utf-8 python3 generate_line_box.py -i \"data/bnk-ground-truth/138.tif\" -t \"data/bnk-ground-truth/138.gt.txt\" > \"data/bnk-ground-truth/138.box\"\n",
            "+ tesseract data/bnk-ground-truth/138.tif data/bnk-ground-truth/138 --psm 13 lstm.train\n",
            "Tesseract Open Source OCR Engine v4.0.0-beta.1 with Leptonica\n",
            "Page 1\n",
            "PYTHONIOENCODING=utf-8 python3 generate_line_box.py -i \"data/bnk-ground-truth/139.tif\" -t \"data/bnk-ground-truth/139.gt.txt\" > \"data/bnk-ground-truth/139.box\"\n",
            "+ tesseract data/bnk-ground-truth/139.tif data/bnk-ground-truth/139 --psm 13 lstm.train\n",
            "Tesseract Open Source OCR Engine v4.0.0-beta.1 with Leptonica\n",
            "Page 1\n",
            "PYTHONIOENCODING=utf-8 python3 generate_line_box.py -i \"data/bnk-ground-truth/140.tif\" -t \"data/bnk-ground-truth/140.gt.txt\" > \"data/bnk-ground-truth/140.box\"\n",
            "+ tesseract data/bnk-ground-truth/140.tif data/bnk-ground-truth/140 --psm 13 lstm.train\n",
            "Tesseract Open Source OCR Engine v4.0.0-beta.1 with Leptonica\n",
            "Page 1\n",
            "PYTHONIOENCODING=utf-8 python3 generate_line_box.py -i \"data/bnk-ground-truth/141.tif\" -t \"data/bnk-ground-truth/141.gt.txt\" > \"data/bnk-ground-truth/141.box\"\n",
            "+ tesseract data/bnk-ground-truth/141.tif data/bnk-ground-truth/141 --psm 13 lstm.train\n",
            "Tesseract Open Source OCR Engine v4.0.0-beta.1 with Leptonica\n",
            "Page 1\n",
            "PYTHONIOENCODING=utf-8 python3 generate_line_box.py -i \"data/bnk-ground-truth/142.tif\" -t \"data/bnk-ground-truth/142.gt.txt\" > \"data/bnk-ground-truth/142.box\"\n",
            "+ tesseract data/bnk-ground-truth/142.tif data/bnk-ground-truth/142 --psm 13 lstm.train\n",
            "Tesseract Open Source OCR Engine v4.0.0-beta.1 with Leptonica\n",
            "Page 1\n",
            "PYTHONIOENCODING=utf-8 python3 generate_line_box.py -i \"data/bnk-ground-truth/143.tif\" -t \"data/bnk-ground-truth/143.gt.txt\" > \"data/bnk-ground-truth/143.box\"\n",
            "+ tesseract data/bnk-ground-truth/143.tif data/bnk-ground-truth/143 --psm 13 lstm.train\n",
            "Tesseract Open Source OCR Engine v4.0.0-beta.1 with Leptonica\n",
            "Page 1\n",
            "PYTHONIOENCODING=utf-8 python3 generate_line_box.py -i \"data/bnk-ground-truth/144.tif\" -t \"data/bnk-ground-truth/144.gt.txt\" > \"data/bnk-ground-truth/144.box\"\n",
            "+ tesseract data/bnk-ground-truth/144.tif data/bnk-ground-truth/144 --psm 13 lstm.train\n",
            "Tesseract Open Source OCR Engine v4.0.0-beta.1 with Leptonica\n",
            "Page 1\n",
            "PYTHONIOENCODING=utf-8 python3 generate_line_box.py -i \"data/bnk-ground-truth/145.tif\" -t \"data/bnk-ground-truth/145.gt.txt\" > \"data/bnk-ground-truth/145.box\"\n",
            "+ tesseract data/bnk-ground-truth/145.tif data/bnk-ground-truth/145 --psm 13 lstm.train\n",
            "Tesseract Open Source OCR Engine v4.0.0-beta.1 with Leptonica\n",
            "Page 1\n",
            "PYTHONIOENCODING=utf-8 python3 generate_line_box.py -i \"data/bnk-ground-truth/146.tif\" -t \"data/bnk-ground-truth/146.gt.txt\" > \"data/bnk-ground-truth/146.box\"\n",
            "+ tesseract data/bnk-ground-truth/146.tif data/bnk-ground-truth/146 --psm 13 lstm.train\n",
            "Tesseract Open Source OCR Engine v4.0.0-beta.1 with Leptonica\n",
            "Page 1\n",
            "PYTHONIOENCODING=utf-8 python3 generate_line_box.py -i \"data/bnk-ground-truth/147.tif\" -t \"data/bnk-ground-truth/147.gt.txt\" > \"data/bnk-ground-truth/147.box\"\n",
            "+ tesseract data/bnk-ground-truth/147.tif data/bnk-ground-truth/147 --psm 13 lstm.train\n",
            "Tesseract Open Source OCR Engine v4.0.0-beta.1 with Leptonica\n",
            "Page 1\n",
            "PYTHONIOENCODING=utf-8 python3 generate_line_box.py -i \"data/bnk-ground-truth/148.tif\" -t \"data/bnk-ground-truth/148.gt.txt\" > \"data/bnk-ground-truth/148.box\"\n",
            "+ tesseract data/bnk-ground-truth/148.tif data/bnk-ground-truth/148 --psm 13 lstm.train\n",
            "Tesseract Open Source OCR Engine v4.0.0-beta.1 with Leptonica\n",
            "Page 1\n",
            "PYTHONIOENCODING=utf-8 python3 generate_line_box.py -i \"data/bnk-ground-truth/149.tif\" -t \"data/bnk-ground-truth/149.gt.txt\" > \"data/bnk-ground-truth/149.box\"\n",
            "+ tesseract data/bnk-ground-truth/149.tif data/bnk-ground-truth/149 --psm 13 lstm.train\n",
            "Tesseract Open Source OCR Engine v4.0.0-beta.1 with Leptonica\n",
            "Page 1\n",
            "PYTHONIOENCODING=utf-8 python3 generate_line_box.py -i \"data/bnk-ground-truth/150.tif\" -t \"data/bnk-ground-truth/150.gt.txt\" > \"data/bnk-ground-truth/150.box\"\n",
            "+ tesseract data/bnk-ground-truth/150.tif data/bnk-ground-truth/150 --psm 13 lstm.train\n",
            "Tesseract Open Source OCR Engine v4.0.0-beta.1 with Leptonica\n",
            "Page 1\n",
            "PYTHONIOENCODING=utf-8 python3 generate_line_box.py -i \"data/bnk-ground-truth/151.tif\" -t \"data/bnk-ground-truth/151.gt.txt\" > \"data/bnk-ground-truth/151.box\"\n",
            "+ tesseract data/bnk-ground-truth/151.tif data/bnk-ground-truth/151 --psm 13 lstm.train\n",
            "Tesseract Open Source OCR Engine v4.0.0-beta.1 with Leptonica\n",
            "Page 1\n",
            "PYTHONIOENCODING=utf-8 python3 generate_line_box.py -i \"data/bnk-ground-truth/152.tif\" -t \"data/bnk-ground-truth/152.gt.txt\" > \"data/bnk-ground-truth/152.box\"\n",
            "+ tesseract data/bnk-ground-truth/152.tif data/bnk-ground-truth/152 --psm 13 lstm.train\n",
            "Tesseract Open Source OCR Engine v4.0.0-beta.1 with Leptonica\n",
            "Page 1\n",
            "PYTHONIOENCODING=utf-8 python3 generate_line_box.py -i \"data/bnk-ground-truth/153.tif\" -t \"data/bnk-ground-truth/153.gt.txt\" > \"data/bnk-ground-truth/153.box\"\n",
            "+ tesseract data/bnk-ground-truth/153.tif data/bnk-ground-truth/153 --psm 13 lstm.train\n",
            "Tesseract Open Source OCR Engine v4.0.0-beta.1 with Leptonica\n",
            "Page 1\n",
            "PYTHONIOENCODING=utf-8 python3 generate_line_box.py -i \"data/bnk-ground-truth/154.tif\" -t \"data/bnk-ground-truth/154.gt.txt\" > \"data/bnk-ground-truth/154.box\"\n",
            "+ tesseract data/bnk-ground-truth/154.tif data/bnk-ground-truth/154 --psm 13 lstm.train\n",
            "Tesseract Open Source OCR Engine v4.0.0-beta.1 with Leptonica\n",
            "Page 1\n",
            "PYTHONIOENCODING=utf-8 python3 generate_line_box.py -i \"data/bnk-ground-truth/155.tif\" -t \"data/bnk-ground-truth/155.gt.txt\" > \"data/bnk-ground-truth/155.box\"\n",
            "+ tesseract data/bnk-ground-truth/155.tif data/bnk-ground-truth/155 --psm 13 lstm.train\n",
            "Tesseract Open Source OCR Engine v4.0.0-beta.1 with Leptonica\n",
            "Page 1\n",
            "PYTHONIOENCODING=utf-8 python3 generate_line_box.py -i \"data/bnk-ground-truth/156.tif\" -t \"data/bnk-ground-truth/156.gt.txt\" > \"data/bnk-ground-truth/156.box\"\n",
            "+ tesseract data/bnk-ground-truth/156.tif data/bnk-ground-truth/156 --psm 13 lstm.train\n",
            "Tesseract Open Source OCR Engine v4.0.0-beta.1 with Leptonica\n",
            "Page 1\n",
            "PYTHONIOENCODING=utf-8 python3 generate_line_box.py -i \"data/bnk-ground-truth/157.tif\" -t \"data/bnk-ground-truth/157.gt.txt\" > \"data/bnk-ground-truth/157.box\"\n",
            "+ tesseract data/bnk-ground-truth/157.tif data/bnk-ground-truth/157 --psm 13 lstm.train\n",
            "Tesseract Open Source OCR Engine v4.0.0-beta.1 with Leptonica\n",
            "Page 1\n",
            "PYTHONIOENCODING=utf-8 python3 generate_line_box.py -i \"data/bnk-ground-truth/158.tif\" -t \"data/bnk-ground-truth/158.gt.txt\" > \"data/bnk-ground-truth/158.box\"\n",
            "+ tesseract data/bnk-ground-truth/158.tif data/bnk-ground-truth/158 --psm 13 lstm.train\n",
            "Tesseract Open Source OCR Engine v4.0.0-beta.1 with Leptonica\n",
            "Page 1\n",
            "PYTHONIOENCODING=utf-8 python3 generate_line_box.py -i \"data/bnk-ground-truth/159.tif\" -t \"data/bnk-ground-truth/159.gt.txt\" > \"data/bnk-ground-truth/159.box\"\n",
            "+ tesseract data/bnk-ground-truth/159.tif data/bnk-ground-truth/159 --psm 13 lstm.train\n",
            "Tesseract Open Source OCR Engine v4.0.0-beta.1 with Leptonica\n",
            "Page 1\n",
            "PYTHONIOENCODING=utf-8 python3 generate_line_box.py -i \"data/bnk-ground-truth/160.tif\" -t \"data/bnk-ground-truth/160.gt.txt\" > \"data/bnk-ground-truth/160.box\"\n",
            "+ tesseract data/bnk-ground-truth/160.tif data/bnk-ground-truth/160 --psm 13 lstm.train\n",
            "Tesseract Open Source OCR Engine v4.0.0-beta.1 with Leptonica\n",
            "Page 1\n",
            "PYTHONIOENCODING=utf-8 python3 generate_line_box.py -i \"data/bnk-ground-truth/161.tif\" -t \"data/bnk-ground-truth/161.gt.txt\" > \"data/bnk-ground-truth/161.box\"\n",
            "+ tesseract data/bnk-ground-truth/161.tif data/bnk-ground-truth/161 --psm 13 lstm.train\n",
            "Tesseract Open Source OCR Engine v4.0.0-beta.1 with Leptonica\n",
            "Page 1\n",
            "PYTHONIOENCODING=utf-8 python3 generate_line_box.py -i \"data/bnk-ground-truth/162.tif\" -t \"data/bnk-ground-truth/162.gt.txt\" > \"data/bnk-ground-truth/162.box\"\n",
            "+ tesseract data/bnk-ground-truth/162.tif data/bnk-ground-truth/162 --psm 13 lstm.train\n",
            "Tesseract Open Source OCR Engine v4.0.0-beta.1 with Leptonica\n",
            "Page 1\n",
            "PYTHONIOENCODING=utf-8 python3 generate_line_box.py -i \"data/bnk-ground-truth/163.tif\" -t \"data/bnk-ground-truth/163.gt.txt\" > \"data/bnk-ground-truth/163.box\"\n",
            "+ tesseract data/bnk-ground-truth/163.tif data/bnk-ground-truth/163 --psm 13 lstm.train\n",
            "Tesseract Open Source OCR Engine v4.0.0-beta.1 with Leptonica\n",
            "Page 1\n",
            "PYTHONIOENCODING=utf-8 python3 generate_line_box.py -i \"data/bnk-ground-truth/164.tif\" -t \"data/bnk-ground-truth/164.gt.txt\" > \"data/bnk-ground-truth/164.box\"\n",
            "+ tesseract data/bnk-ground-truth/164.tif data/bnk-ground-truth/164 --psm 13 lstm.train\n",
            "Tesseract Open Source OCR Engine v4.0.0-beta.1 with Leptonica\n",
            "Page 1\n",
            "PYTHONIOENCODING=utf-8 python3 generate_line_box.py -i \"data/bnk-ground-truth/165.tif\" -t \"data/bnk-ground-truth/165.gt.txt\" > \"data/bnk-ground-truth/165.box\"\n",
            "+ tesseract data/bnk-ground-truth/165.tif data/bnk-ground-truth/165 --psm 13 lstm.train\n",
            "Tesseract Open Source OCR Engine v4.0.0-beta.1 with Leptonica\n",
            "Page 1\n",
            "PYTHONIOENCODING=utf-8 python3 generate_line_box.py -i \"data/bnk-ground-truth/166.tif\" -t \"data/bnk-ground-truth/166.gt.txt\" > \"data/bnk-ground-truth/166.box\"\n",
            "+ tesseract data/bnk-ground-truth/166.tif data/bnk-ground-truth/166 --psm 13 lstm.train\n",
            "Tesseract Open Source OCR Engine v4.0.0-beta.1 with Leptonica\n",
            "Page 1\n",
            "PYTHONIOENCODING=utf-8 python3 generate_line_box.py -i \"data/bnk-ground-truth/167.tif\" -t \"data/bnk-ground-truth/167.gt.txt\" > \"data/bnk-ground-truth/167.box\"\n",
            "+ tesseract data/bnk-ground-truth/167.tif data/bnk-ground-truth/167 --psm 13 lstm.train\n",
            "Tesseract Open Source OCR Engine v4.0.0-beta.1 with Leptonica\n",
            "Page 1\n",
            "PYTHONIOENCODING=utf-8 python3 generate_line_box.py -i \"data/bnk-ground-truth/168.tif\" -t \"data/bnk-ground-truth/168.gt.txt\" > \"data/bnk-ground-truth/168.box\"\n",
            "+ tesseract data/bnk-ground-truth/168.tif data/bnk-ground-truth/168 --psm 13 lstm.train\n",
            "Tesseract Open Source OCR Engine v4.0.0-beta.1 with Leptonica\n",
            "Page 1\n",
            "PYTHONIOENCODING=utf-8 python3 generate_line_box.py -i \"data/bnk-ground-truth/169.tif\" -t \"data/bnk-ground-truth/169.gt.txt\" > \"data/bnk-ground-truth/169.box\"\n",
            "+ tesseract data/bnk-ground-truth/169.tif data/bnk-ground-truth/169 --psm 13 lstm.train\n",
            "Tesseract Open Source OCR Engine v4.0.0-beta.1 with Leptonica\n",
            "Page 1\n",
            "PYTHONIOENCODING=utf-8 python3 generate_line_box.py -i \"data/bnk-ground-truth/170.tif\" -t \"data/bnk-ground-truth/170.gt.txt\" > \"data/bnk-ground-truth/170.box\"\n",
            "+ tesseract data/bnk-ground-truth/170.tif data/bnk-ground-truth/170 --psm 13 lstm.train\n",
            "Tesseract Open Source OCR Engine v4.0.0-beta.1 with Leptonica\n",
            "Page 1\n",
            "PYTHONIOENCODING=utf-8 python3 generate_line_box.py -i \"data/bnk-ground-truth/171.tif\" -t \"data/bnk-ground-truth/171.gt.txt\" > \"data/bnk-ground-truth/171.box\"\n",
            "+ tesseract data/bnk-ground-truth/171.tif data/bnk-ground-truth/171 --psm 13 lstm.train\n",
            "Tesseract Open Source OCR Engine v4.0.0-beta.1 with Leptonica\n",
            "Page 1\n",
            "PYTHONIOENCODING=utf-8 python3 generate_line_box.py -i \"data/bnk-ground-truth/172.tif\" -t \"data/bnk-ground-truth/172.gt.txt\" > \"data/bnk-ground-truth/172.box\"\n",
            "+ tesseract data/bnk-ground-truth/172.tif data/bnk-ground-truth/172 --psm 13 lstm.train\n",
            "Tesseract Open Source OCR Engine v4.0.0-beta.1 with Leptonica\n",
            "Page 1\n",
            "PYTHONIOENCODING=utf-8 python3 generate_line_box.py -i \"data/bnk-ground-truth/173.tif\" -t \"data/bnk-ground-truth/173.gt.txt\" > \"data/bnk-ground-truth/173.box\"\n",
            "+ tesseract data/bnk-ground-truth/173.tif data/bnk-ground-truth/173 --psm 13 lstm.train\n",
            "Tesseract Open Source OCR Engine v4.0.0-beta.1 with Leptonica\n",
            "Page 1\n",
            "PYTHONIOENCODING=utf-8 python3 generate_line_box.py -i \"data/bnk-ground-truth/174.tif\" -t \"data/bnk-ground-truth/174.gt.txt\" > \"data/bnk-ground-truth/174.box\"\n",
            "+ tesseract data/bnk-ground-truth/174.tif data/bnk-ground-truth/174 --psm 13 lstm.train\n",
            "Tesseract Open Source OCR Engine v4.0.0-beta.1 with Leptonica\n",
            "Page 1\n",
            "PYTHONIOENCODING=utf-8 python3 generate_line_box.py -i \"data/bnk-ground-truth/175.tif\" -t \"data/bnk-ground-truth/175.gt.txt\" > \"data/bnk-ground-truth/175.box\"\n",
            "+ tesseract data/bnk-ground-truth/175.tif data/bnk-ground-truth/175 --psm 13 lstm.train\n",
            "Tesseract Open Source OCR Engine v4.0.0-beta.1 with Leptonica\n",
            "Page 1\n",
            "PYTHONIOENCODING=utf-8 python3 generate_line_box.py -i \"data/bnk-ground-truth/176.tif\" -t \"data/bnk-ground-truth/176.gt.txt\" > \"data/bnk-ground-truth/176.box\"\n",
            "+ tesseract data/bnk-ground-truth/176.tif data/bnk-ground-truth/176 --psm 13 lstm.train\n",
            "Tesseract Open Source OCR Engine v4.0.0-beta.1 with Leptonica\n",
            "Page 1\n",
            "PYTHONIOENCODING=utf-8 python3 generate_line_box.py -i \"data/bnk-ground-truth/177.tif\" -t \"data/bnk-ground-truth/177.gt.txt\" > \"data/bnk-ground-truth/177.box\"\n",
            "+ tesseract data/bnk-ground-truth/177.tif data/bnk-ground-truth/177 --psm 13 lstm.train\n",
            "Tesseract Open Source OCR Engine v4.0.0-beta.1 with Leptonica\n",
            "Page 1\n",
            "PYTHONIOENCODING=utf-8 python3 generate_line_box.py -i \"data/bnk-ground-truth/178.tif\" -t \"data/bnk-ground-truth/178.gt.txt\" > \"data/bnk-ground-truth/178.box\"\n",
            "+ tesseract data/bnk-ground-truth/178.tif data/bnk-ground-truth/178 --psm 13 lstm.train\n",
            "Tesseract Open Source OCR Engine v4.0.0-beta.1 with Leptonica\n",
            "Page 1\n",
            "PYTHONIOENCODING=utf-8 python3 generate_line_box.py -i \"data/bnk-ground-truth/179.tif\" -t \"data/bnk-ground-truth/179.gt.txt\" > \"data/bnk-ground-truth/179.box\"\n",
            "+ tesseract data/bnk-ground-truth/179.tif data/bnk-ground-truth/179 --psm 13 lstm.train\n",
            "Tesseract Open Source OCR Engine v4.0.0-beta.1 with Leptonica\n",
            "Page 1\n",
            "PYTHONIOENCODING=utf-8 python3 generate_line_box.py -i \"data/bnk-ground-truth/180.tif\" -t \"data/bnk-ground-truth/180.gt.txt\" > \"data/bnk-ground-truth/180.box\"\n",
            "+ tesseract data/bnk-ground-truth/180.tif data/bnk-ground-truth/180 --psm 13 lstm.train\n",
            "Tesseract Open Source OCR Engine v4.0.0-beta.1 with Leptonica\n",
            "Page 1\n",
            "PYTHONIOENCODING=utf-8 python3 generate_line_box.py -i \"data/bnk-ground-truth/181.tif\" -t \"data/bnk-ground-truth/181.gt.txt\" > \"data/bnk-ground-truth/181.box\"\n",
            "+ tesseract data/bnk-ground-truth/181.tif data/bnk-ground-truth/181 --psm 13 lstm.train\n",
            "Tesseract Open Source OCR Engine v4.0.0-beta.1 with Leptonica\n",
            "Page 1\n",
            "PYTHONIOENCODING=utf-8 python3 generate_line_box.py -i \"data/bnk-ground-truth/182.tif\" -t \"data/bnk-ground-truth/182.gt.txt\" > \"data/bnk-ground-truth/182.box\"\n",
            "+ tesseract data/bnk-ground-truth/182.tif data/bnk-ground-truth/182 --psm 13 lstm.train\n",
            "Tesseract Open Source OCR Engine v4.0.0-beta.1 with Leptonica\n",
            "Page 1\n",
            "PYTHONIOENCODING=utf-8 python3 generate_line_box.py -i \"data/bnk-ground-truth/183.tif\" -t \"data/bnk-ground-truth/183.gt.txt\" > \"data/bnk-ground-truth/183.box\"\n",
            "+ tesseract data/bnk-ground-truth/183.tif data/bnk-ground-truth/183 --psm 13 lstm.train\n",
            "Tesseract Open Source OCR Engine v4.0.0-beta.1 with Leptonica\n",
            "Page 1\n",
            "PYTHONIOENCODING=utf-8 python3 generate_line_box.py -i \"data/bnk-ground-truth/184.tif\" -t \"data/bnk-ground-truth/184.gt.txt\" > \"data/bnk-ground-truth/184.box\"\n",
            "+ tesseract data/bnk-ground-truth/184.tif data/bnk-ground-truth/184 --psm 13 lstm.train\n",
            "Tesseract Open Source OCR Engine v4.0.0-beta.1 with Leptonica\n",
            "Page 1\n",
            "PYTHONIOENCODING=utf-8 python3 generate_line_box.py -i \"data/bnk-ground-truth/185.tif\" -t \"data/bnk-ground-truth/185.gt.txt\" > \"data/bnk-ground-truth/185.box\"\n",
            "+ tesseract data/bnk-ground-truth/185.tif data/bnk-ground-truth/185 --psm 13 lstm.train\n",
            "Tesseract Open Source OCR Engine v4.0.0-beta.1 with Leptonica\n",
            "Page 1\n",
            "PYTHONIOENCODING=utf-8 python3 generate_line_box.py -i \"data/bnk-ground-truth/186.tif\" -t \"data/bnk-ground-truth/186.gt.txt\" > \"data/bnk-ground-truth/186.box\"\n",
            "+ tesseract data/bnk-ground-truth/186.tif data/bnk-ground-truth/186 --psm 13 lstm.train\n",
            "Tesseract Open Source OCR Engine v4.0.0-beta.1 with Leptonica\n",
            "Page 1\n",
            "PYTHONIOENCODING=utf-8 python3 generate_line_box.py -i \"data/bnk-ground-truth/187.tif\" -t \"data/bnk-ground-truth/187.gt.txt\" > \"data/bnk-ground-truth/187.box\"\n",
            "+ tesseract data/bnk-ground-truth/187.tif data/bnk-ground-truth/187 --psm 13 lstm.train\n",
            "Tesseract Open Source OCR Engine v4.0.0-beta.1 with Leptonica\n",
            "Page 1\n",
            "PYTHONIOENCODING=utf-8 python3 generate_line_box.py -i \"data/bnk-ground-truth/188.tif\" -t \"data/bnk-ground-truth/188.gt.txt\" > \"data/bnk-ground-truth/188.box\"\n",
            "+ tesseract data/bnk-ground-truth/188.tif data/bnk-ground-truth/188 --psm 13 lstm.train\n",
            "Tesseract Open Source OCR Engine v4.0.0-beta.1 with Leptonica\n",
            "Page 1\n",
            "PYTHONIOENCODING=utf-8 python3 generate_line_box.py -i \"data/bnk-ground-truth/189.tif\" -t \"data/bnk-ground-truth/189.gt.txt\" > \"data/bnk-ground-truth/189.box\"\n",
            "+ tesseract data/bnk-ground-truth/189.tif data/bnk-ground-truth/189 --psm 13 lstm.train\n",
            "Tesseract Open Source OCR Engine v4.0.0-beta.1 with Leptonica\n",
            "Page 1\n",
            "PYTHONIOENCODING=utf-8 python3 generate_line_box.py -i \"data/bnk-ground-truth/190.tif\" -t \"data/bnk-ground-truth/190.gt.txt\" > \"data/bnk-ground-truth/190.box\"\n",
            "+ tesseract data/bnk-ground-truth/190.tif data/bnk-ground-truth/190 --psm 13 lstm.train\n",
            "Tesseract Open Source OCR Engine v4.0.0-beta.1 with Leptonica\n",
            "Page 1\n",
            "PYTHONIOENCODING=utf-8 python3 generate_line_box.py -i \"data/bnk-ground-truth/191.tif\" -t \"data/bnk-ground-truth/191.gt.txt\" > \"data/bnk-ground-truth/191.box\"\n",
            "+ tesseract data/bnk-ground-truth/191.tif data/bnk-ground-truth/191 --psm 13 lstm.train\n",
            "Tesseract Open Source OCR Engine v4.0.0-beta.1 with Leptonica\n",
            "Page 1\n",
            "PYTHONIOENCODING=utf-8 python3 generate_line_box.py -i \"data/bnk-ground-truth/192.tif\" -t \"data/bnk-ground-truth/192.gt.txt\" > \"data/bnk-ground-truth/192.box\"\n",
            "+ tesseract data/bnk-ground-truth/192.tif data/bnk-ground-truth/192 --psm 13 lstm.train\n",
            "Tesseract Open Source OCR Engine v4.0.0-beta.1 with Leptonica\n",
            "Page 1\n",
            "PYTHONIOENCODING=utf-8 python3 generate_line_box.py -i \"data/bnk-ground-truth/193.tif\" -t \"data/bnk-ground-truth/193.gt.txt\" > \"data/bnk-ground-truth/193.box\"\n",
            "+ tesseract data/bnk-ground-truth/193.tif data/bnk-ground-truth/193 --psm 13 lstm.train\n",
            "Tesseract Open Source OCR Engine v4.0.0-beta.1 with Leptonica\n",
            "Page 1\n",
            "PYTHONIOENCODING=utf-8 python3 generate_line_box.py -i \"data/bnk-ground-truth/194.tif\" -t \"data/bnk-ground-truth/194.gt.txt\" > \"data/bnk-ground-truth/194.box\"\n",
            "+ tesseract data/bnk-ground-truth/194.tif data/bnk-ground-truth/194 --psm 13 lstm.train\n",
            "Tesseract Open Source OCR Engine v4.0.0-beta.1 with Leptonica\n",
            "Page 1\n",
            "PYTHONIOENCODING=utf-8 python3 generate_line_box.py -i \"data/bnk-ground-truth/195.tif\" -t \"data/bnk-ground-truth/195.gt.txt\" > \"data/bnk-ground-truth/195.box\"\n",
            "+ tesseract data/bnk-ground-truth/195.tif data/bnk-ground-truth/195 --psm 13 lstm.train\n",
            "Tesseract Open Source OCR Engine v4.0.0-beta.1 with Leptonica\n",
            "Page 1\n",
            "PYTHONIOENCODING=utf-8 python3 generate_line_box.py -i \"data/bnk-ground-truth/196.tif\" -t \"data/bnk-ground-truth/196.gt.txt\" > \"data/bnk-ground-truth/196.box\"\n",
            "+ tesseract data/bnk-ground-truth/196.tif data/bnk-ground-truth/196 --psm 13 lstm.train\n",
            "Tesseract Open Source OCR Engine v4.0.0-beta.1 with Leptonica\n",
            "Page 1\n",
            "PYTHONIOENCODING=utf-8 python3 generate_line_box.py -i \"data/bnk-ground-truth/197.tif\" -t \"data/bnk-ground-truth/197.gt.txt\" > \"data/bnk-ground-truth/197.box\"\n",
            "+ tesseract data/bnk-ground-truth/197.tif data/bnk-ground-truth/197 --psm 13 lstm.train\n",
            "Tesseract Open Source OCR Engine v4.0.0-beta.1 with Leptonica\n",
            "Page 1\n",
            "PYTHONIOENCODING=utf-8 python3 generate_line_box.py -i \"data/bnk-ground-truth/198.tif\" -t \"data/bnk-ground-truth/198.gt.txt\" > \"data/bnk-ground-truth/198.box\"\n",
            "+ tesseract data/bnk-ground-truth/198.tif data/bnk-ground-truth/198 --psm 13 lstm.train\n",
            "Tesseract Open Source OCR Engine v4.0.0-beta.1 with Leptonica\n",
            "Page 1\n",
            "PYTHONIOENCODING=utf-8 python3 generate_line_box.py -i \"data/bnk-ground-truth/199.tif\" -t \"data/bnk-ground-truth/199.gt.txt\" > \"data/bnk-ground-truth/199.box\"\n",
            "+ tesseract data/bnk-ground-truth/199.tif data/bnk-ground-truth/199 --psm 13 lstm.train\n",
            "Tesseract Open Source OCR Engine v4.0.0-beta.1 with Leptonica\n",
            "Page 1\n",
            "PYTHONIOENCODING=utf-8 python3 generate_line_box.py -i \"data/bnk-ground-truth/200.tif\" -t \"data/bnk-ground-truth/200.gt.txt\" > \"data/bnk-ground-truth/200.box\"\n",
            "+ tesseract data/bnk-ground-truth/200.tif data/bnk-ground-truth/200 --psm 13 lstm.train\n",
            "Tesseract Open Source OCR Engine v4.0.0-beta.1 with Leptonica\n",
            "Page 1\n",
            "PYTHONIOENCODING=utf-8 python3 generate_line_box.py -i \"data/bnk-ground-truth/201.tif\" -t \"data/bnk-ground-truth/201.gt.txt\" > \"data/bnk-ground-truth/201.box\"\n",
            "+ tesseract data/bnk-ground-truth/201.tif data/bnk-ground-truth/201 --psm 13 lstm.train\n",
            "Tesseract Open Source OCR Engine v4.0.0-beta.1 with Leptonica\n",
            "Page 1\n",
            "PYTHONIOENCODING=utf-8 python3 generate_line_box.py -i \"data/bnk-ground-truth/202.tif\" -t \"data/bnk-ground-truth/202.gt.txt\" > \"data/bnk-ground-truth/202.box\"\n",
            "+ tesseract data/bnk-ground-truth/202.tif data/bnk-ground-truth/202 --psm 13 lstm.train\n",
            "Tesseract Open Source OCR Engine v4.0.0-beta.1 with Leptonica\n",
            "Page 1\n",
            "PYTHONIOENCODING=utf-8 python3 generate_line_box.py -i \"data/bnk-ground-truth/203.tif\" -t \"data/bnk-ground-truth/203.gt.txt\" > \"data/bnk-ground-truth/203.box\"\n",
            "+ tesseract data/bnk-ground-truth/203.tif data/bnk-ground-truth/203 --psm 13 lstm.train\n",
            "Tesseract Open Source OCR Engine v4.0.0-beta.1 with Leptonica\n",
            "Page 1\n",
            "PYTHONIOENCODING=utf-8 python3 generate_line_box.py -i \"data/bnk-ground-truth/204.tif\" -t \"data/bnk-ground-truth/204.gt.txt\" > \"data/bnk-ground-truth/204.box\"\n",
            "+ tesseract data/bnk-ground-truth/204.tif data/bnk-ground-truth/204 --psm 13 lstm.train\n"
          ]
        }
      ]
    },
    {
      "cell_type": "code",
      "metadata": {
        "id": "l2JqkM-jE-pr"
      },
      "source": [
        "!make traineddata MODEL_NAME=bnk"
      ],
      "execution_count": null,
      "outputs": []
    }
  ]
}