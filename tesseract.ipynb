{
  "nbformat": 4,
  "nbformat_minor": 0,
  "metadata": {
    "colab": {
      "name": "tesseract.ipynb",
      "provenance": [],
      "mount_file_id": "https://github.com/alirezaght/tesseract-train-font/blob/main/tesseract.ipynb",
      "authorship_tag": "ABX9TyPP7oFFj3Q5JeT3Ql9qENQu",
      "include_colab_link": true
    },
    "kernelspec": {
      "name": "python3",
      "display_name": "Python 3"
    },
    "language_info": {
      "name": "python"
    },
    "accelerator": "GPU"
  },
  "cells": [
    {
      "cell_type": "markdown",
      "metadata": {
        "id": "view-in-github",
        "colab_type": "text"
      },
      "source": [
        "<a href=\"https://colab.research.google.com/github/alirezaght/tesseract-train-font/blob/main/tesseract.ipynb\" target=\"_parent\"><img src=\"https://colab.research.google.com/assets/colab-badge.svg\" alt=\"Open In Colab\"/></a>"
      ]
    },
    {
      "cell_type": "markdown",
      "metadata": {
        "id": "ZMR9kf33JXGe"
      },
      "source": [
        "Mounting google drive to have access to data"
      ]
    },
    {
      "cell_type": "code",
      "metadata": {
        "id": "KZxeD2GlJJIL"
      },
      "source": [
        "from google.colab import drive\n",
        "drive.mount('/content/drive')"
      ],
      "execution_count": null,
      "outputs": []
    },
    {
      "cell_type": "markdown",
      "metadata": {
        "id": "fATSPiWfdJxI"
      },
      "source": [
        "# Install tesseract"
      ]
    },
    {
      "cell_type": "markdown",
      "metadata": {
        "id": "SsK02dQAIu67"
      },
      "source": [
        "First let's install tesseract + all the dependency required"
      ]
    },
    {
      "cell_type": "code",
      "metadata": {
        "id": "UIprgEOlYjzy"
      },
      "source": [
        "!apt install tesseract-ocr libtesseract-dev bc"
      ],
      "execution_count": null,
      "outputs": []
    },
    {
      "cell_type": "markdown",
      "metadata": {
        "id": "FqO4X1HgdRCe"
      },
      "source": [
        "# Clone tesstrain"
      ]
    },
    {
      "cell_type": "code",
      "metadata": {
        "id": "ltU2wI4PX8xq"
      },
      "source": [
        "!git clone https://github.com/tesseract-ocr/tesstrain"
      ],
      "execution_count": null,
      "outputs": []
    },
    {
      "cell_type": "markdown",
      "metadata": {
        "id": "DNmSKAyWdWFf"
      },
      "source": [
        "# Prepare data"
      ]
    },
    {
      "cell_type": "code",
      "metadata": {
        "id": "HHGWx1fwYCl4"
      },
      "source": [
        "%cd /content\n",
        "!rm -rf /content/bnk-ground-truth\n",
        "!cp /content/drive/MyDrive/dataset.rar /content/\n",
        "!unrar x /content/dataset.rar\n",
        "!mkdir tesstrain/data\n",
        "!mv bnk-ground-truth tesstrain/data/bnk-ground-truth\n",
        "%cd /content/tesstrain"
      ],
      "execution_count": null,
      "outputs": []
    },
    {
      "cell_type": "markdown",
      "metadata": {
        "id": "EVbBHOXsdmen"
      },
      "source": [
        "# Train"
      ]
    },
    {
      "cell_type": "code",
      "metadata": {
        "id": "_cveJJn7Zc2D"
      },
      "source": [
        "!make clean MODEL_NAME=bnk\n",
        "!make training MODEL_NAME=bnk"
      ],
      "execution_count": null,
      "outputs": []
    },
    {
      "cell_type": "code",
      "metadata": {
        "id": "l2JqkM-jE-pr"
      },
      "source": [
        "!make traineddata MODEL_NAME=bnk"
      ],
      "execution_count": null,
      "outputs": []
    }
  ]
}