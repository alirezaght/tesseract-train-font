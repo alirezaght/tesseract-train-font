{
  "nbformat": 4,
  "nbformat_minor": 0,
  "metadata": {
    "colab": {
      "name": "tesseract.ipynb",
      "provenance": [],
      "mount_file_id": "https://github.com/alirezaght/tesseract-train-font/blob/main/tesseract.ipynb",
      "authorship_tag": "ABX9TyOtu51yMuR0fVAGRg8s58iT",
      "include_colab_link": true
    },
    "kernelspec": {
      "name": "python3",
      "display_name": "Python 3"
    },
    "language_info": {
      "name": "python"
    },
    "accelerator": "GPU"
  },
  "cells": [
    {
      "cell_type": "markdown",
      "metadata": {
        "id": "view-in-github",
        "colab_type": "text"
      },
      "source": [
        "<a href=\"https://colab.research.google.com/github/alirezaght/tesseract-train-font/blob/main/tesseract.ipynb\" target=\"_parent\"><img src=\"https://colab.research.google.com/assets/colab-badge.svg\" alt=\"Open In Colab\"/></a>"
      ]
    },
    {
      "cell_type": "markdown",
      "metadata": {
        "id": "ZMR9kf33JXGe"
      },
      "source": [
        "Mounting google drive to have access to data"
      ]
    },
    {
      "cell_type": "code",
      "metadata": {
        "id": "KZxeD2GlJJIL",
        "colab": {
          "base_uri": "https://localhost:8080/"
        },
        "outputId": "ce1d854f-14a3-40dc-b49e-d3d60cf0e87d"
      },
      "source": [
        "from google.colab import drive\n",
        "drive.mount('/content/drive')"
      ],
      "execution_count": null,
      "outputs": [
        {
          "output_type": "stream",
          "name": "stdout",
          "text": [
            "Drive already mounted at /content/drive; to attempt to forcibly remount, call drive.mount(\"/content/drive\", force_remount=True).\n"
          ]
        }
      ]
    },
    {
      "cell_type": "markdown",
      "metadata": {
        "id": "ydQBW6ybmUn0"
      },
      "source": [
        "# Create dataset"
      ]
    },
    {
      "cell_type": "code",
      "metadata": {
        "id": "loBH3Me9mWuL",
        "colab": {
          "base_uri": "https://localhost:8080/",
          "height": 1000
        },
        "outputId": "3ce2f770-3ba2-453d-9edb-eaeb0cb44425"
      },
      "source": [
        "%cd /content\n",
        "!rm -rf /content/dataset\n",
        "!mkdir /content/dataset\n",
        "%cd /content/dataset\n",
        "\n",
        "from PIL import Image,ImageDraw,ImageFont,ImageFilter\n",
        "from IPython.display import display\n",
        "import os\n",
        "import random\n",
        "\n",
        "def create_dataset(number_for_each_font):\n",
        "  FONT_DIR = '/content/drive/MyDrive/fonts'\n",
        "  count = 0\n",
        "  for font_file in os.listdir(f'{FONT_DIR}'):\n",
        "    sample = False\n",
        "    if not font_file.lower().endswith('ttf'):\n",
        "      print(f'skipping {font_file}')\n",
        "      continue\n",
        "    for i in range(number_for_each_font):\n",
        "      count += 1\n",
        "      size = random.randint(12, 64)\n",
        "      font = ImageFont.truetype(f\"{FONT_DIR}/{font_file}\", size, encoding='unic')\n",
        "      length = random.randint(12, 20)\n",
        "      numbers = []\n",
        "      for j in range(length):\n",
        "        n = str(random.randint(0, 9)) + ((\" \" * random.randint(0, 4)) if random.random() < 0.3 else \"\")\n",
        "        numbers.append(n)        \n",
        "\n",
        "      unicode_text = \"\".join(numbers)\n",
        "      # get the line size\n",
        "      text_width, text_height = font.getsize(unicode_text)\n",
        "      width = text_width + 10\n",
        "      height = text_height + 10\n",
        "      # create a blank canvas with extra space between lines\n",
        "      canvas = Image.new('L', (width, height), \"white\")\n",
        "      \n",
        "      # draw the text onto the text canvas, and use black as the text color\n",
        "      draw = ImageDraw.Draw(canvas)\n",
        "      draw.text((5,5), unicode_text, 'black', font)\n",
        "\n",
        "\n",
        "      if random.random() < 0.3 and size > 24:\n",
        "        canvas = canvas.filter(ImageFilter.GaussianBlur(radius=random.randint(0,2)))\n",
        "      # save the blank canvas to a file\n",
        "      if size > 24:\n",
        "        for k in range(10):\n",
        "          if random.random() < 0.3:\n",
        "            draw.line((random.randint(0, width),0, random.randint(0, width), height), fill=random.choices([0, 255])[0], width=random.randint(0, 3))\n",
        "        for k in range(10):\n",
        "          if random.random() < 0.3:\n",
        "            draw.line((0,random.randint(0, height), width, random.randint(0, height)), fill=random.choices([0, 255])[0], width=random.randint(0, 3))\n",
        "\n",
        "      canvas.save(f\"{count}.tif\", dpi=(300, 300))\n",
        "      with open(f'{count}.gt.txt', 'w') as f:\n",
        "        f.write(unicode_text)\n",
        "      if not sample:\n",
        "        sample = True\n",
        "        print(font_file)\n",
        "        im = Image.open(f'{count}.tif', 'r')\n",
        "        display(im)\n",
        "\n",
        "create_dataset(300)"
      ],
      "execution_count": null,
      "outputs": [
        {
          "output_type": "stream",
          "name": "stdout",
          "text": [
            "/content\n",
            "/content/dataset\n",
            "Copy of BBADRBD.TTF\n"
          ]
        },
        {
          "output_type": "display_data",
          "data": {
            "image/png": "[encoded data removed]",
            "text/plain": [
              "<PIL.TiffImagePlugin.TiffImageFile image mode=L size=415x35 at 0x7FBF6BC3DD10>"
            ]
          },
          "metadata": {}
        },
        {
          "output_type": "stream",
          "name": "stdout",
          "text": [
            "Copy of BHOMA.TTF\n"
          ]
        },
        {
          "output_type": "display_data",
          "data": {
            "image/png": "[encoded data removed]",
            "text/plain": [
              "<PIL.TiffImagePlugin.TiffImageFile image mode=L size=872x55 at 0x7FBF6BC494D0>"
            ]
          },
          "metadata": {}
        },
        {
          "output_type": "stream",
          "name": "stdout",
          "text": [
            "Copy of BMITRA.TTF\n"
          ]
        },
        {
          "output_type": "display_data",
          "data": {
            "image/png": "[encoded data removed]",
            "text/plain": [
              "<PIL.TiffImagePlugin.TiffImageFile image mode=L size=632x55 at 0x7FBF6BC446D0>"
            ]
          },
          "metadata": {}
        },
        {
          "output_type": "stream",
          "name": "stdout",
          "text": [
            "Copy of BMITRABD.TTF\n"
          ]
        },
        {
          "output_type": "display_data",
          "data": {
            "image/png": "[encoded data removed]",
            "text/plain": [
              "<PIL.TiffImagePlugin.TiffImageFile image mode=L size=559x45 at 0x7FBF6BC55810>"
            ]
          },
          "metadata": {}
        },
        {
          "output_type": "stream",
          "name": "stdout",
          "text": [
            "Copy of BNAZANB.TTF\n"
          ]
        },
        {
          "output_type": "display_data",
          "data": {
            "image/png": "[encoded data removed]",
            "text/plain": [
              "<PIL.TiffImagePlugin.TiffImageFile image mode=L size=494x44 at 0x7FBF6BC4F550>"
            ]
          },
          "metadata": {}
        },
        {
          "output_type": "stream",
          "name": "stdout",
          "text": [
            "Copy of BNAZANIN.TTF\n"
          ]
        },
        {
          "output_type": "display_data",
          "data": {
            "image/png": "[encoded data removed]",
            "text/plain": [
              "<PIL.TiffImagePlugin.TiffImageFile image mode=L size=163x21 at 0x7FBF6BC44310>"
            ]
          },
          "metadata": {}
        },
        {
          "output_type": "stream",
          "name": "stdout",
          "text": [
            "Copy of BROYA.TTF\n"
          ]
        },
        {
          "output_type": "display_data",
          "data": {
            "image/png": "[encoded data removed]",
            "text/plain": [
              "<PIL.TiffImagePlugin.TiffImageFile image mode=L size=458x34 at 0x7FBF6BC49390>"
            ]
          },
          "metadata": {}
        },
        {
          "output_type": "stream",
          "name": "stdout",
          "text": [
            "Copy of BROYABD.TTF\n"
          ]
        },
        {
          "output_type": "display_data",
          "data": {
            "image/png": "[encoded data removed]",
            "text/plain": [
              "<PIL.TiffImagePlugin.TiffImageFile image mode=L size=330x31 at 0x7FBF6BC3D890>"
            ]
          },
          "metadata": {}
        },
        {
          "output_type": "stream",
          "name": "stdout",
          "text": [
            "Copy of BZAR.TTF\n"
          ]
        },
        {
          "output_type": "display_data",
          "data": {
            "image/png": "[encoded data removed]",
            "text/plain": [
              "<PIL.TiffImagePlugin.TiffImageFile image mode=L size=330x39 at 0x7FBF6BC4FE50>"
            ]
          },
          "metadata": {}
        },
        {
          "output_type": "stream",
          "name": "stdout",
          "text": [
            "Copy of BZARBOLD.TTF\n"
          ]
        },
        {
          "output_type": "display_data",
          "data": {
            "image/png": "[encoded data removed]",
            "text/plain": [
              "<PIL.TiffImagePlugin.TiffImageFile image mode=L size=394x41 at 0x7FBF6BC405D0>"
            ]
          },
          "metadata": {}
        },
        {
          "output_type": "stream",
          "name": "stdout",
          "text": [
            "Copy of BBADR.TTF\n"
          ]
        },
        {
          "output_type": "display_data",
          "data": {
            "image/png": "[encoded data removed]",
            "text/plain": [
              "<PIL.TiffImagePlugin.TiffImageFile image mode=L size=378x32 at 0x7FBF6BC499D0>"
            ]
          },
          "metadata": {}
        },
        {
          "output_type": "stream",
          "name": "stdout",
          "text": [
            "Copy of BJALAL.TTF\n"
          ]
        },
        {
          "output_type": "display_data",
          "data": {
            "image/png": "[encoded data removed]",
            "text/plain": [
              "<PIL.TiffImagePlugin.TiffImageFile image mode=L size=152x19 at 0x7FBF6BC3DB50>"
            ]
          },
          "metadata": {}
        },
        {
          "output_type": "stream",
          "name": "stdout",
          "text": [
            "Copy of BJALALBD.TTF\n"
          ]
        },
        {
          "output_type": "display_data",
          "data": {
            "image/png": "[encoded data removed]",
            "text/plain": [
              "<PIL.TiffImagePlugin.TiffImageFile image mode=L size=536x51 at 0x7FBF6BC4FA90>"
            ]
          },
          "metadata": {}
        },
        {
          "output_type": "stream",
          "name": "stdout",
          "text": [
            "Copy of BARASH.TTF\n"
          ]
        },
        {
          "output_type": "display_data",
          "data": {
            "image/png": "[encoded data removed]",
            "text/plain": [
              "<PIL.TiffImagePlugin.TiffImageFile image mode=L size=386x56 at 0x7FBF6BC44790>"
            ]
          },
          "metadata": {}
        },
        {
          "output_type": "stream",
          "name": "stdout",
          "text": [
            "futur.ttf\n"
          ]
        },
        {
          "output_type": "display_data",
          "data": {
            "image/png": "[encoded data removed]",
            "text/plain": [
              "<PIL.TiffImagePlugin.TiffImageFile image mode=L size=297x27 at 0x7FBF6BC53B10>"
            ]
          },
          "metadata": {}
        },
        {
          "output_type": "stream",
          "name": "stdout",
          "text": [
            "Helvetica.ttf\n"
          ]
        },
        {
          "output_type": "display_data",
          "data": {
            "image/png": "[encoded data removed]",
            "text/plain": [
              "<PIL.TiffImagePlugin.TiffImageFile image mode=L size=190x21 at 0x7FBF6BC55CD0>"
            ]
          },
          "metadata": {}
        },
        {
          "output_type": "stream",
          "name": "stdout",
          "text": [
            "ariblk.ttf\n"
          ]
        },
        {
          "output_type": "display_data",
          "data": {
            "image/png": "[encoded data removed]",
            "text/plain": [
              "<PIL.TiffImagePlugin.TiffImageFile image mode=L size=342x33 at 0x7FBF6BC443D0>"
            ]
          },
          "metadata": {}
        },
        {
          "output_type": "stream",
          "name": "stdout",
          "text": [
            "skipping cambria.ttc\n",
            "calibrili.ttf\n"
          ]
        },
        {
          "output_type": "display_data",
          "data": {
            "image/png": "[encoded data removed]",
            "text/plain": [
              "<PIL.TiffImagePlugin.TiffImageFile image mode=L size=598x43 at 0x7FBF6BC55F90>"
            ]
          },
          "metadata": {}
        },
        {
          "output_type": "stream",
          "name": "stdout",
          "text": [
            "calibriz.ttf\n"
          ]
        },
        {
          "output_type": "display_data",
          "data": {
            "image/png": "[encoded data removed]",
            "text/plain": [
              "<PIL.TiffImagePlugin.TiffImageFile image mode=L size=339x28 at 0x7FBF6BC494D0>"
            ]
          },
          "metadata": {}
        },
        {
          "output_type": "stream",
          "name": "stdout",
          "text": [
            "calibrib.ttf\n"
          ]
        },
        {
          "output_type": "display_data",
          "data": {
            "image/png": "[encoded data removed]",
            "text/plain": [
              "<PIL.TiffImagePlugin.TiffImageFile image mode=L size=279x36 at 0x7FBF6BC40450>"
            ]
          },
          "metadata": {}
        },
        {
          "output_type": "stream",
          "name": "stdout",
          "text": [
            "calibri.ttf\n"
          ]
        },
        {
          "output_type": "display_data",
          "data": {
            "image/png": "[encoded data removed]",
            "text/plain": [
              "<PIL.TiffImagePlugin.TiffImageFile image mode=L size=151x21 at 0x7FBF6BC53D10>"
            ]
          },
          "metadata": {}
        },
        {
          "output_type": "stream",
          "name": "stdout",
          "text": [
            "calibril.ttf\n"
          ]
        },
        {
          "output_type": "display_data",
          "data": {
            "image/png": "[encoded data removed]",
            "text/plain": [
              "<PIL.TiffImagePlugin.TiffImageFile image mode=L size=109x20 at 0x7FBF6BC3DC90>"
            ]
          },
          "metadata": {}
        },
        {
          "output_type": "stream",
          "name": "stdout",
          "text": [
            "ariali.ttf\n"
          ]
        },
        {
          "output_type": "display_data",
          "data": {
            "image/png": "[encoded data removed]",
            "text/plain": [
              "<PIL.TiffImagePlugin.TiffImageFile image mode=L size=141x21 at 0x7FBF6BC44610>"
            ]
          },
          "metadata": {}
        },
        {
          "output_type": "stream",
          "name": "stdout",
          "text": [
            "arialbd.ttf\n"
          ]
        },
        {
          "output_type": "display_data",
          "data": {
            "image/png": "[encoded data removed]",
            "text/plain": [
              "<PIL.TiffImagePlugin.TiffImageFile image mode=L size=656x58 at 0x7FBF6BC53990>"
            ]
          },
          "metadata": {}
        },
        {
          "output_type": "stream",
          "name": "stdout",
          "text": [
            "calibrii.ttf\n"
          ]
        },
        {
          "output_type": "display_data",
          "data": {
            "image/png": "[encoded data removed]",
            "text/plain": [
              "<PIL.TiffImagePlugin.TiffImageFile image mode=L size=508x49 at 0x7FBF6BC4F810>"
            ]
          },
          "metadata": {}
        },
        {
          "output_type": "stream",
          "name": "stdout",
          "text": [
            "arialbi.ttf\n"
          ]
        },
        {
          "output_type": "display_data",
          "data": {
            "image/png": "[encoded data removed]",
            "text/plain": [
              "<PIL.TiffImagePlugin.TiffImageFile image mode=L size=293x30 at 0x7FBF6BC55350>"
            ]
          },
          "metadata": {}
        },
        {
          "output_type": "stream",
          "name": "stdout",
          "text": [
            "arial.ttf\n"
          ]
        },
        {
          "output_type": "display_data",
          "data": {
            "image/png": "[encoded data removed]",
            "text/plain": [
              "<PIL.TiffImagePlugin.TiffImageFile image mode=L size=330x37 at 0x7FBF6BC49C10>"
            ]
          },
          "metadata": {}
        },
        {
          "output_type": "stream",
          "name": "stdout",
          "text": [
            "verdanaz.ttf\n"
          ]
        },
        {
          "output_type": "display_data",
          "data": {
            "image/png": "[encoded data removed]",
            "text/plain": [
              "<PIL.TiffImagePlugin.TiffImageFile image mode=L size=668x46 at 0x7FBF6BC4F6D0>"
            ]
          },
          "metadata": {}
        },
        {
          "output_type": "stream",
          "name": "stdout",
          "text": [
            "verdana.ttf\n"
          ]
        },
        {
          "output_type": "display_data",
          "data": {
            "image/png": "[encoded data removed]",
            "text/plain": [
              "<PIL.TiffImagePlugin.TiffImageFile image mode=L size=214x23 at 0x7FBF6BC53490>"
            ]
          },
          "metadata": {}
        },
        {
          "output_type": "stream",
          "name": "stdout",
          "text": [
            "verdanab.ttf\n"
          ]
        },
        {
          "output_type": "display_data",
          "data": {
            "image/png": "[encoded data removed]",
            "text/plain": [
              "<PIL.TiffImagePlugin.TiffImageFile image mode=L size=770x57 at 0x7FBF6BC44D90>"
            ]
          },
          "metadata": {}
        },
        {
          "output_type": "stream",
          "name": "stdout",
          "text": [
            "timesbi.ttf\n"
          ]
        },
        {
          "output_type": "display_data",
          "data": {
            "image/png": "[encoded data removed]",
            "text/plain": [
              "<PIL.TiffImagePlugin.TiffImageFile image mode=L size=257x31 at 0x7FBF6BC3D290>"
            ]
          },
          "metadata": {}
        },
        {
          "output_type": "stream",
          "name": "stdout",
          "text": [
            "verdanai.ttf\n"
          ]
        },
        {
          "output_type": "display_data",
          "data": {
            "image/png": "[encoded data removed]",
            "text/plain": [
              "<PIL.TiffImagePlugin.TiffImageFile image mode=L size=734x75 at 0x7FBF6BC55310>"
            ]
          },
          "metadata": {}
        },
        {
          "output_type": "stream",
          "name": "stdout",
          "text": [
            "timesi.ttf\n"
          ]
        },
        {
          "output_type": "display_data",
          "data": {
            "image/png": "[encoded data removed]",
            "text/plain": [
              "<PIL.TiffImagePlugin.TiffImageFile image mode=L size=845x62 at 0x7FBF6BC442D0>"
            ]
          },
          "metadata": {}
        },
        {
          "output_type": "stream",
          "name": "stdout",
          "text": [
            "times.ttf\n"
          ]
        },
        {
          "output_type": "display_data",
          "data": {
            "image/png": "[encoded data removed]",
            "text/plain": [
              "<PIL.TiffImagePlugin.TiffImageFile image mode=L size=386x40 at 0x7FBF6BC49610>"
            ]
          },
          "metadata": {}
        },
        {
          "output_type": "stream",
          "name": "stdout",
          "text": [
            "timesbd.ttf\n"
          ]
        },
        {
          "output_type": "display_data",
          "data": {
            "image/png": "[encoded data removed]",
            "text/plain": [
              "<PIL.TiffImagePlugin.TiffImageFile image mode=L size=250x32 at 0x7FBF6BC4F610>"
            ]
          },
          "metadata": {}
        },
        {
          "output_type": "stream",
          "name": "stdout",
          "text": [
            "cambriai.ttf\n"
          ]
        },
        {
          "output_type": "display_data",
          "data": {
            "image/png": "[encoded data removed]",
            "text/plain": [
              "<PIL.TiffImagePlugin.TiffImageFile image mode=L size=236x32 at 0x7FBF6BC3D050>"
            ]
          },
          "metadata": {}
        },
        {
          "output_type": "stream",
          "name": "stdout",
          "text": [
            "framdit.ttf\n"
          ]
        },
        {
          "output_type": "display_data",
          "data": {
            "image/png": "[encoded data removed]",
            "text/plain": [
              "<PIL.TiffImagePlugin.TiffImageFile image mode=L size=316x31 at 0x7FBF6BC53290>"
            ]
          },
          "metadata": {}
        },
        {
          "output_type": "stream",
          "name": "stdout",
          "text": [
            "framd.ttf\n"
          ]
        },
        {
          "output_type": "display_data",
          "data": {
            "image/png": "[encoded data removed]",
            "text/plain": [
              "<PIL.TiffImagePlugin.TiffImageFile image mode=L size=462x46 at 0x7FBF6BC4FB10>"
            ]
          },
          "metadata": {}
        },
        {
          "output_type": "stream",
          "name": "stdout",
          "text": [
            "cambriaz.ttf\n"
          ]
        },
        {
          "output_type": "display_data",
          "data": {
            "image/png": "[encoded data removed]",
            "text/plain": [
              "<PIL.TiffImagePlugin.TiffImageFile image mode=L size=616x52 at 0x7FBF6BC409D0>"
            ]
          },
          "metadata": {}
        },
        {
          "output_type": "stream",
          "name": "stdout",
          "text": [
            "micross.ttf\n"
          ]
        },
        {
          "output_type": "display_data",
          "data": {
            "image/png": "[encoded data removed]",
            "text/plain": [
              "<PIL.TiffImagePlugin.TiffImageFile image mode=L size=623x64 at 0x7FBF6BC44B90>"
            ]
          },
          "metadata": {}
        },
        {
          "output_type": "stream",
          "name": "stdout",
          "text": [
            "cambriab.ttf\n"
          ]
        },
        {
          "output_type": "display_data",
          "data": {
            "image/png": "[encoded data removed]",
            "text/plain": [
              "<PIL.TiffImagePlugin.TiffImageFile image mode=L size=778x65 at 0x7FBF6BC4F350>"
            ]
          },
          "metadata": {}
        },
        {
          "output_type": "stream",
          "name": "stdout",
          "text": [
            "ROCKB.TTF\n"
          ]
        },
        {
          "output_type": "display_data",
          "data": {
            "image/png": "[encoded data removed]",
            "text/plain": [
              "<PIL.TiffImagePlugin.TiffImageFile image mode=L size=220x37 at 0x7FBF6BC40AD0>"
            ]
          },
          "metadata": {}
        },
        {
          "output_type": "stream",
          "name": "stdout",
          "text": [
            "ROCCB___.TTF\n"
          ]
        },
        {
          "output_type": "display_data",
          "data": {
            "image/png": "[encoded data removed]",
            "text/plain": [
              "<PIL.TiffImagePlugin.TiffImageFile image mode=L size=699x65 at 0x7FBF6BC53190>"
            ]
          },
          "metadata": {}
        },
        {
          "output_type": "stream",
          "name": "stdout",
          "text": [
            "ROCK.TTF\n"
          ]
        },
        {
          "output_type": "display_data",
          "data": {
            "image/png": "[encoded data removed]",
            "text/plain": [
              "<PIL.TiffImagePlugin.TiffImageFile image mode=L size=866x71 at 0x7FBF6BC49C90>"
            ]
          },
          "metadata": {}
        },
        {
          "output_type": "stream",
          "name": "stdout",
          "text": [
            "OCRAEXT.TTF\n"
          ]
        },
        {
          "output_type": "display_data",
          "data": {
            "image/png": "[encoded data removed]",
            "text/plain": [
              "<PIL.TiffImagePlugin.TiffImageFile image mode=L size=829x41 at 0x7FBF6BC3DBD0>"
            ]
          },
          "metadata": {}
        },
        {
          "output_type": "stream",
          "name": "stdout",
          "text": [
            "ROCKBI.TTF\n"
          ]
        },
        {
          "output_type": "display_data",
          "data": {
            "image/png": "[encoded data removed]",
            "text/plain": [
              "<PIL.TiffImagePlugin.TiffImageFile image mode=L size=333x35 at 0x7FBF6BC53790>"
            ]
          },
          "metadata": {}
        },
        {
          "output_type": "stream",
          "name": "stdout",
          "text": [
            "ROCKI.TTF\n"
          ]
        },
        {
          "output_type": "display_data",
          "data": {
            "image/png": "[encoded data removed]",
            "text/plain": [
              "<PIL.TiffImagePlugin.TiffImageFile image mode=L size=249x34 at 0x7FBF6BC40C90>"
            ]
          },
          "metadata": {}
        },
        {
          "output_type": "stream",
          "name": "stdout",
          "text": [
            "ROCKEB.TTF\n"
          ]
        },
        {
          "output_type": "display_data",
          "data": {
            "image/png": "[encoded data removed]",
            "text/plain": [
              "<PIL.TiffImagePlugin.TiffImageFile image mode=L size=277x28 at 0x7FBF6BC49E50>"
            ]
          },
          "metadata": {}
        },
        {
          "output_type": "stream",
          "name": "stdout",
          "text": [
            "FRADMIT.TTF\n"
          ]
        },
        {
          "output_type": "display_data",
          "data": {
            "image/png": "[encoded data removed]",
            "text/plain": [
              "<PIL.TiffImagePlugin.TiffImageFile image mode=L size=209x27 at 0x7FBF6BC3D550>"
            ]
          },
          "metadata": {}
        },
        {
          "output_type": "stream",
          "name": "stdout",
          "text": [
            "FRADMCN.TTF\n"
          ]
        },
        {
          "output_type": "display_data",
          "data": {
            "image/png": "[encoded data removed]",
            "text/plain": [
              "<PIL.TiffImagePlugin.TiffImageFile image mode=L size=403x54 at 0x7FBF6BC444D0>"
            ]
          },
          "metadata": {}
        },
        {
          "output_type": "stream",
          "name": "stdout",
          "text": [
            "FRAHV.TTF\n"
          ]
        },
        {
          "output_type": "display_data",
          "data": {
            "image/png": "[encoded data removed]",
            "text/plain": [
              "<PIL.TiffImagePlugin.TiffImageFile image mode=L size=462x63 at 0x7FBF6BC40290>"
            ]
          },
          "metadata": {}
        },
        {
          "output_type": "stream",
          "name": "stdout",
          "text": [
            "FRAMDCN.TTF\n"
          ]
        },
        {
          "output_type": "display_data",
          "data": {
            "image/png": "[encoded data removed]",
            "text/plain": [
              "<PIL.TiffImagePlugin.TiffImageFile image mode=L size=364x38 at 0x7FBF6BC53250>"
            ]
          },
          "metadata": {}
        },
        {
          "output_type": "stream",
          "name": "stdout",
          "text": [
            "FRAHVIT.TTF\n"
          ]
        },
        {
          "output_type": "display_data",
          "data": {
            "image/png": "[encoded data removed]",
            "text/plain": [
              "<PIL.TiffImagePlugin.TiffImageFile image mode=L size=143x23 at 0x7FBF6BC3D090>"
            ]
          },
          "metadata": {}
        },
        {
          "output_type": "stream",
          "name": "stdout",
          "text": [
            "FRADM.TTF\n"
          ]
        },
        {
          "output_type": "display_data",
          "data": {
            "image/png": "[encoded data removed]",
            "text/plain": [
              "<PIL.TiffImagePlugin.TiffImageFile image mode=L size=443x34 at 0x7FBF6BC55210>"
            ]
          },
          "metadata": {}
        },
        {
          "output_type": "stream",
          "name": "stdout",
          "text": [
            "ROCC____.TTF\n"
          ]
        },
        {
          "output_type": "display_data",
          "data": {
            "image/png": "[encoded data removed]",
            "text/plain": [
              "<PIL.TiffImagePlugin.TiffImageFile image mode=L size=618x68 at 0x7FBF6BC445D0>"
            ]
          },
          "metadata": {}
        },
        {
          "output_type": "stream",
          "name": "stdout",
          "text": [
            "ARIALNBI.TTF\n"
          ]
        },
        {
          "output_type": "display_data",
          "data": {
            "image/png": "[encoded data removed]",
            "text/plain": [
              "<PIL.TiffImagePlugin.TiffImageFile image mode=L size=220x39 at 0x7FBF6BC530D0>"
            ]
          },
          "metadata": {}
        },
        {
          "output_type": "stream",
          "name": "stdout",
          "text": [
            "ARIALNI.TTF\n"
          ]
        },
        {
          "output_type": "display_data",
          "data": {
            "image/png": "[encoded data removed]",
            "text/plain": [
              "<PIL.TiffImagePlugin.TiffImageFile image mode=L size=220x31 at 0x7FBF6BC49610>"
            ]
          },
          "metadata": {}
        },
        {
          "output_type": "stream",
          "name": "stdout",
          "text": [
            "ARIALNB.TTF\n"
          ]
        },
        {
          "output_type": "display_data",
          "data": {
            "image/png": "[encoded data removed]",
            "text/plain": [
              "<PIL.TiffImagePlugin.TiffImageFile image mode=L size=195x29 at 0x7FBF6BC3DC50>"
            ]
          },
          "metadata": {}
        },
        {
          "output_type": "stream",
          "name": "stdout",
          "text": [
            "ARIALN.TTF\n"
          ]
        },
        {
          "output_type": "display_data",
          "data": {
            "image/png": "[encoded data removed]",
            "text/plain": [
              "<PIL.TiffImagePlugin.TiffImageFile image mode=L size=444x62 at 0x7FBF6BC4F2D0>"
            ]
          },
          "metadata": {}
        }
      ]
    },
    {
      "cell_type": "markdown",
      "metadata": {
        "id": "fATSPiWfdJxI"
      },
      "source": [
        "# Install tesseract"
      ]
    },
    {
      "cell_type": "markdown",
      "metadata": {
        "id": "SsK02dQAIu67"
      },
      "source": [
        "First let's install tesseract + all the dependency required"
      ]
    },
    {
      "cell_type": "code",
      "metadata": {
        "id": "UIprgEOlYjzy",
        "colab": {
          "base_uri": "https://localhost:8080/"
        },
        "outputId": "ad895a7e-44c3-419d-f7cd-72242dfb2c51"
      },
      "source": [
        "!apt install tesseract-ocr libtesseract-dev bc"
      ],
      "execution_count": null,
      "outputs": [
        {
          "output_type": "stream",
          "name": "stdout",
          "text": [
            "Reading package lists... Done\n",
            "Building dependency tree       \n",
            "Reading state information... Done\n",
            "The following additional packages will be installed:\n",
            "  libleptonica-dev tesseract-ocr-eng tesseract-ocr-osd\n",
            "The following NEW packages will be installed:\n",
            "  bc libleptonica-dev libtesseract-dev tesseract-ocr tesseract-ocr-eng\n",
            "  tesseract-ocr-osd\n",
            "0 upgraded, 6 newly installed, 0 to remove and 37 not upgraded.\n",
            "Need to get 7,636 kB of archives.\n",
            "After this operation, 29.8 MB of additional disk space will be used.\n",
            "Get:1 http://archive.ubuntu.com/ubuntu bionic/main amd64 bc amd64 1.07.1-2 [86.2 kB]\n",
            "Get:2 http://archive.ubuntu.com/ubuntu bionic/universe amd64 libleptonica-dev amd64 1.75.3-3 [1,308 kB]\n",
            "Get:3 http://archive.ubuntu.com/ubuntu bionic/universe amd64 libtesseract-dev amd64 4.00~git2288-10f4998a-2 [1,447 kB]\n",
            "Get:4 http://archive.ubuntu.com/ubuntu bionic/universe amd64 tesseract-ocr-eng all 4.00~git24-0e00fe6-1.2 [1,588 kB]\n",
            "Get:5 http://archive.ubuntu.com/ubuntu bionic/universe amd64 tesseract-ocr-osd all 4.00~git24-0e00fe6-1.2 [2,989 kB]\n",
            "Get:6 http://archive.ubuntu.com/ubuntu bionic/universe amd64 tesseract-ocr amd64 4.00~git2288-10f4998a-2 [218 kB]\n",
            "Fetched 7,636 kB in 1s (5,229 kB/s)\n",
            "Selecting previously unselected package bc.\n",
            "(Reading database ... 155219 files and directories currently installed.)\n",
            "Preparing to unpack .../0-bc_1.07.1-2_amd64.deb ...\n",
            "Unpacking bc (1.07.1-2) ...\n",
            "Selecting previously unselected package libleptonica-dev.\n",
            "Preparing to unpack .../1-libleptonica-dev_1.75.3-3_amd64.deb ...\n",
            "Unpacking libleptonica-dev (1.75.3-3) ...\n",
            "Selecting previously unselected package libtesseract-dev.\n",
            "Preparing to unpack .../2-libtesseract-dev_4.00~git2288-10f4998a-2_amd64.deb ...\n",
            "Unpacking libtesseract-dev (4.00~git2288-10f4998a-2) ...\n",
            "Selecting previously unselected package tesseract-ocr-eng.\n",
            "Preparing to unpack .../3-tesseract-ocr-eng_4.00~git24-0e00fe6-1.2_all.deb ...\n",
            "Unpacking tesseract-ocr-eng (4.00~git24-0e00fe6-1.2) ...\n",
            "Selecting previously unselected package tesseract-ocr-osd.\n",
            "Preparing to unpack .../4-tesseract-ocr-osd_4.00~git24-0e00fe6-1.2_all.deb ...\n",
            "Unpacking tesseract-ocr-osd (4.00~git24-0e00fe6-1.2) ...\n",
            "Selecting previously unselected package tesseract-ocr.\n",
            "Preparing to unpack .../5-tesseract-ocr_4.00~git2288-10f4998a-2_amd64.deb ...\n",
            "Unpacking tesseract-ocr (4.00~git2288-10f4998a-2) ...\n",
            "Setting up libleptonica-dev (1.75.3-3) ...\n",
            "Setting up tesseract-ocr-osd (4.00~git24-0e00fe6-1.2) ...\n",
            "Setting up tesseract-ocr-eng (4.00~git24-0e00fe6-1.2) ...\n",
            "Setting up libtesseract-dev (4.00~git2288-10f4998a-2) ...\n",
            "Setting up tesseract-ocr (4.00~git2288-10f4998a-2) ...\n",
            "Setting up bc (1.07.1-2) ...\n",
            "Processing triggers for man-db (2.8.3-2ubuntu0.1) ...\n"
          ]
        }
      ]
    },
    {
      "cell_type": "markdown",
      "metadata": {
        "id": "FqO4X1HgdRCe"
      },
      "source": [
        "# Clone tesstrain"
      ]
    },
    {
      "cell_type": "code",
      "metadata": {
        "id": "ltU2wI4PX8xq",
        "colab": {
          "base_uri": "https://localhost:8080/"
        },
        "outputId": "9168a197-9fb2-4a39-c8f6-a71fcb13a73d"
      },
      "source": [
        "%cd /content\n",
        "!git clone https://github.com/tesseract-ocr/tesstrain"
      ],
      "execution_count": null,
      "outputs": [
        {
          "output_type": "stream",
          "name": "stdout",
          "text": [
            "/content\n",
            "Cloning into 'tesstrain'...\n",
            "remote: Enumerating objects: 819, done.\u001b[K\n",
            "remote: Counting objects: 100% (44/44), done.\u001b[K\n",
            "remote: Compressing objects: 100% (33/33), done.\u001b[K\n",
            "remote: Total 819 (delta 21), reused 18 (delta 9), pack-reused 775\u001b[K\n",
            "Receiving objects: 100% (819/819), 13.37 MiB | 23.94 MiB/s, done.\n",
            "Resolving deltas: 100% (463/463), done.\n"
          ]
        }
      ]
    },
    {
      "cell_type": "markdown",
      "metadata": {
        "id": "DNmSKAyWdWFf"
      },
      "source": [
        "# Prepare data"
      ]
    },
    {
      "cell_type": "markdown",
      "metadata": {
        "id": "JuhzMGQyAL1M"
      },
      "source": [
        "If we want to load from google drive"
      ]
    },
    {
      "cell_type": "code",
      "metadata": {
        "id": "HHGWx1fwYCl4"
      },
      "source": [
        "%cd /content\n",
        "!rm -rf /content/bnk-ground-truth\n",
        "!cp /content/drive/MyDrive/dataset.rar /content/\n",
        "!unrar x /content/dataset.rar\n",
        "!mkdir tesstrain/data\n",
        "!rm -rf tesstrain/data/bnk-ground-truth\n",
        "!mv bnk-ground-truth tesstrain/data/bnk-ground-truth\n",
        "%cd /content/tesstrain"
      ],
      "execution_count": null,
      "outputs": []
    },
    {
      "cell_type": "markdown",
      "metadata": {
        "id": "OFuMgTFtAPUY"
      },
      "source": [
        "If we want to use the datase we just created"
      ]
    },
    {
      "cell_type": "code",
      "metadata": {
        "id": "WySYzGnfASK5",
        "colab": {
          "base_uri": "https://localhost:8080/"
        },
        "outputId": "80d034f2-1a65-43a2-8040-2929e7513ad5"
      },
      "source": [
        "%cd /content\n",
        "!mkdir tesstrain/data\n",
        "!rm -rf tesstrain/data/bnk-ground-truth\n",
        "!mv dataset tesstrain/data/bnk-ground-truth\n",
        "%cd /content/tesstrain"
      ],
      "execution_count": null,
      "outputs": [
        {
          "output_type": "stream",
          "name": "stdout",
          "text": [
            "/content\n",
            "/content/tesstrain\n"
          ]
        }
      ]
    },
    {
      "cell_type": "markdown",
      "metadata": {
        "id": "EVbBHOXsdmen"
      },
      "source": [
        "# Train"
      ]
    },
    {
      "cell_type": "code",
      "metadata": {
        "id": "SN7PRsXWqS6E",
        "colab": {
          "base_uri": "https://localhost:8080/"
        },
        "outputId": "25725bee-afe0-4a8d-bbda-921d9274df74"
      },
      "source": [
        "%cd /content/tesstrain\n",
        "!mkdir tessdata\n",
        "%cd tessdata\n",
        "!wget https://github.com/tesseract-ocr/tessdata_best/raw/main/eng.traineddata\n",
        "%cd /content/tesstrain"
      ],
      "execution_count": null,
      "outputs": [
        {
          "output_type": "stream",
          "name": "stdout",
          "text": [
            "/content/tesstrain\n",
            "/content/tesstrain/tessdata\n",
            "--2021-11-18 15:14:14--  https://github.com/tesseract-ocr/tessdata_best/raw/main/eng.traineddata\n",
            "Resolving github.com (github.com)... 140.82.112.4\n",
            "Connecting to github.com (github.com)|140.82.112.4|:443... connected.\n",
            "HTTP request sent, awaiting response... 302 Found\n",
            "Location: https://raw.githubusercontent.com/tesseract-ocr/tessdata_best/main/eng.traineddata [following]\n",
            "--2021-11-18 15:14:15--  https://raw.githubusercontent.com/tesseract-ocr/tessdata_best/main/eng.traineddata\n",
            "Resolving raw.githubusercontent.com (raw.githubusercontent.com)... 185.199.109.133, 185.199.111.133, 185.199.108.133, ...\n",
            "Connecting to raw.githubusercontent.com (raw.githubusercontent.com)|185.199.109.133|:443... connected.\n",
            "HTTP request sent, awaiting response... 200 OK\n",
            "Length: 15400601 (15M) [application/octet-stream]\n",
            "Saving to: ‘eng.traineddata’\n",
            "\n",
            "eng.traineddata     100%[===================>]  14.69M  --.-KB/s    in 0.1s    \n",
            "\n",
            "2021-11-18 15:14:15 (109 MB/s) - ‘eng.traineddata’ saved [15400601/15400601]\n",
            "\n",
            "/content/tesstrain\n"
          ]
        }
      ]
    },
    {
      "cell_type": "code",
      "metadata": {
        "id": "_cveJJn7Zc2D",
        "colab": {
          "base_uri": "https://localhost:8080/"
        },
        "outputId": "0a61beaf-e69b-43cc-d907-32da43afeba2"
      },
      "source": [
        "# !make clean MODEL_NAME=bnk\n",
        "!make training MODEL_NAME=bnk START_MODEL=eng TESSDATA=/content/tesstrain/tessdata"
      ],
      "execution_count": null,
      "outputs": [
        {
          "output_type": "stream",
          "name": "stdout",
          "text": [
            "find -L data/bnk-ground-truth -name '*.gt.txt' | xargs paste -s > \"data/bnk/all-gt\"\n",
            "combine_tessdata -u /content/tesstrain/tessdata/eng.traineddata  data/eng/bnk\n",
            "Extracting tessdata components from /content/tesstrain/tessdata/eng.traineddata\n",
            "Wrote data/eng/bnk.lstm\n",
            "Wrote data/eng/bnk.lstm-punc-dawg\n",
            "Wrote data/eng/bnk.lstm-word-dawg\n",
            "Wrote data/eng/bnk.lstm-number-dawg\n",
            "Wrote data/eng/bnk.lstm-unicharset\n",
            "Wrote data/eng/bnk.lstm-recoder\n",
            "Wrote data/eng/bnk.version\n",
            "Version string:4.00.00alpha:eng:synth20170629:[1,36,0,1Ct3,3,16Mp3,3Lfys64Lfx96Lrx96Lfx512O1c1]\n",
            "17:lstm:size=11689099, offset=192\n",
            "18:lstm-punc-dawg:size=4322, offset=11689291\n",
            "19:lstm-word-dawg:size=3694794, offset=11693613\n",
            "20:lstm-number-dawg:size=4738, offset=15388407\n",
            "21:lstm-unicharset:size=6360, offset=15393145\n",
            "22:lstm-recoder:size=1012, offset=15399505\n",
            "23:version:size=80, offset=15400517\n",
            "unicharset_extractor --output_unicharset \"data/bnk/my.unicharset\" --norm_mode 2 \"data/bnk/all-gt\"\n",
            "Bad box coordinates in boxfile string! 888935   0186   64  09\n",
            "Extracting unicharset from plain text file data/bnk/all-gt\n",
            "Wrote unicharset file data/bnk/my.unicharset\n",
            "merge_unicharsets data/eng/bnk.lstm-unicharset data/bnk/my.unicharset  \"data/bnk/unicharset\"\n",
            "Loaded unicharset of size 112 from file data/eng/bnk.lstm-unicharset\n",
            "Loaded unicharset of size 13 from file data/bnk/my.unicharset\n",
            "Wrote unicharset file data/bnk/unicharset.\n",
            "PYTHONIOENCODING=utf-8 python3 generate_line_box.py -i \"data/bnk-ground-truth/1.tif\" -t \"data/bnk-ground-truth/1.gt.txt\" > \"data/bnk-ground-truth/1.box\"\n",
            "+ tesseract data/bnk-ground-truth/1.tif data/bnk-ground-truth/1 --psm 13 lstm.train\n",
            "Tesseract Open Source OCR Engine v4.0.0-beta.1 with Leptonica\n",
            "Page 1\n",
            "PYTHONIOENCODING=utf-8 python3 generate_line_box.py -i \"data/bnk-ground-truth/2.tif\" -t \"data/bnk-ground-truth/2.gt.txt\" > \"data/bnk-ground-truth/2.box\"\n",
            "+ tesseract data/bnk-ground-truth/2.tif data/bnk-ground-truth/2 --psm 13 lstm.train\n",
            "Tesseract Open Source OCR Engine v4.0.0-beta.1 with Leptonica\n",
            "Page 1\n",
            "PYTHONIOENCODING=utf-8 python3 generate_line_box.py -i \"data/bnk-ground-truth/3.tif\" -t \"data/bnk-ground-truth/3.gt.txt\" > \"data/bnk-ground-truth/3.box\"\n",
            "+ tesseract data/bnk-ground-truth/3.tif data/bnk-ground-truth/3 --psm 13 lstm.train\n",
            "Tesseract Open Source OCR Engine v4.0.0-beta.1 with Leptonica\n",
            "Page 1\n",
            "PYTHONIOENCODING=utf-8 python3 generate_line_box.py -i \"data/bnk-ground-truth/4.tif\" -t \"data/bnk-ground-truth/4.gt.txt\" > \"data/bnk-ground-truth/4.box\"\n",
            "+ tesseract data/bnk-ground-truth/4.tif data/bnk-ground-truth/4 --psm 13 lstm.train\n",
            "Tesseract Open Source OCR Engine v4.0.0-beta.1 with Leptonica\n",
            "Page 1\n",
            "PYTHONIOENCODING=utf-8 python3 generate_line_box.py -i \"data/bnk-ground-truth/5.tif\" -t \"data/bnk-ground-truth/5.gt.txt\" > \"data/bnk-ground-truth/5.box\"\n",
            "+ tesseract data/bnk-ground-truth/5.tif data/bnk-ground-truth/5 --psm 13 lstm.train\n",
            "Tesseract Open Source OCR Engine v4.0.0-beta.1 with Leptonica\n",
            "Page 1\n",
            "PYTHONIOENCODING=utf-8 python3 generate_line_box.py -i \"data/bnk-ground-truth/6.tif\" -t \"data/bnk-ground-truth/6.gt.txt\" > \"data/bnk-ground-truth/6.box\"\n",
            "+ tesseract data/bnk-ground-truth/6.tif data/bnk-ground-truth/6 --psm 13 lstm.train\n",
            "Tesseract Open Source OCR Engine v4.0.0-beta.1 with Leptonica\n",
            "Page 1\n",
            "PYTHONIOENCODING=utf-8 python3 generate_line_box.py -i \"data/bnk-ground-truth/7.tif\" -t \"data/bnk-ground-truth/7.gt.txt\" > \"data/bnk-ground-truth/7.box\"\n",
            "+ tesseract data/bnk-ground-truth/7.tif data/bnk-ground-truth/7 --psm 13 lstm.train\n",
            "Tesseract Open Source OCR Engine v4.0.0-beta.1 with Leptonica\n",
            "Page 1\n",
            "PYTHONIOENCODING=utf-8 python3 generate_line_box.py -i \"data/bnk-ground-truth/8.tif\" -t \"data/bnk-ground-truth/8.gt.txt\" > \"data/bnk-ground-truth/8.box\"\n",
            "+ tesseract data/bnk-ground-truth/8.tif data/bnk-ground-truth/8 --psm 13 lstm.train\n",
            "Tesseract Open Source OCR Engine v4.0.0-beta.1 with Leptonica\n",
            "Page 1\n",
            "PYTHONIOENCODING=utf-8 python3 generate_line_box.py -i \"data/bnk-ground-truth/9.tif\" -t \"data/bnk-ground-truth/9.gt.txt\" > \"data/bnk-ground-truth/9.box\"\n",
            "+ tesseract data/bnk-ground-truth/9.tif data/bnk-ground-truth/9 --psm 13 lstm.train\n",
            "Tesseract Open Source OCR Engine v4.0.0-beta.1 with Leptonica\n",
            "Page 1\n",
            "PYTHONIOENCODING=utf-8 python3 generate_line_box.py -i \"data/bnk-ground-truth/10.tif\" -t \"data/bnk-ground-truth/10.gt.txt\" > \"data/bnk-ground-truth/10.box\"\n",
            "+ tesseract data/bnk-ground-truth/10.tif data/bnk-ground-truth/10 --psm 13 lstm.train\n",
            "Tesseract Open Source OCR Engine v4.0.0-beta.1 with Leptonica\n",
            "Page 1\n",
            "PYTHONIOENCODING=utf-8 python3 generate_line_box.py -i \"data/bnk-ground-truth/11.tif\" -t \"data/bnk-ground-truth/11.gt.txt\" > \"data/bnk-ground-truth/11.box\"\n",
            "+ tesseract data/bnk-ground-truth/11.tif data/bnk-ground-truth/11 --psm 13 lstm.train\n",
            "Tesseract Open Source OCR Engine v4.0.0-beta.1 with Leptonica\n",
            "Page 1\n",
            "PYTHONIOENCODING=utf-8 python3 generate_line_box.py -i \"data/bnk-ground-truth/12.tif\" -t \"data/bnk-ground-truth/12.gt.txt\" > \"data/bnk-ground-truth/12.box\"\n",
            "+ tesseract data/bnk-ground-truth/12.tif data/bnk-ground-truth/12 --psm 13 lstm.train\n",
            "Tesseract Open Source OCR Engine v4.0.0-beta.1 with Leptonica\n",
            "Page 1\n",
            "PYTHONIOENCODING=utf-8 python3 generate_line_box.py -i \"data/bnk-ground-truth/13.tif\" -t \"data/bnk-ground-truth/13.gt.txt\" > \"data/bnk-ground-truth/13.box\"\n",
            "+ tesseract data/bnk-ground-truth/13.tif data/bnk-ground-truth/13 --psm 13 lstm.train\n",
            "Tesseract Open Source OCR Engine v4.0.0-beta.1 with Leptonica\n",
            "Page 1\n",
            "PYTHONIOENCODING=utf-8 python3 generate_line_box.py -i \"data/bnk-ground-truth/14.tif\" -t \"data/bnk-ground-truth/14.gt.txt\" > \"data/bnk-ground-truth/14.box\"\n",
            "+ tesseract data/bnk-ground-truth/14.tif data/bnk-ground-truth/14 --psm 13 lstm.train\n",
            "Tesseract Open Source OCR Engine v4.0.0-beta.1 with Leptonica\n",
            "Page 1\n",
            "PYTHONIOENCODING=utf-8 python3 generate_line_box.py -i \"data/bnk-ground-truth/15.tif\" -t \"data/bnk-ground-truth/15.gt.txt\" > \"data/bnk-ground-truth/15.box\"\n",
            "+ tesseract data/bnk-ground-truth/15.tif data/bnk-ground-truth/15 --psm 13 lstm.train\n",
            "Tesseract Open Source OCR Engine v4.0.0-beta.1 with Leptonica\n",
            "Page 1\n",
            "PYTHONIOENCODING=utf-8 python3 generate_line_box.py -i \"data/bnk-ground-truth/16.tif\" -t \"data/bnk-ground-truth/16.gt.txt\" > \"data/bnk-ground-truth/16.box\"\n",
            "+ tesseract data/bnk-ground-truth/16.tif data/bnk-ground-truth/16 --psm 13 lstm.train\n",
            "Tesseract Open Source OCR Engine v4.0.0-beta.1 with Leptonica\n",
            "Page 1\n",
            "PYTHONIOENCODING=utf-8 python3 generate_line_box.py -i \"data/bnk-ground-truth/17.tif\" -t \"data/bnk-ground-truth/17.gt.txt\" > \"data/bnk-ground-truth/17.box\"\n",
            "+ tesseract data/bnk-ground-truth/17.tif data/bnk-ground-truth/17 --psm 13 lstm.train\n",
            "Tesseract Open Source OCR Engine v4.0.0-beta.1 with Leptonica\n",
            "Page 1\n",
            "PYTHONIOENCODING=utf-8 python3 generate_line_box.py -i \"data/bnk-ground-truth/18.tif\" -t \"data/bnk-ground-truth/18.gt.txt\" > \"data/bnk-ground-truth/18.box\"\n",
            "+ tesseract data/bnk-ground-truth/18.tif data/bnk-ground-truth/18 --psm 13 lstm.train\n",
            "Tesseract Open Source OCR Engine v4.0.0-beta.1 with Leptonica\n",
            "Page 1\n",
            "PYTHONIOENCODING=utf-8 python3 generate_line_box.py -i \"data/bnk-ground-truth/19.tif\" -t \"data/bnk-ground-truth/19.gt.txt\" > \"data/bnk-ground-truth/19.box\"\n",
            "+ tesseract data/bnk-ground-truth/19.tif data/bnk-ground-truth/19 --psm 13 lstm.train\n",
            "Tesseract Open Source OCR Engine v4.0.0-beta.1 with Leptonica\n",
            "Page 1\n",
            "PYTHONIOENCODING=utf-8 python3 generate_line_box.py -i \"data/bnk-ground-truth/20.tif\" -t \"data/bnk-ground-truth/20.gt.txt\" > \"data/bnk-ground-truth/20.box\"\n",
            "+ tesseract data/bnk-ground-truth/20.tif data/bnk-ground-truth/20 --psm 13 lstm.train\n",
            "Tesseract Open Source OCR Engine v4.0.0-beta.1 with Leptonica\n",
            "Page 1\n",
            "PYTHONIOENCODING=utf-8 python3 generate_line_box.py -i \"data/bnk-ground-truth/21.tif\" -t \"data/bnk-ground-truth/21.gt.txt\" > \"data/bnk-ground-truth/21.box\"\n",
            "+ tesseract data/bnk-ground-truth/21.tif data/bnk-ground-truth/21 --psm 13 lstm.train\n",
            "Tesseract Open Source OCR Engine v4.0.0-beta.1 with Leptonica\n",
            "Page 1\n",
            "PYTHONIOENCODING=utf-8 python3 generate_line_box.py -i \"data/bnk-ground-truth/22.tif\" -t \"data/bnk-ground-truth/22.gt.txt\" > \"data/bnk-ground-truth/22.box\"\n",
            "+ tesseract data/bnk-ground-truth/22.tif data/bnk-ground-truth/22 --psm 13 lstm.train\n",
            "Tesseract Open Source OCR Engine v4.0.0-beta.1 with Leptonica\n",
            "Page 1\n",
            "PYTHONIOENCODING=utf-8 python3 generate_line_box.py -i \"data/bnk-ground-truth/23.tif\" -t \"data/bnk-ground-truth/23.gt.txt\" > \"data/bnk-ground-truth/23.box\"\n",
            "+ tesseract data/bnk-ground-truth/23.tif data/bnk-ground-truth/23 --psm 13 lstm.train\n",
            "Tesseract Open Source OCR Engine v4.0.0-beta.1 with Leptonica\n",
            "Page 1\n",
            "PYTHONIOENCODING=utf-8 python3 generate_line_box.py -i \"data/bnk-ground-truth/24.tif\" -t \"data/bnk-ground-truth/24.gt.txt\" > \"data/bnk-ground-truth/24.box\"\n",
            "+ tesseract data/bnk-ground-truth/24.tif data/bnk-ground-truth/24 --psm 13 lstm.train\n",
            "Tesseract Open Source OCR Engine v4.0.0-beta.1 with Leptonica\n",
            "Page 1\n",
            "PYTHONIOENCODING=utf-8 python3 generate_line_box.py -i \"data/bnk-ground-truth/25.tif\" -t \"data/bnk-ground-truth/25.gt.txt\" > \"data/bnk-ground-truth/25.box\"\n",
            "+ tesseract data/bnk-ground-truth/25.tif data/bnk-ground-truth/25 --psm 13 lstm.train\n",
            "Tesseract Open Source OCR Engine v4.0.0-beta.1 with Leptonica\n",
            "Page 1\n",
            "PYTHONIOENCODING=utf-8 python3 generate_line_box.py -i \"data/bnk-ground-truth/26.tif\" -t \"data/bnk-ground-truth/26.gt.txt\" > \"data/bnk-ground-truth/26.box\"\n",
            "+ tesseract data/bnk-ground-truth/26.tif data/bnk-ground-truth/26 --psm 13 lstm.train\n",
            "Tesseract Open Source OCR Engine v4.0.0-beta.1 with Leptonica\n",
            "Page 1\n",
            "PYTHONIOENCODING=utf-8 python3 generate_line_box.py -i \"data/bnk-ground-truth/27.tif\" -t \"data/bnk-ground-truth/27.gt.txt\" > \"data/bnk-ground-truth/27.box\"\n",
            "+ tesseract data/bnk-ground-truth/27.tif data/bnk-ground-truth/27 --psm 13 lstm.train\n",
            "Tesseract Open Source OCR Engine v4.0.0-beta.1 with Leptonica\n",
            "Page 1\n",
            "PYTHONIOENCODING=utf-8 python3 generate_line_box.py -i \"data/bnk-ground-truth/28.tif\" -t \"data/bnk-ground-truth/28.gt.txt\" > \"data/bnk-ground-truth/28.box\"\n",
            "+ tesseract data/bnk-ground-truth/28.tif data/bnk-ground-truth/28 --psm 13 lstm.train\n",
            "Tesseract Open Source OCR Engine v4.0.0-beta.1 with Leptonica\n",
            "Page 1\n",
            "PYTHONIOENCODING=utf-8 python3 generate_line_box.py -i \"data/bnk-ground-truth/29.tif\" -t \"data/bnk-ground-truth/29.gt.txt\" > \"data/bnk-ground-truth/29.box\"\n",
            "+ tesseract data/bnk-ground-truth/29.tif data/bnk-ground-truth/29 --psm 13 lstm.train\n",
            "Tesseract Open Source OCR Engine v4.0.0-beta.1 with Leptonica\n",
            "Page 1\n",
            "PYTHONIOENCODING=utf-8 python3 generate_line_box.py -i \"data/bnk-ground-truth/30.tif\" -t \"data/bnk-ground-truth/30.gt.txt\" > \"data/bnk-ground-truth/30.box\"\n",
            "+ tesseract data/bnk-ground-truth/30.tif data/bnk-ground-truth/30 --psm 13 lstm.train\n",
            "Tesseract Open Source OCR Engine v4.0.0-beta.1 with Leptonica\n",
            "Page 1\n",
            "PYTHONIOENCODING=utf-8 python3 generate_line_box.py -i \"data/bnk-ground-truth/31.tif\" -t \"data/bnk-ground-truth/31.gt.txt\" > \"data/bnk-ground-truth/31.box\"\n",
            "+ tesseract data/bnk-ground-truth/31.tif data/bnk-ground-truth/31 --psm 13 lstm.train\n",
            "Tesseract Open Source OCR Engine v4.0.0-beta.1 with Leptonica\n",
            "Page 1\n",
            "PYTHONIOENCODING=utf-8 python3 generate_line_box.py -i \"data/bnk-ground-truth/32.tif\" -t \"data/bnk-ground-truth/32.gt.txt\" > \"data/bnk-ground-truth/32.box\"\n",
            "+ tesseract data/bnk-ground-truth/32.tif data/bnk-ground-truth/32 --psm 13 lstm.train\n",
            "Tesseract Open Source OCR Engine v4.0.0-beta.1 with Leptonica\n",
            "Page 1\n",
            "PYTHONIOENCODING=utf-8 python3 generate_line_box.py -i \"data/bnk-ground-truth/33.tif\" -t \"data/bnk-ground-truth/33.gt.txt\" > \"data/bnk-ground-truth/33.box\"\n",
            "+ tesseract data/bnk-ground-truth/33.tif data/bnk-ground-truth/33 --psm 13 lstm.train\n",
            "Tesseract Open Source OCR Engine v4.0.0-beta.1 with Leptonica\n",
            "Page 1\n",
            "PYTHONIOENCODING=utf-8 python3 generate_line_box.py -i \"data/bnk-ground-truth/34.tif\" -t \"data/bnk-ground-truth/34.gt.txt\" > \"data/bnk-ground-truth/34.box\"\n",
            "+ tesseract data/bnk-ground-truth/34.tif data/bnk-ground-truth/34 --psm 13 lstm.train\n",
            "Tesseract Open Source OCR Engine v4.0.0-beta.1 with Leptonica\n",
            "Page 1\n",
            "PYTHONIOENCODING=utf-8 python3 generate_line_box.py -i \"data/bnk-ground-truth/35.tif\" -t \"data/bnk-ground-truth/35.gt.txt\" > \"data/bnk-ground-truth/35.box\"\n",
            "+ tesseract data/bnk-ground-truth/35.tif data/bnk-ground-truth/35 --psm 13 lstm.train\n",
            "Tesseract Open Source OCR Engine v4.0.0-beta.1 with Leptonica\n",
            "Page 1\n",
            "PYTHONIOENCODING=utf-8 python3 generate_line_box.py -i \"data/bnk-ground-truth/36.tif\" -t \"data/bnk-ground-truth/36.gt.txt\" > \"data/bnk-ground-truth/36.box\"\n",
            "+ tesseract data/bnk-ground-truth/36.tif data/bnk-ground-truth/36 --psm 13 lstm.train\n",
            "Tesseract Open Source OCR Engine v4.0.0-beta.1 with Leptonica\n",
            "Page 1\n",
            "PYTHONIOENCODING=utf-8 python3 generate_line_box.py -i \"data/bnk-ground-truth/37.tif\" -t \"data/bnk-ground-truth/37.gt.txt\" > \"data/bnk-ground-truth/37.box\"\n",
            "+ tesseract data/bnk-ground-truth/37.tif data/bnk-ground-truth/37 --psm 13 lstm.train\n",
            "Tesseract Open Source OCR Engine v4.0.0-beta.1 with Leptonica\n",
            "Page 1\n",
            "PYTHONIOENCODING=utf-8 python3 generate_line_box.py -i \"data/bnk-ground-truth/38.tif\" -t \"data/bnk-ground-truth/38.gt.txt\" > \"data/bnk-ground-truth/38.box\"\n",
            "+ tesseract data/bnk-ground-truth/38.tif data/bnk-ground-truth/38 --psm 13 lstm.train\n",
            "Tesseract Open Source OCR Engine v4.0.0-beta.1 with Leptonica\n",
            "Page 1\n",
            "PYTHONIOENCODING=utf-8 python3 generate_line_box.py -i \"data/bnk-ground-truth/39.tif\" -t \"data/bnk-ground-truth/39.gt.txt\" > \"data/bnk-ground-truth/39.box\"\n",
            "+ tesseract data/bnk-ground-truth/39.tif data/bnk-ground-truth/39 --psm 13 lstm.train\n",
            "Tesseract Open Source OCR Engine v4.0.0-beta.1 with Leptonica\n",
            "Page 1\n",
            "PYTHONIOENCODING=utf-8 python3 generate_line_box.py -i \"data/bnk-ground-truth/40.tif\" -t \"data/bnk-ground-truth/40.gt.txt\" > \"data/bnk-ground-truth/40.box\"\n",
            "+ tesseract data/bnk-ground-truth/40.tif data/bnk-ground-truth/40 --psm 13 lstm.train\n",
            "Tesseract Open Source OCR Engine v4.0.0-beta.1 with Leptonica\n",
            "Page 1\n",
            "PYTHONIOENCODING=utf-8 python3 generate_line_box.py -i \"data/bnk-ground-truth/41.tif\" -t \"data/bnk-ground-truth/41.gt.txt\" > \"data/bnk-ground-truth/41.box\"\n",
            "+ tesseract data/bnk-ground-truth/41.tif data/bnk-ground-truth/41 --psm 13 lstm.train\n",
            "Tesseract Open Source OCR Engine v4.0.0-beta.1 with Leptonica\n",
            "Page 1\n",
            "PYTHONIOENCODING=utf-8 python3 generate_line_box.py -i \"data/bnk-ground-truth/42.tif\" -t \"data/bnk-ground-truth/42.gt.txt\" > \"data/bnk-ground-truth/42.box\"\n",
            "+ tesseract data/bnk-ground-truth/42.tif data/bnk-ground-truth/42 --psm 13 lstm.train\n",
            "Tesseract Open Source OCR Engine v4.0.0-beta.1 with Leptonica\n",
            "Page 1\n",
            "PYTHONIOENCODING=utf-8 python3 generate_line_box.py -i \"data/bnk-ground-truth/43.tif\" -t \"data/bnk-ground-truth/43.gt.txt\" > \"data/bnk-ground-truth/43.box\"\n",
            "+ tesseract data/bnk-ground-truth/43.tif data/bnk-ground-truth/43 --psm 13 lstm.train\n",
            "Tesseract Open Source OCR Engine v4.0.0-beta.1 with Leptonica\n",
            "Page 1\n",
            "PYTHONIOENCODING=utf-8 python3 generate_line_box.py -i \"data/bnk-ground-truth/44.tif\" -t \"data/bnk-ground-truth/44.gt.txt\" > \"data/bnk-ground-truth/44.box\"\n",
            "+ tesseract data/bnk-ground-truth/44.tif data/bnk-ground-truth/44 --psm 13 lstm.train\n",
            "Tesseract Open Source OCR Engine v4.0.0-beta.1 with Leptonica\n",
            "Page 1\n",
            "PYTHONIOENCODING=utf-8 python3 generate_line_box.py -i \"data/bnk-ground-truth/45.tif\" -t \"data/bnk-ground-truth/45.gt.txt\" > \"data/bnk-ground-truth/45.box\"\n",
            "+ tesseract data/bnk-ground-truth/45.tif data/bnk-ground-truth/45 --psm 13 lstm.train\n",
            "Tesseract Open Source OCR Engine v4.0.0-beta.1 with Leptonica\n",
            "Page 1\n",
            "PYTHONIOENCODING=utf-8 python3 generate_line_box.py -i \"data/bnk-ground-truth/46.tif\" -t \"data/bnk-ground-truth/46.gt.txt\" > \"data/bnk-ground-truth/46.box\"\n",
            "+ tesseract data/bnk-ground-truth/46.tif data/bnk-ground-truth/46 --psm 13 lstm.train\n",
            "Tesseract Open Source OCR Engine v4.0.0-beta.1 with Leptonica\n",
            "Page 1\n",
            "PYTHONIOENCODING=utf-8 python3 generate_line_box.py -i \"data/bnk-ground-truth/47.tif\" -t \"data/bnk-ground-truth/47.gt.txt\" > \"data/bnk-ground-truth/47.box\"\n",
            "+ tesseract data/bnk-ground-truth/47.tif data/bnk-ground-truth/47 --psm 13 lstm.train\n",
            "Tesseract Open Source OCR Engine v4.0.0-beta.1 with Leptonica\n",
            "Page 1\n",
            "PYTHONIOENCODING=utf-8 python3 generate_line_box.py -i \"data/bnk-ground-truth/48.tif\" -t \"data/bnk-ground-truth/48.gt.txt\" > \"data/bnk-ground-truth/48.box\"\n",
            "+ tesseract data/bnk-ground-truth/48.tif data/bnk-ground-truth/48 --psm 13 lstm.train\n",
            "Tesseract Open Source OCR Engine v4.0.0-beta.1 with Leptonica\n",
            "Page 1\n",
            "PYTHONIOENCODING=utf-8 python3 generate_line_box.py -i \"data/bnk-ground-truth/49.tif\" -t \"data/bnk-ground-truth/49.gt.txt\" > \"data/bnk-ground-truth/49.box\"\n",
            "+ tesseract data/bnk-ground-truth/49.tif data/bnk-ground-truth/49 --psm 13 lstm.train\n",
            "Tesseract Open Source OCR Engine v4.0.0-beta.1 with Leptonica\n",
            "Page 1\n",
            "PYTHONIOENCODING=utf-8 python3 generate_line_box.py -i \"data/bnk-ground-truth/50.tif\" -t \"data/bnk-ground-truth/50.gt.txt\" > \"data/bnk-ground-truth/50.box\"\n",
            "+ tesseract data/bnk-ground-truth/50.tif data/bnk-ground-truth/50 --psm 13 lstm.train\n",
            "Tesseract Open Source OCR Engine v4.0.0-beta.1 with Leptonica\n",
            "Page 1\n",
            "PYTHONIOENCODING=utf-8 python3 generate_line_box.py -i \"data/bnk-ground-truth/51.tif\" -t \"data/bnk-ground-truth/51.gt.txt\" > \"data/bnk-ground-truth/51.box\"\n",
            "+ tesseract data/bnk-ground-truth/51.tif data/bnk-ground-truth/51 --psm 13 lstm.train\n",
            "Tesseract Open Source OCR Engine v4.0.0-beta.1 with Leptonica\n",
            "Page 1\n",
            "PYTHONIOENCODING=utf-8 python3 generate_line_box.py -i \"data/bnk-ground-truth/52.tif\" -t \"data/bnk-ground-truth/52.gt.txt\" > \"data/bnk-ground-truth/52.box\"\n",
            "+ tesseract data/bnk-ground-truth/52.tif data/bnk-ground-truth/52 --psm 13 lstm.train\n",
            "Tesseract Open Source OCR Engine v4.0.0-beta.1 with Leptonica\n",
            "Page 1\n",
            "PYTHONIOENCODING=utf-8 python3 generate_line_box.py -i \"data/bnk-ground-truth/53.tif\" -t \"data/bnk-ground-truth/53.gt.txt\" > \"data/bnk-ground-truth/53.box\"\n",
            "+ tesseract data/bnk-ground-truth/53.tif data/bnk-ground-truth/53 --psm 13 lstm.train\n",
            "Tesseract Open Source OCR Engine v4.0.0-beta.1 with Leptonica\n",
            "Page 1\n",
            "PYTHONIOENCODING=utf-8 python3 generate_line_box.py -i \"data/bnk-ground-truth/54.tif\" -t \"data/bnk-ground-truth/54.gt.txt\" > \"data/bnk-ground-truth/54.box\"\n",
            "+ tesseract data/bnk-ground-truth/54.tif data/bnk-ground-truth/54 --psm 13 lstm.train\n",
            "Tesseract Open Source OCR Engine v4.0.0-beta.1 with Leptonica\n",
            "Page 1\n",
            "PYTHONIOENCODING=utf-8 python3 generate_line_box.py -i \"data/bnk-ground-truth/55.tif\" -t \"data/bnk-ground-truth/55.gt.txt\" > \"data/bnk-ground-truth/55.box\"\n",
            "+ tesseract data/bnk-ground-truth/55.tif data/bnk-ground-truth/55 --psm 13 lstm.train\n",
            "Tesseract Open Source OCR Engine v4.0.0-beta.1 with Leptonica\n",
            "Page 1\n",
            "PYTHONIOENCODING=utf-8 python3 generate_line_box.py -i \"data/bnk-ground-truth/56.tif\" -t \"data/bnk-ground-truth/56.gt.txt\" > \"data/bnk-ground-truth/56.box\"\n",
            "+ tesseract data/bnk-ground-truth/56.tif data/bnk-ground-truth/56 --psm 13 lstm.train\n",
            "Tesseract Open Source OCR Engine v4.0.0-beta.1 with Leptonica\n",
            "Page 1\n",
            "PYTHONIOENCODING=utf-8 python3 generate_line_box.py -i \"data/bnk-ground-truth/57.tif\" -t \"data/bnk-ground-truth/57.gt.txt\" > \"data/bnk-ground-truth/57.box\"\n",
            "+ tesseract data/bnk-ground-truth/57.tif data/bnk-ground-truth/57 --psm 13 lstm.train\n",
            "Tesseract Open Source OCR Engine v4.0.0-beta.1 with Leptonica\n",
            "Page 1\n",
            "PYTHONIOENCODING=utf-8 python3 generate_line_box.py -i \"data/bnk-ground-truth/58.tif\" -t \"data/bnk-ground-truth/58.gt.txt\" > \"data/bnk-ground-truth/58.box\"\n",
            "+ tesseract data/bnk-ground-truth/58.tif data/bnk-ground-truth/58 --psm 13 lstm.train\n",
            "Tesseract Open Source OCR Engine v4.0.0-beta.1 with Leptonica\n",
            "Page 1\n",
            "PYTHONIOENCODING=utf-8 python3 generate_line_box.py -i \"data/bnk-ground-truth/59.tif\" -t \"data/bnk-ground-truth/59.gt.txt\" > \"data/bnk-ground-truth/59.box\"\n",
            "+ tesseract data/bnk-ground-truth/59.tif data/bnk-ground-truth/59 --psm 13 lstm.train\n",
            "Tesseract Open Source OCR Engine v4.0.0-beta.1 with Leptonica\n",
            "Page 1\n",
            "PYTHONIOENCODING=utf-8 python3 generate_line_box.py -i \"data/bnk-ground-truth/60.tif\" -t \"data/bnk-ground-truth/60.gt.txt\" > \"data/bnk-ground-truth/60.box\"\n",
            "+ tesseract data/bnk-ground-truth/60.tif data/bnk-ground-truth/60 --psm 13 lstm.train\n",
            "Tesseract Open Source OCR Engine v4.0.0-beta.1 with Leptonica\n",
            "Page 1\n",
            "PYTHONIOENCODING=utf-8 python3 generate_line_box.py -i \"data/bnk-ground-truth/61.tif\" -t \"data/bnk-ground-truth/61.gt.txt\" > \"data/bnk-ground-truth/61.box\"\n",
            "+ tesseract data/bnk-ground-truth/61.tif data/bnk-ground-truth/61 --psm 13 lstm.train\n",
            "Tesseract Open Source OCR Engine v4.0.0-beta.1 with Leptonica\n",
            "Page 1\n",
            "PYTHONIOENCODING=utf-8 python3 generate_line_box.py -i \"data/bnk-ground-truth/62.tif\" -t \"data/bnk-ground-truth/62.gt.txt\" > \"data/bnk-ground-truth/62.box\"\n",
            "+ tesseract data/bnk-ground-truth/62.tif data/bnk-ground-truth/62 --psm 13 lstm.train\n",
            "Tesseract Open Source OCR Engine v4.0.0-beta.1 with Leptonica\n",
            "Page 1\n",
            "PYTHONIOENCODING=utf-8 python3 generate_line_box.py -i \"data/bnk-ground-truth/63.tif\" -t \"data/bnk-ground-truth/63.gt.txt\" > \"data/bnk-ground-truth/63.box\"\n",
            "+ tesseract data/bnk-ground-truth/63.tif data/bnk-ground-truth/63 --psm 13 lstm.train\n",
            "Tesseract Open Source OCR Engine v4.0.0-beta.1 with Leptonica\n",
            "Page 1\n",
            "PYTHONIOENCODING=utf-8 python3 generate_line_box.py -i \"data/bnk-ground-truth/64.tif\" -t \"data/bnk-ground-truth/64.gt.txt\" > \"data/bnk-ground-truth/64.box\"\n",
            "+ tesseract data/bnk-ground-truth/64.tif data/bnk-ground-truth/64 --psm 13 lstm.train\n",
            "Tesseract Open Source OCR Engine v4.0.0-beta.1 with Leptonica\n",
            "Page 1\n",
            "PYTHONIOENCODING=utf-8 python3 generate_line_box.py -i \"data/bnk-ground-truth/65.tif\" -t \"data/bnk-ground-truth/65.gt.txt\" > \"data/bnk-ground-truth/65.box\"\n",
            "+ tesseract data/bnk-ground-truth/65.tif data/bnk-ground-truth/65 --psm 13 lstm.train\n",
            "Tesseract Open Source OCR Engine v4.0.0-beta.1 with Leptonica\n",
            "Page 1\n",
            "PYTHONIOENCODING=utf-8 python3 generate_line_box.py -i \"data/bnk-ground-truth/66.tif\" -t \"data/bnk-ground-truth/66.gt.txt\" > \"data/bnk-ground-truth/66.box\"\n",
            "+ tesseract data/bnk-ground-truth/66.tif data/bnk-ground-truth/66 --psm 13 lstm.train\n",
            "Tesseract Open Source OCR Engine v4.0.0-beta.1 with Leptonica\n",
            "Page 1\n",
            "PYTHONIOENCODING=utf-8 python3 generate_line_box.py -i \"data/bnk-ground-truth/67.tif\" -t \"data/bnk-ground-truth/67.gt.txt\" > \"data/bnk-ground-truth/67.box\"\n",
            "+ tesseract data/bnk-ground-truth/67.tif data/bnk-ground-truth/67 --psm 13 lstm.train\n",
            "Tesseract Open Source OCR Engine v4.0.0-beta.1 with Leptonica\n",
            "Page 1\n",
            "PYTHONIOENCODING=utf-8 python3 generate_line_box.py -i \"data/bnk-ground-truth/68.tif\" -t \"data/bnk-ground-truth/68.gt.txt\" > \"data/bnk-ground-truth/68.box\"\n",
            "+ tesseract data/bnk-ground-truth/68.tif data/bnk-ground-truth/68 --psm 13 lstm.train\n",
            "Tesseract Open Source OCR Engine v4.0.0-beta.1 with Leptonica\n",
            "Page 1\n",
            "PYTHONIOENCODING=utf-8 python3 generate_line_box.py -i \"data/bnk-ground-truth/69.tif\" -t \"data/bnk-ground-truth/69.gt.txt\" > \"data/bnk-ground-truth/69.box\"\n",
            "+ tesseract data/bnk-ground-truth/69.tif data/bnk-ground-truth/69 --psm 13 lstm.train\n",
            "Tesseract Open Source OCR Engine v4.0.0-beta.1 with Leptonica\n",
            "Page 1\n",
            "PYTHONIOENCODING=utf-8 python3 generate_line_box.py -i \"data/bnk-ground-truth/70.tif\" -t \"data/bnk-ground-truth/70.gt.txt\" > \"data/bnk-ground-truth/70.box\"\n",
            "+ tesseract data/bnk-ground-truth/70.tif data/bnk-ground-truth/70 --psm 13 lstm.train\n",
            "Tesseract Open Source OCR Engine v4.0.0-beta.1 with Leptonica\n",
            "Page 1\n",
            "PYTHONIOENCODING=utf-8 python3 generate_line_box.py -i \"data/bnk-ground-truth/71.tif\" -t \"data/bnk-ground-truth/71.gt.txt\" > \"data/bnk-ground-truth/71.box\"\n",
            "+ tesseract data/bnk-ground-truth/71.tif data/bnk-ground-truth/71 --psm 13 lstm.train\n",
            "Tesseract Open Source OCR Engine v4.0.0-beta.1 with Leptonica\n",
            "Page 1\n",
            "PYTHONIOENCODING=utf-8 python3 generate_line_box.py -i \"data/bnk-ground-truth/72.tif\" -t \"data/bnk-ground-truth/72.gt.txt\" > \"data/bnk-ground-truth/72.box\"\n",
            "+ tesseract data/bnk-ground-truth/72.tif data/bnk-ground-truth/72 --psm 13 lstm.train\n"
          ]
        }
      ]
    },
    {
      "cell_type": "code",
      "metadata": {
        "id": "l2JqkM-jE-pr",
        "colab": {
          "base_uri": "https://localhost:8080/"
        },
        "outputId": "d8e84424-8cbd-41ca-f4d0-01e6ca16a77b"
      },
      "source": [
        "!make traineddata MODEL_NAME=bnk"
      ],
      "execution_count": null,
      "outputs": [
        {
          "output_type": "stream",
          "name": "stdout",
          "text": [
            "mkdir data/bnk/tessdata_best\n",
            "mkdir data/bnk/tessdata_fast\n",
            "lstmtraining \\\n",
            "          --stop_training \\\n",
            "          --continue_from data/bnk/checkpoints/bnk7.641_882.checkpoint \\\n",
            "          --traineddata data/bnk/bnk.traineddata \\\n",
            "          --model_output data/bnk/tessdata_best/bnk7.641_882.traineddata\n",
            "Loaded file data/bnk/checkpoints/bnk7.641_882.checkpoint, unpacking...\n",
            "lstmtraining \\\n",
            "          --stop_training \\\n",
            "          --continue_from data/bnk/checkpoints/bnk4.439_1321.checkpoint \\\n",
            "          --traineddata data/bnk/bnk.traineddata \\\n",
            "          --model_output data/bnk/tessdata_best/bnk4.439_1321.traineddata\n",
            "Loaded file data/bnk/checkpoints/bnk4.439_1321.checkpoint, unpacking...\n",
            "lstmtraining \\\n",
            "          --stop_training \\\n",
            "          --continue_from data/bnk/checkpoints/bnk19.204_447.checkpoint \\\n",
            "          --traineddata data/bnk/bnk.traineddata \\\n",
            "          --model_output data/bnk/tessdata_best/bnk19.204_447.traineddata\n",
            "Loaded file data/bnk/checkpoints/bnk19.204_447.checkpoint, unpacking...\n",
            "lstmtraining \\\n",
            "          --stop_training \\\n",
            "          --continue_from data/bnk/checkpoints/bnk3.391_1910.checkpoint \\\n",
            "          --traineddata data/bnk/bnk.traineddata \\\n",
            "          --model_output data/bnk/tessdata_best/bnk3.391_1910.traineddata\n",
            "Loaded file data/bnk/checkpoints/bnk3.391_1910.checkpoint, unpacking...\n",
            "lstmtraining \\\n",
            "          --stop_training \\\n",
            "          --continue_from data/bnk/checkpoints/bnk27.687_202.checkpoint \\\n",
            "          --traineddata data/bnk/bnk.traineddata \\\n",
            "          --model_output data/bnk/tessdata_best/bnk27.687_202.traineddata\n",
            "Loaded file data/bnk/checkpoints/bnk27.687_202.checkpoint, unpacking...\n",
            "lstmtraining \\\n",
            "          --stop_training \\\n",
            "          --continue_from data/bnk/checkpoints/bnk12.669_621.checkpoint \\\n",
            "          --traineddata data/bnk/bnk.traineddata \\\n",
            "          --model_output data/bnk/tessdata_best/bnk12.669_621.traineddata\n",
            "Loaded file data/bnk/checkpoints/bnk12.669_621.checkpoint, unpacking...\n",
            "lstmtraining \\\n",
            "          --stop_training \\\n",
            "          --continue_from data/bnk/checkpoints/bnk4.645_1267.checkpoint \\\n",
            "          --traineddata data/bnk/bnk.traineddata \\\n",
            "          --model_output data/bnk/tessdata_best/bnk4.645_1267.traineddata\n",
            "Loaded file data/bnk/checkpoints/bnk4.645_1267.checkpoint, unpacking...\n",
            "lstmtraining \\\n",
            "          --stop_training \\\n",
            "          --continue_from data/bnk/checkpoints/bnk3.685_1650.checkpoint \\\n",
            "          --traineddata data/bnk/bnk.traineddata \\\n",
            "          --model_output data/bnk/tessdata_best/bnk3.685_1650.traineddata\n",
            "Loaded file data/bnk/checkpoints/bnk3.685_1650.checkpoint, unpacking...\n",
            "lstmtraining \\\n",
            "          --stop_training \\\n",
            "          --continue_from data/bnk/checkpoints/bnk4.296_1425.checkpoint \\\n",
            "          --traineddata data/bnk/bnk.traineddata \\\n",
            "          --model_output data/bnk/tessdata_best/bnk4.296_1425.traineddata\n",
            "Loaded file data/bnk/checkpoints/bnk4.296_1425.checkpoint, unpacking...\n",
            "lstmtraining \\\n",
            "          --stop_training \\\n",
            "          --continue_from data/bnk/checkpoints/bnk5.984_1125.checkpoint \\\n",
            "          --traineddata data/bnk/bnk.traineddata \\\n",
            "          --model_output data/bnk/tessdata_best/bnk5.984_1125.traineddata\n",
            "Loaded file data/bnk/checkpoints/bnk5.984_1125.checkpoint, unpacking...\n",
            "lstmtraining \\\n",
            "          --stop_training \\\n",
            "          --continue_from data/bnk/checkpoints/bnk10.809_704.checkpoint \\\n",
            "          --traineddata data/bnk/bnk.traineddata \\\n",
            "          --model_output data/bnk/tessdata_best/bnk10.809_704.traineddata\n",
            "Loaded file data/bnk/checkpoints/bnk10.809_704.checkpoint, unpacking...\n",
            "lstmtraining \\\n",
            "          --stop_training \\\n",
            "          --continue_from data/bnk/checkpoints/bnk7.137_946.checkpoint \\\n",
            "          --traineddata data/bnk/bnk.traineddata \\\n",
            "          --model_output data/bnk/tessdata_best/bnk7.137_946.traineddata\n",
            "Loaded file data/bnk/checkpoints/bnk7.137_946.checkpoint, unpacking...\n",
            "lstmtraining \\\n",
            "          --stop_training \\\n",
            "          --continue_from data/bnk/checkpoints/bnk24.978_251.checkpoint \\\n",
            "          --traineddata data/bnk/bnk.traineddata \\\n",
            "          --model_output data/bnk/tessdata_best/bnk24.978_251.traineddata\n",
            "Loaded file data/bnk/checkpoints/bnk24.978_251.checkpoint, unpacking...\n",
            "lstmtraining \\\n",
            "          --stop_training \\\n",
            "          --continue_from data/bnk/checkpoints/bnk18.388_494.checkpoint \\\n",
            "          --traineddata data/bnk/bnk.traineddata \\\n",
            "          --model_output data/bnk/tessdata_best/bnk18.388_494.traineddata\n",
            "Loaded file data/bnk/checkpoints/bnk18.388_494.checkpoint, unpacking...\n",
            "lstmtraining \\\n",
            "          --stop_training \\\n",
            "          --continue_from data/bnk/checkpoints/bnk6.639_1010.checkpoint \\\n",
            "          --traineddata data/bnk/bnk.traineddata \\\n",
            "          --model_output data/bnk/tessdata_best/bnk6.639_1010.traineddata\n",
            "Loaded file data/bnk/checkpoints/bnk6.639_1010.checkpoint, unpacking...\n",
            "lstmtraining \\\n",
            "          --stop_training \\\n",
            "          --continue_from data/bnk/checkpoints/bnk21.603_349.checkpoint \\\n",
            "          --traineddata data/bnk/bnk.traineddata \\\n",
            "          --model_output data/bnk/tessdata_best/bnk21.603_349.traineddata\n",
            "Loaded file data/bnk/checkpoints/bnk21.603_349.checkpoint, unpacking...\n",
            "lstmtraining \\\n",
            "          --stop_training \\\n",
            "          --continue_from data/bnk/checkpoints/bnk2.812_2342.checkpoint \\\n",
            "          --traineddata data/bnk/bnk.traineddata \\\n",
            "          --model_output data/bnk/tessdata_best/bnk2.812_2342.traineddata\n",
            "Loaded file data/bnk/checkpoints/bnk2.812_2342.checkpoint, unpacking...\n",
            "lstmtraining \\\n",
            "          --stop_training \\\n",
            "          --continue_from data/bnk/checkpoints/bnk2.984_2303.checkpoint \\\n",
            "          --traineddata data/bnk/bnk.traineddata \\\n",
            "          --model_output data/bnk/tessdata_best/bnk2.984_2303.traineddata\n",
            "Loaded file data/bnk/checkpoints/bnk2.984_2303.checkpoint, unpacking...\n",
            "lstmtraining \\\n",
            "          --stop_training \\\n",
            "          --continue_from data/bnk/checkpoints/bnk14.958_585.checkpoint \\\n",
            "          --traineddata data/bnk/bnk.traineddata \\\n",
            "          --model_output data/bnk/tessdata_best/bnk14.958_585.traineddata\n",
            "Loaded file data/bnk/checkpoints/bnk14.958_585.checkpoint, unpacking...\n",
            "lstmtraining \\\n",
            "          --stop_training \\\n",
            "          --continue_from data/bnk/checkpoints/bnk32.603_148.checkpoint \\\n",
            "          --traineddata data/bnk/bnk.traineddata \\\n",
            "          --model_output data/bnk/tessdata_best/bnk32.603_148.traineddata\n",
            "Loaded file data/bnk/checkpoints/bnk32.603_148.checkpoint, unpacking...\n",
            "lstmtraining \\\n",
            "          --stop_training \\\n",
            "          --continue_from data/bnk/checkpoints/bnk8.139_849.checkpoint \\\n",
            "          --traineddata data/bnk/bnk.traineddata \\\n",
            "          --model_output data/bnk/tessdata_best/bnk8.139_849.traineddata\n",
            "Loaded file data/bnk/checkpoints/bnk8.139_849.checkpoint, unpacking...\n",
            "lstmtraining \\\n",
            "          --stop_training \\\n",
            "          --continue_from data/bnk/checkpoints/bnk9.305_783.checkpoint \\\n",
            "          --traineddata data/bnk/bnk.traineddata \\\n",
            "          --model_output data/bnk/tessdata_best/bnk9.305_783.traineddata\n",
            "Loaded file data/bnk/checkpoints/bnk9.305_783.checkpoint, unpacking...\n",
            "lstmtraining \\\n",
            "          --stop_training \\\n",
            "          --continue_from data/bnk/checkpoints/bnk5.636_1181.checkpoint \\\n",
            "          --traineddata data/bnk/bnk.traineddata \\\n",
            "          --model_output data/bnk/tessdata_best/bnk5.636_1181.traineddata\n",
            "Loaded file data/bnk/checkpoints/bnk5.636_1181.checkpoint, unpacking...\n",
            "lstmtraining \\\n",
            "          --stop_training \\\n",
            "          --continue_from data/bnk/checkpoints/bnk8.564_813.checkpoint \\\n",
            "          --traineddata data/bnk/bnk.traineddata \\\n",
            "          --model_output data/bnk/tessdata_best/bnk8.564_813.traineddata\n",
            "Loaded file data/bnk/checkpoints/bnk8.564_813.checkpoint, unpacking...\n",
            "lstmtraining \\\n",
            "          --stop_training \\\n",
            "          --continue_from data/bnk/checkpoints/bnk23.148_304.checkpoint \\\n",
            "          --traineddata data/bnk/bnk.traineddata \\\n",
            "          --model_output data/bnk/tessdata_best/bnk23.148_304.traineddata\n",
            "Loaded file data/bnk/checkpoints/bnk23.148_304.checkpoint, unpacking...\n",
            "lstmtraining \\\n",
            "          --stop_training \\\n",
            "          --continue_from data/bnk/checkpoints/bnk3.17_2081.checkpoint \\\n",
            "          --traineddata data/bnk/bnk.traineddata \\\n",
            "          --model_output data/bnk/tessdata_best/bnk3.17_2081.traineddata\n",
            "Loaded file data/bnk/checkpoints/bnk3.17_2081.checkpoint, unpacking...\n",
            "lstmtraining \\\n",
            "          --stop_training \\\n",
            "          --continue_from data/bnk/checkpoints/bnk5.216_1201.checkpoint \\\n",
            "          --traineddata data/bnk/bnk.traineddata \\\n",
            "          --model_output data/bnk/tessdata_best/bnk5.216_1201.traineddata\n",
            "Loaded file data/bnk/checkpoints/bnk5.216_1201.checkpoint, unpacking...\n",
            "lstmtraining \\\n",
            "          --stop_training \\\n",
            "          --continue_from data/bnk/checkpoints/bnk35.056_84.checkpoint \\\n",
            "          --traineddata data/bnk/bnk.traineddata \\\n",
            "          --model_output data/bnk/tessdata_best/bnk35.056_84.traineddata\n",
            "Loaded file data/bnk/checkpoints/bnk35.056_84.checkpoint, unpacking...\n",
            "lstmtraining \\\n",
            "          --stop_training \\\n",
            "          --continue_from data/bnk/checkpoints/bnk3.28_1930.checkpoint \\\n",
            "          --traineddata data/bnk/bnk.traineddata \\\n",
            "          --model_output data/bnk/tessdata_best/bnk3.28_1930.traineddata\n",
            "Loaded file data/bnk/checkpoints/bnk3.28_1930.checkpoint, unpacking...\n",
            "lstmtraining \\\n",
            "          --stop_training \\\n",
            "          --continue_from data/bnk/checkpoints/bnk17.351_534.checkpoint \\\n",
            "          --traineddata data/bnk/bnk.traineddata \\\n",
            "          --model_output data/bnk/tessdata_best/bnk17.351_534.traineddata\n",
            "Loaded file data/bnk/checkpoints/bnk17.351_534.checkpoint, unpacking...\n",
            "lstmtraining \\\n",
            "          --stop_training \\\n",
            "          --continue_from data/bnk/checkpoints/bnk20.377_398.checkpoint \\\n",
            "          --traineddata data/bnk/bnk.traineddata \\\n",
            "          --model_output data/bnk/tessdata_best/bnk20.377_398.traineddata\n",
            "Loaded file data/bnk/checkpoints/bnk20.377_398.checkpoint, unpacking...\n",
            "lstmtraining \\\n",
            "          --stop_training \\\n",
            "          --continue_from data/bnk/checkpoints/bnk11.753_659.checkpoint \\\n",
            "          --traineddata data/bnk/bnk.traineddata \\\n",
            "          --model_output data/bnk/tessdata_best/bnk11.753_659.traineddata\n",
            "Loaded file data/bnk/checkpoints/bnk11.753_659.checkpoint, unpacking...\n",
            "lstmtraining \\\n",
            "          --stop_training \\\n",
            "          --continue_from data/bnk/checkpoints/bnk10.031_740.checkpoint \\\n",
            "          --traineddata data/bnk/bnk.traineddata \\\n",
            "          --model_output data/bnk/tessdata_best/bnk10.031_740.traineddata\n",
            "Loaded file data/bnk/checkpoints/bnk10.031_740.checkpoint, unpacking...\n",
            "lstmtraining \\\n",
            "          --stop_training \\\n",
            "          --continue_from data/bnk/checkpoints/bnk4.122_1583.checkpoint \\\n",
            "          --traineddata data/bnk/bnk.traineddata \\\n",
            "          --model_output data/bnk/tessdata_best/bnk4.122_1583.traineddata\n",
            "Loaded file data/bnk/checkpoints/bnk4.122_1583.checkpoint, unpacking...\n",
            "lstmtraining \\\n",
            "          --stop_training \\\n",
            "          --continue_from data/bnk/checkpoints/bnk4.991_1238.checkpoint \\\n",
            "          --traineddata data/bnk/bnk.traineddata \\\n",
            "          --model_output data/bnk/tessdata_best/bnk4.991_1238.traineddata\n",
            "Loaded file data/bnk/checkpoints/bnk4.991_1238.checkpoint, unpacking...\n",
            "lstmtraining \\\n",
            "          --stop_training \\\n",
            "          --continue_from data/bnk/checkpoints/bnk3.925_1606.checkpoint \\\n",
            "          --traineddata data/bnk/bnk.traineddata \\\n",
            "          --model_output data/bnk/tessdata_best/bnk3.925_1606.traineddata\n",
            "Loaded file data/bnk/checkpoints/bnk3.925_1606.checkpoint, unpacking...\n",
            "lstmtraining \\\n",
            "          --stop_training \\\n",
            "          --continue_from data/bnk/checkpoints/bnk6.261_1072.checkpoint \\\n",
            "          --traineddata data/bnk/bnk.traineddata \\\n",
            "          --model_output data/bnk/tessdata_best/bnk6.261_1072.traineddata\n",
            "Loaded file data/bnk/checkpoints/bnk6.261_1072.checkpoint, unpacking...\n",
            "lstmtraining \\\n",
            "          --stop_training \\\n",
            "          --continue_from data/bnk/checkpoints/bnk7.641_882.checkpoint \\\n",
            "          --traineddata data/bnk/bnk.traineddata \\\n",
            "          --convert_to_int \\\n",
            "          --model_output data/bnk/tessdata_fast/bnk7.641_882.traineddata\n",
            "Loaded file data/bnk/checkpoints/bnk7.641_882.checkpoint, unpacking...\n",
            "lstmtraining \\\n",
            "          --stop_training \\\n",
            "          --continue_from data/bnk/checkpoints/bnk4.439_1321.checkpoint \\\n",
            "          --traineddata data/bnk/bnk.traineddata \\\n",
            "          --convert_to_int \\\n",
            "          --model_output data/bnk/tessdata_fast/bnk4.439_1321.traineddata\n",
            "Loaded file data/bnk/checkpoints/bnk4.439_1321.checkpoint, unpacking...\n",
            "lstmtraining \\\n",
            "          --stop_training \\\n",
            "          --continue_from data/bnk/checkpoints/bnk19.204_447.checkpoint \\\n",
            "          --traineddata data/bnk/bnk.traineddata \\\n",
            "          --convert_to_int \\\n",
            "          --model_output data/bnk/tessdata_fast/bnk19.204_447.traineddata\n",
            "Loaded file data/bnk/checkpoints/bnk19.204_447.checkpoint, unpacking...\n",
            "lstmtraining \\\n",
            "          --stop_training \\\n",
            "          --continue_from data/bnk/checkpoints/bnk3.391_1910.checkpoint \\\n",
            "          --traineddata data/bnk/bnk.traineddata \\\n",
            "          --convert_to_int \\\n",
            "          --model_output data/bnk/tessdata_fast/bnk3.391_1910.traineddata\n",
            "Loaded file data/bnk/checkpoints/bnk3.391_1910.checkpoint, unpacking...\n",
            "lstmtraining \\\n",
            "          --stop_training \\\n",
            "          --continue_from data/bnk/checkpoints/bnk27.687_202.checkpoint \\\n",
            "          --traineddata data/bnk/bnk.traineddata \\\n",
            "          --convert_to_int \\\n",
            "          --model_output data/bnk/tessdata_fast/bnk27.687_202.traineddata\n",
            "Loaded file data/bnk/checkpoints/bnk27.687_202.checkpoint, unpacking...\n",
            "lstmtraining \\\n",
            "          --stop_training \\\n",
            "          --continue_from data/bnk/checkpoints/bnk12.669_621.checkpoint \\\n",
            "          --traineddata data/bnk/bnk.traineddata \\\n",
            "          --convert_to_int \\\n",
            "          --model_output data/bnk/tessdata_fast/bnk12.669_621.traineddata\n",
            "Loaded file data/bnk/checkpoints/bnk12.669_621.checkpoint, unpacking...\n",
            "lstmtraining \\\n",
            "          --stop_training \\\n",
            "          --continue_from data/bnk/checkpoints/bnk4.645_1267.checkpoint \\\n",
            "          --traineddata data/bnk/bnk.traineddata \\\n",
            "          --convert_to_int \\\n",
            "          --model_output data/bnk/tessdata_fast/bnk4.645_1267.traineddata\n",
            "Loaded file data/bnk/checkpoints/bnk4.645_1267.checkpoint, unpacking...\n",
            "lstmtraining \\\n",
            "          --stop_training \\\n",
            "          --continue_from data/bnk/checkpoints/bnk3.685_1650.checkpoint \\\n",
            "          --traineddata data/bnk/bnk.traineddata \\\n",
            "          --convert_to_int \\\n",
            "          --model_output data/bnk/tessdata_fast/bnk3.685_1650.traineddata\n",
            "Loaded file data/bnk/checkpoints/bnk3.685_1650.checkpoint, unpacking...\n",
            "lstmtraining \\\n",
            "          --stop_training \\\n",
            "          --continue_from data/bnk/checkpoints/bnk4.296_1425.checkpoint \\\n",
            "          --traineddata data/bnk/bnk.traineddata \\\n",
            "          --convert_to_int \\\n",
            "          --model_output data/bnk/tessdata_fast/bnk4.296_1425.traineddata\n",
            "Loaded file data/bnk/checkpoints/bnk4.296_1425.checkpoint, unpacking...\n",
            "lstmtraining \\\n",
            "          --stop_training \\\n",
            "          --continue_from data/bnk/checkpoints/bnk5.984_1125.checkpoint \\\n",
            "          --traineddata data/bnk/bnk.traineddata \\\n",
            "          --convert_to_int \\\n",
            "          --model_output data/bnk/tessdata_fast/bnk5.984_1125.traineddata\n",
            "Loaded file data/bnk/checkpoints/bnk5.984_1125.checkpoint, unpacking...\n",
            "lstmtraining \\\n",
            "          --stop_training \\\n",
            "          --continue_from data/bnk/checkpoints/bnk10.809_704.checkpoint \\\n",
            "          --traineddata data/bnk/bnk.traineddata \\\n",
            "          --convert_to_int \\\n",
            "          --model_output data/bnk/tessdata_fast/bnk10.809_704.traineddata\n",
            "Loaded file data/bnk/checkpoints/bnk10.809_704.checkpoint, unpacking...\n",
            "lstmtraining \\\n",
            "          --stop_training \\\n",
            "          --continue_from data/bnk/checkpoints/bnk7.137_946.checkpoint \\\n",
            "          --traineddata data/bnk/bnk.traineddata \\\n",
            "          --convert_to_int \\\n",
            "          --model_output data/bnk/tessdata_fast/bnk7.137_946.traineddata\n",
            "Loaded file data/bnk/checkpoints/bnk7.137_946.checkpoint, unpacking...\n",
            "lstmtraining \\\n",
            "          --stop_training \\\n",
            "          --continue_from data/bnk/checkpoints/bnk24.978_251.checkpoint \\\n",
            "          --traineddata data/bnk/bnk.traineddata \\\n",
            "          --convert_to_int \\\n",
            "          --model_output data/bnk/tessdata_fast/bnk24.978_251.traineddata\n",
            "Loaded file data/bnk/checkpoints/bnk24.978_251.checkpoint, unpacking...\n",
            "lstmtraining \\\n",
            "          --stop_training \\\n",
            "          --continue_from data/bnk/checkpoints/bnk18.388_494.checkpoint \\\n",
            "          --traineddata data/bnk/bnk.traineddata \\\n",
            "          --convert_to_int \\\n",
            "          --model_output data/bnk/tessdata_fast/bnk18.388_494.traineddata\n",
            "Loaded file data/bnk/checkpoints/bnk18.388_494.checkpoint, unpacking...\n",
            "lstmtraining \\\n",
            "          --stop_training \\\n",
            "          --continue_from data/bnk/checkpoints/bnk6.639_1010.checkpoint \\\n",
            "          --traineddata data/bnk/bnk.traineddata \\\n",
            "          --convert_to_int \\\n",
            "          --model_output data/bnk/tessdata_fast/bnk6.639_1010.traineddata\n",
            "Loaded file data/bnk/checkpoints/bnk6.639_1010.checkpoint, unpacking...\n",
            "lstmtraining \\\n",
            "          --stop_training \\\n",
            "          --continue_from data/bnk/checkpoints/bnk21.603_349.checkpoint \\\n",
            "          --traineddata data/bnk/bnk.traineddata \\\n",
            "          --convert_to_int \\\n",
            "          --model_output data/bnk/tessdata_fast/bnk21.603_349.traineddata\n",
            "Loaded file data/bnk/checkpoints/bnk21.603_349.checkpoint, unpacking...\n",
            "lstmtraining \\\n",
            "          --stop_training \\\n",
            "          --continue_from data/bnk/checkpoints/bnk2.812_2342.checkpoint \\\n",
            "          --traineddata data/bnk/bnk.traineddata \\\n",
            "          --convert_to_int \\\n",
            "          --model_output data/bnk/tessdata_fast/bnk2.812_2342.traineddata\n",
            "Loaded file data/bnk/checkpoints/bnk2.812_2342.checkpoint, unpacking...\n",
            "lstmtraining \\\n",
            "          --stop_training \\\n",
            "          --continue_from data/bnk/checkpoints/bnk2.984_2303.checkpoint \\\n",
            "          --traineddata data/bnk/bnk.traineddata \\\n",
            "          --convert_to_int \\\n",
            "          --model_output data/bnk/tessdata_fast/bnk2.984_2303.traineddata\n",
            "Loaded file data/bnk/checkpoints/bnk2.984_2303.checkpoint, unpacking...\n",
            "lstmtraining \\\n",
            "          --stop_training \\\n",
            "          --continue_from data/bnk/checkpoints/bnk14.958_585.checkpoint \\\n",
            "          --traineddata data/bnk/bnk.traineddata \\\n",
            "          --convert_to_int \\\n",
            "          --model_output data/bnk/tessdata_fast/bnk14.958_585.traineddata\n",
            "Loaded file data/bnk/checkpoints/bnk14.958_585.checkpoint, unpacking...\n",
            "lstmtraining \\\n",
            "          --stop_training \\\n",
            "          --continue_from data/bnk/checkpoints/bnk32.603_148.checkpoint \\\n",
            "          --traineddata data/bnk/bnk.traineddata \\\n",
            "          --convert_to_int \\\n",
            "          --model_output data/bnk/tessdata_fast/bnk32.603_148.traineddata\n",
            "Loaded file data/bnk/checkpoints/bnk32.603_148.checkpoint, unpacking...\n",
            "lstmtraining \\\n",
            "          --stop_training \\\n",
            "          --continue_from data/bnk/checkpoints/bnk8.139_849.checkpoint \\\n",
            "          --traineddata data/bnk/bnk.traineddata \\\n",
            "          --convert_to_int \\\n",
            "          --model_output data/bnk/tessdata_fast/bnk8.139_849.traineddata\n",
            "Loaded file data/bnk/checkpoints/bnk8.139_849.checkpoint, unpacking...\n",
            "lstmtraining \\\n",
            "          --stop_training \\\n",
            "          --continue_from data/bnk/checkpoints/bnk9.305_783.checkpoint \\\n",
            "          --traineddata data/bnk/bnk.traineddata \\\n",
            "          --convert_to_int \\\n",
            "          --model_output data/bnk/tessdata_fast/bnk9.305_783.traineddata\n",
            "Loaded file data/bnk/checkpoints/bnk9.305_783.checkpoint, unpacking...\n",
            "lstmtraining \\\n",
            "          --stop_training \\\n",
            "          --continue_from data/bnk/checkpoints/bnk5.636_1181.checkpoint \\\n",
            "          --traineddata data/bnk/bnk.traineddata \\\n",
            "          --convert_to_int \\\n",
            "          --model_output data/bnk/tessdata_fast/bnk5.636_1181.traineddata\n",
            "Loaded file data/bnk/checkpoints/bnk5.636_1181.checkpoint, unpacking...\n",
            "lstmtraining \\\n",
            "          --stop_training \\\n",
            "          --continue_from data/bnk/checkpoints/bnk8.564_813.checkpoint \\\n",
            "          --traineddata data/bnk/bnk.traineddata \\\n",
            "          --convert_to_int \\\n",
            "          --model_output data/bnk/tessdata_fast/bnk8.564_813.traineddata\n",
            "Loaded file data/bnk/checkpoints/bnk8.564_813.checkpoint, unpacking...\n",
            "lstmtraining \\\n",
            "          --stop_training \\\n",
            "          --continue_from data/bnk/checkpoints/bnk23.148_304.checkpoint \\\n",
            "          --traineddata data/bnk/bnk.traineddata \\\n",
            "          --convert_to_int \\\n",
            "          --model_output data/bnk/tessdata_fast/bnk23.148_304.traineddata\n",
            "Loaded file data/bnk/checkpoints/bnk23.148_304.checkpoint, unpacking...\n",
            "lstmtraining \\\n",
            "          --stop_training \\\n",
            "          --continue_from data/bnk/checkpoints/bnk3.17_2081.checkpoint \\\n",
            "          --traineddata data/bnk/bnk.traineddata \\\n",
            "          --convert_to_int \\\n",
            "          --model_output data/bnk/tessdata_fast/bnk3.17_2081.traineddata\n",
            "Loaded file data/bnk/checkpoints/bnk3.17_2081.checkpoint, unpacking...\n",
            "lstmtraining \\\n",
            "          --stop_training \\\n",
            "          --continue_from data/bnk/checkpoints/bnk5.216_1201.checkpoint \\\n",
            "          --traineddata data/bnk/bnk.traineddata \\\n",
            "          --convert_to_int \\\n",
            "          --model_output data/bnk/tessdata_fast/bnk5.216_1201.traineddata\n",
            "Loaded file data/bnk/checkpoints/bnk5.216_1201.checkpoint, unpacking...\n",
            "lstmtraining \\\n",
            "          --stop_training \\\n",
            "          --continue_from data/bnk/checkpoints/bnk35.056_84.checkpoint \\\n",
            "          --traineddata data/bnk/bnk.traineddata \\\n",
            "          --convert_to_int \\\n",
            "          --model_output data/bnk/tessdata_fast/bnk35.056_84.traineddata\n",
            "Loaded file data/bnk/checkpoints/bnk35.056_84.checkpoint, unpacking...\n",
            "lstmtraining \\\n",
            "          --stop_training \\\n",
            "          --continue_from data/bnk/checkpoints/bnk3.28_1930.checkpoint \\\n",
            "          --traineddata data/bnk/bnk.traineddata \\\n",
            "          --convert_to_int \\\n",
            "          --model_output data/bnk/tessdata_fast/bnk3.28_1930.traineddata\n",
            "Loaded file data/bnk/checkpoints/bnk3.28_1930.checkpoint, unpacking...\n",
            "lstmtraining \\\n",
            "          --stop_training \\\n",
            "          --continue_from data/bnk/checkpoints/bnk17.351_534.checkpoint \\\n",
            "          --traineddata data/bnk/bnk.traineddata \\\n",
            "          --convert_to_int \\\n",
            "          --model_output data/bnk/tessdata_fast/bnk17.351_534.traineddata\n",
            "Loaded file data/bnk/checkpoints/bnk17.351_534.checkpoint, unpacking...\n",
            "lstmtraining \\\n",
            "          --stop_training \\\n",
            "          --continue_from data/bnk/checkpoints/bnk20.377_398.checkpoint \\\n",
            "          --traineddata data/bnk/bnk.traineddata \\\n",
            "          --convert_to_int \\\n",
            "          --model_output data/bnk/tessdata_fast/bnk20.377_398.traineddata\n",
            "Loaded file data/bnk/checkpoints/bnk20.377_398.checkpoint, unpacking...\n",
            "lstmtraining \\\n",
            "          --stop_training \\\n",
            "          --continue_from data/bnk/checkpoints/bnk11.753_659.checkpoint \\\n",
            "          --traineddata data/bnk/bnk.traineddata \\\n",
            "          --convert_to_int \\\n",
            "          --model_output data/bnk/tessdata_fast/bnk11.753_659.traineddata\n",
            "Loaded file data/bnk/checkpoints/bnk11.753_659.checkpoint, unpacking...\n",
            "lstmtraining \\\n",
            "          --stop_training \\\n",
            "          --continue_from data/bnk/checkpoints/bnk10.031_740.checkpoint \\\n",
            "          --traineddata data/bnk/bnk.traineddata \\\n",
            "          --convert_to_int \\\n",
            "          --model_output data/bnk/tessdata_fast/bnk10.031_740.traineddata\n",
            "Loaded file data/bnk/checkpoints/bnk10.031_740.checkpoint, unpacking...\n",
            "lstmtraining \\\n",
            "          --stop_training \\\n",
            "          --continue_from data/bnk/checkpoints/bnk4.122_1583.checkpoint \\\n",
            "          --traineddata data/bnk/bnk.traineddata \\\n",
            "          --convert_to_int \\\n",
            "          --model_output data/bnk/tessdata_fast/bnk4.122_1583.traineddata\n",
            "Loaded file data/bnk/checkpoints/bnk4.122_1583.checkpoint, unpacking...\n",
            "lstmtraining \\\n",
            "          --stop_training \\\n",
            "          --continue_from data/bnk/checkpoints/bnk4.991_1238.checkpoint \\\n",
            "          --traineddata data/bnk/bnk.traineddata \\\n",
            "          --convert_to_int \\\n",
            "          --model_output data/bnk/tessdata_fast/bnk4.991_1238.traineddata\n",
            "Loaded file data/bnk/checkpoints/bnk4.991_1238.checkpoint, unpacking...\n",
            "lstmtraining \\\n",
            "          --stop_training \\\n",
            "          --continue_from data/bnk/checkpoints/bnk3.925_1606.checkpoint \\\n",
            "          --traineddata data/bnk/bnk.traineddata \\\n",
            "          --convert_to_int \\\n",
            "          --model_output data/bnk/tessdata_fast/bnk3.925_1606.traineddata\n",
            "Loaded file data/bnk/checkpoints/bnk3.925_1606.checkpoint, unpacking...\n",
            "lstmtraining \\\n",
            "          --stop_training \\\n",
            "          --continue_from data/bnk/checkpoints/bnk6.261_1072.checkpoint \\\n",
            "          --traineddata data/bnk/bnk.traineddata \\\n",
            "          --convert_to_int \\\n",
            "          --model_output data/bnk/tessdata_fast/bnk6.261_1072.traineddata\n",
            "Loaded file data/bnk/checkpoints/bnk6.261_1072.checkpoint, unpacking...\n"
          ]
        }
      ]
    }
  ]
}